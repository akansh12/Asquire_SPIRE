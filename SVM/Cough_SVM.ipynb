{
 "cells": [
  {
   "cell_type": "code",
   "execution_count": 1,
   "metadata": {},
   "outputs": [],
   "source": [
    "import pandas as pd \n",
    "import numpy as np\n",
    "import matplotlib.pyplot as plt\n",
    "import seaborn as sns\n",
    "import os"
   ]
  },
  {
   "cell_type": "code",
   "execution_count": 80,
   "metadata": {},
   "outputs": [],
   "source": [
    "import warnings\n",
    "warnings.filterwarnings('ignore')"
   ]
  },
  {
   "cell_type": "code",
   "execution_count": 3,
   "metadata": {},
   "outputs": [],
   "source": [
    "Cough_dataframe = pd.read_csv(\"./cough.csv\")"
   ]
  },
  {
   "cell_type": "code",
   "execution_count": 11,
   "metadata": {},
   "outputs": [
    {
     "data": {
      "text/html": [
       "<div>\n",
       "<style scoped>\n",
       "    .dataframe tbody tr th:only-of-type {\n",
       "        vertical-align: middle;\n",
       "    }\n",
       "\n",
       "    .dataframe tbody tr th {\n",
       "        vertical-align: top;\n",
       "    }\n",
       "\n",
       "    .dataframe thead th {\n",
       "        text-align: right;\n",
       "    }\n",
       "</style>\n",
       "<table border=\"1\" class=\"dataframe\">\n",
       "  <thead>\n",
       "    <tr style=\"text-align: right;\">\n",
       "      <th></th>\n",
       "      <th>0</th>\n",
       "      <th>1</th>\n",
       "      <th>2</th>\n",
       "      <th>3</th>\n",
       "      <th>4</th>\n",
       "      <th>5</th>\n",
       "      <th>6</th>\n",
       "      <th>7</th>\n",
       "      <th>8</th>\n",
       "      <th>9</th>\n",
       "      <th>...</th>\n",
       "      <th>208</th>\n",
       "      <th>209</th>\n",
       "      <th>210</th>\n",
       "      <th>211</th>\n",
       "      <th>212</th>\n",
       "      <th>213</th>\n",
       "      <th>214</th>\n",
       "      <th>215</th>\n",
       "      <th>216</th>\n",
       "      <th>217</th>\n",
       "    </tr>\n",
       "  </thead>\n",
       "  <tbody>\n",
       "    <tr>\n",
       "      <th>0</th>\n",
       "      <td>-1.049566</td>\n",
       "      <td>-0.724346</td>\n",
       "      <td>-0.643932</td>\n",
       "      <td>-1.312013</td>\n",
       "      <td>0.753689</td>\n",
       "      <td>-0.749393</td>\n",
       "      <td>0.948658</td>\n",
       "      <td>-0.194646</td>\n",
       "      <td>-0.415013</td>\n",
       "      <td>0.143907</td>\n",
       "      <td>...</td>\n",
       "      <td>0.039689</td>\n",
       "      <td>0.037159</td>\n",
       "      <td>0.076035</td>\n",
       "      <td>0.050627</td>\n",
       "      <td>0.044381</td>\n",
       "      <td>0.032918</td>\n",
       "      <td>0.029141</td>\n",
       "      <td>0.050840</td>\n",
       "      <td>1.0</td>\n",
       "      <td>2018_08_21_12_40_EllammaK_P_Asthma_F_before_48...</td>\n",
       "    </tr>\n",
       "    <tr>\n",
       "      <th>1</th>\n",
       "      <td>-0.061991</td>\n",
       "      <td>-0.409625</td>\n",
       "      <td>-0.595233</td>\n",
       "      <td>-1.286315</td>\n",
       "      <td>0.849574</td>\n",
       "      <td>-0.234460</td>\n",
       "      <td>1.107897</td>\n",
       "      <td>-0.733951</td>\n",
       "      <td>-1.157121</td>\n",
       "      <td>0.326685</td>\n",
       "      <td>...</td>\n",
       "      <td>0.039152</td>\n",
       "      <td>0.033323</td>\n",
       "      <td>0.032537</td>\n",
       "      <td>0.025178</td>\n",
       "      <td>0.038339</td>\n",
       "      <td>0.028534</td>\n",
       "      <td>0.034394</td>\n",
       "      <td>0.043211</td>\n",
       "      <td>1.0</td>\n",
       "      <td>2018_08_21_12_40_EllammaK_P_Asthma_F_before_48...</td>\n",
       "    </tr>\n",
       "    <tr>\n",
       "      <th>2</th>\n",
       "      <td>0.507403</td>\n",
       "      <td>0.534974</td>\n",
       "      <td>0.407169</td>\n",
       "      <td>-0.947500</td>\n",
       "      <td>0.590494</td>\n",
       "      <td>-0.218818</td>\n",
       "      <td>0.849918</td>\n",
       "      <td>-0.478996</td>\n",
       "      <td>-1.118813</td>\n",
       "      <td>0.029738</td>\n",
       "      <td>...</td>\n",
       "      <td>0.025266</td>\n",
       "      <td>0.039965</td>\n",
       "      <td>0.074801</td>\n",
       "      <td>0.062176</td>\n",
       "      <td>0.040444</td>\n",
       "      <td>0.031103</td>\n",
       "      <td>0.029153</td>\n",
       "      <td>0.052451</td>\n",
       "      <td>1.0</td>\n",
       "      <td>2018_08_21_12_40_EllammaK_P_Asthma_F_before_48...</td>\n",
       "    </tr>\n",
       "    <tr>\n",
       "      <th>3</th>\n",
       "      <td>0.433352</td>\n",
       "      <td>-0.859231</td>\n",
       "      <td>0.815786</td>\n",
       "      <td>0.382931</td>\n",
       "      <td>1.386598</td>\n",
       "      <td>0.363840</td>\n",
       "      <td>1.678211</td>\n",
       "      <td>-1.375525</td>\n",
       "      <td>-0.978809</td>\n",
       "      <td>0.045781</td>\n",
       "      <td>...</td>\n",
       "      <td>0.024413</td>\n",
       "      <td>0.057612</td>\n",
       "      <td>0.041814</td>\n",
       "      <td>0.045293</td>\n",
       "      <td>0.032174</td>\n",
       "      <td>0.034572</td>\n",
       "      <td>0.032443</td>\n",
       "      <td>0.051107</td>\n",
       "      <td>1.0</td>\n",
       "      <td>2018_08_21_12_40_EllammaK_P_Asthma_F_before_48...</td>\n",
       "    </tr>\n",
       "    <tr>\n",
       "      <th>4</th>\n",
       "      <td>0.332375</td>\n",
       "      <td>-2.898388</td>\n",
       "      <td>1.046713</td>\n",
       "      <td>1.091744</td>\n",
       "      <td>1.408277</td>\n",
       "      <td>0.348940</td>\n",
       "      <td>1.828713</td>\n",
       "      <td>-1.360403</td>\n",
       "      <td>-1.343445</td>\n",
       "      <td>0.280000</td>\n",
       "      <td>...</td>\n",
       "      <td>0.035699</td>\n",
       "      <td>0.032245</td>\n",
       "      <td>0.048694</td>\n",
       "      <td>0.034298</td>\n",
       "      <td>0.057311</td>\n",
       "      <td>0.057942</td>\n",
       "      <td>0.037740</td>\n",
       "      <td>0.083570</td>\n",
       "      <td>1.0</td>\n",
       "      <td>2018_08_21_12_40_EllammaK_P_Asthma_F_before_48...</td>\n",
       "    </tr>\n",
       "    <tr>\n",
       "      <th>5</th>\n",
       "      <td>0.756454</td>\n",
       "      <td>-1.150198</td>\n",
       "      <td>0.159321</td>\n",
       "      <td>0.143539</td>\n",
       "      <td>-0.106622</td>\n",
       "      <td>-0.498361</td>\n",
       "      <td>1.066417</td>\n",
       "      <td>-1.017123</td>\n",
       "      <td>-0.916758</td>\n",
       "      <td>0.572472</td>\n",
       "      <td>...</td>\n",
       "      <td>0.029908</td>\n",
       "      <td>0.027698</td>\n",
       "      <td>0.028698</td>\n",
       "      <td>0.019246</td>\n",
       "      <td>0.029311</td>\n",
       "      <td>0.025405</td>\n",
       "      <td>0.021784</td>\n",
       "      <td>0.042919</td>\n",
       "      <td>1.0</td>\n",
       "      <td>2018_08_21_12_40_EllammaK_P_Asthma_F_before_48...</td>\n",
       "    </tr>\n",
       "    <tr>\n",
       "      <th>6</th>\n",
       "      <td>0.630880</td>\n",
       "      <td>-0.380515</td>\n",
       "      <td>0.103592</td>\n",
       "      <td>-0.387018</td>\n",
       "      <td>0.080167</td>\n",
       "      <td>-0.347639</td>\n",
       "      <td>0.815974</td>\n",
       "      <td>-0.714423</td>\n",
       "      <td>-0.853351</td>\n",
       "      <td>0.034184</td>\n",
       "      <td>...</td>\n",
       "      <td>0.051573</td>\n",
       "      <td>0.045859</td>\n",
       "      <td>0.047665</td>\n",
       "      <td>0.032352</td>\n",
       "      <td>0.026968</td>\n",
       "      <td>0.036241</td>\n",
       "      <td>0.033235</td>\n",
       "      <td>0.040653</td>\n",
       "      <td>1.0</td>\n",
       "      <td>2018_08_21_12_40_EllammaK_P_Asthma_F_before_48...</td>\n",
       "    </tr>\n",
       "    <tr>\n",
       "      <th>7</th>\n",
       "      <td>1.178357</td>\n",
       "      <td>-0.418724</td>\n",
       "      <td>-0.406056</td>\n",
       "      <td>-0.710216</td>\n",
       "      <td>0.250765</td>\n",
       "      <td>-0.661735</td>\n",
       "      <td>0.523842</td>\n",
       "      <td>-0.731414</td>\n",
       "      <td>-0.601734</td>\n",
       "      <td>0.423563</td>\n",
       "      <td>...</td>\n",
       "      <td>0.062479</td>\n",
       "      <td>0.062674</td>\n",
       "      <td>0.058782</td>\n",
       "      <td>0.040672</td>\n",
       "      <td>0.048272</td>\n",
       "      <td>0.059934</td>\n",
       "      <td>0.043825</td>\n",
       "      <td>0.040574</td>\n",
       "      <td>1.0</td>\n",
       "      <td>2018_08_21_12_40_EllammaK_P_Asthma_F_before_48...</td>\n",
       "    </tr>\n",
       "    <tr>\n",
       "      <th>8</th>\n",
       "      <td>2.267273</td>\n",
       "      <td>-0.976034</td>\n",
       "      <td>-0.205491</td>\n",
       "      <td>-1.377150</td>\n",
       "      <td>-0.769840</td>\n",
       "      <td>-0.672648</td>\n",
       "      <td>0.151072</td>\n",
       "      <td>-0.353609</td>\n",
       "      <td>-0.775014</td>\n",
       "      <td>0.213452</td>\n",
       "      <td>...</td>\n",
       "      <td>0.080881</td>\n",
       "      <td>0.034683</td>\n",
       "      <td>0.040456</td>\n",
       "      <td>0.050570</td>\n",
       "      <td>0.071627</td>\n",
       "      <td>0.046759</td>\n",
       "      <td>0.035248</td>\n",
       "      <td>0.045973</td>\n",
       "      <td>1.0</td>\n",
       "      <td>2018_08_21_12_40_EllammaK_P_Asthma_F_before_48...</td>\n",
       "    </tr>\n",
       "    <tr>\n",
       "      <th>9</th>\n",
       "      <td>1.662660</td>\n",
       "      <td>-1.953393</td>\n",
       "      <td>0.476195</td>\n",
       "      <td>-0.934384</td>\n",
       "      <td>-0.408059</td>\n",
       "      <td>-0.612277</td>\n",
       "      <td>0.017260</td>\n",
       "      <td>-1.866771</td>\n",
       "      <td>-0.350770</td>\n",
       "      <td>0.667572</td>\n",
       "      <td>...</td>\n",
       "      <td>0.061617</td>\n",
       "      <td>0.047349</td>\n",
       "      <td>0.029550</td>\n",
       "      <td>0.039250</td>\n",
       "      <td>0.041511</td>\n",
       "      <td>0.042445</td>\n",
       "      <td>0.050268</td>\n",
       "      <td>0.033038</td>\n",
       "      <td>1.0</td>\n",
       "      <td>2018_08_21_12_40_EllammaK_P_Asthma_F_before_48...</td>\n",
       "    </tr>\n",
       "    <tr>\n",
       "      <th>10</th>\n",
       "      <td>1.765333</td>\n",
       "      <td>-1.210547</td>\n",
       "      <td>0.442376</td>\n",
       "      <td>-1.363221</td>\n",
       "      <td>-0.416798</td>\n",
       "      <td>-0.718590</td>\n",
       "      <td>-0.173374</td>\n",
       "      <td>-1.500812</td>\n",
       "      <td>-0.915979</td>\n",
       "      <td>0.456149</td>\n",
       "      <td>...</td>\n",
       "      <td>0.030648</td>\n",
       "      <td>0.034324</td>\n",
       "      <td>0.035296</td>\n",
       "      <td>0.040517</td>\n",
       "      <td>0.031407</td>\n",
       "      <td>0.043830</td>\n",
       "      <td>0.033314</td>\n",
       "      <td>0.038739</td>\n",
       "      <td>1.0</td>\n",
       "      <td>2018_08_21_12_40_EllammaK_P_Asthma_F_before_48...</td>\n",
       "    </tr>\n",
       "    <tr>\n",
       "      <th>11</th>\n",
       "      <td>1.795099</td>\n",
       "      <td>-2.354785</td>\n",
       "      <td>0.461231</td>\n",
       "      <td>-1.185174</td>\n",
       "      <td>-1.010940</td>\n",
       "      <td>-0.729191</td>\n",
       "      <td>0.145930</td>\n",
       "      <td>-1.562351</td>\n",
       "      <td>-0.707345</td>\n",
       "      <td>0.596039</td>\n",
       "      <td>...</td>\n",
       "      <td>0.030163</td>\n",
       "      <td>0.048743</td>\n",
       "      <td>0.029747</td>\n",
       "      <td>0.041739</td>\n",
       "      <td>0.052732</td>\n",
       "      <td>0.048941</td>\n",
       "      <td>0.044054</td>\n",
       "      <td>0.044356</td>\n",
       "      <td>1.0</td>\n",
       "      <td>2018_08_21_12_40_EllammaK_P_Asthma_F_before_48...</td>\n",
       "    </tr>\n",
       "    <tr>\n",
       "      <th>12</th>\n",
       "      <td>1.064139</td>\n",
       "      <td>-1.685754</td>\n",
       "      <td>0.840121</td>\n",
       "      <td>-0.908058</td>\n",
       "      <td>-0.597772</td>\n",
       "      <td>-0.396371</td>\n",
       "      <td>-0.276265</td>\n",
       "      <td>-1.679259</td>\n",
       "      <td>-0.316822</td>\n",
       "      <td>0.589805</td>\n",
       "      <td>...</td>\n",
       "      <td>0.037055</td>\n",
       "      <td>0.056312</td>\n",
       "      <td>0.044236</td>\n",
       "      <td>0.042922</td>\n",
       "      <td>0.045185</td>\n",
       "      <td>0.029333</td>\n",
       "      <td>0.040257</td>\n",
       "      <td>0.033702</td>\n",
       "      <td>1.0</td>\n",
       "      <td>2018_08_21_12_40_EllammaK_P_Asthma_F_before_48...</td>\n",
       "    </tr>\n",
       "    <tr>\n",
       "      <th>13</th>\n",
       "      <td>3.101988</td>\n",
       "      <td>0.194972</td>\n",
       "      <td>-0.005084</td>\n",
       "      <td>-0.726109</td>\n",
       "      <td>-0.506389</td>\n",
       "      <td>-0.424827</td>\n",
       "      <td>0.872203</td>\n",
       "      <td>0.282098</td>\n",
       "      <td>-0.183308</td>\n",
       "      <td>0.018384</td>\n",
       "      <td>...</td>\n",
       "      <td>0.053015</td>\n",
       "      <td>0.057016</td>\n",
       "      <td>0.048115</td>\n",
       "      <td>0.036066</td>\n",
       "      <td>0.039250</td>\n",
       "      <td>0.029360</td>\n",
       "      <td>0.030961</td>\n",
       "      <td>0.034379</td>\n",
       "      <td>0.0</td>\n",
       "      <td>2017_01_12_10_45_Priyanka_C_Na_F_Na_28_160_59_...</td>\n",
       "    </tr>\n",
       "    <tr>\n",
       "      <th>14</th>\n",
       "      <td>3.516307</td>\n",
       "      <td>0.916563</td>\n",
       "      <td>0.557170</td>\n",
       "      <td>-0.404135</td>\n",
       "      <td>-0.342692</td>\n",
       "      <td>-0.629478</td>\n",
       "      <td>0.646456</td>\n",
       "      <td>0.014235</td>\n",
       "      <td>-0.198586</td>\n",
       "      <td>-0.055545</td>\n",
       "      <td>...</td>\n",
       "      <td>0.047332</td>\n",
       "      <td>0.057685</td>\n",
       "      <td>0.043897</td>\n",
       "      <td>0.036160</td>\n",
       "      <td>0.028940</td>\n",
       "      <td>0.027984</td>\n",
       "      <td>0.030673</td>\n",
       "      <td>0.034023</td>\n",
       "      <td>0.0</td>\n",
       "      <td>2017_01_12_10_45_Priyanka_C_Na_F_Na_28_160_59_...</td>\n",
       "    </tr>\n",
       "  </tbody>\n",
       "</table>\n",
       "<p>15 rows × 218 columns</p>\n",
       "</div>"
      ],
      "text/plain": [
       "           0         1         2         3         4         5         6  \\\n",
       "0  -1.049566 -0.724346 -0.643932 -1.312013  0.753689 -0.749393  0.948658   \n",
       "1  -0.061991 -0.409625 -0.595233 -1.286315  0.849574 -0.234460  1.107897   \n",
       "2   0.507403  0.534974  0.407169 -0.947500  0.590494 -0.218818  0.849918   \n",
       "3   0.433352 -0.859231  0.815786  0.382931  1.386598  0.363840  1.678211   \n",
       "4   0.332375 -2.898388  1.046713  1.091744  1.408277  0.348940  1.828713   \n",
       "5   0.756454 -1.150198  0.159321  0.143539 -0.106622 -0.498361  1.066417   \n",
       "6   0.630880 -0.380515  0.103592 -0.387018  0.080167 -0.347639  0.815974   \n",
       "7   1.178357 -0.418724 -0.406056 -0.710216  0.250765 -0.661735  0.523842   \n",
       "8   2.267273 -0.976034 -0.205491 -1.377150 -0.769840 -0.672648  0.151072   \n",
       "9   1.662660 -1.953393  0.476195 -0.934384 -0.408059 -0.612277  0.017260   \n",
       "10  1.765333 -1.210547  0.442376 -1.363221 -0.416798 -0.718590 -0.173374   \n",
       "11  1.795099 -2.354785  0.461231 -1.185174 -1.010940 -0.729191  0.145930   \n",
       "12  1.064139 -1.685754  0.840121 -0.908058 -0.597772 -0.396371 -0.276265   \n",
       "13  3.101988  0.194972 -0.005084 -0.726109 -0.506389 -0.424827  0.872203   \n",
       "14  3.516307  0.916563  0.557170 -0.404135 -0.342692 -0.629478  0.646456   \n",
       "\n",
       "           7         8         9  ...       208       209       210       211  \\\n",
       "0  -0.194646 -0.415013  0.143907  ...  0.039689  0.037159  0.076035  0.050627   \n",
       "1  -0.733951 -1.157121  0.326685  ...  0.039152  0.033323  0.032537  0.025178   \n",
       "2  -0.478996 -1.118813  0.029738  ...  0.025266  0.039965  0.074801  0.062176   \n",
       "3  -1.375525 -0.978809  0.045781  ...  0.024413  0.057612  0.041814  0.045293   \n",
       "4  -1.360403 -1.343445  0.280000  ...  0.035699  0.032245  0.048694  0.034298   \n",
       "5  -1.017123 -0.916758  0.572472  ...  0.029908  0.027698  0.028698  0.019246   \n",
       "6  -0.714423 -0.853351  0.034184  ...  0.051573  0.045859  0.047665  0.032352   \n",
       "7  -0.731414 -0.601734  0.423563  ...  0.062479  0.062674  0.058782  0.040672   \n",
       "8  -0.353609 -0.775014  0.213452  ...  0.080881  0.034683  0.040456  0.050570   \n",
       "9  -1.866771 -0.350770  0.667572  ...  0.061617  0.047349  0.029550  0.039250   \n",
       "10 -1.500812 -0.915979  0.456149  ...  0.030648  0.034324  0.035296  0.040517   \n",
       "11 -1.562351 -0.707345  0.596039  ...  0.030163  0.048743  0.029747  0.041739   \n",
       "12 -1.679259 -0.316822  0.589805  ...  0.037055  0.056312  0.044236  0.042922   \n",
       "13  0.282098 -0.183308  0.018384  ...  0.053015  0.057016  0.048115  0.036066   \n",
       "14  0.014235 -0.198586 -0.055545  ...  0.047332  0.057685  0.043897  0.036160   \n",
       "\n",
       "         212       213       214       215  216  \\\n",
       "0   0.044381  0.032918  0.029141  0.050840  1.0   \n",
       "1   0.038339  0.028534  0.034394  0.043211  1.0   \n",
       "2   0.040444  0.031103  0.029153  0.052451  1.0   \n",
       "3   0.032174  0.034572  0.032443  0.051107  1.0   \n",
       "4   0.057311  0.057942  0.037740  0.083570  1.0   \n",
       "5   0.029311  0.025405  0.021784  0.042919  1.0   \n",
       "6   0.026968  0.036241  0.033235  0.040653  1.0   \n",
       "7   0.048272  0.059934  0.043825  0.040574  1.0   \n",
       "8   0.071627  0.046759  0.035248  0.045973  1.0   \n",
       "9   0.041511  0.042445  0.050268  0.033038  1.0   \n",
       "10  0.031407  0.043830  0.033314  0.038739  1.0   \n",
       "11  0.052732  0.048941  0.044054  0.044356  1.0   \n",
       "12  0.045185  0.029333  0.040257  0.033702  1.0   \n",
       "13  0.039250  0.029360  0.030961  0.034379  0.0   \n",
       "14  0.028940  0.027984  0.030673  0.034023  0.0   \n",
       "\n",
       "                                                  217  \n",
       "0   2018_08_21_12_40_EllammaK_P_Asthma_F_before_48...  \n",
       "1   2018_08_21_12_40_EllammaK_P_Asthma_F_before_48...  \n",
       "2   2018_08_21_12_40_EllammaK_P_Asthma_F_before_48...  \n",
       "3   2018_08_21_12_40_EllammaK_P_Asthma_F_before_48...  \n",
       "4   2018_08_21_12_40_EllammaK_P_Asthma_F_before_48...  \n",
       "5   2018_08_21_12_40_EllammaK_P_Asthma_F_before_48...  \n",
       "6   2018_08_21_12_40_EllammaK_P_Asthma_F_before_48...  \n",
       "7   2018_08_21_12_40_EllammaK_P_Asthma_F_before_48...  \n",
       "8   2018_08_21_12_40_EllammaK_P_Asthma_F_before_48...  \n",
       "9   2018_08_21_12_40_EllammaK_P_Asthma_F_before_48...  \n",
       "10  2018_08_21_12_40_EllammaK_P_Asthma_F_before_48...  \n",
       "11  2018_08_21_12_40_EllammaK_P_Asthma_F_before_48...  \n",
       "12  2018_08_21_12_40_EllammaK_P_Asthma_F_before_48...  \n",
       "13  2017_01_12_10_45_Priyanka_C_Na_F_Na_28_160_59_...  \n",
       "14  2017_01_12_10_45_Priyanka_C_Na_F_Na_28_160_59_...  \n",
       "\n",
       "[15 rows x 218 columns]"
      ]
     },
     "execution_count": 11,
     "metadata": {},
     "output_type": "execute_result"
    }
   ],
   "source": [
    "Cough_dataframe.head(15)"
   ]
  },
  {
   "cell_type": "code",
   "execution_count": 7,
   "metadata": {},
   "outputs": [
    {
     "data": {
      "text/plain": [
       "(845, 218)"
      ]
     },
     "execution_count": 7,
     "metadata": {},
     "output_type": "execute_result"
    }
   ],
   "source": [
    "Cough_dataframe.shape"
   ]
  },
  {
   "cell_type": "code",
   "execution_count": 9,
   "metadata": {},
   "outputs": [
    {
     "data": {
      "text/plain": [
       "0.0    451\n",
       "1.0    394\n",
       "Name: 216, dtype: int64"
      ]
     },
     "execution_count": 9,
     "metadata": {},
     "output_type": "execute_result"
    }
   ],
   "source": [
    "Cough_dataframe[\"216\"].value_counts()"
   ]
  },
  {
   "cell_type": "code",
   "execution_count": 12,
   "metadata": {},
   "outputs": [
    {
     "name": "stdout",
     "output_type": "stream",
     "text": [
      "<class 'pandas.core.frame.DataFrame'>\n",
      "RangeIndex: 845 entries, 0 to 844\n",
      "Columns: 218 entries, 0 to 217\n",
      "dtypes: float64(217), object(1)\n",
      "memory usage: 1.4+ MB\n"
     ]
    }
   ],
   "source": [
    "Cough_dataframe.info()"
   ]
  },
  {
   "cell_type": "code",
   "execution_count": 13,
   "metadata": {},
   "outputs": [
    {
     "data": {
      "text/plain": [
       "0      0\n",
       "1      0\n",
       "2      0\n",
       "3      0\n",
       "4      0\n",
       "      ..\n",
       "213    0\n",
       "214    0\n",
       "215    0\n",
       "216    0\n",
       "217    0\n",
       "Length: 218, dtype: int64"
      ]
     },
     "execution_count": 13,
     "metadata": {},
     "output_type": "execute_result"
    }
   ],
   "source": [
    "Cough_dataframe.isnull().sum()"
   ]
  },
  {
   "cell_type": "code",
   "execution_count": 15,
   "metadata": {},
   "outputs": [],
   "source": [
    "X = Cough_dataframe.iloc[:,:216]"
   ]
  },
  {
   "cell_type": "code",
   "execution_count": 17,
   "metadata": {},
   "outputs": [],
   "source": [
    "y = Cough_dataframe.iloc[:,216]"
   ]
  },
  {
   "cell_type": "code",
   "execution_count": null,
   "metadata": {},
   "outputs": [],
   "source": []
  },
  {
   "cell_type": "code",
   "execution_count": null,
   "metadata": {},
   "outputs": [],
   "source": []
  },
  {
   "cell_type": "code",
   "execution_count": null,
   "metadata": {},
   "outputs": [],
   "source": []
  },
  {
   "cell_type": "code",
   "execution_count": 14,
   "metadata": {},
   "outputs": [],
   "source": [
    "from sklearn.model_selection import train_test_split"
   ]
  },
  {
   "cell_type": "code",
   "execution_count": 20,
   "metadata": {},
   "outputs": [],
   "source": [
    "X_train, X_test, y_train, y_test = train_test_split(X,y, test_size = 0.2)"
   ]
  },
  {
   "cell_type": "code",
   "execution_count": 21,
   "metadata": {},
   "outputs": [
    {
     "data": {
      "text/plain": [
       "(676, 216)"
      ]
     },
     "execution_count": 21,
     "metadata": {},
     "output_type": "execute_result"
    }
   ],
   "source": [
    "X_train.shape"
   ]
  },
  {
   "cell_type": "code",
   "execution_count": 22,
   "metadata": {},
   "outputs": [
    {
     "data": {
      "text/plain": [
       "(169, 216)"
      ]
     },
     "execution_count": 22,
     "metadata": {},
     "output_type": "execute_result"
    }
   ],
   "source": [
    "X_test.shape"
   ]
  },
  {
   "cell_type": "code",
   "execution_count": 23,
   "metadata": {},
   "outputs": [
    {
     "data": {
      "text/plain": [
       "(676,)"
      ]
     },
     "execution_count": 23,
     "metadata": {},
     "output_type": "execute_result"
    }
   ],
   "source": [
    "y_train.shape"
   ]
  },
  {
   "cell_type": "code",
   "execution_count": 24,
   "metadata": {},
   "outputs": [
    {
     "data": {
      "text/plain": [
       "(169,)"
      ]
     },
     "execution_count": 24,
     "metadata": {},
     "output_type": "execute_result"
    }
   ],
   "source": [
    "y_test.shape"
   ]
  },
  {
   "cell_type": "code",
   "execution_count": 25,
   "metadata": {},
   "outputs": [],
   "source": [
    "from sklearn.preprocessing import StandardScaler"
   ]
  },
  {
   "cell_type": "code",
   "execution_count": 26,
   "metadata": {},
   "outputs": [],
   "source": [
    "scaler = StandardScaler()"
   ]
  },
  {
   "cell_type": "code",
   "execution_count": 27,
   "metadata": {},
   "outputs": [],
   "source": [
    "X_train = scaler.fit_transform(X_train)"
   ]
  },
  {
   "cell_type": "code",
   "execution_count": 28,
   "metadata": {},
   "outputs": [],
   "source": [
    "X_test = scaler.transform(X_test)"
   ]
  },
  {
   "cell_type": "code",
   "execution_count": 30,
   "metadata": {},
   "outputs": [],
   "source": [
    "X_train = pd.DataFrame(X_train)\n",
    "X_test = pd.DataFrame(X_test)\n"
   ]
  },
  {
   "cell_type": "code",
   "execution_count": 32,
   "metadata": {},
   "outputs": [],
   "source": [
    "from sklearn.svm import SVC\n",
    "from sklearn.metrics import accuracy_score"
   ]
  },
  {
   "cell_type": "code",
   "execution_count": 65,
   "metadata": {},
   "outputs": [
    {
     "name": "stdout",
     "output_type": "stream",
     "text": [
      "Model accuracy score with default hyperparameters: 0.8698\n",
      "Training-set accuracy score: 0.9852\n"
     ]
    }
   ],
   "source": [
    "svc = SVC()\n",
    "\n",
    "svc.fit(X_train,y_train)\n",
    "y_pred_default = svc.predict(X_test)\n",
    "\n",
    "\n",
    "print('Model accuracy score with default hyperparameters: {0:0.4f}'. format(accuracy_score(y_test, y_pred_default)))\n",
    "\n",
    "y_pred_train = svc.predict(X_train)\n",
    "print('Training-set accuracy score: {0:0.4f}'. format(accuracy_score(y_train, y_pred_train)))"
   ]
  },
  {
   "cell_type": "code",
   "execution_count": null,
   "metadata": {},
   "outputs": [],
   "source": []
  },
  {
   "cell_type": "code",
   "execution_count": null,
   "metadata": {},
   "outputs": [],
   "source": []
  },
  {
   "cell_type": "markdown",
   "metadata": {},
   "source": [
    "### Hyperparameter Tuning"
   ]
  },
  {
   "cell_type": "code",
   "execution_count": 47,
   "metadata": {},
   "outputs": [
    {
     "name": "stdout",
     "output_type": "stream",
     "text": [
      "Model accuracy score with rbf kernel and C=100.0 : 0.9053\n"
     ]
    }
   ],
   "source": [
    "svc_1 = SVC(C = 100.0)\n",
    "svc_1.fit(X_train,y_train)\n",
    "\n",
    "y_pred = svc_1.predict(X_test)\n",
    "\n",
    "print('Model accuracy score with rbf kernel and C=100.0 : {0:0.4f}'. format(accuracy_score(y_test, y_pred)))"
   ]
  },
  {
   "cell_type": "code",
   "execution_count": 49,
   "metadata": {},
   "outputs": [],
   "source": [
    "y_pred_train = svc_1.predict(X_train)"
   ]
  },
  {
   "cell_type": "code",
   "execution_count": 50,
   "metadata": {},
   "outputs": [
    {
     "name": "stdout",
     "output_type": "stream",
     "text": [
      "Training-set accuracy score: 1.0000\n"
     ]
    }
   ],
   "source": [
    "print('Training-set accuracy score: {0:0.4f}'. format(accuracy_score(y_train, y_pred_train)))"
   ]
  },
  {
   "cell_type": "code",
   "execution_count": null,
   "metadata": {},
   "outputs": [],
   "source": []
  },
  {
   "cell_type": "code",
   "execution_count": null,
   "metadata": {},
   "outputs": [],
   "source": []
  },
  {
   "cell_type": "code",
   "execution_count": 43,
   "metadata": {},
   "outputs": [
    {
     "name": "stdout",
     "output_type": "stream",
     "text": [
      "Model accuracy score with rbf kernel and C=1000.0 : 0.9053\n"
     ]
    }
   ],
   "source": [
    "scv_2 = SVC(C = 1000.0)\n",
    "scv_2.fit(X_train,y_train)\n",
    "\n",
    "y_pred = scv_2.predict(X_test)\n",
    "\n",
    "print('Model accuracy score with rbf kernel and C=1000.0 : {0:0.4f}'. format(accuracy_score(y_test, y_pred)))"
   ]
  },
  {
   "cell_type": "code",
   "execution_count": null,
   "metadata": {},
   "outputs": [],
   "source": []
  },
  {
   "cell_type": "markdown",
   "metadata": {},
   "source": [
    "### Kernel Trick"
   ]
  },
  {
   "cell_type": "code",
   "execution_count": 44,
   "metadata": {},
   "outputs": [
    {
     "name": "stdout",
     "output_type": "stream",
     "text": [
      "Model accuracy score with linear kernel and C=1.0 : 0.7692\n"
     ]
    }
   ],
   "source": [
    "linear_svc=SVC(kernel='linear', C=1.0) \n",
    "linear_svc.fit(X_train,y_train)\n",
    "y_pred_linear = linear_svc.predict(X_test)\n",
    "print('Model accuracy score with linear kernel and C=1.0 : {0:0.4f}'. format(accuracy_score(y_test, y_pred_linear)))"
   ]
  },
  {
   "cell_type": "code",
   "execution_count": 45,
   "metadata": {},
   "outputs": [
    {
     "name": "stdout",
     "output_type": "stream",
     "text": [
      "Model accuracy score with linear kernel and C=1.0 : 0.7219\n"
     ]
    }
   ],
   "source": [
    "linear_svc=SVC(kernel='linear', C=1000.0) \n",
    "linear_svc.fit(X_train,y_train)\n",
    "y_pred_linear = linear_svc.predict(X_test)\n",
    "print('Model accuracy score with linear kernel and C=1.0 : {0:0.4f}'. format(accuracy_score(y_test, y_pred_linear)))"
   ]
  },
  {
   "cell_type": "code",
   "execution_count": 57,
   "metadata": {},
   "outputs": [
    {
     "name": "stdout",
     "output_type": "stream",
     "text": [
      "Model accuracy score with polynomial kernel and C=1.0 : 0.7811\n"
     ]
    }
   ],
   "source": [
    "poly_svc = SVC(kernel = 'poly')\n",
    "poly_svc.fit(X_train,y_train)\n",
    "\n",
    "y_pred_poly = poly_svc.predict(X_test)\n",
    "print('Model accuracy score with polynomial kernel and C=1.0 : {0:0.4f}'. format(accuracy_score(y_test, y_pred_poly)))\n",
    "\n"
   ]
  },
  {
   "cell_type": "code",
   "execution_count": 63,
   "metadata": {},
   "outputs": [
    {
     "name": "stdout",
     "output_type": "stream",
     "text": [
      "Model accuracy score with polynomial kernel and C=1000.0 : 0.8402\n"
     ]
    }
   ],
   "source": [
    "poly_svc = SVC(kernel = 'poly', C=1000)\n",
    "poly_svc.fit(X_train,y_train)\n",
    "\n",
    "y_pred_poly = poly_svc.predict(X_test)\n",
    "print('Model accuracy score with polynomial kernel and C=1000.0 : {0:0.4f}'. format(accuracy_score(y_test, y_pred_poly)))\n",
    "\n"
   ]
  },
  {
   "cell_type": "code",
   "execution_count": null,
   "metadata": {},
   "outputs": [],
   "source": []
  },
  {
   "cell_type": "code",
   "execution_count": null,
   "metadata": {},
   "outputs": [],
   "source": []
  },
  {
   "cell_type": "code",
   "execution_count": 61,
   "metadata": {},
   "outputs": [
    {
     "name": "stdout",
     "output_type": "stream",
     "text": [
      "Model accuracy score with sigmoid kernel and C=1.0 : 0.7041\n"
     ]
    }
   ],
   "source": [
    "sigmoid_svc = SVC(kernel = 'sigmoid', C = 1.0)\n",
    "sigmoid_svc.fit(X_train,y_train)\n",
    "\n",
    "y_pred_sigmoid = sigmoid_svc.predict(X_test)\n",
    "\n",
    "print('Model accuracy score with sigmoid kernel and C=1.0 : {0:0.4f}'. format(accuracy_score(y_test, y_pred_sigmoid)))"
   ]
  },
  {
   "cell_type": "code",
   "execution_count": 62,
   "metadata": {},
   "outputs": [
    {
     "name": "stdout",
     "output_type": "stream",
     "text": [
      "Model accuracy score with sigmoid kernel and C=1.0 : 0.6036\n"
     ]
    }
   ],
   "source": [
    "sigmoid_svc = SVC(kernel = 'sigmoid', C = 100.0)\n",
    "sigmoid_svc.fit(X_train,y_train)\n",
    "\n",
    "y_pred_sigmoid = sigmoid_svc.predict(X_test)\n",
    "\n",
    "print('Model accuracy score with sigmoid kernel and C=100.0 : {0:0.4f}'. format(accuracy_score(y_test, y_pred_sigmoid)))"
   ]
  },
  {
   "cell_type": "code",
   "execution_count": null,
   "metadata": {},
   "outputs": [],
   "source": []
  },
  {
   "cell_type": "code",
   "execution_count": null,
   "metadata": {},
   "outputs": [],
   "source": []
  },
  {
   "cell_type": "code",
   "execution_count": null,
   "metadata": {},
   "outputs": [],
   "source": []
  },
  {
   "cell_type": "markdown",
   "metadata": {},
   "source": [
    "### Inference"
   ]
  },
  {
   "cell_type": "markdown",
   "metadata": {},
   "source": [
    "Highest Test set accuracy is obtained using RBF Kernal Trick. \n",
    "The value of C and Gamma stills needs optimization. At C = 100, Test set accuracy is high but Training Set accuracy is 1, which means Overfitting. "
   ]
  },
  {
   "cell_type": "markdown",
   "metadata": {},
   "source": [
    "Continuing with Default Parameters, calculating confusion matrix, F1 scores."
   ]
  },
  {
   "cell_type": "code",
   "execution_count": 64,
   "metadata": {},
   "outputs": [],
   "source": [
    "from sklearn.metrics import confusion_matrix"
   ]
  },
  {
   "cell_type": "code",
   "execution_count": 66,
   "metadata": {},
   "outputs": [],
   "source": [
    "cm = confusion_matrix(y_test,y_pred_default)"
   ]
  },
  {
   "cell_type": "code",
   "execution_count": 68,
   "metadata": {},
   "outputs": [
    {
     "name": "stdout",
     "output_type": "stream",
     "text": [
      "Confusion matrix\n",
      "\n",
      " [[74 15]\n",
      " [ 7 73]]\n",
      "\n",
      "True Positives(TP) =  74\n",
      "\n",
      "True Negatives(TN) =  73\n",
      "\n",
      "False Positives(FP) =  15\n",
      "\n",
      "False Negatives(FN) =  7\n"
     ]
    }
   ],
   "source": [
    "print('Confusion matrix\\n\\n', cm)\n",
    "\n",
    "print('\\nTrue Positives(TP) = ', cm[0,0])\n",
    "\n",
    "print('\\nTrue Negatives(TN) = ', cm[1,1])\n",
    "\n",
    "print('\\nFalse Positives(FP) = ', cm[0,1])\n",
    "\n",
    "print('\\nFalse Negatives(FN) = ', cm[1,0])\n"
   ]
  },
  {
   "cell_type": "code",
   "execution_count": 69,
   "metadata": {},
   "outputs": [
    {
     "name": "stdout",
     "output_type": "stream",
     "text": [
      "              precision    recall  f1-score   support\n",
      "\n",
      "         0.0       0.91      0.83      0.87        89\n",
      "         1.0       0.83      0.91      0.87        80\n",
      "\n",
      "   micro avg       0.87      0.87      0.87       169\n",
      "   macro avg       0.87      0.87      0.87       169\n",
      "weighted avg       0.87      0.87      0.87       169\n",
      "\n"
     ]
    }
   ],
   "source": [
    "from sklearn.metrics import classification_report\n",
    "print(classification_report(y_test,y_pred_default))"
   ]
  },
  {
   "cell_type": "code",
   "execution_count": 70,
   "metadata": {},
   "outputs": [],
   "source": [
    "TP = cm[0,0]\n",
    "TN = cm[1,1]\n",
    "FP = cm[0,1]\n",
    "FN = cm[1,0]"
   ]
  },
  {
   "cell_type": "markdown",
   "metadata": {},
   "source": [
    "### Kfold "
   ]
  },
  {
   "cell_type": "code",
   "execution_count": 73,
   "metadata": {},
   "outputs": [],
   "source": [
    "from sklearn.model_selection import KFold\n",
    "from sklearn.model_selection import cross_val_score"
   ]
  },
  {
   "cell_type": "code",
   "execution_count": 87,
   "metadata": {},
   "outputs": [],
   "source": [
    "kfold = KFold(n_splits=5, shuffle=True)\n",
    "kfold_svc = SVC()\n",
    "default_kfold_scores = cross_val_score(kfold_svc,X,y, cv = kfold)"
   ]
  },
  {
   "cell_type": "code",
   "execution_count": 88,
   "metadata": {},
   "outputs": [
    {
     "name": "stdout",
     "output_type": "stream",
     "text": [
      "Stratified cross-validation scores with RBF kernel:\n",
      "\n",
      "[0.71005917 0.79289941 0.72189349 0.69822485 0.75739645]\n"
     ]
    }
   ],
   "source": [
    "print('Stratified cross-validation scores with RBF kernel:\\n\\n{}'.format(default_kfold_scores))"
   ]
  },
  {
   "cell_type": "code",
   "execution_count": 90,
   "metadata": {},
   "outputs": [],
   "source": [
    "from sklearn.model_selection import GridSearchCV\n",
    "from sklearn.svm import SVC\n",
    "\n",
    "svc = SVC()\n",
    "\n",
    "param_grid = {'C': [0.1, 1, 10, 100, 1000],  \n",
    "              'gamma':[0.1, 0.2, 0.3, 0.4, 0.5, 0.6, 0.7, 0.8, 0.9], \n",
    "              'kernel': ['rbf']}  \n",
    "\n",
    "grid_search = GridSearchCV(estimator=svc, param_grid=param_grid, scoring='accuracy', cv = kfold, verbose = 0)"
   ]
  },
  {
   "cell_type": "code",
   "execution_count": 91,
   "metadata": {},
   "outputs": [
    {
     "data": {
      "text/plain": [
       "GridSearchCV(cv=KFold(n_splits=5, random_state=None, shuffle=True),\n",
       "       error_score='raise-deprecating',\n",
       "       estimator=SVC(C=1.0, cache_size=200, class_weight=None, coef0=0.0,\n",
       "  decision_function_shape='ovr', degree=3, gamma='auto_deprecated',\n",
       "  kernel='rbf', max_iter=-1, probability=False, random_state=None,\n",
       "  shrinking=True, tol=0.001, verbose=False),\n",
       "       fit_params=None, iid='warn', n_jobs=None,\n",
       "       param_grid={'C': [0.1, 1, 10, 100, 1000], 'gamma': [0.1, 0.2, 0.3, 0.4, 0.5, 0.6, 0.7, 0.8, 0.9], 'kernel': ['rbf']},\n",
       "       pre_dispatch='2*n_jobs', refit=True, return_train_score='warn',\n",
       "       scoring='accuracy', verbose=0)"
      ]
     },
     "execution_count": 91,
     "metadata": {},
     "output_type": "execute_result"
    }
   ],
   "source": [
    "grid_search.fit(X,y)"
   ]
  },
  {
   "cell_type": "code",
   "execution_count": 92,
   "metadata": {},
   "outputs": [
    {
     "data": {
      "text/plain": [
       "0.936094674556213"
      ]
     },
     "execution_count": 92,
     "metadata": {},
     "output_type": "execute_result"
    }
   ],
   "source": [
    "grid_search.best_score_"
   ]
  },
  {
   "cell_type": "code",
   "execution_count": 93,
   "metadata": {},
   "outputs": [
    {
     "data": {
      "text/plain": [
       "{'C': 10, 'gamma': 0.1, 'kernel': 'rbf'}"
      ]
     },
     "execution_count": 93,
     "metadata": {},
     "output_type": "execute_result"
    }
   ],
   "source": [
    "grid_search.best_params_"
   ]
  },
  {
   "cell_type": "code",
   "execution_count": 94,
   "metadata": {},
   "outputs": [
    {
     "data": {
      "text/plain": [
       "SVC(C=10, cache_size=200, class_weight=None, coef0=0.0,\n",
       "  decision_function_shape='ovr', degree=3, gamma=0.1, kernel='rbf',\n",
       "  max_iter=-1, probability=False, random_state=None, shrinking=True,\n",
       "  tol=0.001, verbose=False)"
      ]
     },
     "execution_count": 94,
     "metadata": {},
     "output_type": "execute_result"
    }
   ],
   "source": [
    "grid_search.best_estimator_"
   ]
  },
  {
   "cell_type": "markdown",
   "metadata": {},
   "source": [
    "### Hyperparameter C = 10 and gamma = 0.1, kernel = 'rbf"
   ]
  },
  {
   "cell_type": "code",
   "execution_count": 95,
   "metadata": {},
   "outputs": [],
   "source": [
    "kfold = KFold(n_splits=5, shuffle=True)\n",
    "kfold_svc = SVC(C = 10,gamma=0.1 )\n",
    "kfold_scores = cross_val_score(kfold_svc,X,y, cv = kfold)\n"
   ]
  },
  {
   "cell_type": "code",
   "execution_count": 101,
   "metadata": {},
   "outputs": [
    {
     "data": {
      "text/plain": [
       "array([0.9112426 , 0.95857988, 0.91715976, 0.97633136, 0.91715976])"
      ]
     },
     "execution_count": 101,
     "metadata": {},
     "output_type": "execute_result"
    }
   ],
   "source": [
    "kfold_scores"
   ]
  },
  {
   "cell_type": "code",
   "execution_count": 102,
   "metadata": {},
   "outputs": [
    {
     "data": {
      "text/plain": [
       "0.936094674556213"
      ]
     },
     "execution_count": 102,
     "metadata": {},
     "output_type": "execute_result"
    }
   ],
   "source": [
    "kfold_scores.mean()"
   ]
  },
  {
   "cell_type": "code",
   "execution_count": null,
   "metadata": {},
   "outputs": [],
   "source": []
  },
  {
   "cell_type": "code",
   "execution_count": null,
   "metadata": {},
   "outputs": [],
   "source": []
  }
 ],
 "metadata": {
  "kernelspec": {
   "display_name": "Python 3",
   "language": "python",
   "name": "python3"
  },
  "language_info": {
   "codemirror_mode": {
    "name": "ipython",
    "version": 3
   },
   "file_extension": ".py",
   "mimetype": "text/x-python",
   "name": "python",
   "nbconvert_exporter": "python",
   "pygments_lexer": "ipython3",
   "version": "3.7.3"
  }
 },
 "nbformat": 4,
 "nbformat_minor": 2
}
