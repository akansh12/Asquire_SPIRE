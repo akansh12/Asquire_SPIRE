{
 "cells": [
  {
   "cell_type": "code",
   "execution_count": 1,
   "metadata": {},
   "outputs": [],
   "source": [
    "import pandas as pd \n",
    "import numpy as np\n",
    "import matplotlib.pyplot as plt\n",
    "import seaborn as sns\n",
    "import os"
   ]
  },
  {
   "cell_type": "code",
   "execution_count": 2,
   "metadata": {},
   "outputs": [],
   "source": [
    "from sklearn.svm import SVC\n",
    "from sklearn.metrics import accuracy_score\n",
    "from sklearn.model_selection import train_test_split\n",
    "from sklearn.metrics import confusion_matrix\n",
    "from sklearn.metrics import classification_report\n",
    "from sklearn.model_selection import KFold\n",
    "from sklearn.model_selection import cross_val_score\n",
    "from sklearn.model_selection import GridSearchCV\n",
    "from sklearn.model_selection import cross_validate"
   ]
  },
  {
   "cell_type": "code",
   "execution_count": 3,
   "metadata": {},
   "outputs": [],
   "source": [
    "from sklearn.model_selection import learning_curve "
   ]
  },
  {
   "cell_type": "code",
   "execution_count": 4,
   "metadata": {},
   "outputs": [],
   "source": [
    "import matplotlib.pyplot as plt "
   ]
  },
  {
   "cell_type": "code",
   "execution_count": 5,
   "metadata": {},
   "outputs": [],
   "source": [
    "import warnings\n",
    "warnings.filterwarnings('ignore')"
   ]
  },
  {
   "cell_type": "code",
   "execution_count": 6,
   "metadata": {},
   "outputs": [],
   "source": [
    "Cough_dataframe = pd.read_csv(\"./cough.csv\")"
   ]
  },
  {
   "cell_type": "code",
   "execution_count": 7,
   "metadata": {},
   "outputs": [
    {
     "data": {
      "text/html": [
       "<div>\n",
       "<style scoped>\n",
       "    .dataframe tbody tr th:only-of-type {\n",
       "        vertical-align: middle;\n",
       "    }\n",
       "\n",
       "    .dataframe tbody tr th {\n",
       "        vertical-align: top;\n",
       "    }\n",
       "\n",
       "    .dataframe thead th {\n",
       "        text-align: right;\n",
       "    }\n",
       "</style>\n",
       "<table border=\"1\" class=\"dataframe\">\n",
       "  <thead>\n",
       "    <tr style=\"text-align: right;\">\n",
       "      <th></th>\n",
       "      <th>0</th>\n",
       "      <th>1</th>\n",
       "      <th>2</th>\n",
       "      <th>3</th>\n",
       "      <th>4</th>\n",
       "      <th>5</th>\n",
       "      <th>6</th>\n",
       "      <th>7</th>\n",
       "      <th>8</th>\n",
       "      <th>9</th>\n",
       "      <th>...</th>\n",
       "      <th>208</th>\n",
       "      <th>209</th>\n",
       "      <th>210</th>\n",
       "      <th>211</th>\n",
       "      <th>212</th>\n",
       "      <th>213</th>\n",
       "      <th>214</th>\n",
       "      <th>215</th>\n",
       "      <th>216</th>\n",
       "      <th>217</th>\n",
       "    </tr>\n",
       "  </thead>\n",
       "  <tbody>\n",
       "    <tr>\n",
       "      <th>0</th>\n",
       "      <td>-1.049566</td>\n",
       "      <td>-0.724346</td>\n",
       "      <td>-0.643932</td>\n",
       "      <td>-1.312013</td>\n",
       "      <td>0.753689</td>\n",
       "      <td>-0.749393</td>\n",
       "      <td>0.948658</td>\n",
       "      <td>-0.194646</td>\n",
       "      <td>-0.415013</td>\n",
       "      <td>0.143907</td>\n",
       "      <td>...</td>\n",
       "      <td>0.039689</td>\n",
       "      <td>0.037159</td>\n",
       "      <td>0.076035</td>\n",
       "      <td>0.050627</td>\n",
       "      <td>0.044381</td>\n",
       "      <td>0.032918</td>\n",
       "      <td>0.029141</td>\n",
       "      <td>0.050840</td>\n",
       "      <td>1.0</td>\n",
       "      <td>2018_08_21_12_40_EllammaK_P_Asthma_F_before_48...</td>\n",
       "    </tr>\n",
       "    <tr>\n",
       "      <th>1</th>\n",
       "      <td>-0.061991</td>\n",
       "      <td>-0.409625</td>\n",
       "      <td>-0.595233</td>\n",
       "      <td>-1.286315</td>\n",
       "      <td>0.849574</td>\n",
       "      <td>-0.234460</td>\n",
       "      <td>1.107897</td>\n",
       "      <td>-0.733951</td>\n",
       "      <td>-1.157121</td>\n",
       "      <td>0.326685</td>\n",
       "      <td>...</td>\n",
       "      <td>0.039152</td>\n",
       "      <td>0.033323</td>\n",
       "      <td>0.032537</td>\n",
       "      <td>0.025178</td>\n",
       "      <td>0.038339</td>\n",
       "      <td>0.028534</td>\n",
       "      <td>0.034394</td>\n",
       "      <td>0.043211</td>\n",
       "      <td>1.0</td>\n",
       "      <td>2018_08_21_12_40_EllammaK_P_Asthma_F_before_48...</td>\n",
       "    </tr>\n",
       "    <tr>\n",
       "      <th>2</th>\n",
       "      <td>0.507403</td>\n",
       "      <td>0.534974</td>\n",
       "      <td>0.407169</td>\n",
       "      <td>-0.947500</td>\n",
       "      <td>0.590494</td>\n",
       "      <td>-0.218818</td>\n",
       "      <td>0.849918</td>\n",
       "      <td>-0.478996</td>\n",
       "      <td>-1.118813</td>\n",
       "      <td>0.029738</td>\n",
       "      <td>...</td>\n",
       "      <td>0.025266</td>\n",
       "      <td>0.039965</td>\n",
       "      <td>0.074801</td>\n",
       "      <td>0.062176</td>\n",
       "      <td>0.040444</td>\n",
       "      <td>0.031103</td>\n",
       "      <td>0.029153</td>\n",
       "      <td>0.052451</td>\n",
       "      <td>1.0</td>\n",
       "      <td>2018_08_21_12_40_EllammaK_P_Asthma_F_before_48...</td>\n",
       "    </tr>\n",
       "    <tr>\n",
       "      <th>3</th>\n",
       "      <td>0.433352</td>\n",
       "      <td>-0.859231</td>\n",
       "      <td>0.815786</td>\n",
       "      <td>0.382931</td>\n",
       "      <td>1.386598</td>\n",
       "      <td>0.363840</td>\n",
       "      <td>1.678211</td>\n",
       "      <td>-1.375525</td>\n",
       "      <td>-0.978809</td>\n",
       "      <td>0.045781</td>\n",
       "      <td>...</td>\n",
       "      <td>0.024413</td>\n",
       "      <td>0.057612</td>\n",
       "      <td>0.041814</td>\n",
       "      <td>0.045293</td>\n",
       "      <td>0.032174</td>\n",
       "      <td>0.034572</td>\n",
       "      <td>0.032443</td>\n",
       "      <td>0.051107</td>\n",
       "      <td>1.0</td>\n",
       "      <td>2018_08_21_12_40_EllammaK_P_Asthma_F_before_48...</td>\n",
       "    </tr>\n",
       "    <tr>\n",
       "      <th>4</th>\n",
       "      <td>0.332375</td>\n",
       "      <td>-2.898388</td>\n",
       "      <td>1.046713</td>\n",
       "      <td>1.091744</td>\n",
       "      <td>1.408277</td>\n",
       "      <td>0.348940</td>\n",
       "      <td>1.828713</td>\n",
       "      <td>-1.360403</td>\n",
       "      <td>-1.343445</td>\n",
       "      <td>0.280000</td>\n",
       "      <td>...</td>\n",
       "      <td>0.035699</td>\n",
       "      <td>0.032245</td>\n",
       "      <td>0.048694</td>\n",
       "      <td>0.034298</td>\n",
       "      <td>0.057311</td>\n",
       "      <td>0.057942</td>\n",
       "      <td>0.037740</td>\n",
       "      <td>0.083570</td>\n",
       "      <td>1.0</td>\n",
       "      <td>2018_08_21_12_40_EllammaK_P_Asthma_F_before_48...</td>\n",
       "    </tr>\n",
       "  </tbody>\n",
       "</table>\n",
       "<p>5 rows × 218 columns</p>\n",
       "</div>"
      ],
      "text/plain": [
       "          0         1         2         3         4         5         6  \\\n",
       "0 -1.049566 -0.724346 -0.643932 -1.312013  0.753689 -0.749393  0.948658   \n",
       "1 -0.061991 -0.409625 -0.595233 -1.286315  0.849574 -0.234460  1.107897   \n",
       "2  0.507403  0.534974  0.407169 -0.947500  0.590494 -0.218818  0.849918   \n",
       "3  0.433352 -0.859231  0.815786  0.382931  1.386598  0.363840  1.678211   \n",
       "4  0.332375 -2.898388  1.046713  1.091744  1.408277  0.348940  1.828713   \n",
       "\n",
       "          7         8         9  ...       208       209       210       211  \\\n",
       "0 -0.194646 -0.415013  0.143907  ...  0.039689  0.037159  0.076035  0.050627   \n",
       "1 -0.733951 -1.157121  0.326685  ...  0.039152  0.033323  0.032537  0.025178   \n",
       "2 -0.478996 -1.118813  0.029738  ...  0.025266  0.039965  0.074801  0.062176   \n",
       "3 -1.375525 -0.978809  0.045781  ...  0.024413  0.057612  0.041814  0.045293   \n",
       "4 -1.360403 -1.343445  0.280000  ...  0.035699  0.032245  0.048694  0.034298   \n",
       "\n",
       "        212       213       214       215  216  \\\n",
       "0  0.044381  0.032918  0.029141  0.050840  1.0   \n",
       "1  0.038339  0.028534  0.034394  0.043211  1.0   \n",
       "2  0.040444  0.031103  0.029153  0.052451  1.0   \n",
       "3  0.032174  0.034572  0.032443  0.051107  1.0   \n",
       "4  0.057311  0.057942  0.037740  0.083570  1.0   \n",
       "\n",
       "                                                 217  \n",
       "0  2018_08_21_12_40_EllammaK_P_Asthma_F_before_48...  \n",
       "1  2018_08_21_12_40_EllammaK_P_Asthma_F_before_48...  \n",
       "2  2018_08_21_12_40_EllammaK_P_Asthma_F_before_48...  \n",
       "3  2018_08_21_12_40_EllammaK_P_Asthma_F_before_48...  \n",
       "4  2018_08_21_12_40_EllammaK_P_Asthma_F_before_48...  \n",
       "\n",
       "[5 rows x 218 columns]"
      ]
     },
     "execution_count": 7,
     "metadata": {},
     "output_type": "execute_result"
    }
   ],
   "source": [
    "Cough_dataframe.head()"
   ]
  },
  {
   "cell_type": "code",
   "execution_count": 8,
   "metadata": {},
   "outputs": [
    {
     "data": {
      "text/plain": [
       "(845, 218)"
      ]
     },
     "execution_count": 8,
     "metadata": {},
     "output_type": "execute_result"
    }
   ],
   "source": [
    "Cough_dataframe.shape"
   ]
  },
  {
   "cell_type": "code",
   "execution_count": 9,
   "metadata": {},
   "outputs": [
    {
     "data": {
      "text/plain": [
       "0.0    451\n",
       "1.0    394\n",
       "Name: 216, dtype: int64"
      ]
     },
     "execution_count": 9,
     "metadata": {},
     "output_type": "execute_result"
    }
   ],
   "source": [
    "Cough_dataframe[\"216\"].value_counts()"
   ]
  },
  {
   "cell_type": "code",
   "execution_count": 10,
   "metadata": {},
   "outputs": [],
   "source": [
    "X = Cough_dataframe.iloc[:,:216]\n",
    "\n",
    "y = Cough_dataframe.iloc[:,216]"
   ]
  },
  {
   "cell_type": "code",
   "execution_count": 11,
   "metadata": {},
   "outputs": [
    {
     "data": {
      "text/plain": [
       "0      1.0\n",
       "1      1.0\n",
       "2      1.0\n",
       "3      1.0\n",
       "4      1.0\n",
       "      ... \n",
       "840    1.0\n",
       "841    1.0\n",
       "842    1.0\n",
       "843    1.0\n",
       "844    1.0\n",
       "Name: 216, Length: 845, dtype: float64"
      ]
     },
     "execution_count": 11,
     "metadata": {},
     "output_type": "execute_result"
    }
   ],
   "source": [
    "Cough_dataframe[\"216\"]"
   ]
  },
  {
   "cell_type": "code",
   "execution_count": null,
   "metadata": {},
   "outputs": [],
   "source": []
  },
  {
   "cell_type": "code",
   "execution_count": null,
   "metadata": {},
   "outputs": [],
   "source": []
  },
  {
   "cell_type": "code",
   "execution_count": null,
   "metadata": {},
   "outputs": [],
   "source": []
  },
  {
   "cell_type": "code",
   "execution_count": 12,
   "metadata": {},
   "outputs": [],
   "source": [
    "X_train, X_test, y_train, y_test = train_test_split(X,y, test_size = 0.2)"
   ]
  },
  {
   "cell_type": "code",
   "execution_count": 13,
   "metadata": {},
   "outputs": [
    {
     "data": {
      "text/plain": [
       "(676, 216)"
      ]
     },
     "execution_count": 13,
     "metadata": {},
     "output_type": "execute_result"
    }
   ],
   "source": [
    "X_train.shape"
   ]
  },
  {
   "cell_type": "code",
   "execution_count": 14,
   "metadata": {},
   "outputs": [
    {
     "data": {
      "text/plain": [
       "(169, 216)"
      ]
     },
     "execution_count": 14,
     "metadata": {},
     "output_type": "execute_result"
    }
   ],
   "source": [
    "X_test.shape"
   ]
  },
  {
   "cell_type": "code",
   "execution_count": 15,
   "metadata": {},
   "outputs": [
    {
     "data": {
      "text/plain": [
       "(676,)"
      ]
     },
     "execution_count": 15,
     "metadata": {},
     "output_type": "execute_result"
    }
   ],
   "source": [
    "y_train.shape"
   ]
  },
  {
   "cell_type": "code",
   "execution_count": 16,
   "metadata": {},
   "outputs": [
    {
     "data": {
      "text/plain": [
       "(169,)"
      ]
     },
     "execution_count": 16,
     "metadata": {},
     "output_type": "execute_result"
    }
   ],
   "source": [
    "y_test.shape"
   ]
  },
  {
   "cell_type": "code",
   "execution_count": 17,
   "metadata": {},
   "outputs": [],
   "source": [
    "from sklearn.preprocessing import StandardScaler\n",
    "\n",
    "scaler = StandardScaler()\n",
    "\n",
    "X_train = scaler.fit_transform(X_train)\n",
    "\n",
    "X_test = scaler.transform(X_test)\n",
    "\n",
    "X_train = pd.DataFrame(X_train)\n",
    "X_test = pd.DataFrame(X_test)\n"
   ]
  },
  {
   "cell_type": "code",
   "execution_count": null,
   "metadata": {},
   "outputs": [],
   "source": []
  },
  {
   "cell_type": "code",
   "execution_count": 18,
   "metadata": {},
   "outputs": [
    {
     "name": "stdout",
     "output_type": "stream",
     "text": [
      "Model accuracy score with default hyperparameters: 0.8402\n",
      "Training-set accuracy score: 0.9837\n"
     ]
    }
   ],
   "source": [
    "svc = SVC()\n",
    "\n",
    "svc.fit(X_train,y_train)\n",
    "y_pred_default = svc.predict(X_test)\n",
    "\n",
    "\n",
    "print('Model accuracy score with default hyperparameters: {0:0.4f}'. format(accuracy_score(y_test, y_pred_default)))\n",
    "\n",
    "y_pred_train = svc.predict(X_train)\n",
    "print('Training-set accuracy score: {0:0.4f}'. format(accuracy_score(y_train, y_pred_train)))"
   ]
  },
  {
   "cell_type": "code",
   "execution_count": null,
   "metadata": {},
   "outputs": [],
   "source": []
  },
  {
   "cell_type": "code",
   "execution_count": null,
   "metadata": {},
   "outputs": [],
   "source": []
  },
  {
   "cell_type": "markdown",
   "metadata": {},
   "source": [
    "### Hyperparameter Tuning"
   ]
  },
  {
   "cell_type": "code",
   "execution_count": 48,
   "metadata": {},
   "outputs": [
    {
     "name": "stdout",
     "output_type": "stream",
     "text": [
      "Model accuracy score with rbf kernel and C=100.0 : 0.9231\n"
     ]
    }
   ],
   "source": [
    "svc_1 = SVC(C = 100.0)\n",
    "svc_1.fit(X_train,y_train)\n",
    "\n",
    "y_pred = svc_1.predict(X_test)\n",
    "\n",
    "print('Model accuracy score with rbf kernel and C=100.0 : {0:0.4f}'. format(accuracy_score(y_test, y_pred)))"
   ]
  },
  {
   "cell_type": "code",
   "execution_count": 49,
   "metadata": {},
   "outputs": [],
   "source": [
    "y_pred_train = svc_1.predict(X_train)"
   ]
  },
  {
   "cell_type": "code",
   "execution_count": 50,
   "metadata": {},
   "outputs": [
    {
     "name": "stdout",
     "output_type": "stream",
     "text": [
      "Training-set accuracy score: 0.9852\n"
     ]
    }
   ],
   "source": [
    "print('Training-set accuracy score: {0:0.4f}'. format(accuracy_score(y_train, y_pred_train)))"
   ]
  },
  {
   "cell_type": "code",
   "execution_count": null,
   "metadata": {},
   "outputs": [],
   "source": []
  },
  {
   "cell_type": "code",
   "execution_count": null,
   "metadata": {},
   "outputs": [],
   "source": []
  },
  {
   "cell_type": "code",
   "execution_count": 51,
   "metadata": {},
   "outputs": [
    {
     "name": "stdout",
     "output_type": "stream",
     "text": [
      "Model accuracy score with rbf kernel and C=1000.0 : 0.9053\n"
     ]
    }
   ],
   "source": [
    "scv_2 = SVC(C = 1000.0)\n",
    "scv_2.fit(X_train,y_train)\n",
    "\n",
    "y_pred = scv_2.predict(X_test)\n",
    "\n",
    "print('Model accuracy score with rbf kernel and C=1000.0 : {0:0.4f}'. format(accuracy_score(y_test, y_pred)))"
   ]
  },
  {
   "cell_type": "code",
   "execution_count": null,
   "metadata": {},
   "outputs": [],
   "source": []
  },
  {
   "cell_type": "markdown",
   "metadata": {},
   "source": [
    "### Kernel Trick"
   ]
  },
  {
   "cell_type": "code",
   "execution_count": 52,
   "metadata": {},
   "outputs": [
    {
     "name": "stdout",
     "output_type": "stream",
     "text": [
      "Model accuracy score with linear kernel and C=1.0 : 0.7929\n"
     ]
    }
   ],
   "source": [
    "linear_svc=SVC(kernel='linear', C=1.0) \n",
    "linear_svc.fit(X_train,y_train)\n",
    "y_pred_linear = linear_svc.predict(X_test)\n",
    "print('Model accuracy score with linear kernel and C=1.0 : {0:0.4f}'. format(accuracy_score(y_test, y_pred_linear)))"
   ]
  },
  {
   "cell_type": "code",
   "execution_count": 68,
   "metadata": {
    "scrolled": false
   },
   "outputs": [],
   "source": [
    "linear_svc=SVC(kernel='linear', C=100.0) \n",
    "linear_svc.fit(X_train,y_train)\n",
    "y_pred_linear = linear_svc.predict(X_test)\n",
    "print('Model accuracy score with linear kernel and C=1.0 : {0:0.4f}'. format(accuracy_score(y_test, y_pred_linear)))\n",
    "\n",
    "\n",
    "\n",
    "# print(\"hi\")"
   ]
  },
  {
   "cell_type": "code",
   "execution_count": 54,
   "metadata": {},
   "outputs": [
    {
     "name": "stdout",
     "output_type": "stream",
     "text": [
      "Model accuracy score with polynomial kernel and C=1.0 : 0.6568\n"
     ]
    }
   ],
   "source": [
    "poly_svc = SVC(kernel = 'poly')\n",
    "poly_svc.fit(X_train,y_train)\n",
    "\n",
    "y_pred_poly = poly_svc.predict(X_test)\n",
    "print('Model accuracy score with polynomial kernel and C=1.0 : {0:0.4f}'. format(accuracy_score(y_test, y_pred_poly)))\n",
    "\n"
   ]
  },
  {
   "cell_type": "code",
   "execution_count": 55,
   "metadata": {},
   "outputs": [
    {
     "name": "stdout",
     "output_type": "stream",
     "text": [
      "Model accuracy score with polynomial kernel and C=1000.0 : 0.8935\n"
     ]
    }
   ],
   "source": [
    "poly_svc = SVC(kernel = 'poly', C=1000)\n",
    "poly_svc.fit(X_train,y_train)\n",
    "\n",
    "y_pred_poly = poly_svc.predict(X_test)\n",
    "print('Model accuracy score with polynomial kernel and C=1000.0 : {0:0.4f}'. format(accuracy_score(y_test, y_pred_poly)))\n",
    "\n"
   ]
  },
  {
   "cell_type": "code",
   "execution_count": null,
   "metadata": {},
   "outputs": [],
   "source": []
  },
  {
   "cell_type": "code",
   "execution_count": null,
   "metadata": {},
   "outputs": [],
   "source": []
  },
  {
   "cell_type": "code",
   "execution_count": 56,
   "metadata": {},
   "outputs": [
    {
     "name": "stdout",
     "output_type": "stream",
     "text": [
      "Model accuracy score with sigmoid kernel and C=1.0 : 0.7515\n"
     ]
    }
   ],
   "source": [
    "sigmoid_svc = SVC(kernel = 'sigmoid', C = 1.0)\n",
    "sigmoid_svc.fit(X_train,y_train)\n",
    "\n",
    "y_pred_sigmoid = sigmoid_svc.predict(X_test)\n",
    "\n",
    "print('Model accuracy score with sigmoid kernel and C=1.0 : {0:0.4f}'. format(accuracy_score(y_test, y_pred_sigmoid)))"
   ]
  },
  {
   "cell_type": "code",
   "execution_count": 57,
   "metadata": {},
   "outputs": [
    {
     "name": "stdout",
     "output_type": "stream",
     "text": [
      "Model accuracy score with sigmoid kernel and C=100.0 : 0.6095\n"
     ]
    }
   ],
   "source": [
    "sigmoid_svc = SVC(kernel = 'sigmoid', C = 100.0)\n",
    "sigmoid_svc.fit(X_train,y_train)\n",
    "\n",
    "y_pred_sigmoid = sigmoid_svc.predict(X_test)\n",
    "\n",
    "print('Model accuracy score with sigmoid kernel and C=100.0 : {0:0.4f}'. format(accuracy_score(y_test, y_pred_sigmoid)))"
   ]
  },
  {
   "cell_type": "code",
   "execution_count": null,
   "metadata": {},
   "outputs": [],
   "source": []
  },
  {
   "cell_type": "code",
   "execution_count": null,
   "metadata": {},
   "outputs": [],
   "source": []
  },
  {
   "cell_type": "code",
   "execution_count": null,
   "metadata": {},
   "outputs": [],
   "source": []
  },
  {
   "cell_type": "markdown",
   "metadata": {},
   "source": [
    "### Inference"
   ]
  },
  {
   "cell_type": "markdown",
   "metadata": {},
   "source": [
    "Highest Test set accuracy is obtained using RBF Kernal Trick. \n",
    "The value of C and Gamma stills needs optimization. At C = 100, Test set accuracy is high but Training Set accuracy is 1, which means Overfitting. "
   ]
  },
  {
   "cell_type": "markdown",
   "metadata": {},
   "source": [
    "Continuing with Default Parameters, calculating confusion matrix, F1 scores."
   ]
  },
  {
   "cell_type": "code",
   "execution_count": 58,
   "metadata": {},
   "outputs": [],
   "source": [
    "\n",
    "cm = confusion_matrix(y_test,y_pred_default)\n",
    "\n",
    "print('Confusion matrix\\n\\n', cm)\n",
    "\n",
    "print('\\nTrue Positives(TP) = ', cm[0,0])\n",
    "\n",
    "print('\\nTrue Negatives(TN) = ', cm[1,1])\n",
    "\n",
    "print('\\nFalse Positives(FP) = ', cm[0,1])\n",
    "\n",
    "print('\\nFalse Negatives(FN) = ', cm[1,0])\n",
    "\n",
    "\n",
    "# print(classification_report(y_test,y_pred_default))"
   ]
  },
  {
   "cell_type": "code",
   "execution_count": 70,
   "metadata": {},
   "outputs": [],
   "source": [
    "TP = cm[0,0]\n",
    "TN = cm[1,1]\n",
    "FP = cm[0,1]\n",
    "FN = cm[1,0]"
   ]
  },
  {
   "cell_type": "markdown",
   "metadata": {},
   "source": [
    "### Kfold "
   ]
  },
  {
   "cell_type": "code",
   "execution_count": 20,
   "metadata": {},
   "outputs": [],
   "source": [
    "\n"
   ]
  },
  {
   "cell_type": "code",
   "execution_count": 21,
   "metadata": {},
   "outputs": [],
   "source": [
    "kfold = KFold(n_splits=5, shuffle=True)\n",
    "kfold_svc = SVC()\n",
    "default_kfold_scores = cross_val_score(kfold_svc,X,y, cv = kfold)"
   ]
  },
  {
   "cell_type": "code",
   "execution_count": 22,
   "metadata": {},
   "outputs": [
    {
     "name": "stdout",
     "output_type": "stream",
     "text": [
      "Stratified cross-validation scores with RBF kernel:\n",
      "\n",
      "[0.66863905 0.76331361 0.72189349 0.75147929 0.75739645]\n"
     ]
    }
   ],
   "source": [
    "print('Stratified cross-validation scores with RBF kernel:\\n\\n{}'.format(default_kfold_scores))"
   ]
  },
  {
   "cell_type": "code",
   "execution_count": 188,
   "metadata": {},
   "outputs": [],
   "source": [
    "\n",
    "svc = SVC()\n",
    "\n",
    "param_grid = {'C': [0.1, 1, 10, 100, 1000],  \n",
    "              'gamma':[0.1, 0.2, 0.3, 0.4, 0.5, 0.6, 0.7, 0.8, 0.9], \n",
    "              'kernel': ['rbf']}  \n",
    "\n",
    "scores = ['precision', 'recall']\n",
    "grid_search = GridSearchCV(estimator=svc, param_grid=param_grid, scoring='f1', cv = kfold, verbose = 1)"
   ]
  },
  {
   "cell_type": "code",
   "execution_count": 189,
   "metadata": {},
   "outputs": [
    {
     "name": "stdout",
     "output_type": "stream",
     "text": [
      "Fitting 5 folds for each of 45 candidates, totalling 225 fits\n"
     ]
    },
    {
     "name": "stderr",
     "output_type": "stream",
     "text": [
      "[Parallel(n_jobs=1)]: Using backend SequentialBackend with 1 concurrent workers.\n",
      "[Parallel(n_jobs=1)]: Done 225 out of 225 | elapsed:  1.5min finished\n"
     ]
    },
    {
     "data": {
      "text/plain": [
       "GridSearchCV(cv=KFold(n_splits=5, random_state=None, shuffle=True),\n",
       "       error_score='raise-deprecating',\n",
       "       estimator=SVC(C=1.0, cache_size=200, class_weight=None, coef0=0.0,\n",
       "  decision_function_shape='ovr', degree=3, gamma='auto_deprecated',\n",
       "  kernel='rbf', max_iter=-1, probability=False, random_state=None,\n",
       "  shrinking=True, tol=0.001, verbose=False),\n",
       "       fit_params=None, iid='warn', n_jobs=None,\n",
       "       param_grid={'C': [0.1, 1, 10, 100, 1000], 'gamma': [0.1, 0.2, 0.3, 0.4, 0.5, 0.6, 0.7, 0.8, 0.9], 'kernel': ['rbf']},\n",
       "       pre_dispatch='2*n_jobs', refit=True, return_train_score='warn',\n",
       "       scoring='f1', verbose=1)"
      ]
     },
     "execution_count": 189,
     "metadata": {},
     "output_type": "execute_result"
    }
   ],
   "source": [
    "grid_search.fit(X,y)"
   ]
  },
  {
   "cell_type": "code",
   "execution_count": 92,
   "metadata": {},
   "outputs": [
    {
     "data": {
      "text/plain": [
       "make_scorer(accuracy_score)"
      ]
     },
     "execution_count": 92,
     "metadata": {},
     "output_type": "execute_result"
    }
   ],
   "source": [
    "grid_search."
   ]
  },
  {
   "cell_type": "code",
   "execution_count": 190,
   "metadata": {},
   "outputs": [
    {
     "data": {
      "text/plain": [
       "0.9462700076969175"
      ]
     },
     "execution_count": 190,
     "metadata": {},
     "output_type": "execute_result"
    }
   ],
   "source": [
    "grid_search.best_score_"
   ]
  },
  {
   "cell_type": "code",
   "execution_count": 191,
   "metadata": {},
   "outputs": [
    {
     "data": {
      "text/plain": [
       "{'C': 10, 'gamma': 0.1, 'kernel': 'rbf'}"
      ]
     },
     "execution_count": 191,
     "metadata": {},
     "output_type": "execute_result"
    }
   ],
   "source": [
    "grid_search.best_params_"
   ]
  },
  {
   "cell_type": "code",
   "execution_count": 185,
   "metadata": {},
   "outputs": [
    {
     "data": {
      "text/plain": [
       "SVC(C=1, cache_size=200, class_weight=None, coef0=0.0,\n",
       "  decision_function_shape='ovr', degree=3, gamma=0.5, kernel='rbf',\n",
       "  max_iter=-1, probability=False, random_state=None, shrinking=True,\n",
       "  tol=0.001, verbose=False)"
      ]
     },
     "execution_count": 185,
     "metadata": {},
     "output_type": "execute_result"
    }
   ],
   "source": [
    "grid_search.best_estimator_"
   ]
  },
  {
   "cell_type": "code",
   "execution_count": null,
   "metadata": {},
   "outputs": [],
   "source": []
  },
  {
   "cell_type": "markdown",
   "metadata": {},
   "source": [
    "### Hyperparameter C = 10 and gamma = 0.1, kernel = 'rbf'"
   ]
  },
  {
   "cell_type": "code",
   "execution_count": 28,
   "metadata": {},
   "outputs": [],
   "source": [
    "kfold = KFold(n_splits=5, shuffle=True)\n",
    "kfold_svc = SVC(C = 10,gamma=0.1 )\n",
    "kfold_scores = cross_val_score(kfold_svc,X,y, cv = kfold)\n"
   ]
  },
  {
   "cell_type": "code",
   "execution_count": 29,
   "metadata": {},
   "outputs": [
    {
     "data": {
      "text/plain": [
       "array([0.96449704, 0.89349112, 0.94674556, 0.92307692, 0.95857988])"
      ]
     },
     "execution_count": 29,
     "metadata": {},
     "output_type": "execute_result"
    }
   ],
   "source": [
    "kfold_scores"
   ]
  },
  {
   "cell_type": "code",
   "execution_count": 30,
   "metadata": {},
   "outputs": [
    {
     "data": {
      "text/plain": [
       "0.9372781065088758"
      ]
     },
     "execution_count": 30,
     "metadata": {},
     "output_type": "execute_result"
    }
   ],
   "source": [
    "kfold_scores.mean()"
   ]
  },
  {
   "cell_type": "code",
   "execution_count": 69,
   "metadata": {},
   "outputs": [],
   "source": [
    "svc = SVC()\n"
   ]
  },
  {
   "cell_type": "code",
   "execution_count": 71,
   "metadata": {},
   "outputs": [
    {
     "data": {
      "text/plain": [
       "SVC(C=1.0, cache_size=200, class_weight=None, coef0=0.0,\n",
       "  decision_function_shape='ovr', degree=3, gamma='auto_deprecated',\n",
       "  kernel='rbf', max_iter=-1, probability=False, random_state=None,\n",
       "  shrinking=True, tol=0.001, verbose=False)"
      ]
     },
     "execution_count": 71,
     "metadata": {},
     "output_type": "execute_result"
    }
   ],
   "source": [
    "svc.fit(X_train,y_train)"
   ]
  },
  {
   "cell_type": "code",
   "execution_count": 72,
   "metadata": {},
   "outputs": [],
   "source": [
    "y_pred_train = svc.predict(X_train)"
   ]
  },
  {
   "cell_type": "code",
   "execution_count": 73,
   "metadata": {},
   "outputs": [
    {
     "data": {
      "text/plain": [
       "(676,)"
      ]
     },
     "execution_count": 73,
     "metadata": {},
     "output_type": "execute_result"
    }
   ],
   "source": [
    "y_train.shape"
   ]
  },
  {
   "cell_type": "code",
   "execution_count": 74,
   "metadata": {},
   "outputs": [
    {
     "data": {
      "text/plain": [
       "(676,)"
      ]
     },
     "execution_count": 74,
     "metadata": {},
     "output_type": "execute_result"
    }
   ],
   "source": [
    "y_pred_train.shape"
   ]
  },
  {
   "cell_type": "code",
   "execution_count": 75,
   "metadata": {},
   "outputs": [
    {
     "data": {
      "text/plain": [
       "0.764792899408284"
      ]
     },
     "execution_count": 75,
     "metadata": {},
     "output_type": "execute_result"
    }
   ],
   "source": [
    "accuracy_score(y_train,y_pred_train)"
   ]
  },
  {
   "cell_type": "code",
   "execution_count": 76,
   "metadata": {},
   "outputs": [],
   "source": [
    "cn = confusion_matrix(y_train,y_pred_train)"
   ]
  },
  {
   "cell_type": "code",
   "execution_count": 77,
   "metadata": {},
   "outputs": [
    {
     "data": {
      "text/plain": [
       "array([[312,  51],\n",
       "       [108, 205]])"
      ]
     },
     "execution_count": 77,
     "metadata": {},
     "output_type": "execute_result"
    }
   ],
   "source": [
    "cn"
   ]
  },
  {
   "cell_type": "code",
   "execution_count": 2,
   "metadata": {},
   "outputs": [
    {
     "ename": "ModuleNotFoundError",
     "evalue": "No module named 'svm'",
     "output_type": "error",
     "traceback": [
      "\u001b[0;31m---------------------------------------------------------------------------\u001b[0m",
      "\u001b[0;31mModuleNotFoundError\u001b[0m                       Traceback (most recent call last)",
      "\u001b[0;32m<ipython-input-2-2160a6989cf0>\u001b[0m in \u001b[0;36m<module>\u001b[0;34m\u001b[0m\n\u001b[0;32m----> 1\u001b[0;31m \u001b[0;32mfrom\u001b[0m \u001b[0msvm\u001b[0m \u001b[0;32mimport\u001b[0m \u001b[0;34m*\u001b[0m\u001b[0;34m\u001b[0m\u001b[0;34m\u001b[0m\u001b[0m\n\u001b[0m",
      "\u001b[0;31mModuleNotFoundError\u001b[0m: No module named 'svm'"
     ]
    }
   ],
   "source": [
    "from svm import *"
   ]
  },
  {
   "cell_type": "code",
   "execution_count": 126,
   "metadata": {},
   "outputs": [],
   "source": [
    "prob = svm_problem(Y_lib,feature_vector)"
   ]
  },
  {
   "cell_type": "code",
   "execution_count": 186,
   "metadata": {},
   "outputs": [],
   "source": [
    "param = svm_parameter('-v 10 -t 2 -c 1 -g 0.5')"
   ]
  },
  {
   "cell_type": "code",
   "execution_count": 187,
   "metadata": {},
   "outputs": [
    {
     "name": "stdout",
     "output_type": "stream",
     "text": [
      "Cross Validation Accuracy = 65.2071%\n"
     ]
    }
   ],
   "source": [
    "m = svm_train(prob, param)"
   ]
  },
  {
   "cell_type": "code",
   "execution_count": null,
   "metadata": {},
   "outputs": [],
   "source": []
  },
  {
   "cell_type": "markdown",
   "metadata": {},
   "source": [
    "### Train, Test, Valid"
   ]
  },
  {
   "cell_type": "code",
   "execution_count": 157,
   "metadata": {},
   "outputs": [],
   "source": [
    "X_train, X_test, y_train, y_test = train_test_split(X,y, test_size = 0.2)"
   ]
  },
  {
   "cell_type": "code",
   "execution_count": 158,
   "metadata": {},
   "outputs": [],
   "source": [
    "X_test, X_val, y_test, y_val = train_test_split(X_test,y_test, test_size = 0.35)"
   ]
  },
  {
   "cell_type": "code",
   "execution_count": 193,
   "metadata": {},
   "outputs": [],
   "source": [
    "svm = SVC(C = 10, gamma=0.1)"
   ]
  },
  {
   "cell_type": "code",
   "execution_count": 194,
   "metadata": {},
   "outputs": [
    {
     "data": {
      "text/plain": [
       "SVC(C=10, cache_size=200, class_weight=None, coef0=0.0,\n",
       "  decision_function_shape='ovr', degree=3, gamma=0.1, kernel='rbf',\n",
       "  max_iter=-1, probability=False, random_state=None, shrinking=True,\n",
       "  tol=0.001, verbose=False)"
      ]
     },
     "execution_count": 194,
     "metadata": {},
     "output_type": "execute_result"
    }
   ],
   "source": [
    "svm.fit(X_train,y_train)"
   ]
  },
  {
   "cell_type": "code",
   "execution_count": 195,
   "metadata": {},
   "outputs": [
    {
     "data": {
      "text/plain": [
       "1.0"
      ]
     },
     "execution_count": 195,
     "metadata": {},
     "output_type": "execute_result"
    }
   ],
   "source": [
    "y_pred_train = svm.predict(X_train)\n",
    "accuracy_score(y_train,y_pred_train)"
   ]
  },
  {
   "cell_type": "code",
   "execution_count": 196,
   "metadata": {},
   "outputs": [
    {
     "data": {
      "text/plain": [
       "0.944954128440367"
      ]
     },
     "execution_count": 196,
     "metadata": {},
     "output_type": "execute_result"
    }
   ],
   "source": [
    "y_pred_test = svm.predict(X_test)\n",
    "accuracy_score(y_test,y_pred_test)"
   ]
  },
  {
   "cell_type": "code",
   "execution_count": 197,
   "metadata": {},
   "outputs": [
    {
     "data": {
      "text/plain": [
       "0.95"
      ]
     },
     "execution_count": 197,
     "metadata": {},
     "output_type": "execute_result"
    }
   ],
   "source": [
    "y_pred_val = svm.predict(X_val)\n",
    "accuracy_score(y_val,y_pred_val)"
   ]
  },
  {
   "cell_type": "code",
   "execution_count": null,
   "metadata": {},
   "outputs": [],
   "source": []
  },
  {
   "cell_type": "code",
   "execution_count": null,
   "metadata": {},
   "outputs": [],
   "source": []
  },
  {
   "cell_type": "markdown",
   "metadata": {},
   "source": [
    "### Kfold with C = 100"
   ]
  },
  {
   "cell_type": "code",
   "execution_count": null,
   "metadata": {},
   "outputs": [],
   "source": [
    "\n"
   ]
  },
  {
   "cell_type": "code",
   "execution_count": 202,
   "metadata": {},
   "outputs": [],
   "source": [
    "X_train, X_test, y_train, y_test = train_test_split(X,y, test_size = 0.10)"
   ]
  },
  {
   "cell_type": "code",
   "execution_count": 335,
   "metadata": {},
   "outputs": [],
   "source": [
    "clf = SVC(C = 100)\n",
    "score = cross_val_score(clf, X_train,y_train, cv = 5)"
   ]
  },
  {
   "cell_type": "code",
   "execution_count": 336,
   "metadata": {},
   "outputs": [
    {
     "data": {
      "text/plain": [
       "array([0.90789474, 0.91447368, 0.90789474, 0.86184211, 0.80263158])"
      ]
     },
     "execution_count": 336,
     "metadata": {},
     "output_type": "execute_result"
    }
   ],
   "source": [
    "score"
   ]
  },
  {
   "cell_type": "code",
   "execution_count": 337,
   "metadata": {},
   "outputs": [],
   "source": []
  },
  {
   "cell_type": "code",
   "execution_count": 338,
   "metadata": {},
   "outputs": [],
   "source": [
    "score = cross_validate(clf,X_train,y_train,return_estimator=True,cv = 5)"
   ]
  },
  {
   "cell_type": "code",
   "execution_count": 339,
   "metadata": {},
   "outputs": [
    {
     "data": {
      "text/plain": [
       "dict_keys(['fit_time', 'score_time', 'estimator', 'test_score', 'train_score'])"
      ]
     },
     "execution_count": 339,
     "metadata": {},
     "output_type": "execute_result"
    }
   ],
   "source": [
    "score.keys()"
   ]
  },
  {
   "cell_type": "code",
   "execution_count": 340,
   "metadata": {},
   "outputs": [
    {
     "data": {
      "text/plain": [
       "array([0.14998174, 0.11319232, 0.10339117, 0.10789609, 0.09945965])"
      ]
     },
     "execution_count": 340,
     "metadata": {},
     "output_type": "execute_result"
    }
   ],
   "source": [
    "score['fit_time']"
   ]
  },
  {
   "cell_type": "code",
   "execution_count": 341,
   "metadata": {},
   "outputs": [
    {
     "data": {
      "text/plain": [
       "0.8789473684210527"
      ]
     },
     "execution_count": 341,
     "metadata": {},
     "output_type": "execute_result"
    }
   ],
   "source": [
    "score['test_score'].mean()"
   ]
  },
  {
   "cell_type": "code",
   "execution_count": 342,
   "metadata": {},
   "outputs": [
    {
     "data": {
      "text/plain": [
       "0.9848684210526315"
      ]
     },
     "execution_count": 342,
     "metadata": {},
     "output_type": "execute_result"
    }
   ],
   "source": [
    "score['train_score'].mean()"
   ]
  },
  {
   "cell_type": "code",
   "execution_count": 343,
   "metadata": {},
   "outputs": [
    {
     "name": "stdout",
     "output_type": "stream",
     "text": [
      "              precision    recall  f1-score   support\n",
      "\n",
      "         0.0       0.94      0.90      0.92        51\n",
      "         1.0       0.86      0.91      0.89        34\n",
      "\n",
      "   micro avg       0.91      0.91      0.91        85\n",
      "   macro avg       0.90      0.91      0.90        85\n",
      "weighted avg       0.91      0.91      0.91        85\n",
      "\n",
      "              precision    recall  f1-score   support\n",
      "\n",
      "         0.0       0.94      0.90      0.92        51\n",
      "         1.0       0.86      0.91      0.89        34\n",
      "\n",
      "   micro avg       0.91      0.91      0.91        85\n",
      "   macro avg       0.90      0.91      0.90        85\n",
      "weighted avg       0.91      0.91      0.91        85\n",
      "\n",
      "              precision    recall  f1-score   support\n",
      "\n",
      "         0.0       0.90      0.90      0.90        51\n",
      "         1.0       0.85      0.85      0.85        34\n",
      "\n",
      "   micro avg       0.88      0.88      0.88        85\n",
      "   macro avg       0.88      0.88      0.88        85\n",
      "weighted avg       0.88      0.88      0.88        85\n",
      "\n",
      "              precision    recall  f1-score   support\n",
      "\n",
      "         0.0       0.93      0.84      0.89        51\n",
      "         1.0       0.79      0.91      0.85        34\n",
      "\n",
      "   micro avg       0.87      0.87      0.87        85\n",
      "   macro avg       0.86      0.88      0.87        85\n",
      "weighted avg       0.88      0.87      0.87        85\n",
      "\n",
      "              precision    recall  f1-score   support\n",
      "\n",
      "         0.0       0.88      0.90      0.89        51\n",
      "         1.0       0.85      0.82      0.84        34\n",
      "\n",
      "   micro avg       0.87      0.87      0.87        85\n",
      "   macro avg       0.87      0.86      0.86        85\n",
      "weighted avg       0.87      0.87      0.87        85\n",
      "\n"
     ]
    }
   ],
   "source": [
    "test_error = []\n",
    "for i in range(0,len(score['estimator'])):\n",
    "    a = score['estimator'][i]\n",
    "    a_pred = a.predict(X_test)\n",
    "    test_error.append(accuracy_score(y_test,a_pred))\n",
    "    print(classification_report(y_test,a_pred))"
   ]
  },
  {
   "cell_type": "code",
   "execution_count": 346,
   "metadata": {},
   "outputs": [
    {
     "data": {
      "text/plain": [
       "0.8870588235294118"
      ]
     },
     "execution_count": 346,
     "metadata": {},
     "output_type": "execute_result"
    }
   ],
   "source": [
    "np.array(test_error).mean()"
   ]
  },
  {
   "cell_type": "code",
   "execution_count": null,
   "metadata": {},
   "outputs": [],
   "source": []
  },
  {
   "cell_type": "markdown",
   "metadata": {},
   "source": [
    "### Kfold with C = 10, gamma = 0.1 and  Learning Curve"
   ]
  },
  {
   "cell_type": "code",
   "execution_count": 12,
   "metadata": {},
   "outputs": [],
   "source": [
    "from sklearn.model_selection import learning_curve \n"
   ]
  },
  {
   "cell_type": "code",
   "execution_count": 57,
   "metadata": {},
   "outputs": [],
   "source": [
    "clf = SVC(C = 10, gamma=0.1)"
   ]
  },
  {
   "cell_type": "code",
   "execution_count": 84,
   "metadata": {},
   "outputs": [],
   "source": [
    "sizes, training_scores, testing_scores = learning_curve(clf, X, y, cv=5, scoring='accuracy',train_sizes=np.linspace(0.01, 1.0, 50), shuffle=True) "
   ]
  },
  {
   "cell_type": "code",
   "execution_count": null,
   "metadata": {},
   "outputs": [],
   "source": [
    "sizes"
   ]
  },
  {
   "cell_type": "code",
   "execution_count": 74,
   "metadata": {},
   "outputs": [
    {
     "data": {
      "text/plain": [
       "676.0"
      ]
     },
     "execution_count": 74,
     "metadata": {},
     "output_type": "execute_result"
    }
   ],
   "source": [
    "(X.shape[0]/5)*4"
   ]
  },
  {
   "cell_type": "code",
   "execution_count": null,
   "metadata": {},
   "outputs": [],
   "source": [
    "testing_scores[49].mean()"
   ]
  },
  {
   "cell_type": "code",
   "execution_count": null,
   "metadata": {},
   "outputs": [],
   "source": [
    "mean_training = np.mean(training_scores, axis=1) \n",
    "Standard_Deviation_training = np.std(training_scores, axis=1) \n",
    "  \n",
    "# Mean and Standard Deviation of testing scores \n",
    "mean_testing = np.mean(testing_scores, axis=1) \n",
    "Standard_Deviation_testing = np.std(testing_scores, axis=1) \n",
    "  \n",
    "# dotted blue line is for training scores and green line is for cross-validation score \n",
    "plt.plot(sizes, mean_training, '--', color=\"b\",  label=\"Training score\") \n",
    "plt.plot(sizes, mean_testing, color=\"g\", label=\"Cross-validation score\") "
   ]
  },
  {
   "cell_type": "code",
   "execution_count": null,
   "metadata": {},
   "outputs": [],
   "source": []
  },
  {
   "cell_type": "code",
   "execution_count": null,
   "metadata": {},
   "outputs": [],
   "source": []
  }
 ],
 "metadata": {
  "kernelspec": {
   "display_name": "Python 3",
   "language": "python",
   "name": "python3"
  },
  "language_info": {
   "codemirror_mode": {
    "name": "ipython",
    "version": 3
   },
   "file_extension": ".py",
   "mimetype": "text/x-python",
   "name": "python",
   "nbconvert_exporter": "python",
   "pygments_lexer": "ipython3",
   "version": "3.7.3"
  }
 },
 "nbformat": 4,
 "nbformat_minor": 2
}
