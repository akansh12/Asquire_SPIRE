{
 "cells": [
  {
   "cell_type": "code",
   "execution_count": 1,
   "metadata": {},
   "outputs": [],
   "source": [
    "import scipy.io"
   ]
  },
  {
   "cell_type": "code",
   "execution_count": 2,
   "metadata": {},
   "outputs": [],
   "source": [
    "import os\n",
    "import pandas as pd\n",
    "import numpy as np\n",
    "from scipy import stats"
   ]
  },
  {
   "cell_type": "code",
   "execution_count": 3,
   "metadata": {},
   "outputs": [],
   "source": [
    "from tqdm import tqdm "
   ]
  },
  {
   "cell_type": "code",
   "execution_count": 4,
   "metadata": {},
   "outputs": [
    {
     "ename": "FileNotFoundError",
     "evalue": "[Errno 2] No such file or directory: './Kaldi_MFCCS/2018_08_21_12_40_EllammaK_P_Asthma_F_before_48_148_76_Mod_Y.mat'",
     "output_type": "error",
     "traceback": [
      "\u001b[0;31m---------------------------------------------------------------------------\u001b[0m",
      "\u001b[0;31mFileNotFoundError\u001b[0m                         Traceback (most recent call last)",
      "\u001b[0;32m~/anaconda3/lib/python3.7/site-packages/scipy/io/matlab/mio.py\u001b[0m in \u001b[0;36m_open_file\u001b[0;34m(file_like, appendmat, mode)\u001b[0m\n\u001b[1;32m     38\u001b[0m     \u001b[0;32mtry\u001b[0m\u001b[0;34m:\u001b[0m\u001b[0;34m\u001b[0m\u001b[0;34m\u001b[0m\u001b[0m\n\u001b[0;32m---> 39\u001b[0;31m         \u001b[0;32mreturn\u001b[0m \u001b[0mopen\u001b[0m\u001b[0;34m(\u001b[0m\u001b[0mfile_like\u001b[0m\u001b[0;34m,\u001b[0m \u001b[0mmode\u001b[0m\u001b[0;34m)\u001b[0m\u001b[0;34m,\u001b[0m \u001b[0;32mTrue\u001b[0m\u001b[0;34m\u001b[0m\u001b[0;34m\u001b[0m\u001b[0m\n\u001b[0m\u001b[1;32m     40\u001b[0m     \u001b[0;32mexcept\u001b[0m \u001b[0mIOError\u001b[0m\u001b[0;34m:\u001b[0m\u001b[0;34m\u001b[0m\u001b[0;34m\u001b[0m\u001b[0m\n",
      "\u001b[0;31mFileNotFoundError\u001b[0m: [Errno 2] No such file or directory: './Kaldi_MFCCS/2018_08_21_12_40_EllammaK_P_Asthma_F_before_48_148_76_Mod_Y.mat'",
      "\nDuring handling of the above exception, another exception occurred:\n",
      "\u001b[0;31mFileNotFoundError\u001b[0m                         Traceback (most recent call last)",
      "\u001b[0;32m<ipython-input-4-80d5aef2959d>\u001b[0m in \u001b[0;36m<module>\u001b[0;34m\u001b[0m\n\u001b[0;32m----> 1\u001b[0;31m \u001b[0mmat\u001b[0m \u001b[0;34m=\u001b[0m \u001b[0mscipy\u001b[0m\u001b[0;34m.\u001b[0m\u001b[0mio\u001b[0m\u001b[0;34m.\u001b[0m\u001b[0mloadmat\u001b[0m\u001b[0;34m(\u001b[0m\u001b[0;34m'./Kaldi_MFCCS/2018_08_21_12_40_EllammaK_P_Asthma_F_before_48_148_76_Mod_Y.mat'\u001b[0m\u001b[0;34m)\u001b[0m\u001b[0;34m\u001b[0m\u001b[0;34m\u001b[0m\u001b[0m\n\u001b[0m",
      "\u001b[0;32m~/anaconda3/lib/python3.7/site-packages/scipy/io/matlab/mio.py\u001b[0m in \u001b[0;36mloadmat\u001b[0;34m(file_name, mdict, appendmat, **kwargs)\u001b[0m\n\u001b[1;32m    214\u001b[0m     \"\"\"\n\u001b[1;32m    215\u001b[0m     \u001b[0mvariable_names\u001b[0m \u001b[0;34m=\u001b[0m \u001b[0mkwargs\u001b[0m\u001b[0;34m.\u001b[0m\u001b[0mpop\u001b[0m\u001b[0;34m(\u001b[0m\u001b[0;34m'variable_names'\u001b[0m\u001b[0;34m,\u001b[0m \u001b[0;32mNone\u001b[0m\u001b[0;34m)\u001b[0m\u001b[0;34m\u001b[0m\u001b[0;34m\u001b[0m\u001b[0m\n\u001b[0;32m--> 216\u001b[0;31m     \u001b[0;32mwith\u001b[0m \u001b[0m_open_file_context\u001b[0m\u001b[0;34m(\u001b[0m\u001b[0mfile_name\u001b[0m\u001b[0;34m,\u001b[0m \u001b[0mappendmat\u001b[0m\u001b[0;34m)\u001b[0m \u001b[0;32mas\u001b[0m \u001b[0mf\u001b[0m\u001b[0;34m:\u001b[0m\u001b[0;34m\u001b[0m\u001b[0;34m\u001b[0m\u001b[0m\n\u001b[0m\u001b[1;32m    217\u001b[0m         \u001b[0mMR\u001b[0m\u001b[0;34m,\u001b[0m \u001b[0m_\u001b[0m \u001b[0;34m=\u001b[0m \u001b[0mmat_reader_factory\u001b[0m\u001b[0;34m(\u001b[0m\u001b[0mf\u001b[0m\u001b[0;34m,\u001b[0m \u001b[0;34m**\u001b[0m\u001b[0mkwargs\u001b[0m\u001b[0;34m)\u001b[0m\u001b[0;34m\u001b[0m\u001b[0;34m\u001b[0m\u001b[0m\n\u001b[1;32m    218\u001b[0m         \u001b[0mmatfile_dict\u001b[0m \u001b[0;34m=\u001b[0m \u001b[0mMR\u001b[0m\u001b[0;34m.\u001b[0m\u001b[0mget_variables\u001b[0m\u001b[0;34m(\u001b[0m\u001b[0mvariable_names\u001b[0m\u001b[0;34m)\u001b[0m\u001b[0;34m\u001b[0m\u001b[0;34m\u001b[0m\u001b[0m\n",
      "\u001b[0;32m~/anaconda3/lib/python3.7/contextlib.py\u001b[0m in \u001b[0;36m__enter__\u001b[0;34m(self)\u001b[0m\n\u001b[1;32m    110\u001b[0m         \u001b[0;32mdel\u001b[0m \u001b[0mself\u001b[0m\u001b[0;34m.\u001b[0m\u001b[0margs\u001b[0m\u001b[0;34m,\u001b[0m \u001b[0mself\u001b[0m\u001b[0;34m.\u001b[0m\u001b[0mkwds\u001b[0m\u001b[0;34m,\u001b[0m \u001b[0mself\u001b[0m\u001b[0;34m.\u001b[0m\u001b[0mfunc\u001b[0m\u001b[0;34m\u001b[0m\u001b[0;34m\u001b[0m\u001b[0m\n\u001b[1;32m    111\u001b[0m         \u001b[0;32mtry\u001b[0m\u001b[0;34m:\u001b[0m\u001b[0;34m\u001b[0m\u001b[0;34m\u001b[0m\u001b[0m\n\u001b[0;32m--> 112\u001b[0;31m             \u001b[0;32mreturn\u001b[0m \u001b[0mnext\u001b[0m\u001b[0;34m(\u001b[0m\u001b[0mself\u001b[0m\u001b[0;34m.\u001b[0m\u001b[0mgen\u001b[0m\u001b[0;34m)\u001b[0m\u001b[0;34m\u001b[0m\u001b[0;34m\u001b[0m\u001b[0m\n\u001b[0m\u001b[1;32m    113\u001b[0m         \u001b[0;32mexcept\u001b[0m \u001b[0mStopIteration\u001b[0m\u001b[0;34m:\u001b[0m\u001b[0;34m\u001b[0m\u001b[0;34m\u001b[0m\u001b[0m\n\u001b[1;32m    114\u001b[0m             \u001b[0;32mraise\u001b[0m \u001b[0mRuntimeError\u001b[0m\u001b[0;34m(\u001b[0m\u001b[0;34m\"generator didn't yield\"\u001b[0m\u001b[0;34m)\u001b[0m \u001b[0;32mfrom\u001b[0m \u001b[0;32mNone\u001b[0m\u001b[0;34m\u001b[0m\u001b[0;34m\u001b[0m\u001b[0m\n",
      "\u001b[0;32m~/anaconda3/lib/python3.7/site-packages/scipy/io/matlab/mio.py\u001b[0m in \u001b[0;36m_open_file_context\u001b[0;34m(file_like, appendmat, mode)\u001b[0m\n\u001b[1;32m     17\u001b[0m \u001b[0;34m@\u001b[0m\u001b[0mcontextmanager\u001b[0m\u001b[0;34m\u001b[0m\u001b[0;34m\u001b[0m\u001b[0m\n\u001b[1;32m     18\u001b[0m \u001b[0;32mdef\u001b[0m \u001b[0m_open_file_context\u001b[0m\u001b[0;34m(\u001b[0m\u001b[0mfile_like\u001b[0m\u001b[0;34m,\u001b[0m \u001b[0mappendmat\u001b[0m\u001b[0;34m,\u001b[0m \u001b[0mmode\u001b[0m\u001b[0;34m=\u001b[0m\u001b[0;34m'rb'\u001b[0m\u001b[0;34m)\u001b[0m\u001b[0;34m:\u001b[0m\u001b[0;34m\u001b[0m\u001b[0;34m\u001b[0m\u001b[0m\n\u001b[0;32m---> 19\u001b[0;31m     \u001b[0mf\u001b[0m\u001b[0;34m,\u001b[0m \u001b[0mopened\u001b[0m \u001b[0;34m=\u001b[0m \u001b[0m_open_file\u001b[0m\u001b[0;34m(\u001b[0m\u001b[0mfile_like\u001b[0m\u001b[0;34m,\u001b[0m \u001b[0mappendmat\u001b[0m\u001b[0;34m,\u001b[0m \u001b[0mmode\u001b[0m\u001b[0;34m)\u001b[0m\u001b[0;34m\u001b[0m\u001b[0;34m\u001b[0m\u001b[0m\n\u001b[0m\u001b[1;32m     20\u001b[0m     \u001b[0;32myield\u001b[0m \u001b[0mf\u001b[0m\u001b[0;34m\u001b[0m\u001b[0;34m\u001b[0m\u001b[0m\n\u001b[1;32m     21\u001b[0m     \u001b[0;32mif\u001b[0m \u001b[0mopened\u001b[0m\u001b[0;34m:\u001b[0m\u001b[0;34m\u001b[0m\u001b[0;34m\u001b[0m\u001b[0m\n",
      "\u001b[0;32m~/anaconda3/lib/python3.7/site-packages/scipy/io/matlab/mio.py\u001b[0m in \u001b[0;36m_open_file\u001b[0;34m(file_like, appendmat, mode)\u001b[0m\n\u001b[1;32m     43\u001b[0m             \u001b[0;32mif\u001b[0m \u001b[0mappendmat\u001b[0m \u001b[0;32mand\u001b[0m \u001b[0;32mnot\u001b[0m \u001b[0mfile_like\u001b[0m\u001b[0;34m.\u001b[0m\u001b[0mendswith\u001b[0m\u001b[0;34m(\u001b[0m\u001b[0;34m'.mat'\u001b[0m\u001b[0;34m)\u001b[0m\u001b[0;34m:\u001b[0m\u001b[0;34m\u001b[0m\u001b[0;34m\u001b[0m\u001b[0m\n\u001b[1;32m     44\u001b[0m                 \u001b[0mfile_like\u001b[0m \u001b[0;34m+=\u001b[0m \u001b[0;34m'.mat'\u001b[0m\u001b[0;34m\u001b[0m\u001b[0;34m\u001b[0m\u001b[0m\n\u001b[0;32m---> 45\u001b[0;31m             \u001b[0;32mreturn\u001b[0m \u001b[0mopen\u001b[0m\u001b[0;34m(\u001b[0m\u001b[0mfile_like\u001b[0m\u001b[0;34m,\u001b[0m \u001b[0mmode\u001b[0m\u001b[0;34m)\u001b[0m\u001b[0;34m,\u001b[0m \u001b[0;32mTrue\u001b[0m\u001b[0;34m\u001b[0m\u001b[0;34m\u001b[0m\u001b[0m\n\u001b[0m\u001b[1;32m     46\u001b[0m         \u001b[0;32melse\u001b[0m\u001b[0;34m:\u001b[0m\u001b[0;34m\u001b[0m\u001b[0;34m\u001b[0m\u001b[0m\n\u001b[1;32m     47\u001b[0m             \u001b[0;32mraise\u001b[0m \u001b[0mIOError\u001b[0m\u001b[0;34m(\u001b[0m\u001b[0;34m'Reader needs file name or open file-like object'\u001b[0m\u001b[0;34m)\u001b[0m\u001b[0;34m\u001b[0m\u001b[0;34m\u001b[0m\u001b[0m\n",
      "\u001b[0;31mFileNotFoundError\u001b[0m: [Errno 2] No such file or directory: './Kaldi_MFCCS/2018_08_21_12_40_EllammaK_P_Asthma_F_before_48_148_76_Mod_Y.mat'"
     ]
    }
   ],
   "source": [
    "mat = scipy.io.loadmat(\"./\")"
   ]
  },
  {
   "cell_type": "code",
   "execution_count": null,
   "metadata": {},
   "outputs": [],
   "source": [
    "mat.keys()"
   ]
  },
  {
   "cell_type": "code",
   "execution_count": 57,
   "metadata": {},
   "outputs": [
    {
     "data": {
      "text/plain": [
       "array([[array(['Aaa_c'], dtype='<U5'), array(['Yee_c'], dtype='<U5'),\n",
       "        array(['Uuu_c'], dtype='<U5'), array(['Ooo_c'], dtype='<U5'),\n",
       "        array(['Eee_c'], dtype='<U5'), array(['Cough_c'], dtype='<U7'),\n",
       "        array(['Wheeze_c'], dtype='<U8'),\n",
       "        array(['Inhale_c'], dtype='<U8'),\n",
       "        array(['Exhale_c'], dtype='<U8'), array(['Sss_c'], dtype='<U5'),\n",
       "        array(['Zzz_c'], dtype='<U5')]], dtype=object)"
      ]
     },
     "execution_count": 57,
     "metadata": {},
     "output_type": "execute_result"
    }
   ],
   "source": [
    "mat['stimuli']"
   ]
  },
  {
   "cell_type": "code",
   "execution_count": 7,
   "metadata": {},
   "outputs": [
    {
     "data": {
      "text/plain": [
       "(55, 36)"
      ]
     },
     "execution_count": 7,
     "metadata": {},
     "output_type": "execute_result"
    }
   ],
   "source": [
    "for i,j in enumerate(os.listdir(\"./Kaldi_MFCCS/\")):\n",
    "    mat = scipy.io.loadmat(\"./Kaldi_MFCCS/\"+j)\n",
    "    \n",
    "    "
   ]
  },
  {
   "cell_type": "code",
   "execution_count": 19,
   "metadata": {},
   "outputs": [
    {
     "name": "stderr",
     "output_type": "stream",
     "text": [
      "100%|██████████| 95/95 [00:08<00:00,  6.51it/s]\n"
     ]
    }
   ],
   "source": [
    "cough_dataframe = pd.DataFrame()\n",
    "for i in tqdm(os.listdir(\"./Kaldi_MFCCS/\")):\n",
    "    mat = scipy.io.loadmat(\"./Kaldi_MFCCS/\"+i)\n",
    "    _,j = mat[\"Cough_c\"].shape\n",
    "    for k in range(0,j):\n",
    "        feature = mat[\"Cough_c\"][0][k]\n",
    "        mean = np.mean(feature,axis=0) \n",
    "        mean = mean.reshape(1,len(mean))\n",
    "        mode = stats.mode(feature,axis = 0)[0]\n",
    "        median = np.median(feature, axis=0)\n",
    "        median = median.reshape(1,len(median))\n",
    "\n",
    "        variance = np.var(feature, axis=0)\n",
    "        variance = variance.reshape(1,len(variance))\n",
    "\n",
    "        sd = np.std(feature,axis = 0)\n",
    "        sd = sd.reshape(1,len(sd))\n",
    "\n",
    "        rms = np.sqrt(np.mean(np.square(feature),axis=0))\n",
    "        rms = rms.reshape(1,len(rms))\n",
    "\n",
    "        big = np.concatenate((mean,median,mode,variance,sd,rms),axis = 0)\n",
    "        feature_vector = big.reshape(1,big.shape[0]*big.shape[1])\n",
    "        if i.find(\"Asthma\") != -1:\n",
    "            feature_vector = np.append(feature_vector,1)\n",
    "            feature_vector = np.append(feature_vector,i).reshape(1,218)\n",
    "        else:\n",
    "            feature_vector = np.append(feature_vector,0)\n",
    "            feature_vector = np.append(feature_vector,i).reshape(1,218)\n",
    "            \n",
    "        cough_dataframe = cough_dataframe.append(pd.DataFrame(feature_vector))\n",
    "            \n",
    "            \n",
    "\n",
    "            \n",
    "\n",
    "\n",
    "        \n",
    "\n"
   ]
  },
  {
   "cell_type": "code",
   "execution_count": 23,
   "metadata": {},
   "outputs": [],
   "source": [
    "cough_dataframe.to_csv(\"./cough.csv\", index = False)"
   ]
  },
  {
   "cell_type": "code",
   "execution_count": 24,
   "metadata": {},
   "outputs": [],
   "source": [
    "data = pd.read_csv(\"./cough.csv\")"
   ]
  },
  {
   "cell_type": "code",
   "execution_count": null,
   "metadata": {},
   "outputs": [],
   "source": []
  },
  {
   "cell_type": "code",
   "execution_count": null,
   "metadata": {},
   "outputs": [],
   "source": []
  },
  {
   "cell_type": "code",
   "execution_count": 41,
   "metadata": {},
   "outputs": [
    {
     "name": "stderr",
     "output_type": "stream",
     "text": [
      "100%|██████████| 95/95 [00:08<00:00,  8.94it/s]\n"
     ]
    }
   ],
   "source": [
    "Inhale_dataframe = pd.DataFrame()\n",
    "for i in tqdm(os.listdir(\"./Kaldi_MFCCS/\")):\n",
    "    mat = scipy.io.loadmat(\"./Kaldi_MFCCS/\"+i)\n",
    "    _,j = mat[\"Inhale_c\"].shape\n",
    "    for k in range(0,j):\n",
    "        feature = mat[\"Inhale_c\"][0][k]\n",
    "        mean = np.mean(feature,axis=0) \n",
    "        mean = mean.reshape(1,len(mean))\n",
    "        mode = stats.mode(feature,axis = 0)[0]\n",
    "        median = np.median(feature, axis=0)\n",
    "        median = median.reshape(1,len(median))\n",
    "\n",
    "        variance = np.var(feature, axis=0)\n",
    "        variance = variance.reshape(1,len(variance))\n",
    "\n",
    "        sd = np.std(feature,axis = 0)\n",
    "        sd = sd.reshape(1,len(sd))\n",
    "\n",
    "        rms = np.sqrt(np.mean(np.square(feature),axis=0))\n",
    "        rms = rms.reshape(1,len(rms))\n",
    "\n",
    "        big = np.concatenate((mean,median,mode,variance,sd,rms),axis = 0)\n",
    "        feature_vector = big.reshape(1,big.shape[0]*big.shape[1])\n",
    "        if i.find(\"Asthma\") != -1:\n",
    "            feature_vector = np.append(feature_vector,1)\n",
    "            feature_vector = np.append(feature_vector,i).reshape(1,218)\n",
    "        else:\n",
    "            feature_vector = np.append(feature_vector,0)\n",
    "            feature_vector = np.append(feature_vector,i).reshape(1,218)\n",
    "            \n",
    "        Inhale_dataframe = Inhale_dataframe.append(pd.DataFrame(feature_vector))\n",
    "            \n",
    "            \n",
    "\n",
    "            \n",
    "\n",
    "\n",
    "        \n",
    "\n"
   ]
  },
  {
   "cell_type": "code",
   "execution_count": 45,
   "metadata": {},
   "outputs": [],
   "source": [
    "Inhale_dataframe.to_csv(\"./Inhale.csv\", index = False)"
   ]
  },
  {
   "cell_type": "code",
   "execution_count": null,
   "metadata": {},
   "outputs": [],
   "source": []
  },
  {
   "cell_type": "code",
   "execution_count": 10,
   "metadata": {},
   "outputs": [
    {
     "name": "stderr",
     "output_type": "stream",
     "text": [
      "100%|██████████| 95/95 [00:13<00:00,  5.29it/s]\n"
     ]
    }
   ],
   "source": [
    "Exhale_dataframe = pd.DataFrame()\n",
    "for i in tqdm(os.listdir(\"./Kaldi_MFCCS/\")):\n",
    "    mat = scipy.io.loadmat(\"./Kaldi_MFCCS/\"+i)\n",
    "    _,j = mat[\"Exhale_c\"].shape\n",
    "    for k in range(0,j):\n",
    "        feature = mat[\"Exhale_c\"][0][k]\n",
    "        mean = np.mean(feature,axis=0) \n",
    "        mean = mean.reshape(1,len(mean))\n",
    "        mode = stats.mode(feature,axis = 0)[0]\n",
    "        median = np.median(feature, axis=0)\n",
    "        median = median.reshape(1,len(median))\n",
    "\n",
    "        variance = np.var(feature, axis=0)\n",
    "        variance = variance.reshape(1,len(variance))\n",
    "\n",
    "        sd = np.std(feature,axis = 0)\n",
    "        sd = sd.reshape(1,len(sd))\n",
    "\n",
    "        rms = np.sqrt(np.mean(np.square(feature),axis=0))\n",
    "        rms = rms.reshape(1,len(rms))\n",
    "\n",
    "        big = np.concatenate((mean,median,mode,variance,sd,rms),axis = 0)\n",
    "        feature_vector = big.reshape(1,big.shape[0]*big.shape[1])\n",
    "        if i.find(\"Asthma\") != -1:\n",
    "            feature_vector = np.append(feature_vector,1)\n",
    "            feature_vector = np.append(feature_vector,i).reshape(1,218)\n",
    "        else:\n",
    "            feature_vector = np.append(feature_vector,0)\n",
    "            feature_vector = np.append(feature_vector,i).reshape(1,218)\n",
    "            \n",
    "        Exhale_dataframe = Exhale_dataframe.append(pd.DataFrame(feature_vector))\n",
    "            \n",
    "            \n",
    "\n",
    "            \n",
    "\n",
    "\n",
    "        \n",
    "\n"
   ]
  },
  {
   "cell_type": "code",
   "execution_count": 46,
   "metadata": {},
   "outputs": [],
   "source": [
    "Exhale_dataframe.to_csv(\"./Exhale.csv\", index = False)"
   ]
  },
  {
   "cell_type": "code",
   "execution_count": null,
   "metadata": {},
   "outputs": [],
   "source": []
  },
  {
   "cell_type": "code",
   "execution_count": 11,
   "metadata": {},
   "outputs": [
    {
     "name": "stderr",
     "output_type": "stream",
     "text": [
      "100%|██████████| 95/95 [00:07<00:00, 11.16it/s]\n"
     ]
    }
   ],
   "source": [
    "Wheeze_dataframe = pd.DataFrame()\n",
    "for i in tqdm(os.listdir(\"./Kaldi_MFCCS/\")):\n",
    "    mat = scipy.io.loadmat(\"./Kaldi_MFCCS/\"+i)\n",
    "    _,j = mat[\"Wheeze_c\"].shape\n",
    "    for k in range(0,j):\n",
    "        feature = mat[\"Wheeze_c\"][0][k]\n",
    "        mean = np.mean(feature,axis=0) \n",
    "        mean = mean.reshape(1,len(mean))\n",
    "        mode = stats.mode(feature,axis = 0)[0]\n",
    "        median = np.median(feature, axis=0)\n",
    "        median = median.reshape(1,len(median))\n",
    "\n",
    "        variance = np.var(feature, axis=0)\n",
    "        variance = variance.reshape(1,len(variance))\n",
    "\n",
    "        sd = np.std(feature,axis = 0)\n",
    "        sd = sd.reshape(1,len(sd))\n",
    "\n",
    "        rms = np.sqrt(np.mean(np.square(feature),axis=0))\n",
    "        rms = rms.reshape(1,len(rms))\n",
    "\n",
    "        big = np.concatenate((mean,median,mode,variance,sd,rms),axis = 0)\n",
    "        feature_vector = big.reshape(1,big.shape[0]*big.shape[1])\n",
    "        if i.find(\"Asthma\") != -1:\n",
    "            feature_vector = np.append(feature_vector,1)\n",
    "            feature_vector = np.append(feature_vector,i).reshape(1,218)\n",
    "        else:\n",
    "            feature_vector = np.append(feature_vector,0)\n",
    "            feature_vector = np.append(feature_vector,i).reshape(1,218)\n",
    "            \n",
    "        Wheeze_dataframe = Wheeze_dataframe.append(pd.DataFrame(feature_vector))\n",
    "            \n",
    "            \n",
    "\n",
    "            \n",
    "\n",
    "\n",
    "        \n",
    "\n"
   ]
  },
  {
   "cell_type": "code",
   "execution_count": 47,
   "metadata": {},
   "outputs": [],
   "source": [
    "Wheeze_dataframe.to_csv(\"./Wheeze.csv\", index = False)"
   ]
  },
  {
   "cell_type": "code",
   "execution_count": null,
   "metadata": {},
   "outputs": [],
   "source": []
  },
  {
   "cell_type": "code",
   "execution_count": 12,
   "metadata": {},
   "outputs": [
    {
     "name": "stderr",
     "output_type": "stream",
     "text": [
      "100%|██████████| 95/95 [00:06<00:00, 12.91it/s]\n"
     ]
    }
   ],
   "source": [
    "Yee_dataframe = pd.DataFrame()\n",
    "for i in tqdm(os.listdir(\"./Kaldi_MFCCS/\")):\n",
    "    mat = scipy.io.loadmat(\"./Kaldi_MFCCS/\"+i)\n",
    "    _,j = mat[\"Yee_c\"].shape\n",
    "    for k in range(0,j):\n",
    "        feature = mat[\"Yee_c\"][0][k]\n",
    "        mean = np.mean(feature,axis=0) \n",
    "        mean = mean.reshape(1,len(mean))\n",
    "        mode = stats.mode(feature,axis = 0)[0]\n",
    "        median = np.median(feature, axis=0)\n",
    "        median = median.reshape(1,len(median))\n",
    "\n",
    "        variance = np.var(feature, axis=0)\n",
    "        variance = variance.reshape(1,len(variance))\n",
    "\n",
    "        sd = np.std(feature,axis = 0)\n",
    "        sd = sd.reshape(1,len(sd))\n",
    "\n",
    "        rms = np.sqrt(np.mean(np.square(feature),axis=0))\n",
    "        rms = rms.reshape(1,len(rms))\n",
    "\n",
    "        big = np.concatenate((mean,median,mode,variance,sd,rms),axis = 0)\n",
    "        feature_vector = big.reshape(1,big.shape[0]*big.shape[1])\n",
    "        if i.find(\"Asthma\") != -1:\n",
    "            feature_vector = np.append(feature_vector,1)\n",
    "            feature_vector = np.append(feature_vector,i).reshape(1,218)\n",
    "        else:\n",
    "            feature_vector = np.append(feature_vector,0)\n",
    "            feature_vector = np.append(feature_vector,i).reshape(1,218)\n",
    "            \n",
    "        Yee_dataframe = Yee_dataframe.append(pd.DataFrame(feature_vector))\n",
    "            \n",
    "            \n",
    "\n",
    "            \n",
    "\n",
    "\n",
    "        \n",
    "\n"
   ]
  },
  {
   "cell_type": "code",
   "execution_count": 48,
   "metadata": {},
   "outputs": [],
   "source": [
    "Yee_dataframe.to_csv(\"./Yee.csv\", index = False)"
   ]
  },
  {
   "cell_type": "code",
   "execution_count": null,
   "metadata": {},
   "outputs": [],
   "source": []
  },
  {
   "cell_type": "code",
   "execution_count": 13,
   "metadata": {},
   "outputs": [
    {
     "name": "stderr",
     "output_type": "stream",
     "text": [
      "100%|██████████| 95/95 [00:06<00:00, 15.88it/s]\n"
     ]
    }
   ],
   "source": [
    "Eee_dataframe = pd.DataFrame()\n",
    "for i in tqdm(os.listdir(\"./Kaldi_MFCCS/\")):\n",
    "    mat = scipy.io.loadmat(\"./Kaldi_MFCCS/\"+i)\n",
    "    _,j = mat[\"Eee_c\"].shape\n",
    "    for k in range(0,j):\n",
    "        feature = mat[\"Eee_c\"][0][k]\n",
    "        mean = np.mean(feature,axis=0) \n",
    "        mean = mean.reshape(1,len(mean))\n",
    "        mode = stats.mode(feature,axis = 0)[0]\n",
    "        median = np.median(feature, axis=0)\n",
    "        median = median.reshape(1,len(median))\n",
    "\n",
    "        variance = np.var(feature, axis=0)\n",
    "        variance = variance.reshape(1,len(variance))\n",
    "\n",
    "        sd = np.std(feature,axis = 0)\n",
    "        sd = sd.reshape(1,len(sd))\n",
    "\n",
    "        rms = np.sqrt(np.mean(np.square(feature),axis=0))\n",
    "        rms = rms.reshape(1,len(rms))\n",
    "\n",
    "        big = np.concatenate((mean,median,mode,variance,sd,rms),axis = 0)\n",
    "        feature_vector = big.reshape(1,big.shape[0]*big.shape[1])\n",
    "        if i.find(\"Asthma\") != -1:\n",
    "            feature_vector = np.append(feature_vector,1)\n",
    "            feature_vector = np.append(feature_vector,i).reshape(1,218)\n",
    "        else:\n",
    "            feature_vector = np.append(feature_vector,0)\n",
    "            feature_vector = np.append(feature_vector,i).reshape(1,218)\n",
    "            \n",
    "        Eee_dataframe = Eee_dataframe.append(pd.DataFrame(feature_vector))\n",
    "            \n",
    "            \n",
    "\n",
    "            \n",
    "\n",
    "\n",
    "        \n",
    "\n"
   ]
  },
  {
   "cell_type": "code",
   "execution_count": 49,
   "metadata": {},
   "outputs": [],
   "source": [
    "Eee_dataframe.to_csv(\"./Eee.csv\", index = False)"
   ]
  },
  {
   "cell_type": "code",
   "execution_count": null,
   "metadata": {},
   "outputs": [],
   "source": []
  },
  {
   "cell_type": "code",
   "execution_count": 14,
   "metadata": {},
   "outputs": [
    {
     "name": "stderr",
     "output_type": "stream",
     "text": [
      "100%|██████████| 95/95 [00:06<00:00, 15.58it/s]\n"
     ]
    }
   ],
   "source": [
    "Ooo_dataframe = pd.DataFrame()\n",
    "for i in tqdm(os.listdir(\"./Kaldi_MFCCS/\")):\n",
    "    mat = scipy.io.loadmat(\"./Kaldi_MFCCS/\"+i)\n",
    "    _,j = mat[\"Ooo_c\"].shape\n",
    "    for k in range(0,j):\n",
    "        feature = mat[\"Ooo_c\"][0][k]\n",
    "        mean = np.mean(feature,axis=0) \n",
    "        mean = mean.reshape(1,len(mean))\n",
    "        mode = stats.mode(feature,axis = 0)[0]\n",
    "        median = np.median(feature, axis=0)\n",
    "        median = median.reshape(1,len(median))\n",
    "\n",
    "        variance = np.var(feature, axis=0)\n",
    "        variance = variance.reshape(1,len(variance))\n",
    "\n",
    "        sd = np.std(feature,axis = 0)\n",
    "        sd = sd.reshape(1,len(sd))\n",
    "\n",
    "        rms = np.sqrt(np.mean(np.square(feature),axis=0))\n",
    "        rms = rms.reshape(1,len(rms))\n",
    "\n",
    "        big = np.concatenate((mean,median,mode,variance,sd,rms),axis = 0)\n",
    "        feature_vector = big.reshape(1,big.shape[0]*big.shape[1])\n",
    "        if i.find(\"Asthma\") != -1:\n",
    "            feature_vector = np.append(feature_vector,1)\n",
    "            feature_vector = np.append(feature_vector,i).reshape(1,218)\n",
    "        else:\n",
    "            feature_vector = np.append(feature_vector,0)\n",
    "            feature_vector = np.append(feature_vector,i).reshape(1,218)\n",
    "            \n",
    "        Ooo_dataframe = Ooo_dataframe.append(pd.DataFrame(feature_vector))\n",
    "            \n",
    "            \n",
    "\n",
    "            \n",
    "\n",
    "\n",
    "        \n",
    "\n"
   ]
  },
  {
   "cell_type": "code",
   "execution_count": 50,
   "metadata": {},
   "outputs": [],
   "source": [
    "Ooo_dataframe.to_csv(\"./Ooo.csv\", index = False)"
   ]
  },
  {
   "cell_type": "code",
   "execution_count": null,
   "metadata": {},
   "outputs": [],
   "source": []
  },
  {
   "cell_type": "code",
   "execution_count": 15,
   "metadata": {},
   "outputs": [
    {
     "name": "stderr",
     "output_type": "stream",
     "text": [
      "100%|██████████| 95/95 [00:06<00:00, 14.79it/s]\n"
     ]
    }
   ],
   "source": [
    "Uuu_dataframe = pd.DataFrame()\n",
    "for i in tqdm(os.listdir(\"./Kaldi_MFCCS/\")):\n",
    "    mat = scipy.io.loadmat(\"./Kaldi_MFCCS/\"+i)\n",
    "    _,j = mat[\"Uuu_c\"].shape\n",
    "    for k in range(0,j):\n",
    "        feature = mat[\"Uuu_c\"][0][k]\n",
    "        mean = np.mean(feature,axis=0) \n",
    "        mean = mean.reshape(1,len(mean))\n",
    "        mode = stats.mode(feature,axis = 0)[0]\n",
    "        median = np.median(feature, axis=0)\n",
    "        median = median.reshape(1,len(median))\n",
    "\n",
    "        variance = np.var(feature, axis=0)\n",
    "        variance = variance.reshape(1,len(variance))\n",
    "\n",
    "        sd = np.std(feature,axis = 0)\n",
    "        sd = sd.reshape(1,len(sd))\n",
    "\n",
    "        rms = np.sqrt(np.mean(np.square(feature),axis=0))\n",
    "        rms = rms.reshape(1,len(rms))\n",
    "\n",
    "        big = np.concatenate((mean,median,mode,variance,sd,rms),axis = 0)\n",
    "        feature_vector = big.reshape(1,big.shape[0]*big.shape[1])\n",
    "        if i.find(\"Asthma\") != -1:\n",
    "            feature_vector = np.append(feature_vector,1)\n",
    "            feature_vector = np.append(feature_vector,i).reshape(1,218)\n",
    "        else:\n",
    "            feature_vector = np.append(feature_vector,0)\n",
    "            feature_vector = np.append(feature_vector,i).reshape(1,218)\n",
    "            \n",
    "        Uuu_dataframe = Uuu_dataframe.append(pd.DataFrame(feature_vector))\n",
    "            \n",
    "            \n",
    "\n",
    "            \n",
    "\n",
    "\n",
    "        \n",
    "\n"
   ]
  },
  {
   "cell_type": "code",
   "execution_count": 51,
   "metadata": {},
   "outputs": [],
   "source": [
    "Uuu_dataframe.to_csv(\"./Uuu.csv\", index = False)"
   ]
  },
  {
   "cell_type": "code",
   "execution_count": null,
   "metadata": {},
   "outputs": [],
   "source": []
  },
  {
   "cell_type": "code",
   "execution_count": 16,
   "metadata": {},
   "outputs": [
    {
     "name": "stderr",
     "output_type": "stream",
     "text": [
      "100%|██████████| 95/95 [00:06<00:00, 15.65it/s]\n"
     ]
    }
   ],
   "source": [
    "Aaa_dataframe = pd.DataFrame()\n",
    "for i in tqdm(os.listdir(\"./Kaldi_MFCCS/\")):\n",
    "    mat = scipy.io.loadmat(\"./Kaldi_MFCCS/\"+i)\n",
    "    _,j = mat[\"Aaa_c\"].shape\n",
    "    for k in range(0,j):\n",
    "        feature = mat[\"Aaa_c\"][0][k]\n",
    "        mean = np.mean(feature,axis=0) \n",
    "        mean = mean.reshape(1,len(mean))\n",
    "        mode = stats.mode(feature,axis = 0)[0]\n",
    "        median = np.median(feature, axis=0)\n",
    "        median = median.reshape(1,len(median))\n",
    "\n",
    "        variance = np.var(feature, axis=0)\n",
    "        variance = variance.reshape(1,len(variance))\n",
    "\n",
    "        sd = np.std(feature,axis = 0)\n",
    "        sd = sd.reshape(1,len(sd))\n",
    "\n",
    "        rms = np.sqrt(np.mean(np.square(feature),axis=0))\n",
    "        rms = rms.reshape(1,len(rms))\n",
    "\n",
    "        big = np.concatenate((mean,median,mode,variance,sd,rms),axis = 0)\n",
    "        feature_vector = big.reshape(1,big.shape[0]*big.shape[1])\n",
    "        if i.find(\"Asthma\") != -1:\n",
    "            feature_vector = np.append(feature_vector,1)\n",
    "            feature_vector = np.append(feature_vector,i).reshape(1,218)\n",
    "        else:\n",
    "            feature_vector = np.append(feature_vector,0)\n",
    "            feature_vector = np.append(feature_vector,i).reshape(1,218)\n",
    "            \n",
    "        Aaa_dataframe = Aaa_dataframe.append(pd.DataFrame(feature_vector))\n",
    "            \n",
    "            \n",
    "\n",
    "            \n",
    "\n",
    "\n",
    "        \n",
    "\n"
   ]
  },
  {
   "cell_type": "code",
   "execution_count": 52,
   "metadata": {},
   "outputs": [],
   "source": [
    "Aaa_dataframe.to_csv(\"./Aaa.csv\", index = False)"
   ]
  },
  {
   "cell_type": "code",
   "execution_count": null,
   "metadata": {},
   "outputs": [],
   "source": []
  },
  {
   "cell_type": "code",
   "execution_count": 17,
   "metadata": {},
   "outputs": [
    {
     "name": "stderr",
     "output_type": "stream",
     "text": [
      "100%|██████████| 95/95 [00:05<00:00, 16.30it/s]\n"
     ]
    }
   ],
   "source": [
    "Sss_dataframe = pd.DataFrame()\n",
    "for i in tqdm(os.listdir(\"./Kaldi_MFCCS/\")):\n",
    "    mat = scipy.io.loadmat(\"./Kaldi_MFCCS/\"+i)\n",
    "    _,j = mat[\"Sss_c\"].shape\n",
    "    for k in range(0,j):\n",
    "        feature = mat[\"Sss_c\"][0][k]\n",
    "        mean = np.mean(feature,axis=0) \n",
    "        mean = mean.reshape(1,len(mean))\n",
    "        mode = stats.mode(feature,axis = 0)[0]\n",
    "        median = np.median(feature, axis=0)\n",
    "        median = median.reshape(1,len(median))\n",
    "\n",
    "        variance = np.var(feature, axis=0)\n",
    "        variance = variance.reshape(1,len(variance))\n",
    "\n",
    "        sd = np.std(feature,axis = 0)\n",
    "        sd = sd.reshape(1,len(sd))\n",
    "\n",
    "        rms = np.sqrt(np.mean(np.square(feature),axis=0))\n",
    "        rms = rms.reshape(1,len(rms))\n",
    "\n",
    "        big = np.concatenate((mean,median,mode,variance,sd,rms),axis = 0)\n",
    "        feature_vector = big.reshape(1,big.shape[0]*big.shape[1])\n",
    "        if i.find(\"Asthma\") != -1:\n",
    "            feature_vector = np.append(feature_vector,1)\n",
    "            feature_vector = np.append(feature_vector,i).reshape(1,218)\n",
    "        else:\n",
    "            feature_vector = np.append(feature_vector,0)\n",
    "            feature_vector = np.append(feature_vector,i).reshape(1,218)\n",
    "            \n",
    "        Sss_dataframe = Sss_dataframe.append(pd.DataFrame(feature_vector))\n",
    "            \n",
    "            \n",
    "\n",
    "            \n",
    "\n",
    "\n",
    "        \n",
    "\n"
   ]
  },
  {
   "cell_type": "code",
   "execution_count": 53,
   "metadata": {},
   "outputs": [],
   "source": [
    "Sss_dataframe.to_csv(\"./Sss.csv\", index = False)"
   ]
  },
  {
   "cell_type": "code",
   "execution_count": null,
   "metadata": {},
   "outputs": [],
   "source": []
  },
  {
   "cell_type": "code",
   "execution_count": 18,
   "metadata": {},
   "outputs": [
    {
     "name": "stderr",
     "output_type": "stream",
     "text": [
      "100%|██████████| 95/95 [00:05<00:00, 17.62it/s]\n"
     ]
    }
   ],
   "source": [
    "Zzz_dataframe = pd.DataFrame()\n",
    "for i in tqdm(os.listdir(\"./Kaldi_MFCCS/\")):\n",
    "    mat = scipy.io.loadmat(\"./Kaldi_MFCCS/\"+i)\n",
    "    _,j = mat[\"Zzz_c\"].shape\n",
    "    for k in range(0,j):\n",
    "        feature = mat[\"Zzz_c\"][0][k]\n",
    "        mean = np.mean(feature,axis=0) \n",
    "        mean = mean.reshape(1,len(mean))\n",
    "        mode = stats.mode(feature,axis = 0)[0]\n",
    "        median = np.median(feature, axis=0)\n",
    "        median = median.reshape(1,len(median))\n",
    "\n",
    "        variance = np.var(feature, axis=0)\n",
    "        variance = variance.reshape(1,len(variance))\n",
    "\n",
    "        sd = np.std(feature,axis = 0)\n",
    "        sd = sd.reshape(1,len(sd))\n",
    "\n",
    "        rms = np.sqrt(np.mean(np.square(feature),axis=0))\n",
    "        rms = rms.reshape(1,len(rms))\n",
    "\n",
    "        big = np.concatenate((mean,median,mode,variance,sd,rms),axis = 0)\n",
    "        feature_vector = big.reshape(1,big.shape[0]*big.shape[1])\n",
    "        if i.find(\"Asthma\") != -1:\n",
    "            feature_vector = np.append(feature_vector,1)\n",
    "            feature_vector = np.append(feature_vector,i).reshape(1,218)\n",
    "        else:\n",
    "            feature_vector = np.append(feature_vector,0)\n",
    "            feature_vector = np.append(feature_vector,i).reshape(1,218)\n",
    "            \n",
    "        Zzz_dataframe = Zzz_dataframe.append(pd.DataFrame(feature_vector))\n",
    "            \n",
    "            \n",
    "\n",
    "            \n",
    "\n",
    "\n",
    "        \n",
    "\n"
   ]
  },
  {
   "cell_type": "code",
   "execution_count": 54,
   "metadata": {},
   "outputs": [],
   "source": [
    "Zzz_dataframe.to_csv(\"./Zzz.csv\", index = False)"
   ]
  },
  {
   "cell_type": "code",
   "execution_count": null,
   "metadata": {},
   "outputs": [],
   "source": []
  },
  {
   "cell_type": "code",
   "execution_count": null,
   "metadata": {},
   "outputs": [],
   "source": []
  },
  {
   "cell_type": "code",
   "execution_count": null,
   "metadata": {},
   "outputs": [],
   "source": []
  }
 ],
 "metadata": {
  "kernelspec": {
   "display_name": "Python 3",
   "language": "python",
   "name": "python3"
  },
  "language_info": {
   "codemirror_mode": {
    "name": "ipython",
    "version": 3
   },
   "file_extension": ".py",
   "mimetype": "text/x-python",
   "name": "python",
   "nbconvert_exporter": "python",
   "pygments_lexer": "ipython3",
   "version": "3.7.3"
  }
 },
 "nbformat": 4,
 "nbformat_minor": 2
}
