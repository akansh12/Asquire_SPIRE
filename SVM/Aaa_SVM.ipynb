{
 "cells": [
  {
   "cell_type": "code",
   "execution_count": 1,
   "metadata": {},
   "outputs": [],
   "source": [
    "import pandas as pd \n",
    "import numpy as np\n",
    "import matplotlib.pyplot as plt\n",
    "import seaborn as sns\n",
    "import os"
   ]
  },
  {
   "cell_type": "code",
   "execution_count": 2,
   "metadata": {},
   "outputs": [],
   "source": [
    "import warnings\n",
    "warnings.filterwarnings('ignore')"
   ]
  },
  {
   "cell_type": "code",
   "execution_count": 3,
   "metadata": {},
   "outputs": [],
   "source": [
    "Aaa_datframe = pd.read_csv(\"./Aaa.csv\")"
   ]
  },
  {
   "cell_type": "code",
   "execution_count": 4,
   "metadata": {},
   "outputs": [
    {
     "data": {
      "text/html": [
       "<div>\n",
       "<style scoped>\n",
       "    .dataframe tbody tr th:only-of-type {\n",
       "        vertical-align: middle;\n",
       "    }\n",
       "\n",
       "    .dataframe tbody tr th {\n",
       "        vertical-align: top;\n",
       "    }\n",
       "\n",
       "    .dataframe thead th {\n",
       "        text-align: right;\n",
       "    }\n",
       "</style>\n",
       "<table border=\"1\" class=\"dataframe\">\n",
       "  <thead>\n",
       "    <tr style=\"text-align: right;\">\n",
       "      <th></th>\n",
       "      <th>0</th>\n",
       "      <th>1</th>\n",
       "      <th>2</th>\n",
       "      <th>3</th>\n",
       "      <th>4</th>\n",
       "      <th>5</th>\n",
       "      <th>6</th>\n",
       "      <th>7</th>\n",
       "      <th>8</th>\n",
       "      <th>9</th>\n",
       "      <th>...</th>\n",
       "      <th>208</th>\n",
       "      <th>209</th>\n",
       "      <th>210</th>\n",
       "      <th>211</th>\n",
       "      <th>212</th>\n",
       "      <th>213</th>\n",
       "      <th>214</th>\n",
       "      <th>215</th>\n",
       "      <th>216</th>\n",
       "      <th>217</th>\n",
       "    </tr>\n",
       "  </thead>\n",
       "  <tbody>\n",
       "    <tr>\n",
       "      <th>0</th>\n",
       "      <td>5.166734</td>\n",
       "      <td>0.026853</td>\n",
       "      <td>0.763455</td>\n",
       "      <td>-1.616877</td>\n",
       "      <td>-0.799775</td>\n",
       "      <td>-1.069787</td>\n",
       "      <td>0.855939</td>\n",
       "      <td>1.694199</td>\n",
       "      <td>-1.518422</td>\n",
       "      <td>-1.217447</td>\n",
       "      <td>...</td>\n",
       "      <td>0.018342</td>\n",
       "      <td>0.019636</td>\n",
       "      <td>0.016025</td>\n",
       "      <td>0.017005</td>\n",
       "      <td>0.016756</td>\n",
       "      <td>0.013297</td>\n",
       "      <td>0.014664</td>\n",
       "      <td>0.012849</td>\n",
       "      <td>1.0</td>\n",
       "      <td>2018_08_21_12_40_EllammaK_P_Asthma_F_before_48...</td>\n",
       "    </tr>\n",
       "    <tr>\n",
       "      <th>1</th>\n",
       "      <td>5.506258</td>\n",
       "      <td>0.611098</td>\n",
       "      <td>0.925470</td>\n",
       "      <td>-1.971487</td>\n",
       "      <td>-1.073066</td>\n",
       "      <td>-1.167567</td>\n",
       "      <td>0.862813</td>\n",
       "      <td>1.628060</td>\n",
       "      <td>-1.536581</td>\n",
       "      <td>-1.318965</td>\n",
       "      <td>...</td>\n",
       "      <td>0.019245</td>\n",
       "      <td>0.016519</td>\n",
       "      <td>0.018038</td>\n",
       "      <td>0.014005</td>\n",
       "      <td>0.014021</td>\n",
       "      <td>0.014458</td>\n",
       "      <td>0.015211</td>\n",
       "      <td>0.012715</td>\n",
       "      <td>1.0</td>\n",
       "      <td>2018_08_21_12_40_EllammaK_P_Asthma_F_before_48...</td>\n",
       "    </tr>\n",
       "    <tr>\n",
       "      <th>2</th>\n",
       "      <td>5.826925</td>\n",
       "      <td>0.227678</td>\n",
       "      <td>0.546047</td>\n",
       "      <td>-1.347163</td>\n",
       "      <td>-0.963003</td>\n",
       "      <td>-1.667765</td>\n",
       "      <td>0.778091</td>\n",
       "      <td>1.413097</td>\n",
       "      <td>-1.886133</td>\n",
       "      <td>-1.647901</td>\n",
       "      <td>...</td>\n",
       "      <td>0.019057</td>\n",
       "      <td>0.017567</td>\n",
       "      <td>0.014608</td>\n",
       "      <td>0.015075</td>\n",
       "      <td>0.016047</td>\n",
       "      <td>0.014264</td>\n",
       "      <td>0.014848</td>\n",
       "      <td>0.012004</td>\n",
       "      <td>1.0</td>\n",
       "      <td>2018_08_21_12_40_EllammaK_P_Asthma_F_before_48...</td>\n",
       "    </tr>\n",
       "    <tr>\n",
       "      <th>3</th>\n",
       "      <td>5.662545</td>\n",
       "      <td>0.411558</td>\n",
       "      <td>0.750861</td>\n",
       "      <td>-1.796695</td>\n",
       "      <td>-0.760791</td>\n",
       "      <td>-1.774797</td>\n",
       "      <td>0.594941</td>\n",
       "      <td>1.563014</td>\n",
       "      <td>-1.493957</td>\n",
       "      <td>-1.813214</td>\n",
       "      <td>...</td>\n",
       "      <td>0.021548</td>\n",
       "      <td>0.019103</td>\n",
       "      <td>0.016814</td>\n",
       "      <td>0.014630</td>\n",
       "      <td>0.014834</td>\n",
       "      <td>0.016101</td>\n",
       "      <td>0.017660</td>\n",
       "      <td>0.014554</td>\n",
       "      <td>1.0</td>\n",
       "      <td>2018_08_21_12_40_EllammaK_P_Asthma_F_before_48...</td>\n",
       "    </tr>\n",
       "    <tr>\n",
       "      <th>4</th>\n",
       "      <td>4.898424</td>\n",
       "      <td>0.498687</td>\n",
       "      <td>0.846236</td>\n",
       "      <td>-2.038857</td>\n",
       "      <td>-0.898690</td>\n",
       "      <td>-1.731955</td>\n",
       "      <td>0.589366</td>\n",
       "      <td>1.695544</td>\n",
       "      <td>-1.508400</td>\n",
       "      <td>-1.978644</td>\n",
       "      <td>...</td>\n",
       "      <td>0.024647</td>\n",
       "      <td>0.016922</td>\n",
       "      <td>0.016799</td>\n",
       "      <td>0.013548</td>\n",
       "      <td>0.014354</td>\n",
       "      <td>0.019226</td>\n",
       "      <td>0.019045</td>\n",
       "      <td>0.015774</td>\n",
       "      <td>1.0</td>\n",
       "      <td>2018_08_21_12_40_EllammaK_P_Asthma_F_before_48...</td>\n",
       "    </tr>\n",
       "    <tr>\n",
       "      <th>5</th>\n",
       "      <td>6.212292</td>\n",
       "      <td>1.033064</td>\n",
       "      <td>0.448523</td>\n",
       "      <td>-1.064100</td>\n",
       "      <td>-1.565042</td>\n",
       "      <td>-1.993595</td>\n",
       "      <td>1.464151</td>\n",
       "      <td>-0.086121</td>\n",
       "      <td>-0.682505</td>\n",
       "      <td>-0.892820</td>\n",
       "      <td>...</td>\n",
       "      <td>0.017581</td>\n",
       "      <td>0.017732</td>\n",
       "      <td>0.019671</td>\n",
       "      <td>0.016967</td>\n",
       "      <td>0.015321</td>\n",
       "      <td>0.014267</td>\n",
       "      <td>0.016003</td>\n",
       "      <td>0.015786</td>\n",
       "      <td>0.0</td>\n",
       "      <td>2017_01_12_10_45_Priyanka_C_Na_F_Na_28_160_59_...</td>\n",
       "    </tr>\n",
       "    <tr>\n",
       "      <th>6</th>\n",
       "      <td>6.070476</td>\n",
       "      <td>1.299193</td>\n",
       "      <td>0.567709</td>\n",
       "      <td>-0.654809</td>\n",
       "      <td>-1.397000</td>\n",
       "      <td>-2.307791</td>\n",
       "      <td>1.726774</td>\n",
       "      <td>-0.253720</td>\n",
       "      <td>-0.647977</td>\n",
       "      <td>-0.486380</td>\n",
       "      <td>...</td>\n",
       "      <td>0.020302</td>\n",
       "      <td>0.023449</td>\n",
       "      <td>0.023616</td>\n",
       "      <td>0.016253</td>\n",
       "      <td>0.017608</td>\n",
       "      <td>0.015063</td>\n",
       "      <td>0.017968</td>\n",
       "      <td>0.013886</td>\n",
       "      <td>0.0</td>\n",
       "      <td>2017_01_12_10_45_Priyanka_C_Na_F_Na_28_160_59_...</td>\n",
       "    </tr>\n",
       "    <tr>\n",
       "      <th>7</th>\n",
       "      <td>5.592068</td>\n",
       "      <td>1.657183</td>\n",
       "      <td>0.549357</td>\n",
       "      <td>-0.698111</td>\n",
       "      <td>-1.333423</td>\n",
       "      <td>-2.436237</td>\n",
       "      <td>1.436796</td>\n",
       "      <td>-0.320476</td>\n",
       "      <td>-0.636331</td>\n",
       "      <td>-0.473055</td>\n",
       "      <td>...</td>\n",
       "      <td>0.021378</td>\n",
       "      <td>0.020914</td>\n",
       "      <td>0.024524</td>\n",
       "      <td>0.021873</td>\n",
       "      <td>0.016790</td>\n",
       "      <td>0.017216</td>\n",
       "      <td>0.016395</td>\n",
       "      <td>0.015358</td>\n",
       "      <td>0.0</td>\n",
       "      <td>2017_01_12_10_45_Priyanka_C_Na_F_Na_28_160_59_...</td>\n",
       "    </tr>\n",
       "    <tr>\n",
       "      <th>8</th>\n",
       "      <td>5.951328</td>\n",
       "      <td>1.512480</td>\n",
       "      <td>0.484877</td>\n",
       "      <td>-1.213961</td>\n",
       "      <td>-1.354297</td>\n",
       "      <td>-2.166807</td>\n",
       "      <td>1.542230</td>\n",
       "      <td>-0.597047</td>\n",
       "      <td>-0.676161</td>\n",
       "      <td>-0.449066</td>\n",
       "      <td>...</td>\n",
       "      <td>0.024380</td>\n",
       "      <td>0.025333</td>\n",
       "      <td>0.023995</td>\n",
       "      <td>0.016333</td>\n",
       "      <td>0.016463</td>\n",
       "      <td>0.017115</td>\n",
       "      <td>0.016458</td>\n",
       "      <td>0.015722</td>\n",
       "      <td>0.0</td>\n",
       "      <td>2017_01_12_10_45_Priyanka_C_Na_F_Na_28_160_59_...</td>\n",
       "    </tr>\n",
       "    <tr>\n",
       "      <th>9</th>\n",
       "      <td>5.200798</td>\n",
       "      <td>1.448562</td>\n",
       "      <td>0.847422</td>\n",
       "      <td>-1.087964</td>\n",
       "      <td>-1.373839</td>\n",
       "      <td>-2.099625</td>\n",
       "      <td>1.771703</td>\n",
       "      <td>-0.289421</td>\n",
       "      <td>-0.852601</td>\n",
       "      <td>-0.581026</td>\n",
       "      <td>...</td>\n",
       "      <td>0.024359</td>\n",
       "      <td>0.023613</td>\n",
       "      <td>0.024640</td>\n",
       "      <td>0.017351</td>\n",
       "      <td>0.015175</td>\n",
       "      <td>0.016321</td>\n",
       "      <td>0.018350</td>\n",
       "      <td>0.016102</td>\n",
       "      <td>0.0</td>\n",
       "      <td>2017_01_12_10_45_Priyanka_C_Na_F_Na_28_160_59_...</td>\n",
       "    </tr>\n",
       "    <tr>\n",
       "      <th>10</th>\n",
       "      <td>6.107957</td>\n",
       "      <td>4.282798</td>\n",
       "      <td>1.728319</td>\n",
       "      <td>0.079448</td>\n",
       "      <td>0.675644</td>\n",
       "      <td>-0.577020</td>\n",
       "      <td>0.459542</td>\n",
       "      <td>-0.482528</td>\n",
       "      <td>0.289613</td>\n",
       "      <td>-0.121268</td>\n",
       "      <td>...</td>\n",
       "      <td>0.022776</td>\n",
       "      <td>0.021928</td>\n",
       "      <td>0.020742</td>\n",
       "      <td>0.019126</td>\n",
       "      <td>0.018507</td>\n",
       "      <td>0.014674</td>\n",
       "      <td>0.013428</td>\n",
       "      <td>0.014836</td>\n",
       "      <td>0.0</td>\n",
       "      <td>2016_07_21_03_10_Madhivanan_C_Na_M_Na_28_171_7...</td>\n",
       "    </tr>\n",
       "    <tr>\n",
       "      <th>11</th>\n",
       "      <td>6.349375</td>\n",
       "      <td>4.011372</td>\n",
       "      <td>1.613123</td>\n",
       "      <td>-0.359192</td>\n",
       "      <td>0.287736</td>\n",
       "      <td>-0.804447</td>\n",
       "      <td>0.393512</td>\n",
       "      <td>-0.379780</td>\n",
       "      <td>0.775061</td>\n",
       "      <td>-0.516886</td>\n",
       "      <td>...</td>\n",
       "      <td>0.020606</td>\n",
       "      <td>0.021203</td>\n",
       "      <td>0.018413</td>\n",
       "      <td>0.017482</td>\n",
       "      <td>0.021821</td>\n",
       "      <td>0.018241</td>\n",
       "      <td>0.014415</td>\n",
       "      <td>0.016225</td>\n",
       "      <td>0.0</td>\n",
       "      <td>2016_07_21_03_10_Madhivanan_C_Na_M_Na_28_171_7...</td>\n",
       "    </tr>\n",
       "    <tr>\n",
       "      <th>12</th>\n",
       "      <td>6.076453</td>\n",
       "      <td>4.174243</td>\n",
       "      <td>1.604929</td>\n",
       "      <td>-0.180644</td>\n",
       "      <td>0.568566</td>\n",
       "      <td>-0.612940</td>\n",
       "      <td>0.537206</td>\n",
       "      <td>-0.122820</td>\n",
       "      <td>0.677724</td>\n",
       "      <td>-0.335619</td>\n",
       "      <td>...</td>\n",
       "      <td>0.024336</td>\n",
       "      <td>0.023266</td>\n",
       "      <td>0.018410</td>\n",
       "      <td>0.016496</td>\n",
       "      <td>0.022190</td>\n",
       "      <td>0.019168</td>\n",
       "      <td>0.015458</td>\n",
       "      <td>0.014404</td>\n",
       "      <td>0.0</td>\n",
       "      <td>2016_07_21_03_10_Madhivanan_C_Na_M_Na_28_171_7...</td>\n",
       "    </tr>\n",
       "    <tr>\n",
       "      <th>13</th>\n",
       "      <td>5.755143</td>\n",
       "      <td>3.920653</td>\n",
       "      <td>1.777239</td>\n",
       "      <td>0.051074</td>\n",
       "      <td>0.473238</td>\n",
       "      <td>-0.522985</td>\n",
       "      <td>0.534534</td>\n",
       "      <td>-0.088256</td>\n",
       "      <td>0.491485</td>\n",
       "      <td>-0.340173</td>\n",
       "      <td>...</td>\n",
       "      <td>0.019928</td>\n",
       "      <td>0.021022</td>\n",
       "      <td>0.019168</td>\n",
       "      <td>0.017264</td>\n",
       "      <td>0.018535</td>\n",
       "      <td>0.017486</td>\n",
       "      <td>0.013377</td>\n",
       "      <td>0.013866</td>\n",
       "      <td>0.0</td>\n",
       "      <td>2016_07_21_03_10_Madhivanan_C_Na_M_Na_28_171_7...</td>\n",
       "    </tr>\n",
       "    <tr>\n",
       "      <th>14</th>\n",
       "      <td>6.237066</td>\n",
       "      <td>4.088832</td>\n",
       "      <td>1.391420</td>\n",
       "      <td>-0.348107</td>\n",
       "      <td>0.562881</td>\n",
       "      <td>-0.669416</td>\n",
       "      <td>0.528540</td>\n",
       "      <td>-0.058522</td>\n",
       "      <td>0.570531</td>\n",
       "      <td>-0.327737</td>\n",
       "      <td>...</td>\n",
       "      <td>0.024798</td>\n",
       "      <td>0.022679</td>\n",
       "      <td>0.016956</td>\n",
       "      <td>0.015655</td>\n",
       "      <td>0.019462</td>\n",
       "      <td>0.016462</td>\n",
       "      <td>0.014811</td>\n",
       "      <td>0.014722</td>\n",
       "      <td>0.0</td>\n",
       "      <td>2016_07_21_03_10_Madhivanan_C_Na_M_Na_28_171_7...</td>\n",
       "    </tr>\n",
       "  </tbody>\n",
       "</table>\n",
       "<p>15 rows × 218 columns</p>\n",
       "</div>"
      ],
      "text/plain": [
       "           0         1         2         3         4         5         6  \\\n",
       "0   5.166734  0.026853  0.763455 -1.616877 -0.799775 -1.069787  0.855939   \n",
       "1   5.506258  0.611098  0.925470 -1.971487 -1.073066 -1.167567  0.862813   \n",
       "2   5.826925  0.227678  0.546047 -1.347163 -0.963003 -1.667765  0.778091   \n",
       "3   5.662545  0.411558  0.750861 -1.796695 -0.760791 -1.774797  0.594941   \n",
       "4   4.898424  0.498687  0.846236 -2.038857 -0.898690 -1.731955  0.589366   \n",
       "5   6.212292  1.033064  0.448523 -1.064100 -1.565042 -1.993595  1.464151   \n",
       "6   6.070476  1.299193  0.567709 -0.654809 -1.397000 -2.307791  1.726774   \n",
       "7   5.592068  1.657183  0.549357 -0.698111 -1.333423 -2.436237  1.436796   \n",
       "8   5.951328  1.512480  0.484877 -1.213961 -1.354297 -2.166807  1.542230   \n",
       "9   5.200798  1.448562  0.847422 -1.087964 -1.373839 -2.099625  1.771703   \n",
       "10  6.107957  4.282798  1.728319  0.079448  0.675644 -0.577020  0.459542   \n",
       "11  6.349375  4.011372  1.613123 -0.359192  0.287736 -0.804447  0.393512   \n",
       "12  6.076453  4.174243  1.604929 -0.180644  0.568566 -0.612940  0.537206   \n",
       "13  5.755143  3.920653  1.777239  0.051074  0.473238 -0.522985  0.534534   \n",
       "14  6.237066  4.088832  1.391420 -0.348107  0.562881 -0.669416  0.528540   \n",
       "\n",
       "           7         8         9  ...       208       209       210       211  \\\n",
       "0   1.694199 -1.518422 -1.217447  ...  0.018342  0.019636  0.016025  0.017005   \n",
       "1   1.628060 -1.536581 -1.318965  ...  0.019245  0.016519  0.018038  0.014005   \n",
       "2   1.413097 -1.886133 -1.647901  ...  0.019057  0.017567  0.014608  0.015075   \n",
       "3   1.563014 -1.493957 -1.813214  ...  0.021548  0.019103  0.016814  0.014630   \n",
       "4   1.695544 -1.508400 -1.978644  ...  0.024647  0.016922  0.016799  0.013548   \n",
       "5  -0.086121 -0.682505 -0.892820  ...  0.017581  0.017732  0.019671  0.016967   \n",
       "6  -0.253720 -0.647977 -0.486380  ...  0.020302  0.023449  0.023616  0.016253   \n",
       "7  -0.320476 -0.636331 -0.473055  ...  0.021378  0.020914  0.024524  0.021873   \n",
       "8  -0.597047 -0.676161 -0.449066  ...  0.024380  0.025333  0.023995  0.016333   \n",
       "9  -0.289421 -0.852601 -0.581026  ...  0.024359  0.023613  0.024640  0.017351   \n",
       "10 -0.482528  0.289613 -0.121268  ...  0.022776  0.021928  0.020742  0.019126   \n",
       "11 -0.379780  0.775061 -0.516886  ...  0.020606  0.021203  0.018413  0.017482   \n",
       "12 -0.122820  0.677724 -0.335619  ...  0.024336  0.023266  0.018410  0.016496   \n",
       "13 -0.088256  0.491485 -0.340173  ...  0.019928  0.021022  0.019168  0.017264   \n",
       "14 -0.058522  0.570531 -0.327737  ...  0.024798  0.022679  0.016956  0.015655   \n",
       "\n",
       "         212       213       214       215  216  \\\n",
       "0   0.016756  0.013297  0.014664  0.012849  1.0   \n",
       "1   0.014021  0.014458  0.015211  0.012715  1.0   \n",
       "2   0.016047  0.014264  0.014848  0.012004  1.0   \n",
       "3   0.014834  0.016101  0.017660  0.014554  1.0   \n",
       "4   0.014354  0.019226  0.019045  0.015774  1.0   \n",
       "5   0.015321  0.014267  0.016003  0.015786  0.0   \n",
       "6   0.017608  0.015063  0.017968  0.013886  0.0   \n",
       "7   0.016790  0.017216  0.016395  0.015358  0.0   \n",
       "8   0.016463  0.017115  0.016458  0.015722  0.0   \n",
       "9   0.015175  0.016321  0.018350  0.016102  0.0   \n",
       "10  0.018507  0.014674  0.013428  0.014836  0.0   \n",
       "11  0.021821  0.018241  0.014415  0.016225  0.0   \n",
       "12  0.022190  0.019168  0.015458  0.014404  0.0   \n",
       "13  0.018535  0.017486  0.013377  0.013866  0.0   \n",
       "14  0.019462  0.016462  0.014811  0.014722  0.0   \n",
       "\n",
       "                                                  217  \n",
       "0   2018_08_21_12_40_EllammaK_P_Asthma_F_before_48...  \n",
       "1   2018_08_21_12_40_EllammaK_P_Asthma_F_before_48...  \n",
       "2   2018_08_21_12_40_EllammaK_P_Asthma_F_before_48...  \n",
       "3   2018_08_21_12_40_EllammaK_P_Asthma_F_before_48...  \n",
       "4   2018_08_21_12_40_EllammaK_P_Asthma_F_before_48...  \n",
       "5   2017_01_12_10_45_Priyanka_C_Na_F_Na_28_160_59_...  \n",
       "6   2017_01_12_10_45_Priyanka_C_Na_F_Na_28_160_59_...  \n",
       "7   2017_01_12_10_45_Priyanka_C_Na_F_Na_28_160_59_...  \n",
       "8   2017_01_12_10_45_Priyanka_C_Na_F_Na_28_160_59_...  \n",
       "9   2017_01_12_10_45_Priyanka_C_Na_F_Na_28_160_59_...  \n",
       "10  2016_07_21_03_10_Madhivanan_C_Na_M_Na_28_171_7...  \n",
       "11  2016_07_21_03_10_Madhivanan_C_Na_M_Na_28_171_7...  \n",
       "12  2016_07_21_03_10_Madhivanan_C_Na_M_Na_28_171_7...  \n",
       "13  2016_07_21_03_10_Madhivanan_C_Na_M_Na_28_171_7...  \n",
       "14  2016_07_21_03_10_Madhivanan_C_Na_M_Na_28_171_7...  \n",
       "\n",
       "[15 rows x 218 columns]"
      ]
     },
     "execution_count": 4,
     "metadata": {},
     "output_type": "execute_result"
    }
   ],
   "source": [
    "Aaa_datframe.head(15)"
   ]
  },
  {
   "cell_type": "code",
   "execution_count": 5,
   "metadata": {},
   "outputs": [
    {
     "data": {
      "text/plain": [
       "(453, 218)"
      ]
     },
     "execution_count": 5,
     "metadata": {},
     "output_type": "execute_result"
    }
   ],
   "source": [
    "Aaa_datframe.shape"
   ]
  },
  {
   "cell_type": "code",
   "execution_count": 6,
   "metadata": {},
   "outputs": [
    {
     "data": {
      "text/plain": [
       "0.0    248\n",
       "1.0    205\n",
       "Name: 216, dtype: int64"
      ]
     },
     "execution_count": 6,
     "metadata": {},
     "output_type": "execute_result"
    }
   ],
   "source": [
    "Aaa_datframe[\"216\"].value_counts()"
   ]
  },
  {
   "cell_type": "code",
   "execution_count": 7,
   "metadata": {},
   "outputs": [
    {
     "name": "stdout",
     "output_type": "stream",
     "text": [
      "<class 'pandas.core.frame.DataFrame'>\n",
      "RangeIndex: 453 entries, 0 to 452\n",
      "Columns: 218 entries, 0 to 217\n",
      "dtypes: float64(217), object(1)\n",
      "memory usage: 771.6+ KB\n"
     ]
    }
   ],
   "source": [
    "Aaa_datframe.info()"
   ]
  },
  {
   "cell_type": "code",
   "execution_count": 8,
   "metadata": {},
   "outputs": [
    {
     "data": {
      "text/plain": [
       "0      0\n",
       "1      0\n",
       "2      0\n",
       "3      0\n",
       "4      0\n",
       "      ..\n",
       "213    0\n",
       "214    0\n",
       "215    0\n",
       "216    0\n",
       "217    0\n",
       "Length: 218, dtype: int64"
      ]
     },
     "execution_count": 8,
     "metadata": {},
     "output_type": "execute_result"
    }
   ],
   "source": [
    "Aaa_datframe.isnull().sum()"
   ]
  },
  {
   "cell_type": "code",
   "execution_count": 9,
   "metadata": {},
   "outputs": [],
   "source": [
    "X = Aaa_datframe.iloc[:,:216]"
   ]
  },
  {
   "cell_type": "code",
   "execution_count": 10,
   "metadata": {},
   "outputs": [],
   "source": [
    "y = Aaa_datframe.iloc[:,216]"
   ]
  },
  {
   "cell_type": "code",
   "execution_count": null,
   "metadata": {},
   "outputs": [],
   "source": []
  },
  {
   "cell_type": "code",
   "execution_count": null,
   "metadata": {},
   "outputs": [],
   "source": []
  },
  {
   "cell_type": "code",
   "execution_count": null,
   "metadata": {},
   "outputs": [],
   "source": []
  },
  {
   "cell_type": "code",
   "execution_count": 11,
   "metadata": {},
   "outputs": [],
   "source": [
    "from sklearn.model_selection import train_test_split"
   ]
  },
  {
   "cell_type": "code",
   "execution_count": 12,
   "metadata": {},
   "outputs": [],
   "source": [
    "X_train, X_test, y_train, y_test = train_test_split(X,y, test_size = 0.2)"
   ]
  },
  {
   "cell_type": "code",
   "execution_count": 13,
   "metadata": {},
   "outputs": [
    {
     "data": {
      "text/plain": [
       "(362, 216)"
      ]
     },
     "execution_count": 13,
     "metadata": {},
     "output_type": "execute_result"
    }
   ],
   "source": [
    "X_train.shape"
   ]
  },
  {
   "cell_type": "code",
   "execution_count": 14,
   "metadata": {},
   "outputs": [
    {
     "data": {
      "text/plain": [
       "(91, 216)"
      ]
     },
     "execution_count": 14,
     "metadata": {},
     "output_type": "execute_result"
    }
   ],
   "source": [
    "X_test.shape"
   ]
  },
  {
   "cell_type": "code",
   "execution_count": 15,
   "metadata": {},
   "outputs": [
    {
     "data": {
      "text/plain": [
       "(362,)"
      ]
     },
     "execution_count": 15,
     "metadata": {},
     "output_type": "execute_result"
    }
   ],
   "source": [
    "y_train.shape"
   ]
  },
  {
   "cell_type": "code",
   "execution_count": 16,
   "metadata": {},
   "outputs": [
    {
     "data": {
      "text/plain": [
       "(91,)"
      ]
     },
     "execution_count": 16,
     "metadata": {},
     "output_type": "execute_result"
    }
   ],
   "source": [
    "y_test.shape"
   ]
  },
  {
   "cell_type": "code",
   "execution_count": 20,
   "metadata": {},
   "outputs": [],
   "source": [
    "from sklearn.preprocessing import StandardScaler\n",
    "\n",
    "scaler = StandardScaler()\n",
    "\n",
    "X_train = scaler.fit_transform(X_train)\n",
    "\n",
    "X_test = scaler.transform(X_test)\n",
    "\n",
    "X_train = pd.DataFrame(X_train)\n",
    "X_test = pd.DataFrame(X_test)\n"
   ]
  },
  {
   "cell_type": "code",
   "execution_count": 21,
   "metadata": {},
   "outputs": [],
   "source": [
    "from sklearn.svm import SVC\n",
    "from sklearn.metrics import accuracy_score"
   ]
  },
  {
   "cell_type": "code",
   "execution_count": 22,
   "metadata": {},
   "outputs": [
    {
     "name": "stdout",
     "output_type": "stream",
     "text": [
      "Model accuracy score with default hyperparameters: 0.6923\n",
      "Training-set accuracy score: 0.9420\n"
     ]
    }
   ],
   "source": [
    "svc = SVC()\n",
    "\n",
    "svc.fit(X_train,y_train)\n",
    "y_pred_default = svc.predict(X_test)\n",
    "\n",
    "\n",
    "print('Model accuracy score with default hyperparameters: {0:0.4f}'. format(accuracy_score(y_test, y_pred_default)))\n",
    "\n",
    "y_pred_train = svc.predict(X_train)\n",
    "print('Training-set accuracy score: {0:0.4f}'. format(accuracy_score(y_train, y_pred_train)))"
   ]
  },
  {
   "cell_type": "code",
   "execution_count": null,
   "metadata": {},
   "outputs": [],
   "source": []
  },
  {
   "cell_type": "code",
   "execution_count": null,
   "metadata": {},
   "outputs": [],
   "source": []
  },
  {
   "cell_type": "markdown",
   "metadata": {},
   "source": [
    "### Hyperparameter Tuning"
   ]
  },
  {
   "cell_type": "code",
   "execution_count": 23,
   "metadata": {},
   "outputs": [
    {
     "name": "stdout",
     "output_type": "stream",
     "text": [
      "Model accuracy score with rbf kernel and C=100.0 : 0.7582\n"
     ]
    }
   ],
   "source": [
    "svc_1 = SVC(C = 100.0)\n",
    "svc_1.fit(X_train,y_train)\n",
    "\n",
    "y_pred = svc_1.predict(X_test)\n",
    "\n",
    "print('Model accuracy score with rbf kernel and C=100.0 : {0:0.4f}'. format(accuracy_score(y_test, y_pred)))"
   ]
  },
  {
   "cell_type": "code",
   "execution_count": 24,
   "metadata": {},
   "outputs": [],
   "source": [
    "y_pred_train = svc_1.predict(X_train)\n",
    "\n",
    "print('Training-set accuracy score: {0:0.4f}'. format(accuracy_score(y_train, y_pred_train)))"
   ]
  },
  {
   "cell_type": "code",
   "execution_count": null,
   "metadata": {},
   "outputs": [],
   "source": []
  },
  {
   "cell_type": "code",
   "execution_count": null,
   "metadata": {},
   "outputs": [],
   "source": []
  },
  {
   "cell_type": "code",
   "execution_count": 26,
   "metadata": {},
   "outputs": [
    {
     "name": "stdout",
     "output_type": "stream",
     "text": [
      "Model accuracy score with rbf kernel and C=1000.0 : 0.7582\n"
     ]
    }
   ],
   "source": [
    "scv_2 = SVC(C = 1000.0)\n",
    "scv_2.fit(X_train,y_train)\n",
    "\n",
    "y_pred = scv_2.predict(X_test)\n",
    "\n",
    "print('Model accuracy score with rbf kernel and C=1000.0 : {0:0.4f}'. format(accuracy_score(y_test, y_pred)))"
   ]
  },
  {
   "cell_type": "code",
   "execution_count": null,
   "metadata": {},
   "outputs": [],
   "source": []
  },
  {
   "cell_type": "markdown",
   "metadata": {},
   "source": [
    "### Kernel Trick"
   ]
  },
  {
   "cell_type": "code",
   "execution_count": 27,
   "metadata": {},
   "outputs": [
    {
     "name": "stdout",
     "output_type": "stream",
     "text": [
      "Model accuracy score with linear kernel and C=1.0 : 0.6154\n"
     ]
    }
   ],
   "source": [
    "linear_svc=SVC(kernel='linear', C=1.0) \n",
    "linear_svc.fit(X_train,y_train)\n",
    "y_pred_linear = linear_svc.predict(X_test)\n",
    "print('Model accuracy score with linear kernel and C=1.0 : {0:0.4f}'. format(accuracy_score(y_test, y_pred_linear)))"
   ]
  },
  {
   "cell_type": "code",
   "execution_count": 30,
   "metadata": {
    "scrolled": false
   },
   "outputs": [
    {
     "name": "stdout",
     "output_type": "stream",
     "text": [
      "Model accuracy score with linear kernel and C=1.0 : 0.7253\n",
      "Training-set accuracy score: 1.0000\n"
     ]
    }
   ],
   "source": [
    "linear_svc=SVC(kernel='linear', C=100.0) \n",
    "linear_svc.fit(X_train,y_train)\n",
    "y_pred_linear = linear_svc.predict(X_test)\n",
    "print('Model accuracy score with linear kernel and C=1.0 : {0:0.4f}'. format(accuracy_score(y_test, y_pred_linear)))\n",
    "\n",
    "y_pred_train = linear_svc.predict(X_train)\n",
    "\n",
    "print('Training-set accuracy score: {0:0.4f}'. format(accuracy_score(y_train, y_pred_train)))\n",
    "\n",
    "# print(\"hi\")"
   ]
  },
  {
   "cell_type": "code",
   "execution_count": 31,
   "metadata": {},
   "outputs": [
    {
     "name": "stdout",
     "output_type": "stream",
     "text": [
      "Model accuracy score with polynomial kernel and C=1.0 : 0.6264\n"
     ]
    }
   ],
   "source": [
    "poly_svc = SVC(kernel = 'poly')\n",
    "poly_svc.fit(X_train,y_train)\n",
    "\n",
    "y_pred_poly = poly_svc.predict(X_test)\n",
    "print('Model accuracy score with polynomial kernel and C=1.0 : {0:0.4f}'. format(accuracy_score(y_test, y_pred_poly)))\n",
    "\n"
   ]
  },
  {
   "cell_type": "code",
   "execution_count": 33,
   "metadata": {},
   "outputs": [
    {
     "name": "stdout",
     "output_type": "stream",
     "text": [
      "Model accuracy score with polynomial kernel and C=1000.0 : 0.8242\n",
      "Training-set accuracy score: 1.0000\n"
     ]
    }
   ],
   "source": [
    "poly_svc = SVC(kernel = 'poly', C=1000)\n",
    "poly_svc.fit(X_train,y_train)\n",
    "\n",
    "y_pred_poly = poly_svc.predict(X_test)\n",
    "print('Model accuracy score with polynomial kernel and C=1000.0 : {0:0.4f}'. format(accuracy_score(y_test, y_pred_poly)))\n",
    "\n",
    "y_pred_train = poly_svc.predict(X_train)\n",
    "\n",
    "print('Training-set accuracy score: {0:0.4f}'. format(accuracy_score(y_train, y_pred_train)))\n"
   ]
  },
  {
   "cell_type": "code",
   "execution_count": null,
   "metadata": {},
   "outputs": [],
   "source": []
  },
  {
   "cell_type": "code",
   "execution_count": null,
   "metadata": {},
   "outputs": [],
   "source": []
  },
  {
   "cell_type": "code",
   "execution_count": 34,
   "metadata": {},
   "outputs": [
    {
     "name": "stdout",
     "output_type": "stream",
     "text": [
      "Model accuracy score with sigmoid kernel and C=1.0 : 0.5275\n"
     ]
    }
   ],
   "source": [
    "sigmoid_svc = SVC(kernel = 'sigmoid', C = 1.0)\n",
    "sigmoid_svc.fit(X_train,y_train)\n",
    "\n",
    "y_pred_sigmoid = sigmoid_svc.predict(X_test)\n",
    "\n",
    "print('Model accuracy score with sigmoid kernel and C=1.0 : {0:0.4f}'. format(accuracy_score(y_test, y_pred_sigmoid)))"
   ]
  },
  {
   "cell_type": "code",
   "execution_count": 35,
   "metadata": {},
   "outputs": [
    {
     "name": "stdout",
     "output_type": "stream",
     "text": [
      "Model accuracy score with sigmoid kernel and C=100.0 : 0.4286\n"
     ]
    }
   ],
   "source": [
    "sigmoid_svc = SVC(kernel = 'sigmoid', C = 100.0)\n",
    "sigmoid_svc.fit(X_train,y_train)\n",
    "\n",
    "y_pred_sigmoid = sigmoid_svc.predict(X_test)\n",
    "\n",
    "print('Model accuracy score with sigmoid kernel and C=100.0 : {0:0.4f}'. format(accuracy_score(y_test, y_pred_sigmoid)))"
   ]
  },
  {
   "cell_type": "code",
   "execution_count": null,
   "metadata": {},
   "outputs": [],
   "source": []
  },
  {
   "cell_type": "code",
   "execution_count": null,
   "metadata": {},
   "outputs": [],
   "source": []
  },
  {
   "cell_type": "code",
   "execution_count": null,
   "metadata": {},
   "outputs": [],
   "source": []
  },
  {
   "cell_type": "markdown",
   "metadata": {},
   "source": [
    "### Inference"
   ]
  },
  {
   "cell_type": "markdown",
   "metadata": {},
   "source": [
    "Empty"
   ]
  },
  {
   "cell_type": "markdown",
   "metadata": {},
   "source": [
    "Continuing with Default Parameters, calculating confusion matrix, F1 scores."
   ]
  },
  {
   "cell_type": "code",
   "execution_count": 36,
   "metadata": {},
   "outputs": [
    {
     "name": "stdout",
     "output_type": "stream",
     "text": [
      "Confusion matrix\n",
      "\n",
      " [[39  7]\n",
      " [21 24]]\n",
      "\n",
      "True Positives(TP) =  39\n",
      "\n",
      "True Negatives(TN) =  24\n",
      "\n",
      "False Positives(FP) =  7\n",
      "\n",
      "False Negatives(FN) =  21\n"
     ]
    }
   ],
   "source": [
    "from sklearn.metrics import confusion_matrix\n",
    "\n",
    "cm = confusion_matrix(y_test,y_pred_default)\n",
    "\n",
    "print('Confusion matrix\\n\\n', cm)\n",
    "\n",
    "print('\\nTrue Positives(TP) = ', cm[0,0])\n",
    "\n",
    "print('\\nTrue Negatives(TN) = ', cm[1,1])\n",
    "\n",
    "print('\\nFalse Positives(FP) = ', cm[0,1])\n",
    "\n",
    "print('\\nFalse Negatives(FN) = ', cm[1,0])\n",
    "\n",
    "\n",
    "from sklearn.metrics import classification_report\n",
    "# print(classification_report(y_test,y_pred_default))"
   ]
  },
  {
   "cell_type": "code",
   "execution_count": 37,
   "metadata": {},
   "outputs": [],
   "source": [
    "TP = cm[0,0]\n",
    "TN = cm[1,1]\n",
    "FP = cm[0,1]\n",
    "FN = cm[1,0]"
   ]
  },
  {
   "cell_type": "markdown",
   "metadata": {},
   "source": [
    "### Kfold "
   ]
  },
  {
   "cell_type": "code",
   "execution_count": 38,
   "metadata": {},
   "outputs": [],
   "source": [
    "from sklearn.model_selection import KFold\n",
    "from sklearn.model_selection import cross_val_score"
   ]
  },
  {
   "cell_type": "code",
   "execution_count": 39,
   "metadata": {},
   "outputs": [],
   "source": [
    "kfold = KFold(n_splits=5, shuffle=True)\n",
    "kfold_svc = SVC()\n",
    "default_kfold_scores = cross_val_score(kfold_svc,X,y, cv = kfold)"
   ]
  },
  {
   "cell_type": "code",
   "execution_count": 40,
   "metadata": {},
   "outputs": [
    {
     "name": "stdout",
     "output_type": "stream",
     "text": [
      "Stratified cross-validation scores with RBF kernel:\n",
      "\n",
      "[0.64835165 0.68131868 0.73626374 0.57777778 0.65555556]\n"
     ]
    }
   ],
   "source": [
    "print('Stratified cross-validation scores with RBF kernel:\\n\\n{}'.format(default_kfold_scores))"
   ]
  },
  {
   "cell_type": "code",
   "execution_count": 42,
   "metadata": {},
   "outputs": [
    {
     "data": {
      "text/plain": [
       "0.6598534798534799"
      ]
     },
     "execution_count": 42,
     "metadata": {},
     "output_type": "execute_result"
    }
   ],
   "source": [
    "default_kfold_scores.mean()"
   ]
  },
  {
   "cell_type": "code",
   "execution_count": 43,
   "metadata": {},
   "outputs": [],
   "source": [
    "from sklearn.model_selection import GridSearchCV\n",
    "from sklearn.svm import SVC\n",
    "\n",
    "svc = SVC()\n",
    "\n",
    "param_grid = {'C': [0.1, 1, 10, 100, 1000],  \n",
    "              'gamma':[0.1, 0.2, 0.3, 0.4, 0.5, 0.6, 0.7, 0.8, 0.9], \n",
    "              'kernel': ['rbf']}  \n",
    "\n",
    "grid_search = GridSearchCV(estimator=svc, param_grid=param_grid, scoring='accuracy', cv = kfold, verbose = 0)"
   ]
  },
  {
   "cell_type": "code",
   "execution_count": 44,
   "metadata": {},
   "outputs": [
    {
     "name": "stderr",
     "output_type": "stream",
     "text": [
      "/home/akansh/anaconda3/lib/python3.7/site-packages/sklearn/model_selection/_search.py:841: DeprecationWarning: The default of the `iid` parameter will change from True to False in version 0.22 and will be removed in 0.24. This will change numeric results when test-set sizes are unequal.\n",
      "  DeprecationWarning)\n"
     ]
    },
    {
     "data": {
      "text/plain": [
       "GridSearchCV(cv=KFold(n_splits=5, random_state=None, shuffle=True),\n",
       "       error_score='raise-deprecating',\n",
       "       estimator=SVC(C=1.0, cache_size=200, class_weight=None, coef0=0.0,\n",
       "  decision_function_shape='ovr', degree=3, gamma='auto_deprecated',\n",
       "  kernel='rbf', max_iter=-1, probability=False, random_state=None,\n",
       "  shrinking=True, tol=0.001, verbose=False),\n",
       "       fit_params=None, iid='warn', n_jobs=None,\n",
       "       param_grid={'C': [0.1, 1, 10, 100, 1000], 'gamma': [0.1, 0.2, 0.3, 0.4, 0.5, 0.6, 0.7, 0.8, 0.9], 'kernel': ['rbf']},\n",
       "       pre_dispatch='2*n_jobs', refit=True, return_train_score='warn',\n",
       "       scoring='accuracy', verbose=0)"
      ]
     },
     "execution_count": 44,
     "metadata": {},
     "output_type": "execute_result"
    }
   ],
   "source": [
    "grid_search.fit(X,y)"
   ]
  },
  {
   "cell_type": "code",
   "execution_count": 45,
   "metadata": {},
   "outputs": [
    {
     "data": {
      "text/plain": [
       "0.9337748344370861"
      ]
     },
     "execution_count": 45,
     "metadata": {},
     "output_type": "execute_result"
    }
   ],
   "source": [
    "grid_search.best_score_"
   ]
  },
  {
   "cell_type": "code",
   "execution_count": 46,
   "metadata": {},
   "outputs": [
    {
     "data": {
      "text/plain": [
       "{'C': 10, 'gamma': 0.2, 'kernel': 'rbf'}"
      ]
     },
     "execution_count": 46,
     "metadata": {},
     "output_type": "execute_result"
    }
   ],
   "source": [
    "grid_search.best_params_"
   ]
  },
  {
   "cell_type": "code",
   "execution_count": 47,
   "metadata": {},
   "outputs": [
    {
     "data": {
      "text/plain": [
       "SVC(C=10, cache_size=200, class_weight=None, coef0=0.0,\n",
       "  decision_function_shape='ovr', degree=3, gamma=0.2, kernel='rbf',\n",
       "  max_iter=-1, probability=False, random_state=None, shrinking=True,\n",
       "  tol=0.001, verbose=False)"
      ]
     },
     "execution_count": 47,
     "metadata": {},
     "output_type": "execute_result"
    }
   ],
   "source": [
    "grid_search.best_estimator_"
   ]
  },
  {
   "cell_type": "markdown",
   "metadata": {},
   "source": [
    "### Hyperparameter C = 10 and gamma = 0.1, kernel = 'rbf'"
   ]
  },
  {
   "cell_type": "code",
   "execution_count": 53,
   "metadata": {},
   "outputs": [],
   "source": [
    "kfold = KFold(n_splits=5, shuffle=True)\n",
    "kfold_svc = SVC(C = 10,gamma=0.2 )\n",
    "kfold_scores = cross_val_score(kfold_svc,X,y, cv = kfold)\n"
   ]
  },
  {
   "cell_type": "code",
   "execution_count": 54,
   "metadata": {},
   "outputs": [
    {
     "data": {
      "text/plain": [
       "array([0.96703297, 0.91208791, 0.93406593, 0.86666667, 0.93333333])"
      ]
     },
     "execution_count": 54,
     "metadata": {},
     "output_type": "execute_result"
    }
   ],
   "source": [
    "kfold_scores"
   ]
  },
  {
   "cell_type": "code",
   "execution_count": 55,
   "metadata": {},
   "outputs": [
    {
     "data": {
      "text/plain": [
       "0.9226373626373625"
      ]
     },
     "execution_count": 55,
     "metadata": {},
     "output_type": "execute_result"
    }
   ],
   "source": [
    "kfold_scores.mean()"
   ]
  },
  {
   "cell_type": "code",
   "execution_count": 56,
   "metadata": {},
   "outputs": [
    {
     "name": "stdout",
     "output_type": "stream",
     "text": [
      "Model accuracy score with default hyperparameters: 0.5055\n",
      "Training-set accuracy score: 1.0000\n"
     ]
    }
   ],
   "source": [
    "svc = SVC(C = 10, gamma=0.2)\n",
    "\n",
    "svc.fit(X_train,y_train)\n",
    "y_pred_default = svc.predict(X_test)\n",
    "\n",
    "\n",
    "print('Model accuracy score with default hyperparameters: {0:0.4f}'. format(accuracy_score(y_test, y_pred_default)))\n",
    "\n",
    "y_pred_train = svc.predict(X_train)\n",
    "print('Training-set accuracy score: {0:0.4f}'. format(accuracy_score(y_train, y_pred_train)))"
   ]
  },
  {
   "cell_type": "code",
   "execution_count": null,
   "metadata": {},
   "outputs": [],
   "source": []
  },
  {
   "cell_type": "code",
   "execution_count": null,
   "metadata": {},
   "outputs": [],
   "source": []
  }
 ],
 "metadata": {
  "kernelspec": {
   "display_name": "Python 3",
   "language": "python",
   "name": "python3"
  },
  "language_info": {
   "codemirror_mode": {
    "name": "ipython",
    "version": 3
   },
   "file_extension": ".py",
   "mimetype": "text/x-python",
   "name": "python",
   "nbconvert_exporter": "python",
   "pygments_lexer": "ipython3",
   "version": "3.7.3"
  }
 },
 "nbformat": 4,
 "nbformat_minor": 2
}
