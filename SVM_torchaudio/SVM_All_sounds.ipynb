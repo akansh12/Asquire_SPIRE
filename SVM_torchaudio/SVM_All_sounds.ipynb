{
 "cells": [
  {
   "cell_type": "code",
   "execution_count": 1,
   "metadata": {},
   "outputs": [],
   "source": [
    "import pandas as pd \n",
    "import numpy as np\n",
    "import matplotlib.pyplot as plt\n",
    "import seaborn as sns\n",
    "import os"
   ]
  },
  {
   "cell_type": "code",
   "execution_count": 2,
   "metadata": {},
   "outputs": [],
   "source": [
    "from sklearn.svm import SVC\n",
    "from sklearn.metrics import accuracy_score\n",
    "from sklearn.model_selection import train_test_split\n",
    "from sklearn.metrics import confusion_matrix\n",
    "from sklearn.metrics import classification_report\n",
    "from sklearn.model_selection import KFold\n",
    "from sklearn.model_selection import cross_val_score\n",
    "from sklearn.model_selection import GridSearchCV\n",
    "from sklearn.model_selection import cross_validate\n",
    "from sklearn.preprocessing import StandardScaler"
   ]
  },
  {
   "cell_type": "code",
   "execution_count": 3,
   "metadata": {},
   "outputs": [],
   "source": [
    "import matplotlib.pyplot as plt \n",
    "from sklearn.utils import shuffle\n",
    "import warnings\n",
    "warnings.filterwarnings('ignore')"
   ]
  },
  {
   "cell_type": "code",
   "execution_count": 4,
   "metadata": {},
   "outputs": [],
   "source": [
    "import pickle"
   ]
  },
  {
   "cell_type": "code",
   "execution_count": 5,
   "metadata": {},
   "outputs": [
    {
     "ename": "FileNotFoundError",
     "evalue": "[Errno 2] No such file or directory: './Wheeze.csv'",
     "output_type": "error",
     "traceback": [
      "\u001b[0;31m---------------------------------------------------------------------------\u001b[0m",
      "\u001b[0;31mFileNotFoundError\u001b[0m                         Traceback (most recent call last)",
      "\u001b[0;32m<ipython-input-5-5b6d3ac88212>\u001b[0m in \u001b[0;36m<module>\u001b[0;34m\u001b[0m\n\u001b[1;32m      1\u001b[0m \u001b[0mCough_dataframe\u001b[0m \u001b[0;34m=\u001b[0m \u001b[0mpd\u001b[0m\u001b[0;34m.\u001b[0m\u001b[0mread_csv\u001b[0m\u001b[0;34m(\u001b[0m\u001b[0;34m\"./Cough.csv\"\u001b[0m\u001b[0;34m)\u001b[0m\u001b[0;34m\u001b[0m\u001b[0;34m\u001b[0m\u001b[0m\n\u001b[0;32m----> 2\u001b[0;31m \u001b[0mWheeze_dataframe\u001b[0m \u001b[0;34m=\u001b[0m \u001b[0mpd\u001b[0m\u001b[0;34m.\u001b[0m\u001b[0mread_csv\u001b[0m\u001b[0;34m(\u001b[0m\u001b[0;34m\"./Wheeze.csv\"\u001b[0m\u001b[0;34m)\u001b[0m\u001b[0;34m\u001b[0m\u001b[0;34m\u001b[0m\u001b[0m\n\u001b[0m\u001b[1;32m      3\u001b[0m \u001b[0mAaa_dataframe\u001b[0m \u001b[0;34m=\u001b[0m \u001b[0mpd\u001b[0m\u001b[0;34m.\u001b[0m\u001b[0mread_csv\u001b[0m\u001b[0;34m(\u001b[0m\u001b[0;34m\"./Aaa.csv\"\u001b[0m\u001b[0;34m)\u001b[0m\u001b[0;34m\u001b[0m\u001b[0;34m\u001b[0m\u001b[0m\n\u001b[1;32m      4\u001b[0m \u001b[0mYee_dataframe\u001b[0m \u001b[0;34m=\u001b[0m \u001b[0mpd\u001b[0m\u001b[0;34m.\u001b[0m\u001b[0mread_csv\u001b[0m\u001b[0;34m(\u001b[0m\u001b[0;34m\"./Yee.csv\"\u001b[0m\u001b[0;34m)\u001b[0m\u001b[0;34m\u001b[0m\u001b[0;34m\u001b[0m\u001b[0m\n\u001b[1;32m      5\u001b[0m \u001b[0mInhale_dataframe\u001b[0m \u001b[0;34m=\u001b[0m \u001b[0mpd\u001b[0m\u001b[0;34m.\u001b[0m\u001b[0mread_csv\u001b[0m\u001b[0;34m(\u001b[0m\u001b[0;34m\"./Inhale.csv\"\u001b[0m\u001b[0;34m)\u001b[0m\u001b[0;34m\u001b[0m\u001b[0;34m\u001b[0m\u001b[0m\n",
      "\u001b[0;32m~/anaconda3/lib/python3.7/site-packages/pandas/io/parsers.py\u001b[0m in \u001b[0;36mread_csv\u001b[0;34m(filepath_or_buffer, sep, delimiter, header, names, index_col, usecols, squeeze, prefix, mangle_dupe_cols, dtype, engine, converters, true_values, false_values, skipinitialspace, skiprows, skipfooter, nrows, na_values, keep_default_na, na_filter, verbose, skip_blank_lines, parse_dates, infer_datetime_format, keep_date_col, date_parser, dayfirst, cache_dates, iterator, chunksize, compression, thousands, decimal, lineterminator, quotechar, quoting, doublequote, escapechar, comment, encoding, dialect, error_bad_lines, warn_bad_lines, delim_whitespace, low_memory, memory_map, float_precision)\u001b[0m\n\u001b[1;32m    684\u001b[0m     )\n\u001b[1;32m    685\u001b[0m \u001b[0;34m\u001b[0m\u001b[0m\n\u001b[0;32m--> 686\u001b[0;31m     \u001b[0;32mreturn\u001b[0m \u001b[0m_read\u001b[0m\u001b[0;34m(\u001b[0m\u001b[0mfilepath_or_buffer\u001b[0m\u001b[0;34m,\u001b[0m \u001b[0mkwds\u001b[0m\u001b[0;34m)\u001b[0m\u001b[0;34m\u001b[0m\u001b[0;34m\u001b[0m\u001b[0m\n\u001b[0m\u001b[1;32m    687\u001b[0m \u001b[0;34m\u001b[0m\u001b[0m\n\u001b[1;32m    688\u001b[0m \u001b[0;34m\u001b[0m\u001b[0m\n",
      "\u001b[0;32m~/anaconda3/lib/python3.7/site-packages/pandas/io/parsers.py\u001b[0m in \u001b[0;36m_read\u001b[0;34m(filepath_or_buffer, kwds)\u001b[0m\n\u001b[1;32m    450\u001b[0m \u001b[0;34m\u001b[0m\u001b[0m\n\u001b[1;32m    451\u001b[0m     \u001b[0;31m# Create the parser.\u001b[0m\u001b[0;34m\u001b[0m\u001b[0;34m\u001b[0m\u001b[0;34m\u001b[0m\u001b[0m\n\u001b[0;32m--> 452\u001b[0;31m     \u001b[0mparser\u001b[0m \u001b[0;34m=\u001b[0m \u001b[0mTextFileReader\u001b[0m\u001b[0;34m(\u001b[0m\u001b[0mfp_or_buf\u001b[0m\u001b[0;34m,\u001b[0m \u001b[0;34m**\u001b[0m\u001b[0mkwds\u001b[0m\u001b[0;34m)\u001b[0m\u001b[0;34m\u001b[0m\u001b[0;34m\u001b[0m\u001b[0m\n\u001b[0m\u001b[1;32m    453\u001b[0m \u001b[0;34m\u001b[0m\u001b[0m\n\u001b[1;32m    454\u001b[0m     \u001b[0;32mif\u001b[0m \u001b[0mchunksize\u001b[0m \u001b[0;32mor\u001b[0m \u001b[0miterator\u001b[0m\u001b[0;34m:\u001b[0m\u001b[0;34m\u001b[0m\u001b[0;34m\u001b[0m\u001b[0m\n",
      "\u001b[0;32m~/anaconda3/lib/python3.7/site-packages/pandas/io/parsers.py\u001b[0m in \u001b[0;36m__init__\u001b[0;34m(self, f, engine, **kwds)\u001b[0m\n\u001b[1;32m    934\u001b[0m             \u001b[0mself\u001b[0m\u001b[0;34m.\u001b[0m\u001b[0moptions\u001b[0m\u001b[0;34m[\u001b[0m\u001b[0;34m\"has_index_names\"\u001b[0m\u001b[0;34m]\u001b[0m \u001b[0;34m=\u001b[0m \u001b[0mkwds\u001b[0m\u001b[0;34m[\u001b[0m\u001b[0;34m\"has_index_names\"\u001b[0m\u001b[0;34m]\u001b[0m\u001b[0;34m\u001b[0m\u001b[0;34m\u001b[0m\u001b[0m\n\u001b[1;32m    935\u001b[0m \u001b[0;34m\u001b[0m\u001b[0m\n\u001b[0;32m--> 936\u001b[0;31m         \u001b[0mself\u001b[0m\u001b[0;34m.\u001b[0m\u001b[0m_make_engine\u001b[0m\u001b[0;34m(\u001b[0m\u001b[0mself\u001b[0m\u001b[0;34m.\u001b[0m\u001b[0mengine\u001b[0m\u001b[0;34m)\u001b[0m\u001b[0;34m\u001b[0m\u001b[0;34m\u001b[0m\u001b[0m\n\u001b[0m\u001b[1;32m    937\u001b[0m \u001b[0;34m\u001b[0m\u001b[0m\n\u001b[1;32m    938\u001b[0m     \u001b[0;32mdef\u001b[0m \u001b[0mclose\u001b[0m\u001b[0;34m(\u001b[0m\u001b[0mself\u001b[0m\u001b[0;34m)\u001b[0m\u001b[0;34m:\u001b[0m\u001b[0;34m\u001b[0m\u001b[0;34m\u001b[0m\u001b[0m\n",
      "\u001b[0;32m~/anaconda3/lib/python3.7/site-packages/pandas/io/parsers.py\u001b[0m in \u001b[0;36m_make_engine\u001b[0;34m(self, engine)\u001b[0m\n\u001b[1;32m   1166\u001b[0m     \u001b[0;32mdef\u001b[0m \u001b[0m_make_engine\u001b[0m\u001b[0;34m(\u001b[0m\u001b[0mself\u001b[0m\u001b[0;34m,\u001b[0m \u001b[0mengine\u001b[0m\u001b[0;34m=\u001b[0m\u001b[0;34m\"c\"\u001b[0m\u001b[0;34m)\u001b[0m\u001b[0;34m:\u001b[0m\u001b[0;34m\u001b[0m\u001b[0;34m\u001b[0m\u001b[0m\n\u001b[1;32m   1167\u001b[0m         \u001b[0;32mif\u001b[0m \u001b[0mengine\u001b[0m \u001b[0;34m==\u001b[0m \u001b[0;34m\"c\"\u001b[0m\u001b[0;34m:\u001b[0m\u001b[0;34m\u001b[0m\u001b[0;34m\u001b[0m\u001b[0m\n\u001b[0;32m-> 1168\u001b[0;31m             \u001b[0mself\u001b[0m\u001b[0;34m.\u001b[0m\u001b[0m_engine\u001b[0m \u001b[0;34m=\u001b[0m \u001b[0mCParserWrapper\u001b[0m\u001b[0;34m(\u001b[0m\u001b[0mself\u001b[0m\u001b[0;34m.\u001b[0m\u001b[0mf\u001b[0m\u001b[0;34m,\u001b[0m \u001b[0;34m**\u001b[0m\u001b[0mself\u001b[0m\u001b[0;34m.\u001b[0m\u001b[0moptions\u001b[0m\u001b[0;34m)\u001b[0m\u001b[0;34m\u001b[0m\u001b[0;34m\u001b[0m\u001b[0m\n\u001b[0m\u001b[1;32m   1169\u001b[0m         \u001b[0;32melse\u001b[0m\u001b[0;34m:\u001b[0m\u001b[0;34m\u001b[0m\u001b[0;34m\u001b[0m\u001b[0m\n\u001b[1;32m   1170\u001b[0m             \u001b[0;32mif\u001b[0m \u001b[0mengine\u001b[0m \u001b[0;34m==\u001b[0m \u001b[0;34m\"python\"\u001b[0m\u001b[0;34m:\u001b[0m\u001b[0;34m\u001b[0m\u001b[0;34m\u001b[0m\u001b[0m\n",
      "\u001b[0;32m~/anaconda3/lib/python3.7/site-packages/pandas/io/parsers.py\u001b[0m in \u001b[0;36m__init__\u001b[0;34m(self, src, **kwds)\u001b[0m\n\u001b[1;32m   1996\u001b[0m         \u001b[0mkwds\u001b[0m\u001b[0;34m[\u001b[0m\u001b[0;34m\"usecols\"\u001b[0m\u001b[0;34m]\u001b[0m \u001b[0;34m=\u001b[0m \u001b[0mself\u001b[0m\u001b[0;34m.\u001b[0m\u001b[0musecols\u001b[0m\u001b[0;34m\u001b[0m\u001b[0;34m\u001b[0m\u001b[0m\n\u001b[1;32m   1997\u001b[0m \u001b[0;34m\u001b[0m\u001b[0m\n\u001b[0;32m-> 1998\u001b[0;31m         \u001b[0mself\u001b[0m\u001b[0;34m.\u001b[0m\u001b[0m_reader\u001b[0m \u001b[0;34m=\u001b[0m \u001b[0mparsers\u001b[0m\u001b[0;34m.\u001b[0m\u001b[0mTextReader\u001b[0m\u001b[0;34m(\u001b[0m\u001b[0msrc\u001b[0m\u001b[0;34m,\u001b[0m \u001b[0;34m**\u001b[0m\u001b[0mkwds\u001b[0m\u001b[0;34m)\u001b[0m\u001b[0;34m\u001b[0m\u001b[0;34m\u001b[0m\u001b[0m\n\u001b[0m\u001b[1;32m   1999\u001b[0m         \u001b[0mself\u001b[0m\u001b[0;34m.\u001b[0m\u001b[0munnamed_cols\u001b[0m \u001b[0;34m=\u001b[0m \u001b[0mself\u001b[0m\u001b[0;34m.\u001b[0m\u001b[0m_reader\u001b[0m\u001b[0;34m.\u001b[0m\u001b[0munnamed_cols\u001b[0m\u001b[0;34m\u001b[0m\u001b[0;34m\u001b[0m\u001b[0m\n\u001b[1;32m   2000\u001b[0m \u001b[0;34m\u001b[0m\u001b[0m\n",
      "\u001b[0;32mpandas/_libs/parsers.pyx\u001b[0m in \u001b[0;36mpandas._libs.parsers.TextReader.__cinit__\u001b[0;34m()\u001b[0m\n",
      "\u001b[0;32mpandas/_libs/parsers.pyx\u001b[0m in \u001b[0;36mpandas._libs.parsers.TextReader._setup_parser_source\u001b[0;34m()\u001b[0m\n",
      "\u001b[0;31mFileNotFoundError\u001b[0m: [Errno 2] No such file or directory: './Wheeze.csv'"
     ]
    }
   ],
   "source": [
    "Cough_dataframe = pd.read_csv(\"./Cough.csv\")\n",
    "Wheeze_dataframe = pd.read_csv(\"./Wheeze.csv\")\n",
    "Aaa_dataframe = pd.read_csv(\"./Aaa.csv\")\n",
    "Yee_dataframe = pd.read_csv(\"./Yee.csv\")\n",
    "Inhale_dataframe = pd.read_csv(\"./Inhale.csv\")\n",
    "Exhale_dataframe = pd.read_csv(\"./Exhale.csv\")\n",
    "Ooo_dataframe = pd.read_csv(\"./Ooo.csv\")\n",
    "Sss_dataframe = pd.read_csv(\"./Sss.csv\")\n",
    "Eee_dataframe = pd.read_csv(\"./Eee.csv\")\n",
    "Uuu_dataframe = pd.read_csv(\"./Uuu.csv\")\n",
    "Zzz_dataframe = pd.read_csv(\"./Zzz.csv\")"
   ]
  },
  {
   "cell_type": "code",
   "execution_count": 9,
   "metadata": {},
   "outputs": [],
   "source": [
    "sets_loc = './SETS/'"
   ]
  },
  {
   "cell_type": "code",
   "execution_count": 10,
   "metadata": {},
   "outputs": [],
   "source": [
    "def fold(sound_dataframe, sets_loc):\n",
    "    big = []\n",
    "    for j in os.listdir(sets_loc):      \n",
    "\n",
    "        file = open(sets_loc+j, 'r') \n",
    "        Lines = file.readlines() \n",
    "\n",
    "        count = 0\n",
    "        # Strips the newline character \n",
    "        # for line in Lines: \n",
    "        #     print(\"Line{}: {}\".format(count, line.strip())) \n",
    "\n",
    "        set_dataframe = pd.DataFrame()\n",
    "        for i, line in enumerate(Lines):\n",
    "            print(line)\n",
    "            A = sound_dataframe[(sound_dataframe['73'] == (Lines[i].strip()+\".json\"))]\n",
    "            set_dataframe = pd.DataFrame.append(set_dataframe,A)\n",
    "        \n",
    "        big.append(set_dataframe)\n",
    "    fold_1 = shuffle(pd.concat(big[:4]))\n",
    "    test_1 = shuffle(big[4])\n",
    "    fold_2 = shuffle(pd.concat(big[1:5]))\n",
    "    test_2 = shuffle(big[0])\n",
    "    fold_3 = shuffle(pd.concat([big[0],big[2],big[3],big[4]]))\n",
    "    test_3 = shuffle(big[1])\n",
    "    fold_4 = shuffle(pd.concat([big[0],big[1],big[3],big[4]]))\n",
    "    test_4 = shuffle(big[2])\n",
    "    fold_5 = shuffle(pd.concat([big[0],big[2],big[1],big[4]]))\n",
    "    test_5 = shuffle(big[3])\n",
    "    \n",
    "    return fold_1,test_1,fold_2,test_2,fold_3,test_3,fold_4,test_4,fold_5,test_5"
   ]
  },
  {
   "cell_type": "code",
   "execution_count": null,
   "metadata": {},
   "outputs": [],
   "source": []
  },
  {
   "cell_type": "code",
   "execution_count": 11,
   "metadata": {},
   "outputs": [
    {
     "name": "stdout",
     "output_type": "stream",
     "text": [
      "2192_P_Asthma_M_before_Mil_Y\n",
      "\n",
      "2244_P_Asthma_F_before_Mod_Y\n",
      "\n",
      "2297_P_Asthma_M_before_Mod_Y\n",
      "\n",
      "2394_P_Asthma_M_before_Mod_Y\n",
      "\n",
      "2224_P_Asthma_M_before_Mil_Y\n",
      "\n",
      "2216_P_Asthma_F_before_Mod_Y\n",
      "\n",
      "2219_P_Asthma_F_before_Mod_Y\n",
      "\n",
      "2469_P_Asthma_M_before_Mil_Y\n",
      "\n",
      "2212_P_Asthma_F_before_Mod_Y\n",
      "\n",
      "1452_C_Na_M_Na_Na_Y\n",
      "\n",
      "1174_C_Na_M_Na_Na_Y\n",
      "\n",
      "1055_C_Na_F_Na_Na_N\n",
      "\n",
      "1399_C_Na_F_Na_Na_N\n",
      "\n",
      "1101_C_Na_F_Na_Na_Y\n",
      "\n",
      "1186_C_Na_M_Na_Na_Y\n",
      "\n",
      "1280_C_Na_M_Na_Na_Y\n",
      "\n",
      "1211_C_Na_M_Na_Na_Y\n",
      "\n",
      "1074_C_Na_F_Na_Na_Y\n",
      "\n",
      "2153_P_Asthma_M_before_Sev_Y\n",
      "\n",
      "2258_P_Asthma_M_before_Sev_Y\n",
      "\n",
      "2178_P_Asthma_M_before_Mod_Y\n",
      "\n",
      "2172_P_Asthma_M_before_Sev_Y\n",
      "\n",
      "2324_P_Asthma_M_before_Mod_Y\n",
      "\n",
      "2135_P_Asthma_F_before_Sev_Y\n",
      "\n",
      "2398_P_Asthma_F_before_Sev_Y\n",
      "\n",
      "2238_P_Asthma_F_before_Mod_Y\n",
      "\n",
      "2100_P_Asthma_M_before_Mil_Y\n",
      "\n",
      "2465_P_Asthma_M_before_Sev_Y\n",
      "\n",
      "1123_C_Na_M_Na_Na_Y\n",
      "\n",
      "1035_C_Na_M_Na_Na_N\n",
      "\n",
      "1265_C_Na_F_Na_Na_N\n",
      "\n",
      "1320_C_Na_F_Na_Na_N\n",
      "\n",
      "1400_C_Na_M_Na_Na_Y\n",
      "\n",
      "1184_C_Na_M_Na_Na_Y\n",
      "\n",
      "1338_C_Na_F_Na_Na_Y\n",
      "\n",
      "1163_C_Na_F_Na_Na_Y\n",
      "\n",
      "1381_C_Na_F_Na_Na_Y\n",
      "\n",
      "1499_C_Na_M_Na_Na_Y\n",
      "\n",
      "2182_P_Asthma_F_before_Mod_Y\n",
      "\n",
      "2488_P_Asthma_M_before_Mil_Y\n",
      "\n",
      "2096_P_Asthma_M_before_Sev_Y\n",
      "\n",
      "2115_P_Asthma_F_before_Mod_Y\n",
      "\n",
      "2218_P_Asthma_M_before_Sev_Y\n",
      "\n",
      "2107_P_Asthma_F_before_Mil_Y\n",
      "\n",
      "2033_P_Asthma_M_before_Mod_Y\n",
      "\n",
      "2196_P_Asthma_M_before_Sev_Y\n",
      "\n",
      "2172_P_Asthma_F_before_Sev_Y\n",
      "\n",
      "1333_C_Na_F_Na_Na_Y\n",
      "\n",
      "1396_C_Na_F_Na_Na_Y\n",
      "\n",
      "1040_C_Na_M_Na_Na_Y\n",
      "\n",
      "1306_C_Na_M_Na_Na_N\n",
      "\n",
      "1236_C_Na_F_Na_Na_N\n",
      "\n",
      "1149_C_Na_F_Na_Na_Y\n",
      "\n",
      "1467_C_Na_M_Na_Na_Y\n",
      "\n",
      "1214_C_Na_M_Na_Na_Y\n",
      "\n",
      "1078_C_Na_F_Na_Na_Y\n",
      "\n",
      "1441_C_Na_F_Na_Na_Y\n",
      "\n",
      "2372_P_Asthma_F_before_Mil_Y\n",
      "\n",
      "2273_P_Asthma_F_before_Mil_Y\n",
      "\n",
      "2365_P_Asthma_M_before_Mil_Y\n",
      "\n",
      "2271_P_Asthma_F_before_Mod_Y\n",
      "\n",
      "2358_P_Asthma_M_before_Mil_Y\n",
      "\n",
      "2186_P_Asthma_M_before_Mil_Y\n",
      "\n",
      "2254_P_Asthma_M_before_Mod_Y\n",
      "\n",
      "2345_P_Asthma_M_before_Mod_Y\n",
      "\n",
      "2426_P_Asthma_M_before_Mod_Y\n",
      "\n",
      "2494_P_Asthma_F_before_Sev_Y\n",
      "\n",
      "1448_C_Na_M_Na_Na_Y\n",
      "\n",
      "1281_C_Na_M_Na_Na_Y\n",
      "\n",
      "1296_C_Na_M_Na_Na_Y\n",
      "\n",
      "1176_C_Na_M_Na_Na_Y\n",
      "\n",
      "1321_C_Na_F_Na_Na_Y\n",
      "\n",
      "1235_C_Na_M_Na_Na_Y\n",
      "\n",
      "1378_C_Na_F_Na_Na_Y\n",
      "\n",
      "1113_C_Na_F_Na_Na_Y\n",
      "\n",
      "1469_C_Na_M_Na_Na_Y\n",
      "\n",
      "1062_C_Na_F_Na_Na_Y\n",
      "\n",
      "2296_P_Asthma_F_before_Mod_Y\n",
      "\n",
      "2236_P_Asthma_F_before_Sev_Y\n",
      "\n",
      "2376_P_Asthma_M_before_Mil_Y\n",
      "\n",
      "2464_P_Asthma_F_before_Mil_Y\n",
      "\n",
      "2369_P_Asthma_M_before_Mil_Y\n",
      "\n",
      "2060_P_Asthma_F_before_Sev_Y\n",
      "\n",
      "2214_P_Asthma_M_before_Mil_Y\n",
      "\n",
      "2070_P_Asthma_M_before_Mod_Y\n",
      "\n",
      "2437_P_asthma_M_before_Mod_Y\n",
      "\n",
      "1032_C_Na_M_Na_Na_Y\n",
      "\n",
      "1408_C_Na_M_Na_Na_Y\n",
      "\n",
      "1006_C_Na_M_Na_Na_N\n",
      "\n",
      "1464_C_Na_F_Na_Na_N\n",
      "\n",
      "1133_C_Na_M_Na_Na_Y\n",
      "\n",
      "1077_C_Na_F_Na_Na_Y\n",
      "\n",
      "1217_C_Na_F_Na_Na_Y\n",
      "\n",
      "1219_C_Na_F_Na_Na_Y\n",
      "\n",
      "1249_C_Na_F_Na_Na_Y\n",
      "\n"
     ]
    }
   ],
   "source": [
    "f1,t1,f2,t2,f3,t3,f4,t4,f5,t5 = fold(Cough_dataframe,sets_loc)"
   ]
  },
  {
   "cell_type": "code",
   "execution_count": 8,
   "metadata": {},
   "outputs": [],
   "source": [
    "fold_list = [f1,t1,f2,t2,f3,t3,f4,t4,f5,t5]"
   ]
  },
  {
   "cell_type": "code",
   "execution_count": null,
   "metadata": {},
   "outputs": [],
   "source": []
  },
  {
   "cell_type": "code",
   "execution_count": 10,
   "metadata": {},
   "outputs": [],
   "source": [
    "def SVM(fold_list):\n",
    "    list_train = []\n",
    "    list_test = []\n",
    "    for i in range(0,len(fold_list),2):\n",
    "        fold = fold_list[i]\n",
    "        test = fold_list[i+1]\n",
    "        X_train = fold.iloc[:,:72]\n",
    "        y_train = fold.iloc[:,72]\n",
    "        X_test = test.iloc[:,:72]\n",
    "        y_test = test.iloc[:,72]\n",
    "\n",
    "\n",
    "        scaler = StandardScaler()\n",
    "\n",
    "        X_train = scaler.fit_transform(X_train)\n",
    "\n",
    "        X_test = scaler.transform(X_test)\n",
    "\n",
    "        X_train = pd.DataFrame(X_train)\n",
    "        X_test = pd.DataFrame(X_test)\n",
    "\n",
    "\n",
    "\n",
    "        ### SVM\n",
    "\n",
    "        svm = SVC()\n",
    "\n",
    "        svm.fit(X_train,y_train)\n",
    "        \n",
    "#         pickle.dump(svm, open('./Wheeze.model', 'wb'))\n",
    "\n",
    "\n",
    "        list_test.append(accuracy_score(y_test,svm.predict(X_test)))\n",
    "\n",
    "        list_train.append(accuracy_score(y_train,svm.predict(X_train)))\n",
    "        \n",
    "    return list_test, list_train"
   ]
  },
  {
   "cell_type": "code",
   "execution_count": null,
   "metadata": {},
   "outputs": [],
   "source": []
  },
  {
   "cell_type": "code",
   "execution_count": 12,
   "metadata": {},
   "outputs": [],
   "source": [
    "cough_test, cough_train = SVM(fold_list)"
   ]
  },
  {
   "cell_type": "code",
   "execution_count": null,
   "metadata": {},
   "outputs": [],
   "source": []
  },
  {
   "cell_type": "code",
   "execution_count": 15,
   "metadata": {},
   "outputs": [],
   "source": [
    "from sklearn.model_selection import StratifiedShuffleSplit"
   ]
  },
  {
   "cell_type": "code",
   "execution_count": 9,
   "metadata": {},
   "outputs": [],
   "source": [
    "def hyperparameter_tuning(fold,test):\n",
    "    X_train = fold.iloc[:,:78]\n",
    "    y_train = fold.iloc[:,78]    \n",
    "    C_range = np.logspace(-1, 10, 12)\n",
    "    gamma_range = np.logspace(-1, 20, 22)\n",
    "    param_grid = dict(gamma=gamma_range, C=C_range)\n",
    "    cv = StratifiedShuffleSplit(n_splits=5)\n",
    "    grid = GridSearchCV(SVC(), param_grid=param_grid, cv=cv, verbose=3, n_jobs=-1)\n",
    "    scaler = StandardScaler()\n",
    "    X_train = scaler.fit_transform(X_train)\n",
    "    grid.fit(X_train, y_train)\n",
    "    print(grid.best_params_)\n",
    "    X_test = test.iloc[:,:78]\n",
    "    X_test = scaler.transform(X_test)\n",
    "    y_pred = grid.predict(X_test)\n",
    "    a = accuracy_score(test.iloc[:,78],y_pred)\n",
    "    return a\n"
   ]
  },
  {
   "cell_type": "code",
   "execution_count": 53,
   "metadata": {
    "collapsed": true
   },
   "outputs": [
    {
     "name": "stdout",
     "output_type": "stream",
     "text": [
      "Fitting 5 folds for each of 264 candidates, totalling 1320 fits\n"
     ]
    },
    {
     "name": "stderr",
     "output_type": "stream",
     "text": [
      "[Parallel(n_jobs=-1)]: Using backend LokyBackend with 8 concurrent workers.\n",
      "[Parallel(n_jobs=-1)]: Done  16 tasks      | elapsed:    2.2s\n",
      "[Parallel(n_jobs=-1)]: Done 278 tasks      | elapsed:    4.0s\n",
      "[Parallel(n_jobs=-1)]: Done 918 tasks      | elapsed:    8.1s\n",
      "[Parallel(n_jobs=-1)]: Done 1320 out of 1320 | elapsed:   10.7s finished\n",
      "[Parallel(n_jobs=-1)]: Using backend LokyBackend with 8 concurrent workers.\n",
      "[Parallel(n_jobs=-1)]: Done  16 tasks      | elapsed:    0.2s\n"
     ]
    },
    {
     "name": "stdout",
     "output_type": "stream",
     "text": [
      "{'C': 10.0, 'gamma': 0.1}\n",
      "Fitting 5 folds for each of 264 candidates, totalling 1320 fits\n"
     ]
    },
    {
     "name": "stderr",
     "output_type": "stream",
     "text": [
      "[Parallel(n_jobs=-1)]: Done 592 tasks      | elapsed:    3.9s\n",
      "[Parallel(n_jobs=-1)]: Done 1320 out of 1320 | elapsed:    8.6s finished\n",
      "[Parallel(n_jobs=-1)]: Using backend LokyBackend with 8 concurrent workers.\n",
      "[Parallel(n_jobs=-1)]: Done  16 tasks      | elapsed:    0.1s\n"
     ]
    },
    {
     "name": "stdout",
     "output_type": "stream",
     "text": [
      "{'C': 10.0, 'gamma': 0.1}\n",
      "Fitting 5 folds for each of 264 candidates, totalling 1320 fits\n"
     ]
    },
    {
     "name": "stderr",
     "output_type": "stream",
     "text": [
      "[Parallel(n_jobs=-1)]: Done 784 tasks      | elapsed:    4.8s\n",
      "[Parallel(n_jobs=-1)]: Done 1320 out of 1320 | elapsed:    8.0s finished\n",
      "[Parallel(n_jobs=-1)]: Using backend LokyBackend with 8 concurrent workers.\n",
      "[Parallel(n_jobs=-1)]: Done  16 tasks      | elapsed:    0.1s\n"
     ]
    },
    {
     "name": "stdout",
     "output_type": "stream",
     "text": [
      "{'C': 10.0, 'gamma': 0.1}\n",
      "Fitting 5 folds for each of 264 candidates, totalling 1320 fits\n"
     ]
    },
    {
     "name": "stderr",
     "output_type": "stream",
     "text": [
      "[Parallel(n_jobs=-1)]: Done 592 tasks      | elapsed:    4.0s\n",
      "[Parallel(n_jobs=-1)]: Done 1320 out of 1320 | elapsed:    8.7s finished\n",
      "[Parallel(n_jobs=-1)]: Using backend LokyBackend with 8 concurrent workers.\n",
      "[Parallel(n_jobs=-1)]: Done  16 tasks      | elapsed:    0.1s\n"
     ]
    },
    {
     "name": "stdout",
     "output_type": "stream",
     "text": [
      "{'C': 10.0, 'gamma': 0.1}\n",
      "Fitting 5 folds for each of 264 candidates, totalling 1320 fits\n"
     ]
    },
    {
     "name": "stderr",
     "output_type": "stream",
     "text": [
      "[Parallel(n_jobs=-1)]: Done 784 tasks      | elapsed:    4.9s\n"
     ]
    },
    {
     "name": "stdout",
     "output_type": "stream",
     "text": [
      "{'C': 10.0, 'gamma': 0.1}\n"
     ]
    },
    {
     "name": "stderr",
     "output_type": "stream",
     "text": [
      "[Parallel(n_jobs=-1)]: Done 1320 out of 1320 | elapsed:    8.3s finished\n"
     ]
    }
   ],
   "source": [
    "tune_acc_cough = []\n",
    "for i in range(0,len(fold_list),2):\n",
    "    tune_acc_cough.append(hyperparameter_tuning(fold_list[i],fold_list[i+1]))"
   ]
  },
  {
   "cell_type": "code",
   "execution_count": 57,
   "metadata": {},
   "outputs": [
    {
     "data": {
      "text/plain": [
       "0.6676646182353787"
      ]
     },
     "execution_count": 57,
     "metadata": {},
     "output_type": "execute_result"
    }
   ],
   "source": [
    "np.mean(cough_test)"
   ]
  },
  {
   "cell_type": "code",
   "execution_count": 20,
   "metadata": {},
   "outputs": [
    {
     "data": {
      "text/plain": [
       "[0.6612903225806451,\n",
       " 0.7209302325581395,\n",
       " 0.589622641509434,\n",
       " 0.668918918918919,\n",
       " 0.697560975609756]"
      ]
     },
     "execution_count": 20,
     "metadata": {},
     "output_type": "execute_result"
    }
   ],
   "source": [
    "cough_test"
   ]
  },
  {
   "cell_type": "code",
   "execution_count": 21,
   "metadata": {},
   "outputs": [
    {
     "data": {
      "text/plain": [
       "0.044415701953316386"
      ]
     },
     "execution_count": 21,
     "metadata": {},
     "output_type": "execute_result"
    }
   ],
   "source": [
    "np.std(cough_test)"
   ]
  },
  {
   "cell_type": "code",
   "execution_count": 58,
   "metadata": {},
   "outputs": [
    {
     "data": {
      "text/plain": [
       "[0.6896551724137931,\n",
       " 0.6046511627906976,\n",
       " 0.49523809523809526,\n",
       " 0.5172413793103449,\n",
       " 0.47474747474747475]"
      ]
     },
     "execution_count": 58,
     "metadata": {},
     "output_type": "execute_result"
    }
   ],
   "source": [
    "(tune_acc_cough)"
   ]
  },
  {
   "cell_type": "code",
   "execution_count": 59,
   "metadata": {},
   "outputs": [
    {
     "data": {
      "text/plain": [
       "0.5563066569000812"
      ]
     },
     "execution_count": 59,
     "metadata": {},
     "output_type": "execute_result"
    }
   ],
   "source": [
    "np.mean(tune_acc_cough)"
   ]
  },
  {
   "cell_type": "code",
   "execution_count": 60,
   "metadata": {},
   "outputs": [],
   "source": [
    "a = [1,2,3,4]"
   ]
  },
  {
   "cell_type": "code",
   "execution_count": 61,
   "metadata": {},
   "outputs": [
    {
     "data": {
      "text/plain": [
       "0.08003297216716057"
      ]
     },
     "execution_count": 61,
     "metadata": {},
     "output_type": "execute_result"
    }
   ],
   "source": [
    "np.std(tune_acc_cough)"
   ]
  },
  {
   "cell_type": "markdown",
   "metadata": {},
   "source": [
    "### Wheeze"
   ]
  },
  {
   "cell_type": "code",
   "execution_count": 11,
   "metadata": {},
   "outputs": [],
   "source": [
    "f1,t1,f2,t2,f3,t3,f4,t4,f5,t5 = fold(Wheeze_dataframe,sets_loc)\n",
    "fold_list = [f1,t1,f2,t2,f3,t3,f4,t4,f5,t5]\n",
    "# wheeze_test, wheeze_train = SVM(fold_list)\n"
   ]
  },
  {
   "cell_type": "code",
   "execution_count": 10,
   "metadata": {},
   "outputs": [],
   "source": [
    "f1.to_csv('f1.csv', index=False, header=True)\n",
    "# t1.to_csv(index=False, header=False)"
   ]
  },
  {
   "cell_type": "code",
   "execution_count": 11,
   "metadata": {},
   "outputs": [],
   "source": [
    "f1 = pd.read_csv('./f1.csv')"
   ]
  },
  {
   "cell_type": "code",
   "execution_count": 12,
   "metadata": {},
   "outputs": [
    {
     "data": {
      "text/html": [
       "<div>\n",
       "<style scoped>\n",
       "    .dataframe tbody tr th:only-of-type {\n",
       "        vertical-align: middle;\n",
       "    }\n",
       "\n",
       "    .dataframe tbody tr th {\n",
       "        vertical-align: top;\n",
       "    }\n",
       "\n",
       "    .dataframe thead th {\n",
       "        text-align: right;\n",
       "    }\n",
       "</style>\n",
       "<table border=\"1\" class=\"dataframe\">\n",
       "  <thead>\n",
       "    <tr style=\"text-align: right;\">\n",
       "      <th></th>\n",
       "      <th>0</th>\n",
       "      <th>1</th>\n",
       "      <th>2</th>\n",
       "      <th>3</th>\n",
       "      <th>4</th>\n",
       "      <th>5</th>\n",
       "      <th>6</th>\n",
       "      <th>7</th>\n",
       "      <th>8</th>\n",
       "      <th>9</th>\n",
       "      <th>...</th>\n",
       "      <th>64</th>\n",
       "      <th>65</th>\n",
       "      <th>66</th>\n",
       "      <th>67</th>\n",
       "      <th>68</th>\n",
       "      <th>69</th>\n",
       "      <th>70</th>\n",
       "      <th>71</th>\n",
       "      <th>72</th>\n",
       "      <th>73</th>\n",
       "    </tr>\n",
       "  </thead>\n",
       "  <tbody>\n",
       "    <tr>\n",
       "      <th>0</th>\n",
       "      <td>2.348842</td>\n",
       "      <td>-11.050487</td>\n",
       "      <td>-5.923552</td>\n",
       "      <td>-0.962313</td>\n",
       "      <td>-0.753902</td>\n",
       "      <td>-0.913334</td>\n",
       "      <td>-6.036192</td>\n",
       "      <td>-17.630626</td>\n",
       "      <td>0.708860</td>\n",
       "      <td>3.504011</td>\n",
       "      <td>...</td>\n",
       "      <td>11.275560</td>\n",
       "      <td>11.175546</td>\n",
       "      <td>12.270526</td>\n",
       "      <td>21.610388</td>\n",
       "      <td>10.128147</td>\n",
       "      <td>11.310135</td>\n",
       "      <td>9.861360</td>\n",
       "      <td>10.838769</td>\n",
       "      <td>0.0</td>\n",
       "      <td>1101_C_Na_F_Na_Na_Y.json</td>\n",
       "    </tr>\n",
       "    <tr>\n",
       "      <th>1</th>\n",
       "      <td>2.935443</td>\n",
       "      <td>-18.499336</td>\n",
       "      <td>-13.845093</td>\n",
       "      <td>-11.418120</td>\n",
       "      <td>-5.498770</td>\n",
       "      <td>-17.342289</td>\n",
       "      <td>-5.322224</td>\n",
       "      <td>-8.994167</td>\n",
       "      <td>23.229160</td>\n",
       "      <td>9.451137</td>\n",
       "      <td>...</td>\n",
       "      <td>11.486836</td>\n",
       "      <td>21.299410</td>\n",
       "      <td>10.039448</td>\n",
       "      <td>11.905370</td>\n",
       "      <td>26.964476</td>\n",
       "      <td>18.734164</td>\n",
       "      <td>13.045341</td>\n",
       "      <td>12.044536</td>\n",
       "      <td>1.0</td>\n",
       "      <td>2216_P_Asthma_F_before_Mod_Y.json</td>\n",
       "    </tr>\n",
       "    <tr>\n",
       "      <th>2</th>\n",
       "      <td>-0.827957</td>\n",
       "      <td>-10.444054</td>\n",
       "      <td>-8.788164</td>\n",
       "      <td>-10.281637</td>\n",
       "      <td>3.832704</td>\n",
       "      <td>-5.810532</td>\n",
       "      <td>-3.211560</td>\n",
       "      <td>-2.993491</td>\n",
       "      <td>-14.661019</td>\n",
       "      <td>23.812566</td>\n",
       "      <td>...</td>\n",
       "      <td>10.099070</td>\n",
       "      <td>12.404433</td>\n",
       "      <td>10.154532</td>\n",
       "      <td>12.736116</td>\n",
       "      <td>17.461141</td>\n",
       "      <td>27.395012</td>\n",
       "      <td>16.619812</td>\n",
       "      <td>14.697697</td>\n",
       "      <td>0.0</td>\n",
       "      <td>1400_C_Na_M_Na_Na_Y.json</td>\n",
       "    </tr>\n",
       "    <tr>\n",
       "      <th>3</th>\n",
       "      <td>2.988880</td>\n",
       "      <td>2.555157</td>\n",
       "      <td>-11.234648</td>\n",
       "      <td>-18.552736</td>\n",
       "      <td>0.192577</td>\n",
       "      <td>-10.045409</td>\n",
       "      <td>-18.164909</td>\n",
       "      <td>-16.248890</td>\n",
       "      <td>-34.731943</td>\n",
       "      <td>12.952533</td>\n",
       "      <td>...</td>\n",
       "      <td>8.758464</td>\n",
       "      <td>14.402351</td>\n",
       "      <td>20.761831</td>\n",
       "      <td>21.805710</td>\n",
       "      <td>38.925252</td>\n",
       "      <td>17.484403</td>\n",
       "      <td>8.599152</td>\n",
       "      <td>14.463948</td>\n",
       "      <td>1.0</td>\n",
       "      <td>2172_P_Asthma_M_before_Sev_Y.json</td>\n",
       "    </tr>\n",
       "    <tr>\n",
       "      <th>4</th>\n",
       "      <td>-1.550135</td>\n",
       "      <td>-11.235290</td>\n",
       "      <td>-13.002058</td>\n",
       "      <td>-16.906151</td>\n",
       "      <td>0.926294</td>\n",
       "      <td>-26.884304</td>\n",
       "      <td>-21.351739</td>\n",
       "      <td>-17.471478</td>\n",
       "      <td>-11.799591</td>\n",
       "      <td>11.549982</td>\n",
       "      <td>...</td>\n",
       "      <td>11.078813</td>\n",
       "      <td>28.976152</td>\n",
       "      <td>22.729314</td>\n",
       "      <td>26.237326</td>\n",
       "      <td>16.659200</td>\n",
       "      <td>17.493651</td>\n",
       "      <td>15.569850</td>\n",
       "      <td>12.244570</td>\n",
       "      <td>0.0</td>\n",
       "      <td>1469_C_Na_M_Na_Na_Y.json</td>\n",
       "    </tr>\n",
       "    <tr>\n",
       "      <th>...</th>\n",
       "      <td>...</td>\n",
       "      <td>...</td>\n",
       "      <td>...</td>\n",
       "      <td>...</td>\n",
       "      <td>...</td>\n",
       "      <td>...</td>\n",
       "      <td>...</td>\n",
       "      <td>...</td>\n",
       "      <td>...</td>\n",
       "      <td>...</td>\n",
       "      <td>...</td>\n",
       "      <td>...</td>\n",
       "      <td>...</td>\n",
       "      <td>...</td>\n",
       "      <td>...</td>\n",
       "      <td>...</td>\n",
       "      <td>...</td>\n",
       "      <td>...</td>\n",
       "      <td>...</td>\n",
       "      <td>...</td>\n",
       "      <td>...</td>\n",
       "    </tr>\n",
       "    <tr>\n",
       "      <th>732</th>\n",
       "      <td>1.768303</td>\n",
       "      <td>-14.930396</td>\n",
       "      <td>-3.763726</td>\n",
       "      <td>-14.677401</td>\n",
       "      <td>2.876948</td>\n",
       "      <td>-9.873451</td>\n",
       "      <td>-0.738448</td>\n",
       "      <td>-11.603225</td>\n",
       "      <td>11.795650</td>\n",
       "      <td>12.428571</td>\n",
       "      <td>...</td>\n",
       "      <td>9.509380</td>\n",
       "      <td>12.553271</td>\n",
       "      <td>11.270999</td>\n",
       "      <td>21.764950</td>\n",
       "      <td>19.895629</td>\n",
       "      <td>17.839932</td>\n",
       "      <td>18.292663</td>\n",
       "      <td>19.316942</td>\n",
       "      <td>1.0</td>\n",
       "      <td>2273_P_Asthma_F_before_Mil_Y.json</td>\n",
       "    </tr>\n",
       "    <tr>\n",
       "      <th>733</th>\n",
       "      <td>-3.144785</td>\n",
       "      <td>-8.558714</td>\n",
       "      <td>-18.062176</td>\n",
       "      <td>-7.570649</td>\n",
       "      <td>-7.149041</td>\n",
       "      <td>-5.977456</td>\n",
       "      <td>-3.704684</td>\n",
       "      <td>-13.303762</td>\n",
       "      <td>-1.852671</td>\n",
       "      <td>1.678716</td>\n",
       "      <td>...</td>\n",
       "      <td>10.714963</td>\n",
       "      <td>13.706303</td>\n",
       "      <td>18.472630</td>\n",
       "      <td>21.919663</td>\n",
       "      <td>14.673877</td>\n",
       "      <td>11.594331</td>\n",
       "      <td>15.392582</td>\n",
       "      <td>15.215450</td>\n",
       "      <td>0.0</td>\n",
       "      <td>1265_C_Na_F_Na_Na_N.json</td>\n",
       "    </tr>\n",
       "    <tr>\n",
       "      <th>734</th>\n",
       "      <td>-0.887440</td>\n",
       "      <td>-5.171603</td>\n",
       "      <td>-6.323254</td>\n",
       "      <td>0.537335</td>\n",
       "      <td>-1.121832</td>\n",
       "      <td>-11.409050</td>\n",
       "      <td>-7.459699</td>\n",
       "      <td>-6.955061</td>\n",
       "      <td>-5.467595</td>\n",
       "      <td>-0.419238</td>\n",
       "      <td>...</td>\n",
       "      <td>6.932143</td>\n",
       "      <td>13.912016</td>\n",
       "      <td>11.176017</td>\n",
       "      <td>13.249154</td>\n",
       "      <td>11.281815</td>\n",
       "      <td>18.722704</td>\n",
       "      <td>8.427402</td>\n",
       "      <td>11.649862</td>\n",
       "      <td>0.0</td>\n",
       "      <td>1176_C_Na_M_Na_Na_Y.json</td>\n",
       "    </tr>\n",
       "    <tr>\n",
       "      <th>735</th>\n",
       "      <td>-1.407821</td>\n",
       "      <td>-6.693597</td>\n",
       "      <td>-12.129014</td>\n",
       "      <td>-3.806145</td>\n",
       "      <td>-15.863923</td>\n",
       "      <td>5.227487</td>\n",
       "      <td>-6.173265</td>\n",
       "      <td>-13.902049</td>\n",
       "      <td>-5.944600</td>\n",
       "      <td>0.196814</td>\n",
       "      <td>...</td>\n",
       "      <td>22.749432</td>\n",
       "      <td>18.153218</td>\n",
       "      <td>16.485457</td>\n",
       "      <td>23.099977</td>\n",
       "      <td>19.387218</td>\n",
       "      <td>13.603509</td>\n",
       "      <td>14.871958</td>\n",
       "      <td>13.672343</td>\n",
       "      <td>0.0</td>\n",
       "      <td>1265_C_Na_F_Na_Na_N.json</td>\n",
       "    </tr>\n",
       "    <tr>\n",
       "      <th>736</th>\n",
       "      <td>3.229400</td>\n",
       "      <td>-15.354663</td>\n",
       "      <td>-7.768424</td>\n",
       "      <td>-3.383623</td>\n",
       "      <td>-2.909805</td>\n",
       "      <td>-17.243707</td>\n",
       "      <td>-12.058291</td>\n",
       "      <td>-17.396865</td>\n",
       "      <td>22.424656</td>\n",
       "      <td>6.039439</td>\n",
       "      <td>...</td>\n",
       "      <td>9.336390</td>\n",
       "      <td>21.274737</td>\n",
       "      <td>16.235206</td>\n",
       "      <td>22.742618</td>\n",
       "      <td>26.863156</td>\n",
       "      <td>13.392902</td>\n",
       "      <td>10.300586</td>\n",
       "      <td>13.194218</td>\n",
       "      <td>1.0</td>\n",
       "      <td>2216_P_Asthma_F_before_Mod_Y.json</td>\n",
       "    </tr>\n",
       "  </tbody>\n",
       "</table>\n",
       "<p>737 rows × 74 columns</p>\n",
       "</div>"
      ],
      "text/plain": [
       "            0          1          2          3          4          5  \\\n",
       "0    2.348842 -11.050487  -5.923552  -0.962313  -0.753902  -0.913334   \n",
       "1    2.935443 -18.499336 -13.845093 -11.418120  -5.498770 -17.342289   \n",
       "2   -0.827957 -10.444054  -8.788164 -10.281637   3.832704  -5.810532   \n",
       "3    2.988880   2.555157 -11.234648 -18.552736   0.192577 -10.045409   \n",
       "4   -1.550135 -11.235290 -13.002058 -16.906151   0.926294 -26.884304   \n",
       "..        ...        ...        ...        ...        ...        ...   \n",
       "732  1.768303 -14.930396  -3.763726 -14.677401   2.876948  -9.873451   \n",
       "733 -3.144785  -8.558714 -18.062176  -7.570649  -7.149041  -5.977456   \n",
       "734 -0.887440  -5.171603  -6.323254   0.537335  -1.121832 -11.409050   \n",
       "735 -1.407821  -6.693597 -12.129014  -3.806145 -15.863923   5.227487   \n",
       "736  3.229400 -15.354663  -7.768424  -3.383623  -2.909805 -17.243707   \n",
       "\n",
       "             6          7          8          9  ...         64         65  \\\n",
       "0    -6.036192 -17.630626   0.708860   3.504011  ...  11.275560  11.175546   \n",
       "1    -5.322224  -8.994167  23.229160   9.451137  ...  11.486836  21.299410   \n",
       "2    -3.211560  -2.993491 -14.661019  23.812566  ...  10.099070  12.404433   \n",
       "3   -18.164909 -16.248890 -34.731943  12.952533  ...   8.758464  14.402351   \n",
       "4   -21.351739 -17.471478 -11.799591  11.549982  ...  11.078813  28.976152   \n",
       "..         ...        ...        ...        ...  ...        ...        ...   \n",
       "732  -0.738448 -11.603225  11.795650  12.428571  ...   9.509380  12.553271   \n",
       "733  -3.704684 -13.303762  -1.852671   1.678716  ...  10.714963  13.706303   \n",
       "734  -7.459699  -6.955061  -5.467595  -0.419238  ...   6.932143  13.912016   \n",
       "735  -6.173265 -13.902049  -5.944600   0.196814  ...  22.749432  18.153218   \n",
       "736 -12.058291 -17.396865  22.424656   6.039439  ...   9.336390  21.274737   \n",
       "\n",
       "            66         67         68         69         70         71   72  \\\n",
       "0    12.270526  21.610388  10.128147  11.310135   9.861360  10.838769  0.0   \n",
       "1    10.039448  11.905370  26.964476  18.734164  13.045341  12.044536  1.0   \n",
       "2    10.154532  12.736116  17.461141  27.395012  16.619812  14.697697  0.0   \n",
       "3    20.761831  21.805710  38.925252  17.484403   8.599152  14.463948  1.0   \n",
       "4    22.729314  26.237326  16.659200  17.493651  15.569850  12.244570  0.0   \n",
       "..         ...        ...        ...        ...        ...        ...  ...   \n",
       "732  11.270999  21.764950  19.895629  17.839932  18.292663  19.316942  1.0   \n",
       "733  18.472630  21.919663  14.673877  11.594331  15.392582  15.215450  0.0   \n",
       "734  11.176017  13.249154  11.281815  18.722704   8.427402  11.649862  0.0   \n",
       "735  16.485457  23.099977  19.387218  13.603509  14.871958  13.672343  0.0   \n",
       "736  16.235206  22.742618  26.863156  13.392902  10.300586  13.194218  1.0   \n",
       "\n",
       "                                    73  \n",
       "0             1101_C_Na_F_Na_Na_Y.json  \n",
       "1    2216_P_Asthma_F_before_Mod_Y.json  \n",
       "2             1400_C_Na_M_Na_Na_Y.json  \n",
       "3    2172_P_Asthma_M_before_Sev_Y.json  \n",
       "4             1469_C_Na_M_Na_Na_Y.json  \n",
       "..                                 ...  \n",
       "732  2273_P_Asthma_F_before_Mil_Y.json  \n",
       "733           1265_C_Na_F_Na_Na_N.json  \n",
       "734           1176_C_Na_M_Na_Na_Y.json  \n",
       "735           1265_C_Na_F_Na_Na_N.json  \n",
       "736  2216_P_Asthma_F_before_Mod_Y.json  \n",
       "\n",
       "[737 rows x 74 columns]"
      ]
     },
     "execution_count": 12,
     "metadata": {},
     "output_type": "execute_result"
    }
   ],
   "source": [
    "f1"
   ]
  },
  {
   "cell_type": "code",
   "execution_count": 14,
   "metadata": {},
   "outputs": [],
   "source": [
    "X_train = fold.iloc[:,:72]\n",
    "y_train = fold.iloc[:,72]\n",
    "X_test = test.iloc[:,:72]\n",
    "y_test = test.iloc[:,72]\n",
    "\n",
    "\n",
    "scaler = StandardScaler()\n",
    "\n",
    "X_train = scaler.fit_transform(X_train)\n",
    "\n",
    "X_test = scaler.transform(X_test)\n",
    "\n",
    "X_train = pd.DataFrame(X_train)\n",
    "X_test = pd.DataFrame(X_test)\n",
    "\n",
    "\n",
    "\n",
    "### SVM\n",
    "\n",
    "svm = SVC()\n",
    "\n",
    "svm.fit(X_train,y_train)\n",
    "\n",
    "pickle.dump(svm, open('./Wheeze.model', 'wb'))\n"
   ]
  },
  {
   "cell_type": "code",
   "execution_count": null,
   "metadata": {},
   "outputs": [],
   "source": []
  },
  {
   "cell_type": "code",
   "execution_count": 15,
   "metadata": {},
   "outputs": [
    {
     "data": {
      "text/plain": [
       "([0.8881578947368421,\n",
       "  0.7575757575757576,\n",
       "  0.7153284671532847,\n",
       "  0.6608695652173913,\n",
       "  0.608],\n",
       " [0.9783889980353635,\n",
       "  0.9773156899810964,\n",
       "  0.982824427480916,\n",
       "  0.9706959706959707,\n",
       "  0.9813432835820896])"
      ]
     },
     "execution_count": 15,
     "metadata": {},
     "output_type": "execute_result"
    }
   ],
   "source": [
    "wheeze_test, wheeze_train"
   ]
  },
  {
   "cell_type": "markdown",
   "metadata": {},
   "source": [
    "### saving model"
   ]
  },
  {
   "cell_type": "code",
   "execution_count": 12,
   "metadata": {},
   "outputs": [],
   "source": [
    "import pickle\n",
    "# filename = 'finalized_model.sav'\n",
    "# pickle.dump(model, open(filename, 'wb'))"
   ]
  },
  {
   "cell_type": "code",
   "execution_count": 64,
   "metadata": {},
   "outputs": [
    {
     "data": {
      "text/plain": [
       "0.7229817804226095"
      ]
     },
     "execution_count": 64,
     "metadata": {},
     "output_type": "execute_result"
    }
   ],
   "source": [
    "np.mean(wheeze_test)"
   ]
  },
  {
   "cell_type": "code",
   "execution_count": 65,
   "metadata": {},
   "outputs": [
    {
     "data": {
      "text/plain": [
       "0.09852819478817772"
      ]
     },
     "execution_count": 65,
     "metadata": {},
     "output_type": "execute_result"
    }
   ],
   "source": [
    "np.std(wheeze_test)"
   ]
  },
  {
   "cell_type": "code",
   "execution_count": 66,
   "metadata": {
    "collapsed": true
   },
   "outputs": [
    {
     "name": "stdout",
     "output_type": "stream",
     "text": [
      "Fitting 5 folds for each of 264 candidates, totalling 1320 fits\n"
     ]
    },
    {
     "name": "stderr",
     "output_type": "stream",
     "text": [
      "[Parallel(n_jobs=-1)]: Using backend LokyBackend with 8 concurrent workers.\n",
      "[Parallel(n_jobs=-1)]: Done  16 tasks      | elapsed:    0.3s\n",
      "[Parallel(n_jobs=-1)]: Done 400 tasks      | elapsed:    5.0s\n",
      "[Parallel(n_jobs=-1)]: Done 1040 tasks      | elapsed:   13.0s\n",
      "[Parallel(n_jobs=-1)]: Done 1320 out of 1320 | elapsed:   16.2s finished\n",
      "[Parallel(n_jobs=-1)]: Using backend LokyBackend with 8 concurrent workers.\n"
     ]
    },
    {
     "name": "stdout",
     "output_type": "stream",
     "text": [
      "{'C': 10.0, 'gamma': 0.1}\n",
      "Fitting 5 folds for each of 264 candidates, totalling 1320 fits\n"
     ]
    },
    {
     "name": "stderr",
     "output_type": "stream",
     "text": [
      "[Parallel(n_jobs=-1)]: Done  16 tasks      | elapsed:    0.2s\n",
      "[Parallel(n_jobs=-1)]: Done 400 tasks      | elapsed:    4.9s\n",
      "[Parallel(n_jobs=-1)]: Done 1040 tasks      | elapsed:   12.8s\n",
      "[Parallel(n_jobs=-1)]: Done 1320 out of 1320 | elapsed:   16.0s finished\n",
      "[Parallel(n_jobs=-1)]: Using backend LokyBackend with 8 concurrent workers.\n"
     ]
    },
    {
     "name": "stdout",
     "output_type": "stream",
     "text": [
      "{'C': 10.0, 'gamma': 0.1}\n",
      "Fitting 5 folds for each of 264 candidates, totalling 1320 fits\n"
     ]
    },
    {
     "name": "stderr",
     "output_type": "stream",
     "text": [
      "[Parallel(n_jobs=-1)]: Done  16 tasks      | elapsed:    0.2s\n",
      "[Parallel(n_jobs=-1)]: Done 400 tasks      | elapsed:    4.7s\n",
      "[Parallel(n_jobs=-1)]: Done 1040 tasks      | elapsed:   12.1s\n",
      "[Parallel(n_jobs=-1)]: Done 1320 out of 1320 | elapsed:   15.4s finished\n",
      "[Parallel(n_jobs=-1)]: Using backend LokyBackend with 8 concurrent workers.\n"
     ]
    },
    {
     "name": "stdout",
     "output_type": "stream",
     "text": [
      "{'C': 1.0, 'gamma': 0.1}\n",
      "Fitting 5 folds for each of 264 candidates, totalling 1320 fits\n"
     ]
    },
    {
     "name": "stderr",
     "output_type": "stream",
     "text": [
      "[Parallel(n_jobs=-1)]: Done  16 tasks      | elapsed:    0.3s\n",
      "[Parallel(n_jobs=-1)]: Done 208 tasks      | elapsed:    2.7s\n",
      "[Parallel(n_jobs=-1)]: Done 528 tasks      | elapsed:    6.8s\n",
      "[Parallel(n_jobs=-1)]: Done 976 tasks      | elapsed:   12.6s\n",
      "[Parallel(n_jobs=-1)]: Done 1320 out of 1320 | elapsed:   17.1s finished\n",
      "[Parallel(n_jobs=-1)]: Using backend LokyBackend with 8 concurrent workers.\n"
     ]
    },
    {
     "name": "stdout",
     "output_type": "stream",
     "text": [
      "{'C': 10.0, 'gamma': 0.1}\n",
      "Fitting 5 folds for each of 264 candidates, totalling 1320 fits\n"
     ]
    },
    {
     "name": "stderr",
     "output_type": "stream",
     "text": [
      "[Parallel(n_jobs=-1)]: Done  16 tasks      | elapsed:    0.3s\n",
      "[Parallel(n_jobs=-1)]: Done 400 tasks      | elapsed:    5.0s\n",
      "[Parallel(n_jobs=-1)]: Done 1040 tasks      | elapsed:   13.0s\n"
     ]
    },
    {
     "name": "stdout",
     "output_type": "stream",
     "text": [
      "{'C': 1.0, 'gamma': 0.1}\n"
     ]
    },
    {
     "name": "stderr",
     "output_type": "stream",
     "text": [
      "[Parallel(n_jobs=-1)]: Done 1320 out of 1320 | elapsed:   16.5s finished\n"
     ]
    }
   ],
   "source": [
    "tune_acc_wheeze = []\n",
    "for i in range(0,len(fold_list),2):\n",
    "    tune_acc_wheeze.append(hyperparameter_tuning(fold_list[i],fold_list[i+1]))"
   ]
  },
  {
   "cell_type": "code",
   "execution_count": 67,
   "metadata": {},
   "outputs": [
    {
     "data": {
      "text/plain": [
       "[0.42105263157894735,\n",
       " 0.6363636363636364,\n",
       " 0.5693430656934306,\n",
       " 0.5652173913043478,\n",
       " 0.528]"
      ]
     },
     "execution_count": 67,
     "metadata": {},
     "output_type": "execute_result"
    }
   ],
   "source": [
    "tune_acc_wheeze"
   ]
  },
  {
   "cell_type": "code",
   "execution_count": 68,
   "metadata": {},
   "outputs": [
    {
     "data": {
      "text/plain": [
       "0.5439953449880723"
      ]
     },
     "execution_count": 68,
     "metadata": {},
     "output_type": "execute_result"
    }
   ],
   "source": [
    "np.mean(tune_acc_wheeze)"
   ]
  },
  {
   "cell_type": "code",
   "execution_count": 69,
   "metadata": {},
   "outputs": [
    {
     "data": {
      "text/plain": [
       "0.07070437792404904"
      ]
     },
     "execution_count": 69,
     "metadata": {},
     "output_type": "execute_result"
    }
   ],
   "source": [
    "np.std(tune_acc_wheeze)"
   ]
  },
  {
   "cell_type": "markdown",
   "metadata": {},
   "source": [
    "### Aaa "
   ]
  },
  {
   "cell_type": "code",
   "execution_count": 23,
   "metadata": {},
   "outputs": [],
   "source": [
    "f1,t1,f2,t2,f3,t3,f4,t4,f5,t5 = fold(Aaa_dataframe,sets_loc)\n",
    "fold_list = [f1,t1,f2,t2,f3,t3,f4,t4,f5,t5]\n",
    "Aaa_test, Aaa_train = SVM(fold_list)\n"
   ]
  },
  {
   "cell_type": "code",
   "execution_count": null,
   "metadata": {},
   "outputs": [],
   "source": []
  },
  {
   "cell_type": "code",
   "execution_count": 27,
   "metadata": {},
   "outputs": [
    {
     "data": {
      "text/plain": [
       "([0.5257731958762887,\n",
       "  0.6024096385542169,\n",
       "  0.6320754716981132,\n",
       "  0.42528735632183906,\n",
       "  0.7128712871287128],)"
      ]
     },
     "execution_count": 27,
     "metadata": {},
     "output_type": "execute_result"
    }
   ],
   "source": [
    "(Aaa_test)"
   ]
  },
  {
   "cell_type": "code",
   "execution_count": 28,
   "metadata": {},
   "outputs": [
    {
     "data": {
      "text/plain": [
       "0.09771885466539448"
      ]
     },
     "execution_count": 28,
     "metadata": {},
     "output_type": "execute_result"
    }
   ],
   "source": [
    "np.std(Aaa_test)"
   ]
  },
  {
   "cell_type": "code",
   "execution_count": 72,
   "metadata": {},
   "outputs": [
    {
     "name": "stdout",
     "output_type": "stream",
     "text": [
      "Fitting 5 folds for each of 264 candidates, totalling 1320 fits\n"
     ]
    },
    {
     "name": "stderr",
     "output_type": "stream",
     "text": [
      "[Parallel(n_jobs=-1)]: Using backend LokyBackend with 8 concurrent workers.\n",
      "[Parallel(n_jobs=-1)]: Done  16 tasks      | elapsed:    0.2s\n",
      "[Parallel(n_jobs=-1)]: Done 592 tasks      | elapsed:    3.9s\n",
      "[Parallel(n_jobs=-1)]: Done 1320 out of 1320 | elapsed:    8.7s finished\n",
      "[Parallel(n_jobs=-1)]: Using backend LokyBackend with 8 concurrent workers.\n",
      "[Parallel(n_jobs=-1)]: Done  16 tasks      | elapsed:    0.1s\n"
     ]
    },
    {
     "name": "stdout",
     "output_type": "stream",
     "text": [
      "{'C': 1.0, 'gamma': 0.1}\n",
      "Fitting 5 folds for each of 264 candidates, totalling 1320 fits\n"
     ]
    },
    {
     "name": "stderr",
     "output_type": "stream",
     "text": [
      "[Parallel(n_jobs=-1)]: Done 592 tasks      | elapsed:    4.2s\n",
      "[Parallel(n_jobs=-1)]: Done 1320 out of 1320 | elapsed:    9.3s finished\n",
      "[Parallel(n_jobs=-1)]: Using backend LokyBackend with 8 concurrent workers.\n",
      "[Parallel(n_jobs=-1)]: Done  16 tasks      | elapsed:    0.1s\n"
     ]
    },
    {
     "name": "stdout",
     "output_type": "stream",
     "text": [
      "{'C': 10.0, 'gamma': 0.1}\n",
      "Fitting 5 folds for each of 264 candidates, totalling 1320 fits\n"
     ]
    },
    {
     "name": "stderr",
     "output_type": "stream",
     "text": [
      "[Parallel(n_jobs=-1)]: Done 784 tasks      | elapsed:    4.8s\n",
      "[Parallel(n_jobs=-1)]: Done 1320 out of 1320 | elapsed:    8.1s finished\n",
      "[Parallel(n_jobs=-1)]: Using backend LokyBackend with 8 concurrent workers.\n",
      "[Parallel(n_jobs=-1)]: Done  16 tasks      | elapsed:    0.1s\n"
     ]
    },
    {
     "name": "stdout",
     "output_type": "stream",
     "text": [
      "{'C': 10.0, 'gamma': 0.1}\n",
      "Fitting 5 folds for each of 264 candidates, totalling 1320 fits\n"
     ]
    },
    {
     "name": "stderr",
     "output_type": "stream",
     "text": [
      "[Parallel(n_jobs=-1)]: Done 592 tasks      | elapsed:    4.1s\n",
      "[Parallel(n_jobs=-1)]: Done 1320 out of 1320 | elapsed:    9.2s finished\n",
      "[Parallel(n_jobs=-1)]: Using backend LokyBackend with 8 concurrent workers.\n",
      "[Parallel(n_jobs=-1)]: Done  16 tasks      | elapsed:    0.1s\n"
     ]
    },
    {
     "name": "stdout",
     "output_type": "stream",
     "text": [
      "{'C': 1.0, 'gamma': 0.1}\n",
      "Fitting 5 folds for each of 264 candidates, totalling 1320 fits\n"
     ]
    },
    {
     "name": "stderr",
     "output_type": "stream",
     "text": [
      "[Parallel(n_jobs=-1)]: Done 592 tasks      | elapsed:    3.8s\n"
     ]
    },
    {
     "name": "stdout",
     "output_type": "stream",
     "text": [
      "{'C': 10.0, 'gamma': 0.1}\n"
     ]
    },
    {
     "name": "stderr",
     "output_type": "stream",
     "text": [
      "[Parallel(n_jobs=-1)]: Done 1320 out of 1320 | elapsed:    8.6s finished\n"
     ]
    }
   ],
   "source": [
    "tune_acc_Aaa = []\n",
    "for i in range(0,len(fold_list),2):\n",
    "    tune_acc_Aaa.append(hyperparameter_tuning(fold_list[i],fold_list[i+1]))"
   ]
  },
  {
   "cell_type": "code",
   "execution_count": 73,
   "metadata": {},
   "outputs": [
    {
     "data": {
      "text/plain": [
       "0.5347037183808909"
      ]
     },
     "execution_count": 73,
     "metadata": {},
     "output_type": "execute_result"
    }
   ],
   "source": [
    "np.mean(tune_acc_Aaa)"
   ]
  },
  {
   "cell_type": "code",
   "execution_count": 74,
   "metadata": {},
   "outputs": [
    {
     "data": {
      "text/plain": [
       "[0.5463917525773195,\n",
       " 0.5662650602409639,\n",
       " 0.5188679245283019,\n",
       " 0.5172413793103449,\n",
       " 0.5247524752475248]"
      ]
     },
     "execution_count": 74,
     "metadata": {},
     "output_type": "execute_result"
    }
   ],
   "source": [
    "tune_acc_Aaa"
   ]
  },
  {
   "cell_type": "code",
   "execution_count": 75,
   "metadata": {},
   "outputs": [
    {
     "data": {
      "text/plain": [
       "0.01890746591186171"
      ]
     },
     "execution_count": 75,
     "metadata": {},
     "output_type": "execute_result"
    }
   ],
   "source": [
    "np.std(tune_acc_Aaa)"
   ]
  },
  {
   "cell_type": "markdown",
   "metadata": {},
   "source": [
    "### Eee"
   ]
  },
  {
   "cell_type": "code",
   "execution_count": 76,
   "metadata": {},
   "outputs": [],
   "source": [
    "f1,t1,f2,t2,f3,t3,f4,t4,f5,t5 = fold(Eee_dataframe,sets_loc)\n",
    "fold_list = [f1,t1,f2,t2,f3,t3,f4,t4,f5,t5]\n",
    "Eee_test, Eee_train = SVM(fold_list)\n"
   ]
  },
  {
   "cell_type": "code",
   "execution_count": 77,
   "metadata": {},
   "outputs": [
    {
     "data": {
      "text/plain": [
       "([0.7586206896551724,\n",
       "  0.6046511627906976,\n",
       "  0.6571428571428571,\n",
       "  0.6551724137931034,\n",
       "  0.6868686868686869],\n",
       " [0.9628647214854111,\n",
       "  0.9629629629629629,\n",
       "  0.9721448467966574,\n",
       "  0.9681697612732095,\n",
       "  0.9616438356164384])"
      ]
     },
     "execution_count": 77,
     "metadata": {},
     "output_type": "execute_result"
    }
   ],
   "source": [
    "Eee_test, Eee_train"
   ]
  },
  {
   "cell_type": "code",
   "execution_count": 78,
   "metadata": {},
   "outputs": [
    {
     "data": {
      "text/plain": [
       "0.6724911620501034"
      ]
     },
     "execution_count": 78,
     "metadata": {},
     "output_type": "execute_result"
    }
   ],
   "source": [
    "np.mean(Eee_test)"
   ]
  },
  {
   "cell_type": "code",
   "execution_count": 79,
   "metadata": {},
   "outputs": [
    {
     "name": "stdout",
     "output_type": "stream",
     "text": [
      "Fitting 5 folds for each of 264 candidates, totalling 1320 fits\n"
     ]
    },
    {
     "name": "stderr",
     "output_type": "stream",
     "text": [
      "[Parallel(n_jobs=-1)]: Using backend LokyBackend with 8 concurrent workers.\n",
      "[Parallel(n_jobs=-1)]: Done  16 tasks      | elapsed:    0.2s\n",
      "[Parallel(n_jobs=-1)]: Done 400 tasks      | elapsed:    2.6s\n",
      "[Parallel(n_jobs=-1)]: Done 1040 tasks      | elapsed:    6.9s\n",
      "[Parallel(n_jobs=-1)]: Done 1320 out of 1320 | elapsed:    8.7s finished\n",
      "[Parallel(n_jobs=-1)]: Using backend LokyBackend with 8 concurrent workers.\n",
      "[Parallel(n_jobs=-1)]: Done  16 tasks      | elapsed:    0.2s\n"
     ]
    },
    {
     "name": "stdout",
     "output_type": "stream",
     "text": [
      "{'C': 1.0, 'gamma': 0.1}\n",
      "Fitting 5 folds for each of 264 candidates, totalling 1320 fits\n"
     ]
    },
    {
     "name": "stderr",
     "output_type": "stream",
     "text": [
      "[Parallel(n_jobs=-1)]: Done 592 tasks      | elapsed:    3.9s\n",
      "[Parallel(n_jobs=-1)]: Done 1320 out of 1320 | elapsed:    8.7s finished\n",
      "[Parallel(n_jobs=-1)]: Using backend LokyBackend with 8 concurrent workers.\n",
      "[Parallel(n_jobs=-1)]: Done  16 tasks      | elapsed:    0.1s\n"
     ]
    },
    {
     "name": "stdout",
     "output_type": "stream",
     "text": [
      "{'C': 10.0, 'gamma': 0.1}\n",
      "Fitting 5 folds for each of 264 candidates, totalling 1320 fits\n"
     ]
    },
    {
     "name": "stderr",
     "output_type": "stream",
     "text": [
      "[Parallel(n_jobs=-1)]: Done 784 tasks      | elapsed:    4.7s\n",
      "[Parallel(n_jobs=-1)]: Done 1320 out of 1320 | elapsed:    8.0s finished\n",
      "[Parallel(n_jobs=-1)]: Using backend LokyBackend with 8 concurrent workers.\n",
      "[Parallel(n_jobs=-1)]: Done  16 tasks      | elapsed:    0.1s\n"
     ]
    },
    {
     "name": "stdout",
     "output_type": "stream",
     "text": [
      "{'C': 10.0, 'gamma': 0.1}\n",
      "Fitting 5 folds for each of 264 candidates, totalling 1320 fits\n"
     ]
    },
    {
     "name": "stderr",
     "output_type": "stream",
     "text": [
      "[Parallel(n_jobs=-1)]: Done 592 tasks      | elapsed:    3.9s\n",
      "[Parallel(n_jobs=-1)]: Done 1320 out of 1320 | elapsed:    8.7s finished\n",
      "[Parallel(n_jobs=-1)]: Using backend LokyBackend with 8 concurrent workers.\n",
      "[Parallel(n_jobs=-1)]: Done  16 tasks      | elapsed:    0.1s\n"
     ]
    },
    {
     "name": "stdout",
     "output_type": "stream",
     "text": [
      "{'C': 1.0, 'gamma': 0.1}\n",
      "Fitting 5 folds for each of 264 candidates, totalling 1320 fits\n"
     ]
    },
    {
     "name": "stderr",
     "output_type": "stream",
     "text": [
      "[Parallel(n_jobs=-1)]: Done 592 tasks      | elapsed:    3.7s\n"
     ]
    },
    {
     "name": "stdout",
     "output_type": "stream",
     "text": [
      "{'C': 10.0, 'gamma': 0.1}\n"
     ]
    },
    {
     "name": "stderr",
     "output_type": "stream",
     "text": [
      "[Parallel(n_jobs=-1)]: Done 1320 out of 1320 | elapsed:    8.3s finished\n"
     ]
    }
   ],
   "source": [
    "tune_acc_Eee = []\n",
    "for i in range(0,len(fold_list),2):\n",
    "    tune_acc_Eee.append(hyperparameter_tuning(fold_list[i],fold_list[i+1]))"
   ]
  },
  {
   "cell_type": "code",
   "execution_count": 80,
   "metadata": {},
   "outputs": [
    {
     "data": {
      "text/plain": [
       "[0.6896551724137931,\n",
       " 0.6046511627906976,\n",
       " 0.49523809523809526,\n",
       " 0.5172413793103449,\n",
       " 0.47474747474747475]"
      ]
     },
     "execution_count": 80,
     "metadata": {},
     "output_type": "execute_result"
    }
   ],
   "source": [
    "tune_acc_Eee"
   ]
  },
  {
   "cell_type": "code",
   "execution_count": 81,
   "metadata": {},
   "outputs": [
    {
     "data": {
      "text/plain": [
       "0.5563066569000812"
      ]
     },
     "execution_count": 81,
     "metadata": {},
     "output_type": "execute_result"
    }
   ],
   "source": [
    "np.mean(tune_acc_Eee)"
   ]
  },
  {
   "cell_type": "code",
   "execution_count": 82,
   "metadata": {},
   "outputs": [
    {
     "data": {
      "text/plain": [
       "0.05052283394587567"
      ]
     },
     "execution_count": 82,
     "metadata": {},
     "output_type": "execute_result"
    }
   ],
   "source": [
    "np.std(Eee_test)"
   ]
  },
  {
   "cell_type": "markdown",
   "metadata": {},
   "source": [
    "### Yee"
   ]
  },
  {
   "cell_type": "code",
   "execution_count": 83,
   "metadata": {},
   "outputs": [],
   "source": [
    "f1,t1,f2,t2,f3,t3,f4,t4,f5,t5 = fold(Yee_dataframe,sets_loc)\n",
    "fold_list = [f1,t1,f2,t2,f3,t3,f4,t4,f5,t5]\n",
    "Yee_test, Yee_train = SVM(fold_list)"
   ]
  },
  {
   "cell_type": "code",
   "execution_count": 84,
   "metadata": {},
   "outputs": [
    {
     "data": {
      "text/plain": [
       "([0.8658536585365854,\n",
       "  0.6091954022988506,\n",
       "  0.7019230769230769,\n",
       "  0.6511627906976745,\n",
       "  0.6263736263736264],\n",
       " [0.9456521739130435,\n",
       "  0.9724517906336089,\n",
       "  0.9797687861271677,\n",
       "  0.9697802197802198,\n",
       "  0.9693593314763231])"
      ]
     },
     "execution_count": 84,
     "metadata": {},
     "output_type": "execute_result"
    }
   ],
   "source": [
    "Yee_test, Yee_train"
   ]
  },
  {
   "cell_type": "code",
   "execution_count": 85,
   "metadata": {},
   "outputs": [
    {
     "data": {
      "text/plain": [
       "0.6909017109659629"
      ]
     },
     "execution_count": 85,
     "metadata": {},
     "output_type": "execute_result"
    }
   ],
   "source": [
    "np.mean(Yee_test)"
   ]
  },
  {
   "cell_type": "code",
   "execution_count": 86,
   "metadata": {},
   "outputs": [
    {
     "name": "stdout",
     "output_type": "stream",
     "text": [
      "Fitting 5 folds for each of 264 candidates, totalling 1320 fits\n"
     ]
    },
    {
     "name": "stderr",
     "output_type": "stream",
     "text": [
      "[Parallel(n_jobs=-1)]: Using backend LokyBackend with 8 concurrent workers.\n",
      "[Parallel(n_jobs=-1)]: Done  16 tasks      | elapsed:    0.1s\n",
      "[Parallel(n_jobs=-1)]: Done 592 tasks      | elapsed:    3.7s\n",
      "[Parallel(n_jobs=-1)]: Done 1320 out of 1320 | elapsed:    8.2s finished\n",
      "[Parallel(n_jobs=-1)]: Using backend LokyBackend with 8 concurrent workers.\n",
      "[Parallel(n_jobs=-1)]: Done  16 tasks      | elapsed:    0.1s\n"
     ]
    },
    {
     "name": "stdout",
     "output_type": "stream",
     "text": [
      "{'C': 10.0, 'gamma': 0.1}\n",
      "Fitting 5 folds for each of 264 candidates, totalling 1320 fits\n"
     ]
    },
    {
     "name": "stderr",
     "output_type": "stream",
     "text": [
      "[Parallel(n_jobs=-1)]: Done 784 tasks      | elapsed:    4.9s\n",
      "[Parallel(n_jobs=-1)]: Done 1320 out of 1320 | elapsed:    8.2s finished\n",
      "[Parallel(n_jobs=-1)]: Using backend LokyBackend with 8 concurrent workers.\n",
      "[Parallel(n_jobs=-1)]: Done  16 tasks      | elapsed:    0.1s\n"
     ]
    },
    {
     "name": "stdout",
     "output_type": "stream",
     "text": [
      "{'C': 10.0, 'gamma': 0.1}\n",
      "Fitting 5 folds for each of 264 candidates, totalling 1320 fits\n"
     ]
    },
    {
     "name": "stderr",
     "output_type": "stream",
     "text": [
      "[Parallel(n_jobs=-1)]: Done 784 tasks      | elapsed:    4.4s\n",
      "[Parallel(n_jobs=-1)]: Done 1320 out of 1320 | elapsed:    7.5s finished\n",
      "[Parallel(n_jobs=-1)]: Using backend LokyBackend with 8 concurrent workers.\n",
      "[Parallel(n_jobs=-1)]: Done  16 tasks      | elapsed:    0.1s\n"
     ]
    },
    {
     "name": "stdout",
     "output_type": "stream",
     "text": [
      "{'C': 10.0, 'gamma': 0.1}\n",
      "Fitting 5 folds for each of 264 candidates, totalling 1320 fits\n"
     ]
    },
    {
     "name": "stderr",
     "output_type": "stream",
     "text": [
      "[Parallel(n_jobs=-1)]: Done 592 tasks      | elapsed:    3.6s\n",
      "[Parallel(n_jobs=-1)]: Done 1320 out of 1320 | elapsed:    8.1s finished\n",
      "[Parallel(n_jobs=-1)]: Using backend LokyBackend with 8 concurrent workers.\n",
      "[Parallel(n_jobs=-1)]: Done  16 tasks      | elapsed:    0.1s\n"
     ]
    },
    {
     "name": "stdout",
     "output_type": "stream",
     "text": [
      "{'C': 1.0, 'gamma': 0.1}\n",
      "Fitting 5 folds for each of 264 candidates, totalling 1320 fits\n"
     ]
    },
    {
     "name": "stderr",
     "output_type": "stream",
     "text": [
      "[Parallel(n_jobs=-1)]: Done 784 tasks      | elapsed:    4.7s\n"
     ]
    },
    {
     "name": "stdout",
     "output_type": "stream",
     "text": [
      "{'C': 10.0, 'gamma': 0.1}\n"
     ]
    },
    {
     "name": "stderr",
     "output_type": "stream",
     "text": [
      "[Parallel(n_jobs=-1)]: Done 1320 out of 1320 | elapsed:    8.0s finished\n"
     ]
    }
   ],
   "source": [
    "tune_acc_Yee = []\n",
    "for i in range(0,len(fold_list),2):\n",
    "    tune_acc_Yee.append(hyperparameter_tuning(fold_list[i],fold_list[i+1]))"
   ]
  },
  {
   "cell_type": "code",
   "execution_count": 87,
   "metadata": {},
   "outputs": [
    {
     "data": {
      "text/plain": [
       "[0.5609756097560976,\n",
       " 0.4942528735632184,\n",
       " 0.5192307692307693,\n",
       " 0.5465116279069767,\n",
       " 0.4175824175824176]"
      ]
     },
     "execution_count": 87,
     "metadata": {},
     "output_type": "execute_result"
    }
   ],
   "source": [
    "tune_acc_Yee"
   ]
  },
  {
   "cell_type": "code",
   "execution_count": 88,
   "metadata": {},
   "outputs": [
    {
     "data": {
      "text/plain": [
       "0.507710659607896"
      ]
     },
     "execution_count": 88,
     "metadata": {},
     "output_type": "execute_result"
    }
   ],
   "source": [
    "np.mean(tune_acc_Yee)"
   ]
  },
  {
   "cell_type": "code",
   "execution_count": 89,
   "metadata": {},
   "outputs": [
    {
     "data": {
      "text/plain": [
       "0.6909017109659629"
      ]
     },
     "execution_count": 89,
     "metadata": {},
     "output_type": "execute_result"
    }
   ],
   "source": [
    "np.mean(Yee_test)\n"
   ]
  },
  {
   "cell_type": "code",
   "execution_count": 90,
   "metadata": {},
   "outputs": [
    {
     "data": {
      "text/plain": [
       "0.09289631944007794"
      ]
     },
     "execution_count": 90,
     "metadata": {},
     "output_type": "execute_result"
    }
   ],
   "source": [
    "np.std(Yee_test)"
   ]
  },
  {
   "cell_type": "markdown",
   "metadata": {},
   "source": [
    "### Inhale"
   ]
  },
  {
   "cell_type": "code",
   "execution_count": 18,
   "metadata": {},
   "outputs": [],
   "source": [
    "f1,t1,f2,t2,f3,t3,f4,t4,f5,t5 = fold(Inhale_dataframe,sets_loc)\n",
    "fold_list = [f1,t1,f2,t2,f3,t3,f4,t4,f5,t5]\n",
    "Inhale_test, Inhale_train = SVM(fold_list)\n"
   ]
  },
  {
   "cell_type": "code",
   "execution_count": 72,
   "metadata": {
    "collapsed": true
   },
   "outputs": [
    {
     "name": "stdout",
     "output_type": "stream",
     "text": [
      "Fitting 5 folds for each of 264 candidates, totalling 1320 fits\n"
     ]
    },
    {
     "name": "stderr",
     "output_type": "stream",
     "text": [
      "[Parallel(n_jobs=-1)]: Using backend LokyBackend with 8 concurrent workers.\n",
      "[Parallel(n_jobs=-1)]: Done  16 tasks      | elapsed:    6.9s\n",
      "[Parallel(n_jobs=-1)]: Done 112 tasks      | elapsed:    9.1s\n",
      "[Parallel(n_jobs=-1)]: Done 272 tasks      | elapsed:   12.3s\n",
      "[Parallel(n_jobs=-1)]: Done 496 tasks      | elapsed:   16.8s\n",
      "[Parallel(n_jobs=-1)]: Done 784 tasks      | elapsed:   22.6s\n",
      "[Parallel(n_jobs=-1)]: Done 1136 tasks      | elapsed:   29.7s\n",
      "[Parallel(n_jobs=-1)]: Done 1320 out of 1320 | elapsed:   33.4s finished\n",
      "[Parallel(n_jobs=-1)]: Using backend LokyBackend with 8 concurrent workers.\n"
     ]
    },
    {
     "name": "stdout",
     "output_type": "stream",
     "text": [
      "{'C': 10.0, 'gamma': 0.1}\n",
      "Fitting 5 folds for each of 264 candidates, totalling 1320 fits\n"
     ]
    },
    {
     "name": "stderr",
     "output_type": "stream",
     "text": [
      "[Parallel(n_jobs=-1)]: Done  16 tasks      | elapsed:    0.4s\n",
      "[Parallel(n_jobs=-1)]: Done 208 tasks      | elapsed:    4.4s\n",
      "[Parallel(n_jobs=-1)]: Done 528 tasks      | elapsed:   11.5s\n",
      "[Parallel(n_jobs=-1)]: Done 976 tasks      | elapsed:   21.4s\n",
      "[Parallel(n_jobs=-1)]: Done 1320 out of 1320 | elapsed:   29.5s finished\n",
      "[Parallel(n_jobs=-1)]: Using backend LokyBackend with 8 concurrent workers.\n"
     ]
    },
    {
     "name": "stdout",
     "output_type": "stream",
     "text": [
      "{'C': 10.0, 'gamma': 0.1}\n",
      "Fitting 5 folds for each of 264 candidates, totalling 1320 fits\n"
     ]
    },
    {
     "name": "stderr",
     "output_type": "stream",
     "text": [
      "[Parallel(n_jobs=-1)]: Done  16 tasks      | elapsed:    0.5s\n",
      "[Parallel(n_jobs=-1)]: Done 208 tasks      | elapsed:    4.3s\n",
      "[Parallel(n_jobs=-1)]: Done 528 tasks      | elapsed:   11.0s\n",
      "[Parallel(n_jobs=-1)]: Done 976 tasks      | elapsed:   21.0s\n",
      "[Parallel(n_jobs=-1)]: Done 1320 out of 1320 | elapsed:   27.9s finished\n",
      "[Parallel(n_jobs=-1)]: Using backend LokyBackend with 8 concurrent workers.\n"
     ]
    },
    {
     "name": "stdout",
     "output_type": "stream",
     "text": [
      "{'C': 10.0, 'gamma': 0.1}\n",
      "Fitting 5 folds for each of 264 candidates, totalling 1320 fits\n"
     ]
    },
    {
     "name": "stderr",
     "output_type": "stream",
     "text": [
      "[Parallel(n_jobs=-1)]: Done  16 tasks      | elapsed:    0.4s\n",
      "[Parallel(n_jobs=-1)]: Done 208 tasks      | elapsed:    4.4s\n",
      "[Parallel(n_jobs=-1)]: Done 528 tasks      | elapsed:   11.3s\n",
      "[Parallel(n_jobs=-1)]: Done 976 tasks      | elapsed:   20.9s\n",
      "[Parallel(n_jobs=-1)]: Done 1320 out of 1320 | elapsed:   28.2s finished\n",
      "[Parallel(n_jobs=-1)]: Using backend LokyBackend with 8 concurrent workers.\n"
     ]
    },
    {
     "name": "stdout",
     "output_type": "stream",
     "text": [
      "{'C': 10.0, 'gamma': 0.1}\n",
      "Fitting 5 folds for each of 264 candidates, totalling 1320 fits\n"
     ]
    },
    {
     "name": "stderr",
     "output_type": "stream",
     "text": [
      "[Parallel(n_jobs=-1)]: Done  16 tasks      | elapsed:    0.4s\n",
      "[Parallel(n_jobs=-1)]: Done 208 tasks      | elapsed:    4.3s\n",
      "[Parallel(n_jobs=-1)]: Done 528 tasks      | elapsed:   10.9s\n",
      "[Parallel(n_jobs=-1)]: Done 976 tasks      | elapsed:   20.5s\n"
     ]
    },
    {
     "name": "stdout",
     "output_type": "stream",
     "text": [
      "{'C': 10.0, 'gamma': 0.1}\n"
     ]
    },
    {
     "name": "stderr",
     "output_type": "stream",
     "text": [
      "[Parallel(n_jobs=-1)]: Done 1320 out of 1320 | elapsed:   27.6s finished\n"
     ]
    }
   ],
   "source": [
    "tune_acc_Inhale = []\n",
    "for i in range(0,len(fold_list),2):\n",
    "    tune_acc_Inhale.append(hyperparameter_tuning(fold_list[i],fold_list[i+1]))"
   ]
  },
  {
   "cell_type": "code",
   "execution_count": 73,
   "metadata": {},
   "outputs": [
    {
     "data": {
      "text/plain": [
       "0.6271087440735001"
      ]
     },
     "execution_count": 73,
     "metadata": {},
     "output_type": "execute_result"
    }
   ],
   "source": [
    "np.mean(tune_acc_Inhale)"
   ]
  },
  {
   "cell_type": "code",
   "execution_count": 19,
   "metadata": {},
   "outputs": [
    {
     "data": {
      "text/plain": [
       "0.7650516491527778"
      ]
     },
     "execution_count": 19,
     "metadata": {},
     "output_type": "execute_result"
    }
   ],
   "source": [
    "np.mean(Inhale_test)"
   ]
  },
  {
   "cell_type": "code",
   "execution_count": null,
   "metadata": {},
   "outputs": [],
   "source": []
  },
  {
   "cell_type": "code",
   "execution_count": null,
   "metadata": {},
   "outputs": [],
   "source": []
  },
  {
   "cell_type": "code",
   "execution_count": 20,
   "metadata": {},
   "outputs": [
    {
     "data": {
      "text/plain": [
       "[0.8121546961325967,\n",
       " 0.7848101265822784,\n",
       " 0.7473118279569892,\n",
       " 0.6809815950920245,\n",
       " 0.8]"
      ]
     },
     "execution_count": 20,
     "metadata": {},
     "output_type": "execute_result"
    }
   ],
   "source": [
    "Inhale_test"
   ]
  },
  {
   "cell_type": "code",
   "execution_count": 76,
   "metadata": {},
   "outputs": [
    {
     "data": {
      "text/plain": [
       "[0.6132596685082873,\n",
       " 0.5379746835443038,\n",
       " 0.6182795698924731,\n",
       " 0.754601226993865,\n",
       " 0.6114285714285714]"
      ]
     },
     "execution_count": 76,
     "metadata": {},
     "output_type": "execute_result"
    }
   ],
   "source": [
    "tune_acc_Inhale"
   ]
  },
  {
   "cell_type": "code",
   "execution_count": 95,
   "metadata": {},
   "outputs": [
    {
     "data": {
      "text/plain": [
       "0.07030623439287106"
      ]
     },
     "execution_count": 95,
     "metadata": {},
     "output_type": "execute_result"
    }
   ],
   "source": [
    "np.std(tune_acc_Inhale)"
   ]
  },
  {
   "cell_type": "markdown",
   "metadata": {},
   "source": [
    "### Exhale"
   ]
  },
  {
   "cell_type": "code",
   "execution_count": 33,
   "metadata": {},
   "outputs": [],
   "source": [
    "f1,t1,f2,t2,f3,t3,f4,t4,f5,t5 = fold(Exhale_dataframe,sets_loc)\n",
    "fold_list = [f1,t1,f2,t2,f3,t3,f4,t4,f5,t5]\n",
    "Exhale_test, Exhale_train = SVM(fold_list)\n"
   ]
  },
  {
   "cell_type": "code",
   "execution_count": null,
   "metadata": {},
   "outputs": [],
   "source": [
    "tune_acc_Exhale = []\n",
    "for i in range(0,len(fold_list),2):\n",
    "    tune_acc_Exhale.append(hyperparameter_tuning(fold_list[i],fold_list[i+1]))"
   ]
  },
  {
   "cell_type": "code",
   "execution_count": 34,
   "metadata": {},
   "outputs": [
    {
     "data": {
      "text/plain": [
       "0.7018601215206426"
      ]
     },
     "execution_count": 34,
     "metadata": {},
     "output_type": "execute_result"
    }
   ],
   "source": [
    "np.mean(Exhale_test)"
   ]
  },
  {
   "cell_type": "code",
   "execution_count": 35,
   "metadata": {},
   "outputs": [
    {
     "data": {
      "text/plain": [
       "[0.7734806629834254,\n",
       " 0.7388535031847133,\n",
       " 0.6935483870967742,\n",
       " 0.6748466257668712,\n",
       " 0.6285714285714286]"
      ]
     },
     "execution_count": 35,
     "metadata": {},
     "output_type": "execute_result"
    }
   ],
   "source": [
    "Exhale_test"
   ]
  },
  {
   "cell_type": "code",
   "execution_count": 36,
   "metadata": {},
   "outputs": [
    {
     "data": {
      "text/plain": [
       "0.05033499506812715"
      ]
     },
     "execution_count": 36,
     "metadata": {},
     "output_type": "execute_result"
    }
   ],
   "source": [
    "np.std(Exhale_test)"
   ]
  },
  {
   "cell_type": "code",
   "execution_count": 98,
   "metadata": {},
   "outputs": [
    {
     "data": {
      "text/plain": [
       "[0.7458563535911602,\n",
       " 0.7261146496815286,\n",
       " 0.5913978494623656,\n",
       " 0.6932515337423313,\n",
       " 0.5771428571428572]"
      ]
     },
     "execution_count": 98,
     "metadata": {},
     "output_type": "execute_result"
    }
   ],
   "source": [
    "tune_acc_Exhale"
   ]
  },
  {
   "cell_type": "code",
   "execution_count": 99,
   "metadata": {},
   "outputs": [
    {
     "data": {
      "text/plain": [
       "0.6667526487240485"
      ]
     },
     "execution_count": 99,
     "metadata": {},
     "output_type": "execute_result"
    }
   ],
   "source": [
    "np.mean(tune_acc_Exhale)"
   ]
  },
  {
   "cell_type": "code",
   "execution_count": 100,
   "metadata": {},
   "outputs": [
    {
     "data": {
      "text/plain": [
       "0.0695581694807795"
      ]
     },
     "execution_count": 100,
     "metadata": {},
     "output_type": "execute_result"
    }
   ],
   "source": [
    "np.std(tune_acc_Exhale)"
   ]
  },
  {
   "cell_type": "markdown",
   "metadata": {},
   "source": [
    "### Ooo"
   ]
  },
  {
   "cell_type": "code",
   "execution_count": 101,
   "metadata": {},
   "outputs": [
    {
     "name": "stdout",
     "output_type": "stream",
     "text": [
      "Fitting 5 folds for each of 264 candidates, totalling 1320 fits\n"
     ]
    },
    {
     "name": "stderr",
     "output_type": "stream",
     "text": [
      "[Parallel(n_jobs=-1)]: Using backend LokyBackend with 8 concurrent workers.\n",
      "[Parallel(n_jobs=-1)]: Done  16 tasks      | elapsed:    0.2s\n",
      "[Parallel(n_jobs=-1)]: Done 592 tasks      | elapsed:    4.7s\n",
      "[Parallel(n_jobs=-1)]: Done 1320 out of 1320 | elapsed:   10.3s finished\n",
      "[Parallel(n_jobs=-1)]: Using backend LokyBackend with 8 concurrent workers.\n"
     ]
    },
    {
     "name": "stdout",
     "output_type": "stream",
     "text": [
      "{'C': 10.0, 'gamma': 0.1}\n",
      "Fitting 5 folds for each of 264 candidates, totalling 1320 fits\n"
     ]
    },
    {
     "name": "stderr",
     "output_type": "stream",
     "text": [
      "[Parallel(n_jobs=-1)]: Done  16 tasks      | elapsed:    0.2s\n",
      "[Parallel(n_jobs=-1)]: Done 592 tasks      | elapsed:    4.7s\n",
      "[Parallel(n_jobs=-1)]: Done 1320 out of 1320 | elapsed:   10.1s finished\n",
      "[Parallel(n_jobs=-1)]: Using backend LokyBackend with 8 concurrent workers.\n"
     ]
    },
    {
     "name": "stdout",
     "output_type": "stream",
     "text": [
      "{'C': 10.0, 'gamma': 0.1}\n",
      "Fitting 5 folds for each of 264 candidates, totalling 1320 fits\n"
     ]
    },
    {
     "name": "stderr",
     "output_type": "stream",
     "text": [
      "[Parallel(n_jobs=-1)]: Done  16 tasks      | elapsed:    0.2s\n",
      "[Parallel(n_jobs=-1)]: Done 592 tasks      | elapsed:    4.3s\n",
      "[Parallel(n_jobs=-1)]: Done 1320 out of 1320 | elapsed:    9.3s finished\n",
      "[Parallel(n_jobs=-1)]: Using backend LokyBackend with 8 concurrent workers.\n"
     ]
    },
    {
     "name": "stdout",
     "output_type": "stream",
     "text": [
      "{'C': 10.0, 'gamma': 0.1}\n",
      "Fitting 5 folds for each of 264 candidates, totalling 1320 fits\n"
     ]
    },
    {
     "name": "stderr",
     "output_type": "stream",
     "text": [
      "[Parallel(n_jobs=-1)]: Done  16 tasks      | elapsed:    0.2s\n",
      "[Parallel(n_jobs=-1)]: Done 592 tasks      | elapsed:    4.0s\n",
      "[Parallel(n_jobs=-1)]: Done 1320 out of 1320 | elapsed:    8.5s finished\n",
      "[Parallel(n_jobs=-1)]: Using backend LokyBackend with 8 concurrent workers.\n",
      "[Parallel(n_jobs=-1)]: Done  16 tasks      | elapsed:    0.1s\n"
     ]
    },
    {
     "name": "stdout",
     "output_type": "stream",
     "text": [
      "{'C': 10.0, 'gamma': 0.1}\n",
      "Fitting 5 folds for each of 264 candidates, totalling 1320 fits\n"
     ]
    },
    {
     "name": "stderr",
     "output_type": "stream",
     "text": [
      "[Parallel(n_jobs=-1)]: Done 592 tasks      | elapsed:    4.2s\n"
     ]
    },
    {
     "name": "stdout",
     "output_type": "stream",
     "text": [
      "{'C': 10.0, 'gamma': 0.1}\n"
     ]
    },
    {
     "name": "stderr",
     "output_type": "stream",
     "text": [
      "[Parallel(n_jobs=-1)]: Done 1320 out of 1320 | elapsed:    8.9s finished\n"
     ]
    }
   ],
   "source": [
    "f1,t1,f2,t2,f3,t3,f4,t4,f5,t5 = fold(Ooo_dataframe,sets_loc)\n",
    "fold_list = [f1,t1,f2,t2,f3,t3,f4,t4,f5,t5]\n",
    "Ooo_test, Ooo_train = SVM(fold_list)\n",
    "tune_acc_Ooo = []\n",
    "for i in range(0,len(fold_list),2):\n",
    "    tune_acc_Ooo.append(hyperparameter_tuning(fold_list[i],fold_list[i+1]))"
   ]
  },
  {
   "cell_type": "code",
   "execution_count": 102,
   "metadata": {},
   "outputs": [
    {
     "data": {
      "text/plain": [
       "0.6541669089288137"
      ]
     },
     "execution_count": 102,
     "metadata": {},
     "output_type": "execute_result"
    }
   ],
   "source": [
    "np.mean(Ooo_test)"
   ]
  },
  {
   "cell_type": "code",
   "execution_count": 103,
   "metadata": {},
   "outputs": [
    {
     "data": {
      "text/plain": [
       "[0.6419753086419753,\n",
       " 0.6904761904761905,\n",
       " 0.6730769230769231,\n",
       " 0.5918367346938775,\n",
       " 0.673469387755102]"
      ]
     },
     "execution_count": 103,
     "metadata": {},
     "output_type": "execute_result"
    }
   ],
   "source": [
    "Ooo_test"
   ]
  },
  {
   "cell_type": "code",
   "execution_count": 104,
   "metadata": {},
   "outputs": [
    {
     "data": {
      "text/plain": [
       "0.034877568688540264"
      ]
     },
     "execution_count": 104,
     "metadata": {},
     "output_type": "execute_result"
    }
   ],
   "source": [
    "np.std(Ooo_test)"
   ]
  },
  {
   "cell_type": "code",
   "execution_count": 105,
   "metadata": {},
   "outputs": [
    {
     "data": {
      "text/plain": [
       "0.5452579607341512"
      ]
     },
     "execution_count": 105,
     "metadata": {},
     "output_type": "execute_result"
    }
   ],
   "source": [
    "np.mean(tune_acc_Ooo)"
   ]
  },
  {
   "cell_type": "markdown",
   "metadata": {},
   "source": [
    "### Sss"
   ]
  },
  {
   "cell_type": "code",
   "execution_count": 37,
   "metadata": {},
   "outputs": [
    {
     "name": "stdout",
     "output_type": "stream",
     "text": [
      "Fitting 5 folds for each of 264 candidates, totalling 1320 fits\n"
     ]
    },
    {
     "name": "stderr",
     "output_type": "stream",
     "text": [
      "[Parallel(n_jobs=-1)]: Using backend LokyBackend with 8 concurrent workers.\n",
      "[Parallel(n_jobs=-1)]: Done  16 tasks      | elapsed:   26.2s\n",
      "[Parallel(n_jobs=-1)]: Done 328 tasks      | elapsed:   27.9s\n",
      "[Parallel(n_jobs=-1)]: Done 1320 out of 1320 | elapsed:   33.2s finished\n"
     ]
    },
    {
     "name": "stdout",
     "output_type": "stream",
     "text": [
      "{'C': 1.0, 'gamma': 0.1}\n",
      "Fitting 5 folds for each of 264 candidates, totalling 1320 fits\n"
     ]
    },
    {
     "name": "stderr",
     "output_type": "stream",
     "text": [
      "[Parallel(n_jobs=-1)]: Using backend LokyBackend with 8 concurrent workers.\n",
      "[Parallel(n_jobs=-1)]: Done  16 tasks      | elapsed:    0.2s\n",
      "[Parallel(n_jobs=-1)]: Done 592 tasks      | elapsed:    3.3s\n",
      "[Parallel(n_jobs=-1)]: Done 1320 out of 1320 | elapsed:    7.1s finished\n",
      "[Parallel(n_jobs=-1)]: Using backend LokyBackend with 8 concurrent workers.\n",
      "[Parallel(n_jobs=-1)]: Done  16 tasks      | elapsed:    0.1s\n"
     ]
    },
    {
     "name": "stdout",
     "output_type": "stream",
     "text": [
      "{'C': 10.0, 'gamma': 0.1}\n",
      "Fitting 5 folds for each of 264 candidates, totalling 1320 fits\n"
     ]
    },
    {
     "name": "stderr",
     "output_type": "stream",
     "text": [
      "[Parallel(n_jobs=-1)]: Done 976 tasks      | elapsed:    4.9s\n",
      "[Parallel(n_jobs=-1)]: Done 1320 out of 1320 | elapsed:    6.4s finished\n",
      "[Parallel(n_jobs=-1)]: Using backend LokyBackend with 8 concurrent workers.\n",
      "[Parallel(n_jobs=-1)]: Done  16 tasks      | elapsed:    0.1s\n"
     ]
    },
    {
     "name": "stdout",
     "output_type": "stream",
     "text": [
      "{'C': 10.0, 'gamma': 0.1}\n",
      "Fitting 5 folds for each of 264 candidates, totalling 1320 fits\n"
     ]
    },
    {
     "name": "stderr",
     "output_type": "stream",
     "text": [
      "[Parallel(n_jobs=-1)]: Done 784 tasks      | elapsed:    4.3s\n",
      "[Parallel(n_jobs=-1)]: Done 1320 out of 1320 | elapsed:   13.4s finished\n",
      "[Parallel(n_jobs=-1)]: Using backend LokyBackend with 8 concurrent workers.\n"
     ]
    },
    {
     "name": "stdout",
     "output_type": "stream",
     "text": [
      "{'C': 10.0, 'gamma': 0.1}\n",
      "Fitting 5 folds for each of 264 candidates, totalling 1320 fits\n"
     ]
    },
    {
     "name": "stderr",
     "output_type": "stream",
     "text": [
      "[Parallel(n_jobs=-1)]: Done  16 tasks      | elapsed:    0.1s\n",
      "[Parallel(n_jobs=-1)]: Done 784 tasks      | elapsed:    4.3s\n"
     ]
    },
    {
     "name": "stdout",
     "output_type": "stream",
     "text": [
      "{'C': 10.0, 'gamma': 0.1}\n"
     ]
    },
    {
     "name": "stderr",
     "output_type": "stream",
     "text": [
      "[Parallel(n_jobs=-1)]: Done 1320 out of 1320 | elapsed:    7.2s finished\n"
     ]
    }
   ],
   "source": [
    "f1,t1,f2,t2,f3,t3,f4,t4,f5,t5 = fold(Sss_dataframe,sets_loc)\n",
    "fold_list = [f1,t1,f2,t2,f3,t3,f4,t4,f5,t5]\n",
    "Sss_test, Sss_train = SVM(fold_list)\n",
    "tune_acc_Sss = []\n",
    "for i in range(0,len(fold_list),2):\n",
    "    tune_acc_Sss.append(hyperparameter_tuning(fold_list[i],fold_list[i+1]))"
   ]
  },
  {
   "cell_type": "code",
   "execution_count": 38,
   "metadata": {},
   "outputs": [
    {
     "data": {
      "text/plain": [
       "0.7261143116266368"
      ]
     },
     "execution_count": 38,
     "metadata": {},
     "output_type": "execute_result"
    }
   ],
   "source": [
    "np.mean(Sss_test)"
   ]
  },
  {
   "cell_type": "code",
   "execution_count": 40,
   "metadata": {},
   "outputs": [
    {
     "data": {
      "text/plain": [
       "[0.717948717948718,\n",
       " 0.7662337662337663,\n",
       " 0.73,\n",
       " 0.631578947368421,\n",
       " 0.7848101265822784]"
      ]
     },
     "execution_count": 40,
     "metadata": {},
     "output_type": "execute_result"
    }
   ],
   "source": [
    "Sss_test"
   ]
  },
  {
   "cell_type": "code",
   "execution_count": 41,
   "metadata": {},
   "outputs": [
    {
     "data": {
      "text/plain": [
       "[0.5512820512820513,\n",
       " 0.7012987012987013,\n",
       " 0.59,\n",
       " 0.631578947368421,\n",
       " 0.4810126582278481]"
      ]
     },
     "execution_count": 41,
     "metadata": {},
     "output_type": "execute_result"
    }
   ],
   "source": [
    "tune_acc_Sss"
   ]
  },
  {
   "cell_type": "code",
   "execution_count": 42,
   "metadata": {},
   "outputs": [
    {
     "data": {
      "text/plain": [
       "0.5910344716354043"
      ]
     },
     "execution_count": 42,
     "metadata": {},
     "output_type": "execute_result"
    }
   ],
   "source": [
    "np.mean(tune_acc_Sss)"
   ]
  },
  {
   "cell_type": "code",
   "execution_count": 43,
   "metadata": {},
   "outputs": [
    {
     "data": {
      "text/plain": [
       "0.07414604417864344"
      ]
     },
     "execution_count": 43,
     "metadata": {},
     "output_type": "execute_result"
    }
   ],
   "source": [
    "np.std(tune_acc_Sss)"
   ]
  },
  {
   "cell_type": "code",
   "execution_count": 44,
   "metadata": {},
   "outputs": [
    {
     "data": {
      "text/plain": [
       "0.05305370848670571"
      ]
     },
     "execution_count": 44,
     "metadata": {},
     "output_type": "execute_result"
    }
   ],
   "source": [
    "np.std(Sss_test)"
   ]
  },
  {
   "cell_type": "code",
   "execution_count": null,
   "metadata": {},
   "outputs": [],
   "source": []
  },
  {
   "cell_type": "markdown",
   "metadata": {},
   "source": [
    "### Uuu"
   ]
  },
  {
   "cell_type": "code",
   "execution_count": 111,
   "metadata": {},
   "outputs": [
    {
     "name": "stdout",
     "output_type": "stream",
     "text": [
      "Fitting 5 folds for each of 264 candidates, totalling 1320 fits\n"
     ]
    },
    {
     "name": "stderr",
     "output_type": "stream",
     "text": [
      "[Parallel(n_jobs=-1)]: Using backend LokyBackend with 8 concurrent workers.\n",
      "[Parallel(n_jobs=-1)]: Done  16 tasks      | elapsed:    0.1s\n",
      "[Parallel(n_jobs=-1)]: Done 784 tasks      | elapsed:    4.8s\n",
      "[Parallel(n_jobs=-1)]: Done 1320 out of 1320 | elapsed:    8.3s finished\n",
      "[Parallel(n_jobs=-1)]: Using backend LokyBackend with 8 concurrent workers.\n",
      "[Parallel(n_jobs=-1)]: Done  16 tasks      | elapsed:    0.1s\n"
     ]
    },
    {
     "name": "stdout",
     "output_type": "stream",
     "text": [
      "{'C': 10.0, 'gamma': 0.1}\n",
      "Fitting 5 folds for each of 264 candidates, totalling 1320 fits\n"
     ]
    },
    {
     "name": "stderr",
     "output_type": "stream",
     "text": [
      "[Parallel(n_jobs=-1)]: Done 592 tasks      | elapsed:    4.0s\n",
      "[Parallel(n_jobs=-1)]: Done 1320 out of 1320 | elapsed:    8.4s finished\n",
      "[Parallel(n_jobs=-1)]: Using backend LokyBackend with 8 concurrent workers.\n"
     ]
    },
    {
     "name": "stdout",
     "output_type": "stream",
     "text": [
      "{'C': 10.0, 'gamma': 0.1}\n",
      "Fitting 5 folds for each of 264 candidates, totalling 1320 fits\n"
     ]
    },
    {
     "name": "stderr",
     "output_type": "stream",
     "text": [
      "[Parallel(n_jobs=-1)]: Done  16 tasks      | elapsed:    0.2s\n",
      "[Parallel(n_jobs=-1)]: Done 784 tasks      | elapsed:    4.7s\n",
      "[Parallel(n_jobs=-1)]: Done 1320 out of 1320 | elapsed:    7.9s finished\n",
      "[Parallel(n_jobs=-1)]: Using backend LokyBackend with 8 concurrent workers.\n",
      "[Parallel(n_jobs=-1)]: Done  16 tasks      | elapsed:    0.1s\n"
     ]
    },
    {
     "name": "stdout",
     "output_type": "stream",
     "text": [
      "{'C': 10.0, 'gamma': 0.1}\n",
      "Fitting 5 folds for each of 264 candidates, totalling 1320 fits\n"
     ]
    },
    {
     "name": "stderr",
     "output_type": "stream",
     "text": [
      "[Parallel(n_jobs=-1)]: Done 592 tasks      | elapsed:    3.9s\n",
      "[Parallel(n_jobs=-1)]: Done 1320 out of 1320 | elapsed:    8.6s finished\n",
      "[Parallel(n_jobs=-1)]: Using backend LokyBackend with 8 concurrent workers.\n",
      "[Parallel(n_jobs=-1)]: Done  16 tasks      | elapsed:    0.1s\n"
     ]
    },
    {
     "name": "stdout",
     "output_type": "stream",
     "text": [
      "{'C': 10.0, 'gamma': 0.1}\n",
      "Fitting 5 folds for each of 264 candidates, totalling 1320 fits\n"
     ]
    },
    {
     "name": "stderr",
     "output_type": "stream",
     "text": [
      "[Parallel(n_jobs=-1)]: Done 784 tasks      | elapsed:    4.6s\n"
     ]
    },
    {
     "name": "stdout",
     "output_type": "stream",
     "text": [
      "{'C': 10.0, 'gamma': 0.1}\n"
     ]
    },
    {
     "name": "stderr",
     "output_type": "stream",
     "text": [
      "[Parallel(n_jobs=-1)]: Done 1320 out of 1320 | elapsed:    7.7s finished\n"
     ]
    }
   ],
   "source": [
    "f1,t1,f2,t2,f3,t3,f4,t4,f5,t5 = fold(Uuu_dataframe,sets_loc)\n",
    "fold_list = [f1,t1,f2,t2,f3,t3,f4,t4,f5,t5]\n",
    "Uuu_test, Uuu_train = SVM(fold_list)\n",
    "tune_acc_Uuu = []\n",
    "for i in range(0,len(fold_list),2):\n",
    "    tune_acc_Uuu.append(hyperparameter_tuning(fold_list[i],fold_list[i+1]))"
   ]
  },
  {
   "cell_type": "code",
   "execution_count": 112,
   "metadata": {},
   "outputs": [
    {
     "data": {
      "text/plain": [
       "[0.5882352941176471,\n",
       " 0.49411764705882355,\n",
       " 0.5161290322580645,\n",
       " 0.620253164556962,\n",
       " 0.6534653465346535]"
      ]
     },
     "execution_count": 112,
     "metadata": {},
     "output_type": "execute_result"
    }
   ],
   "source": [
    "Uuu_test"
   ]
  },
  {
   "cell_type": "code",
   "execution_count": null,
   "metadata": {},
   "outputs": [],
   "source": []
  },
  {
   "cell_type": "code",
   "execution_count": 113,
   "metadata": {},
   "outputs": [
    {
     "data": {
      "text/plain": [
       "0.5744400969052301"
      ]
     },
     "execution_count": 113,
     "metadata": {},
     "output_type": "execute_result"
    }
   ],
   "source": [
    "np.mean(Uuu_test)"
   ]
  },
  {
   "cell_type": "code",
   "execution_count": 114,
   "metadata": {},
   "outputs": [
    {
     "data": {
      "text/plain": [
       "0.06063993885616763"
      ]
     },
     "execution_count": 114,
     "metadata": {},
     "output_type": "execute_result"
    }
   ],
   "source": [
    "np.std(Uuu_test)"
   ]
  },
  {
   "cell_type": "code",
   "execution_count": 115,
   "metadata": {},
   "outputs": [
    {
     "data": {
      "text/plain": [
       "0.5267919211396076"
      ]
     },
     "execution_count": 115,
     "metadata": {},
     "output_type": "execute_result"
    }
   ],
   "source": [
    "np.mean(tune_acc_Uuu)"
   ]
  },
  {
   "cell_type": "markdown",
   "metadata": {},
   "source": [
    "### Zzz"
   ]
  },
  {
   "cell_type": "code",
   "execution_count": 15,
   "metadata": {},
   "outputs": [
    {
     "name": "stdout",
     "output_type": "stream",
     "text": [
      "Fitting 5 folds for each of 264 candidates, totalling 1320 fits\n"
     ]
    },
    {
     "name": "stderr",
     "output_type": "stream",
     "text": [
      "[Parallel(n_jobs=-1)]: Using backend LokyBackend with 8 concurrent workers.\n",
      "[Parallel(n_jobs=-1)]: Done  16 tasks      | elapsed:    2.3s\n",
      "[Parallel(n_jobs=-1)]: Done 383 tasks      | elapsed:    3.9s\n",
      "[Parallel(n_jobs=-1)]: Done 1320 out of 1320 | elapsed:    7.8s finished\n",
      "[Parallel(n_jobs=-1)]: Using backend LokyBackend with 8 concurrent workers.\n",
      "[Parallel(n_jobs=-1)]: Done  16 tasks      | elapsed:    0.1s\n"
     ]
    },
    {
     "name": "stdout",
     "output_type": "stream",
     "text": [
      "{'C': 10.0, 'gamma': 0.1}\n",
      "Fitting 5 folds for each of 264 candidates, totalling 1320 fits\n"
     ]
    },
    {
     "name": "stderr",
     "output_type": "stream",
     "text": [
      "[Parallel(n_jobs=-1)]: Done 976 tasks      | elapsed:    4.6s\n",
      "[Parallel(n_jobs=-1)]: Done 1320 out of 1320 | elapsed:    6.2s finished\n",
      "[Parallel(n_jobs=-1)]: Using backend LokyBackend with 8 concurrent workers.\n",
      "[Parallel(n_jobs=-1)]: Done  16 tasks      | elapsed:    0.1s\n"
     ]
    },
    {
     "name": "stdout",
     "output_type": "stream",
     "text": [
      "{'C': 10.0, 'gamma': 0.1}\n",
      "Fitting 5 folds for each of 264 candidates, totalling 1320 fits\n"
     ]
    },
    {
     "name": "stderr",
     "output_type": "stream",
     "text": [
      "[Parallel(n_jobs=-1)]: Done 976 tasks      | elapsed:    3.8s\n",
      "[Parallel(n_jobs=-1)]: Done 1320 out of 1320 | elapsed:    5.1s finished\n",
      "[Parallel(n_jobs=-1)]: Using backend LokyBackend with 8 concurrent workers.\n",
      "[Parallel(n_jobs=-1)]: Done  16 tasks      | elapsed:    0.1s\n"
     ]
    },
    {
     "name": "stdout",
     "output_type": "stream",
     "text": [
      "{'C': 10.0, 'gamma': 0.1}\n",
      "Fitting 5 folds for each of 264 candidates, totalling 1320 fits\n"
     ]
    },
    {
     "name": "stderr",
     "output_type": "stream",
     "text": [
      "[Parallel(n_jobs=-1)]: Done 976 tasks      | elapsed:    4.4s\n",
      "[Parallel(n_jobs=-1)]: Done 1320 out of 1320 | elapsed:    5.8s finished\n",
      "[Parallel(n_jobs=-1)]: Using backend LokyBackend with 8 concurrent workers.\n",
      "[Parallel(n_jobs=-1)]: Done  16 tasks      | elapsed:    0.1s\n"
     ]
    },
    {
     "name": "stdout",
     "output_type": "stream",
     "text": [
      "{'C': 1.0, 'gamma': 0.1}\n",
      "Fitting 5 folds for each of 264 candidates, totalling 1320 fits\n"
     ]
    },
    {
     "name": "stderr",
     "output_type": "stream",
     "text": [
      "[Parallel(n_jobs=-1)]: Done 976 tasks      | elapsed:    4.5s\n"
     ]
    },
    {
     "name": "stdout",
     "output_type": "stream",
     "text": [
      "{'C': 10.0, 'gamma': 0.1}\n"
     ]
    },
    {
     "name": "stderr",
     "output_type": "stream",
     "text": [
      "[Parallel(n_jobs=-1)]: Done 1320 out of 1320 | elapsed:    6.0s finished\n"
     ]
    }
   ],
   "source": [
    "f1,t1,f2,t2,f3,t3,f4,t4,f5,t5 = fold(Zzz_dataframe,sets_loc)\n",
    "fold_list = [f1,t1,f2,t2,f3,t3,f4,t4,f5,t5]\n",
    "Zzz_test, Zzz_train = SVM(fold_list)\n",
    "tune_acc_Zzz = []\n",
    "for i in range(0,len(fold_list),2):\n",
    "    tune_acc_Zzz.append(hyperparameter_tuning(fold_list[i],fold_list[i+1]))"
   ]
  },
  {
   "cell_type": "code",
   "execution_count": 16,
   "metadata": {},
   "outputs": [
    {
     "data": {
      "text/plain": [
       "0.5425824832276446"
      ]
     },
     "execution_count": 16,
     "metadata": {},
     "output_type": "execute_result"
    }
   ],
   "source": [
    "np.mean(Zzz_test)"
   ]
  },
  {
   "cell_type": "code",
   "execution_count": 17,
   "metadata": {},
   "outputs": [
    {
     "data": {
      "text/plain": [
       "[0.6172839506172839,\n",
       " 0.6,\n",
       " 0.4731182795698925,\n",
       " 0.5694444444444444,\n",
       " 0.5230769230769231]"
      ]
     },
     "execution_count": 17,
     "metadata": {},
     "output_type": "execute_result"
    }
   ],
   "source": [
    "tune_acc_Zzz"
   ]
  },
  {
   "cell_type": "code",
   "execution_count": 18,
   "metadata": {},
   "outputs": [
    {
     "data": {
      "text/plain": [
       "0.5565847195417087"
      ]
     },
     "execution_count": 18,
     "metadata": {},
     "output_type": "execute_result"
    }
   ],
   "source": [
    "np.mean(tune_acc_Zzz)"
   ]
  },
  {
   "cell_type": "code",
   "execution_count": 19,
   "metadata": {},
   "outputs": [
    {
     "data": {
      "text/plain": [
       "0.0525815077389504"
      ]
     },
     "execution_count": 19,
     "metadata": {},
     "output_type": "execute_result"
    }
   ],
   "source": [
    "np.std(tune_acc_Zzz)"
   ]
  },
  {
   "cell_type": "code",
   "execution_count": null,
   "metadata": {},
   "outputs": [],
   "source": []
  },
  {
   "cell_type": "code",
   "execution_count": null,
   "metadata": {},
   "outputs": [],
   "source": []
  },
  {
   "cell_type": "code",
   "execution_count": null,
   "metadata": {},
   "outputs": [],
   "source": []
  },
  {
   "cell_type": "code",
   "execution_count": null,
   "metadata": {},
   "outputs": [],
   "source": []
  },
  {
   "cell_type": "code",
   "execution_count": null,
   "metadata": {},
   "outputs": [],
   "source": []
  },
  {
   "cell_type": "code",
   "execution_count": null,
   "metadata": {},
   "outputs": [],
   "source": []
  },
  {
   "cell_type": "markdown",
   "metadata": {},
   "source": [
    "LiBSVM"
   ]
  },
  {
   "cell_type": "code",
   "execution_count": 73,
   "metadata": {},
   "outputs": [],
   "source": [
    "f1,t1,f2,t2,f3,t3,f4,t4,f5,t5 = fold(Inhale_dataframe,sets_loc)\n",
    "fold_list = [f1,t1,f2,t2,f3,t3,f4,t4,f5,t5]"
   ]
  },
  {
   "cell_type": "code",
   "execution_count": 74,
   "metadata": {},
   "outputs": [],
   "source": [
    "X_train = f1.iloc[:,:78]\n",
    "y_train = f1.iloc[:,78]"
   ]
  },
  {
   "cell_type": "code",
   "execution_count": null,
   "metadata": {},
   "outputs": [],
   "source": []
  },
  {
   "cell_type": "code",
   "execution_count": 67,
   "metadata": {},
   "outputs": [],
   "source": [
    "X_train = (X_train-np.mean(X_train))/np.std(X_train)"
   ]
  },
  {
   "cell_type": "code",
   "execution_count": 38,
   "metadata": {},
   "outputs": [],
   "source": [
    "from libsvm.svmutil import *"
   ]
  },
  {
   "cell_type": "code",
   "execution_count": 39,
   "metadata": {},
   "outputs": [],
   "source": [
    "prob = svm_problem(y_train.values,X_train.values)"
   ]
  },
  {
   "cell_type": "code",
   "execution_count": 40,
   "metadata": {},
   "outputs": [],
   "source": [
    "param = svm_parameter('-t 2 -c 1 -g 0.01282051282051282 -b 1')"
   ]
  },
  {
   "cell_type": "code",
   "execution_count": 41,
   "metadata": {},
   "outputs": [],
   "source": [
    "m = libsvm.svm_train(prob, param)"
   ]
  },
  {
   "cell_type": "code",
   "execution_count": 42,
   "metadata": {},
   "outputs": [],
   "source": [
    "svm_save_model('Inhale.model', m)"
   ]
  },
  {
   "cell_type": "code",
   "execution_count": 64,
   "metadata": {},
   "outputs": [],
   "source": [
    "m = svm_load_model('Inhale.model')"
   ]
  },
  {
   "cell_type": "code",
   "execution_count": 69,
   "metadata": {},
   "outputs": [
    {
     "name": "stdout",
     "output_type": "stream",
     "text": [
      "Accuracy = 93.9883% (641/682) (classification)\n"
     ]
    }
   ],
   "source": [
    "p_label, p_acc, p_val = svm_predict(y_train.values, X_train.values, m, '-b 1')"
   ]
  },
  {
   "cell_type": "code",
   "execution_count": 76,
   "metadata": {},
   "outputs": [
    {
     "name": "stdout",
     "output_type": "stream",
     "text": [
      "Accuracy = 81.2155% (147/181) (classification)\n"
     ]
    }
   ],
   "source": [
    "p_label, p_acc, p_val = svm_predict(t1.iloc[:,78].values,t1.iloc[:,:78].values, m, '-b 1')"
   ]
  },
  {
   "cell_type": "code",
   "execution_count": 75,
   "metadata": {},
   "outputs": [],
   "source": [
    "t1.iloc[:,:78] = (t1.iloc[:,:78]-np.mean(X_train))/np.std(X_train)"
   ]
  },
  {
   "cell_type": "code",
   "execution_count": 55,
   "metadata": {},
   "outputs": [
    {
     "data": {
      "text/html": [
       "<div>\n",
       "<style scoped>\n",
       "    .dataframe tbody tr th:only-of-type {\n",
       "        vertical-align: middle;\n",
       "    }\n",
       "\n",
       "    .dataframe tbody tr th {\n",
       "        vertical-align: top;\n",
       "    }\n",
       "\n",
       "    .dataframe thead th {\n",
       "        text-align: right;\n",
       "    }\n",
       "</style>\n",
       "<table border=\"1\" class=\"dataframe\">\n",
       "  <thead>\n",
       "    <tr style=\"text-align: right;\">\n",
       "      <th></th>\n",
       "      <th>1.000000000000000444e+00</th>\n",
       "    </tr>\n",
       "  </thead>\n",
       "  <tbody>\n",
       "    <tr>\n",
       "      <th>0</th>\n",
       "      <td>1.0</td>\n",
       "    </tr>\n",
       "    <tr>\n",
       "      <th>1</th>\n",
       "      <td>1.0</td>\n",
       "    </tr>\n",
       "    <tr>\n",
       "      <th>2</th>\n",
       "      <td>1.0</td>\n",
       "    </tr>\n",
       "    <tr>\n",
       "      <th>3</th>\n",
       "      <td>1.0</td>\n",
       "    </tr>\n",
       "    <tr>\n",
       "      <th>4</th>\n",
       "      <td>1.0</td>\n",
       "    </tr>\n",
       "    <tr>\n",
       "      <th>...</th>\n",
       "      <td>...</td>\n",
       "    </tr>\n",
       "    <tr>\n",
       "      <th>72</th>\n",
       "      <td>1.0</td>\n",
       "    </tr>\n",
       "    <tr>\n",
       "      <th>73</th>\n",
       "      <td>1.0</td>\n",
       "    </tr>\n",
       "    <tr>\n",
       "      <th>74</th>\n",
       "      <td>1.0</td>\n",
       "    </tr>\n",
       "    <tr>\n",
       "      <th>75</th>\n",
       "      <td>1.0</td>\n",
       "    </tr>\n",
       "    <tr>\n",
       "      <th>76</th>\n",
       "      <td>1.0</td>\n",
       "    </tr>\n",
       "  </tbody>\n",
       "</table>\n",
       "<p>77 rows × 1 columns</p>\n",
       "</div>"
      ],
      "text/plain": [
       "    1.000000000000000444e+00\n",
       "0                        1.0\n",
       "1                        1.0\n",
       "2                        1.0\n",
       "3                        1.0\n",
       "4                        1.0\n",
       "..                       ...\n",
       "72                       1.0\n",
       "73                       1.0\n",
       "74                       1.0\n",
       "75                       1.0\n",
       "76                       1.0\n",
       "\n",
       "[77 rows x 1 columns]"
      ]
     },
     "execution_count": 55,
     "metadata": {},
     "output_type": "execute_result"
    }
   ],
   "source": [
    "pd.read_csv(\"./mean_values\")"
   ]
  },
  {
   "cell_type": "code",
   "execution_count": 77,
   "metadata": {},
   "outputs": [],
   "source": [
    "np.savetxt('./mean_values.txt', np.mean(X_train),fmt='%f' )"
   ]
  },
  {
   "cell_type": "code",
   "execution_count": 78,
   "metadata": {},
   "outputs": [],
   "source": [
    "np.savetxt('./std_values.txt',np.std(X_train), fmt='%f')"
   ]
  },
  {
   "cell_type": "code",
   "execution_count": 8,
   "metadata": {},
   "outputs": [],
   "source": [
    "C_range = np.logspace(-2, 3, 12)\n"
   ]
  },
  {
   "cell_type": "code",
   "execution_count": 9,
   "metadata": {},
   "outputs": [
    {
     "data": {
      "text/plain": [
       "array([1.00000000e-02, 2.84803587e-02, 8.11130831e-02, 2.31012970e-01,\n",
       "       6.57933225e-01, 1.87381742e+00, 5.33669923e+00, 1.51991108e+01,\n",
       "       4.32876128e+01, 1.23284674e+02, 3.51119173e+02, 1.00000000e+03])"
      ]
     },
     "execution_count": 9,
     "metadata": {},
     "output_type": "execute_result"
    }
   ],
   "source": [
    "C_range"
   ]
  },
  {
   "cell_type": "code",
   "execution_count": 10,
   "metadata": {},
   "outputs": [
    {
     "data": {
      "text/plain": [
       "384"
      ]
     },
     "execution_count": 10,
     "metadata": {},
     "output_type": "execute_result"
    }
   ],
   "source": [
    "12*32"
   ]
  },
  {
   "cell_type": "code",
   "execution_count": null,
   "metadata": {},
   "outputs": [],
   "source": [
    "12"
   ]
  }
 ],
 "metadata": {
  "kernelspec": {
   "display_name": "Python 3",
   "language": "python",
   "name": "python3"
  },
  "language_info": {
   "codemirror_mode": {
    "name": "ipython",
    "version": 3
   },
   "file_extension": ".py",
   "mimetype": "text/x-python",
   "name": "python",
   "nbconvert_exporter": "python",
   "pygments_lexer": "ipython3",
   "version": "3.7.3"
  }
 },
 "nbformat": 4,
 "nbformat_minor": 2
}
