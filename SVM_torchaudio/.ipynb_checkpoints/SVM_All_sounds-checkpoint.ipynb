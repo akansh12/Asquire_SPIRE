{
 "cells": [
  {
   "cell_type": "code",
   "execution_count": 1,
   "metadata": {},
   "outputs": [],
   "source": [
    "import pandas as pd \n",
    "import numpy as np\n",
    "import matplotlib.pyplot as plt\n",
    "import seaborn as sns\n",
    "import os"
   ]
  },
  {
   "cell_type": "code",
   "execution_count": 2,
   "metadata": {},
   "outputs": [],
   "source": [
    "from sklearn.svm import SVC\n",
    "from sklearn.metrics import accuracy_score\n",
    "from sklearn.model_selection import train_test_split\n",
    "from sklearn.metrics import confusion_matrix\n",
    "from sklearn.metrics import classification_report\n",
    "from sklearn.model_selection import KFold\n",
    "from sklearn.model_selection import cross_val_score\n",
    "from sklearn.model_selection import GridSearchCV\n",
    "from sklearn.model_selection import cross_validate\n",
    "from sklearn.preprocessing import StandardScaler"
   ]
  },
  {
   "cell_type": "code",
   "execution_count": 3,
   "metadata": {},
   "outputs": [],
   "source": [
    "import matplotlib.pyplot as plt \n",
    "from sklearn.utils import shuffle\n",
    "import warnings\n",
    "warnings.filterwarnings('ignore')"
   ]
  },
  {
   "cell_type": "code",
   "execution_count": 4,
   "metadata": {},
   "outputs": [],
   "source": [
    "Cough_dataframe = pd.read_csv(\"./Cough.csv\")\n",
    "Wheeze_dataframe = pd.read_csv(\"./Wheeze.csv\")\n",
    "Aaa_dataframe = pd.read_csv(\"./Aaa.csv\")\n",
    "Yee_dataframe = pd.read_csv(\"./Yee.csv\")\n",
    "Inhale_dataframe = pd.read_csv(\"./Inhale.csv\")\n",
    "Exhale_dataframe = pd.read_csv(\"./Exhale.csv\")\n",
    "Ooo_dataframe = pd.read_csv(\"./Ooo.csv\")\n",
    "Sss_dataframe = pd.read_csv(\"./Sss.csv\")\n",
    "Eee_dataframe = pd.read_csv(\"./Eee.csv\")\n",
    "Uuu_dataframe = pd.read_csv(\"./Uuu.csv\")\n",
    "Zzz_dataframe = pd.read_csv(\"./Zzz.csv\")"
   ]
  },
  {
   "cell_type": "code",
   "execution_count": 5,
   "metadata": {},
   "outputs": [
    {
     "data": {
      "text/html": [
       "<div>\n",
       "<style scoped>\n",
       "    .dataframe tbody tr th:only-of-type {\n",
       "        vertical-align: middle;\n",
       "    }\n",
       "\n",
       "    .dataframe tbody tr th {\n",
       "        vertical-align: top;\n",
       "    }\n",
       "\n",
       "    .dataframe thead th {\n",
       "        text-align: right;\n",
       "    }\n",
       "</style>\n",
       "<table border=\"1\" class=\"dataframe\">\n",
       "  <thead>\n",
       "    <tr style=\"text-align: right;\">\n",
       "      <th></th>\n",
       "      <th>0</th>\n",
       "      <th>1</th>\n",
       "      <th>2</th>\n",
       "      <th>3</th>\n",
       "      <th>4</th>\n",
       "      <th>5</th>\n",
       "      <th>6</th>\n",
       "      <th>7</th>\n",
       "      <th>8</th>\n",
       "      <th>9</th>\n",
       "      <th>...</th>\n",
       "      <th>70</th>\n",
       "      <th>71</th>\n",
       "      <th>72</th>\n",
       "      <th>73</th>\n",
       "      <th>74</th>\n",
       "      <th>75</th>\n",
       "      <th>76</th>\n",
       "      <th>77</th>\n",
       "      <th>78</th>\n",
       "      <th>79</th>\n",
       "    </tr>\n",
       "  </thead>\n",
       "  <tbody>\n",
       "    <tr>\n",
       "      <th>0</th>\n",
       "      <td>-0.744875</td>\n",
       "      <td>-8.016452</td>\n",
       "      <td>-10.125416</td>\n",
       "      <td>-4.224685</td>\n",
       "      <td>-4.660493</td>\n",
       "      <td>-15.239708</td>\n",
       "      <td>-8.336632</td>\n",
       "      <td>2.040488</td>\n",
       "      <td>-2.962559</td>\n",
       "      <td>-12.348181</td>\n",
       "      <td>...</td>\n",
       "      <td>18.901048</td>\n",
       "      <td>13.298112</td>\n",
       "      <td>11.362752</td>\n",
       "      <td>10.039475</td>\n",
       "      <td>16.520325</td>\n",
       "      <td>11.912759</td>\n",
       "      <td>13.272115</td>\n",
       "      <td>13.994017</td>\n",
       "      <td>1.0</td>\n",
       "      <td>2258_P_Asthma_M_before_Sev_Y.json</td>\n",
       "    </tr>\n",
       "    <tr>\n",
       "      <th>1</th>\n",
       "      <td>1.058596</td>\n",
       "      <td>-9.737112</td>\n",
       "      <td>-8.361601</td>\n",
       "      <td>-6.430546</td>\n",
       "      <td>-5.981621</td>\n",
       "      <td>-10.538538</td>\n",
       "      <td>-13.663647</td>\n",
       "      <td>-10.681202</td>\n",
       "      <td>-5.642963</td>\n",
       "      <td>-7.612826</td>\n",
       "      <td>...</td>\n",
       "      <td>14.062686</td>\n",
       "      <td>17.419496</td>\n",
       "      <td>15.214312</td>\n",
       "      <td>12.689891</td>\n",
       "      <td>18.945549</td>\n",
       "      <td>15.158471</td>\n",
       "      <td>15.363304</td>\n",
       "      <td>12.903875</td>\n",
       "      <td>1.0</td>\n",
       "      <td>2258_P_Asthma_M_before_Sev_Y.json</td>\n",
       "    </tr>\n",
       "    <tr>\n",
       "      <th>2</th>\n",
       "      <td>1.167204</td>\n",
       "      <td>-10.771030</td>\n",
       "      <td>-13.951512</td>\n",
       "      <td>-2.972489</td>\n",
       "      <td>-1.615749</td>\n",
       "      <td>-13.796750</td>\n",
       "      <td>-7.773979</td>\n",
       "      <td>-12.453028</td>\n",
       "      <td>-18.443200</td>\n",
       "      <td>-12.285481</td>\n",
       "      <td>...</td>\n",
       "      <td>15.235042</td>\n",
       "      <td>10.692994</td>\n",
       "      <td>15.999864</td>\n",
       "      <td>24.016934</td>\n",
       "      <td>19.587838</td>\n",
       "      <td>11.457310</td>\n",
       "      <td>12.699385</td>\n",
       "      <td>17.531772</td>\n",
       "      <td>1.0</td>\n",
       "      <td>2258_P_Asthma_M_before_Sev_Y.json</td>\n",
       "    </tr>\n",
       "    <tr>\n",
       "      <th>3</th>\n",
       "      <td>0.965428</td>\n",
       "      <td>-9.037359</td>\n",
       "      <td>-13.310467</td>\n",
       "      <td>-0.839471</td>\n",
       "      <td>2.055475</td>\n",
       "      <td>-12.643720</td>\n",
       "      <td>-7.132236</td>\n",
       "      <td>-8.096176</td>\n",
       "      <td>-9.394167</td>\n",
       "      <td>-11.184574</td>\n",
       "      <td>...</td>\n",
       "      <td>15.734429</td>\n",
       "      <td>11.241803</td>\n",
       "      <td>12.488872</td>\n",
       "      <td>16.286321</td>\n",
       "      <td>19.931717</td>\n",
       "      <td>11.826522</td>\n",
       "      <td>10.155403</td>\n",
       "      <td>14.086273</td>\n",
       "      <td>1.0</td>\n",
       "      <td>2258_P_Asthma_M_before_Sev_Y.json</td>\n",
       "    </tr>\n",
       "    <tr>\n",
       "      <th>4</th>\n",
       "      <td>1.656660</td>\n",
       "      <td>-13.224751</td>\n",
       "      <td>-16.483896</td>\n",
       "      <td>2.060620</td>\n",
       "      <td>5.330808</td>\n",
       "      <td>-18.220511</td>\n",
       "      <td>-4.760380</td>\n",
       "      <td>-10.098470</td>\n",
       "      <td>-4.107118</td>\n",
       "      <td>-3.953456</td>\n",
       "      <td>...</td>\n",
       "      <td>20.690518</td>\n",
       "      <td>11.003596</td>\n",
       "      <td>15.842390</td>\n",
       "      <td>12.261397</td>\n",
       "      <td>13.794123</td>\n",
       "      <td>18.618783</td>\n",
       "      <td>17.685626</td>\n",
       "      <td>20.170871</td>\n",
       "      <td>1.0</td>\n",
       "      <td>2258_P_Asthma_M_before_Sev_Y.json</td>\n",
       "    </tr>\n",
       "    <tr>\n",
       "      <th>...</th>\n",
       "      <td>...</td>\n",
       "      <td>...</td>\n",
       "      <td>...</td>\n",
       "      <td>...</td>\n",
       "      <td>...</td>\n",
       "      <td>...</td>\n",
       "      <td>...</td>\n",
       "      <td>...</td>\n",
       "      <td>...</td>\n",
       "      <td>...</td>\n",
       "      <td>...</td>\n",
       "      <td>...</td>\n",
       "      <td>...</td>\n",
       "      <td>...</td>\n",
       "      <td>...</td>\n",
       "      <td>...</td>\n",
       "      <td>...</td>\n",
       "      <td>...</td>\n",
       "      <td>...</td>\n",
       "      <td>...</td>\n",
       "      <td>...</td>\n",
       "    </tr>\n",
       "    <tr>\n",
       "      <th>918</th>\n",
       "      <td>0.018836</td>\n",
       "      <td>-0.814084</td>\n",
       "      <td>-1.896009</td>\n",
       "      <td>-10.002018</td>\n",
       "      <td>-2.097172</td>\n",
       "      <td>-0.442508</td>\n",
       "      <td>7.767054</td>\n",
       "      <td>-13.118261</td>\n",
       "      <td>-3.668487</td>\n",
       "      <td>9.116965</td>\n",
       "      <td>...</td>\n",
       "      <td>8.267561</td>\n",
       "      <td>12.747798</td>\n",
       "      <td>17.227981</td>\n",
       "      <td>13.492128</td>\n",
       "      <td>13.967905</td>\n",
       "      <td>14.444222</td>\n",
       "      <td>12.137008</td>\n",
       "      <td>12.622944</td>\n",
       "      <td>0.0</td>\n",
       "      <td>1306_C_Na_M_Na_Na_N.json</td>\n",
       "    </tr>\n",
       "    <tr>\n",
       "      <th>919</th>\n",
       "      <td>-0.241761</td>\n",
       "      <td>-0.301691</td>\n",
       "      <td>-2.720360</td>\n",
       "      <td>-7.170009</td>\n",
       "      <td>2.997765</td>\n",
       "      <td>0.541130</td>\n",
       "      <td>8.403163</td>\n",
       "      <td>-10.823270</td>\n",
       "      <td>-4.610035</td>\n",
       "      <td>6.619595</td>\n",
       "      <td>...</td>\n",
       "      <td>8.381817</td>\n",
       "      <td>12.471821</td>\n",
       "      <td>15.605929</td>\n",
       "      <td>14.425466</td>\n",
       "      <td>14.270717</td>\n",
       "      <td>10.453012</td>\n",
       "      <td>10.334178</td>\n",
       "      <td>12.128558</td>\n",
       "      <td>0.0</td>\n",
       "      <td>1306_C_Na_M_Na_Na_N.json</td>\n",
       "    </tr>\n",
       "    <tr>\n",
       "      <th>920</th>\n",
       "      <td>0.486481</td>\n",
       "      <td>-1.818497</td>\n",
       "      <td>-4.962188</td>\n",
       "      <td>-6.279613</td>\n",
       "      <td>-1.490915</td>\n",
       "      <td>4.392772</td>\n",
       "      <td>0.990837</td>\n",
       "      <td>-7.893083</td>\n",
       "      <td>1.540336</td>\n",
       "      <td>0.786436</td>\n",
       "      <td>...</td>\n",
       "      <td>9.747618</td>\n",
       "      <td>9.854675</td>\n",
       "      <td>14.448393</td>\n",
       "      <td>12.862862</td>\n",
       "      <td>12.411324</td>\n",
       "      <td>12.642372</td>\n",
       "      <td>9.120956</td>\n",
       "      <td>17.738225</td>\n",
       "      <td>0.0</td>\n",
       "      <td>1306_C_Na_M_Na_Na_N.json</td>\n",
       "    </tr>\n",
       "    <tr>\n",
       "      <th>921</th>\n",
       "      <td>-2.067862</td>\n",
       "      <td>-5.029107</td>\n",
       "      <td>-9.788440</td>\n",
       "      <td>-7.745967</td>\n",
       "      <td>-4.384778</td>\n",
       "      <td>3.239237</td>\n",
       "      <td>3.905629</td>\n",
       "      <td>-9.502718</td>\n",
       "      <td>5.768557</td>\n",
       "      <td>3.233259</td>\n",
       "      <td>...</td>\n",
       "      <td>10.074555</td>\n",
       "      <td>12.167020</td>\n",
       "      <td>16.368743</td>\n",
       "      <td>15.389061</td>\n",
       "      <td>11.078386</td>\n",
       "      <td>10.297016</td>\n",
       "      <td>13.143589</td>\n",
       "      <td>13.787162</td>\n",
       "      <td>0.0</td>\n",
       "      <td>1306_C_Na_M_Na_Na_N.json</td>\n",
       "    </tr>\n",
       "    <tr>\n",
       "      <th>922</th>\n",
       "      <td>-0.591431</td>\n",
       "      <td>-5.052928</td>\n",
       "      <td>-5.384549</td>\n",
       "      <td>-15.784474</td>\n",
       "      <td>2.932430</td>\n",
       "      <td>3.781192</td>\n",
       "      <td>4.718912</td>\n",
       "      <td>-10.047806</td>\n",
       "      <td>10.411587</td>\n",
       "      <td>1.741050</td>\n",
       "      <td>...</td>\n",
       "      <td>7.222461</td>\n",
       "      <td>13.498872</td>\n",
       "      <td>19.802055</td>\n",
       "      <td>15.062835</td>\n",
       "      <td>12.591188</td>\n",
       "      <td>9.550983</td>\n",
       "      <td>14.433409</td>\n",
       "      <td>18.174414</td>\n",
       "      <td>0.0</td>\n",
       "      <td>1306_C_Na_M_Na_Na_N.json</td>\n",
       "    </tr>\n",
       "  </tbody>\n",
       "</table>\n",
       "<p>923 rows × 80 columns</p>\n",
       "</div>"
      ],
      "text/plain": [
       "            0          1          2          3         4          5  \\\n",
       "0   -0.744875  -8.016452 -10.125416  -4.224685 -4.660493 -15.239708   \n",
       "1    1.058596  -9.737112  -8.361601  -6.430546 -5.981621 -10.538538   \n",
       "2    1.167204 -10.771030 -13.951512  -2.972489 -1.615749 -13.796750   \n",
       "3    0.965428  -9.037359 -13.310467  -0.839471  2.055475 -12.643720   \n",
       "4    1.656660 -13.224751 -16.483896   2.060620  5.330808 -18.220511   \n",
       "..        ...        ...        ...        ...       ...        ...   \n",
       "918  0.018836  -0.814084  -1.896009 -10.002018 -2.097172  -0.442508   \n",
       "919 -0.241761  -0.301691  -2.720360  -7.170009  2.997765   0.541130   \n",
       "920  0.486481  -1.818497  -4.962188  -6.279613 -1.490915   4.392772   \n",
       "921 -2.067862  -5.029107  -9.788440  -7.745967 -4.384778   3.239237   \n",
       "922 -0.591431  -5.052928  -5.384549 -15.784474  2.932430   3.781192   \n",
       "\n",
       "             6          7          8          9  ...         70         71  \\\n",
       "0    -8.336632   2.040488  -2.962559 -12.348181  ...  18.901048  13.298112   \n",
       "1   -13.663647 -10.681202  -5.642963  -7.612826  ...  14.062686  17.419496   \n",
       "2    -7.773979 -12.453028 -18.443200 -12.285481  ...  15.235042  10.692994   \n",
       "3    -7.132236  -8.096176  -9.394167 -11.184574  ...  15.734429  11.241803   \n",
       "4    -4.760380 -10.098470  -4.107118  -3.953456  ...  20.690518  11.003596   \n",
       "..         ...        ...        ...        ...  ...        ...        ...   \n",
       "918   7.767054 -13.118261  -3.668487   9.116965  ...   8.267561  12.747798   \n",
       "919   8.403163 -10.823270  -4.610035   6.619595  ...   8.381817  12.471821   \n",
       "920   0.990837  -7.893083   1.540336   0.786436  ...   9.747618   9.854675   \n",
       "921   3.905629  -9.502718   5.768557   3.233259  ...  10.074555  12.167020   \n",
       "922   4.718912 -10.047806  10.411587   1.741050  ...   7.222461  13.498872   \n",
       "\n",
       "            72         73         74         75         76         77   78  \\\n",
       "0    11.362752  10.039475  16.520325  11.912759  13.272115  13.994017  1.0   \n",
       "1    15.214312  12.689891  18.945549  15.158471  15.363304  12.903875  1.0   \n",
       "2    15.999864  24.016934  19.587838  11.457310  12.699385  17.531772  1.0   \n",
       "3    12.488872  16.286321  19.931717  11.826522  10.155403  14.086273  1.0   \n",
       "4    15.842390  12.261397  13.794123  18.618783  17.685626  20.170871  1.0   \n",
       "..         ...        ...        ...        ...        ...        ...  ...   \n",
       "918  17.227981  13.492128  13.967905  14.444222  12.137008  12.622944  0.0   \n",
       "919  15.605929  14.425466  14.270717  10.453012  10.334178  12.128558  0.0   \n",
       "920  14.448393  12.862862  12.411324  12.642372   9.120956  17.738225  0.0   \n",
       "921  16.368743  15.389061  11.078386  10.297016  13.143589  13.787162  0.0   \n",
       "922  19.802055  15.062835  12.591188   9.550983  14.433409  18.174414  0.0   \n",
       "\n",
       "                                    79  \n",
       "0    2258_P_Asthma_M_before_Sev_Y.json  \n",
       "1    2258_P_Asthma_M_before_Sev_Y.json  \n",
       "2    2258_P_Asthma_M_before_Sev_Y.json  \n",
       "3    2258_P_Asthma_M_before_Sev_Y.json  \n",
       "4    2258_P_Asthma_M_before_Sev_Y.json  \n",
       "..                                 ...  \n",
       "918           1306_C_Na_M_Na_Na_N.json  \n",
       "919           1306_C_Na_M_Na_Na_N.json  \n",
       "920           1306_C_Na_M_Na_Na_N.json  \n",
       "921           1306_C_Na_M_Na_Na_N.json  \n",
       "922           1306_C_Na_M_Na_Na_N.json  \n",
       "\n",
       "[923 rows x 80 columns]"
      ]
     },
     "execution_count": 5,
     "metadata": {},
     "output_type": "execute_result"
    }
   ],
   "source": [
    "Cough_dataframe"
   ]
  },
  {
   "cell_type": "code",
   "execution_count": 17,
   "metadata": {},
   "outputs": [],
   "source": [
    "def fold(sound_dataframe, sets_loc):\n",
    "    big = []\n",
    "    for j in os.listdir(sets_loc):      \n",
    "\n",
    "        file = open('./SETS/'+j, 'r') \n",
    "        Lines = file.readlines() \n",
    "\n",
    "        count = 0\n",
    "        # Strips the newline character \n",
    "        # for line in Lines: \n",
    "        #     print(\"Line{}: {}\".format(count, line.strip())) \n",
    "\n",
    "        set_dataframe = pd.DataFrame()\n",
    "        for i, line in enumerate(Lines):\n",
    "            A = sound_dataframe[(sound_dataframe['217'] == (Lines[i].strip()+\".mat\"))]\n",
    "            set_dataframe = pd.DataFrame.append(set_dataframe,A)\n",
    "        \n",
    "        big.append(set_dataframe)\n",
    "    fold_1 = shuffle(pd.concat(big[:4]))\n",
    "    test_1 = shuffle(big[4])\n",
    "    fold_2 = shuffle(pd.concat(big[1:5]))\n",
    "    test_2 = shuffle(big[0])\n",
    "    fold_3 = shuffle(pd.concat([big[0],big[2],big[3],big[4]]))\n",
    "    test_3 = shuffle(big[1])\n",
    "    fold_4 = shuffle(pd.concat([big[0],big[1],big[3],big[4]]))\n",
    "    test_4 = shuffle(big[2])\n",
    "    fold_5 = shuffle(pd.concat([big[0],big[2],big[1],big[4]]))\n",
    "    test_5 = shuffle(big[3])\n",
    "    \n",
    "    return fold_1,test_1,fold_2,test_2,fold_3,test_3,fold_4,test_4,fold_5,test_5"
   ]
  },
  {
   "cell_type": "code",
   "execution_count": null,
   "metadata": {},
   "outputs": [],
   "source": [
    "f1,t1,f2,t2,f3,t3,f4,t4,f5,t5 = fold(Cough_dataframe,sets_loc)"
   ]
  },
  {
   "cell_type": "code",
   "execution_count": 27,
   "metadata": {},
   "outputs": [],
   "source": [
    "fold_list = [f1,t1,f2,t2,f3,t3,f4,t4,f5,t5]"
   ]
  },
  {
   "cell_type": "code",
   "execution_count": 47,
   "metadata": {},
   "outputs": [],
   "source": [
    "def SVM(fold_list):\n",
    "    list_train = []\n",
    "    list_test = []\n",
    "    for i in range(0,len(fold_list),2):\n",
    "        fold = fold_list[i]\n",
    "        test = fold_list[i+1]\n",
    "        X_train = fold.iloc[:,:216]\n",
    "        y_train = fold.iloc[:,216]\n",
    "        X_test = test.iloc[:,:216]\n",
    "        y_test = test.iloc[:,216]\n",
    "\n",
    "\n",
    "        scaler = StandardScaler()\n",
    "\n",
    "        X_train = scaler.fit_transform(X_train)\n",
    "\n",
    "        X_test = scaler.transform(X_test)\n",
    "\n",
    "        X_train = pd.DataFrame(X_train)\n",
    "        X_test = pd.DataFrame(X_test)\n",
    "\n",
    "\n",
    "\n",
    "        ### SVM\n",
    "\n",
    "        svm = SVC()\n",
    "\n",
    "        svm.fit(X_train,y_train)\n",
    "\n",
    "        list_test.append(accuracy_score(y_test,svm.predict(X_test)))\n",
    "\n",
    "        list_train.append(accuracy_score(y_train,svm.predict(X_train)))\n",
    "        \n",
    "    return list_test, list_train"
   ]
  },
  {
   "cell_type": "code",
   "execution_count": null,
   "metadata": {},
   "outputs": [],
   "source": []
  },
  {
   "cell_type": "code",
   "execution_count": 49,
   "metadata": {},
   "outputs": [],
   "source": [
    "cough_test, cough_train = SVM(fold_list)"
   ]
  },
  {
   "cell_type": "code",
   "execution_count": 54,
   "metadata": {},
   "outputs": [],
   "source": [
    "from sklearn.model_selection import StratifiedShuffleSplit"
   ]
  },
  {
   "cell_type": "code",
   "execution_count": 98,
   "metadata": {},
   "outputs": [],
   "source": [
    "def hyperparameter_tuning(fold,test):\n",
    "    X_train = fold.iloc[:,:216]\n",
    "    y_train = fold.iloc[:,216]    \n",
    "    C_range = np.logspace(-1, 10, 12)\n",
    "    gamma_range = np.logspace(-1, 20, 22)\n",
    "    param_grid = dict(gamma=gamma_range, C=C_range)\n",
    "    cv = StratifiedShuffleSplit(n_splits=5)\n",
    "    grid = GridSearchCV(SVC(), param_grid=param_grid, cv=cv, verbose=3, n_jobs=-1)\n",
    "    grid.fit(X_train, y_train)\n",
    "    print(grid.best_params_)\n",
    "    y_pred = grid.predict(test.iloc[:,:216])\n",
    "    a = accuracy_score(test.iloc[:,216],y_pred)\n",
    "    return a\n"
   ]
  },
  {
   "cell_type": "code",
   "execution_count": 70,
   "metadata": {
    "scrolled": true
   },
   "outputs": [
    {
     "name": "stdout",
     "output_type": "stream",
     "text": [
      "Fitting 5 folds for each of 264 candidates, totalling 1320 fits\n"
     ]
    },
    {
     "name": "stderr",
     "output_type": "stream",
     "text": [
      "[Parallel(n_jobs=-1)]: Using backend LokyBackend with 8 concurrent workers.\n",
      "[Parallel(n_jobs=-1)]: Done  16 tasks      | elapsed:    0.6s\n",
      "[Parallel(n_jobs=-1)]: Done 112 tasks      | elapsed:    4.5s\n",
      "[Parallel(n_jobs=-1)]: Done 272 tasks      | elapsed:   11.1s\n",
      "[Parallel(n_jobs=-1)]: Done 496 tasks      | elapsed:   20.3s\n",
      "[Parallel(n_jobs=-1)]: Done 784 tasks      | elapsed:   31.8s\n",
      "[Parallel(n_jobs=-1)]: Done 1136 tasks      | elapsed:   46.5s\n",
      "[Parallel(n_jobs=-1)]: Done 1320 out of 1320 | elapsed:   53.8s finished\n",
      "[Parallel(n_jobs=-1)]: Using backend LokyBackend with 8 concurrent workers.\n"
     ]
    },
    {
     "name": "stdout",
     "output_type": "stream",
     "text": [
      "{'C': 10.0, 'gamma': 0.1}\n",
      "Fitting 5 folds for each of 264 candidates, totalling 1320 fits\n"
     ]
    },
    {
     "name": "stderr",
     "output_type": "stream",
     "text": [
      "[Parallel(n_jobs=-1)]: Done  16 tasks      | elapsed:    0.6s\n",
      "[Parallel(n_jobs=-1)]: Done 112 tasks      | elapsed:    3.8s\n",
      "[Parallel(n_jobs=-1)]: Done 272 tasks      | elapsed:    9.0s\n",
      "[Parallel(n_jobs=-1)]: Done 496 tasks      | elapsed:   16.2s\n",
      "[Parallel(n_jobs=-1)]: Done 784 tasks      | elapsed:   25.5s\n",
      "[Parallel(n_jobs=-1)]: Done 1136 tasks      | elapsed:   36.8s\n",
      "[Parallel(n_jobs=-1)]: Done 1320 out of 1320 | elapsed:   42.6s finished\n",
      "[Parallel(n_jobs=-1)]: Using backend LokyBackend with 8 concurrent workers.\n"
     ]
    },
    {
     "name": "stdout",
     "output_type": "stream",
     "text": [
      "{'C': 10.0, 'gamma': 0.1}\n",
      "Fitting 5 folds for each of 264 candidates, totalling 1320 fits\n"
     ]
    },
    {
     "name": "stderr",
     "output_type": "stream",
     "text": [
      "[Parallel(n_jobs=-1)]: Done  16 tasks      | elapsed:    0.6s\n",
      "[Parallel(n_jobs=-1)]: Done 112 tasks      | elapsed:    3.9s\n",
      "[Parallel(n_jobs=-1)]: Done 272 tasks      | elapsed:    9.5s\n",
      "[Parallel(n_jobs=-1)]: Done 496 tasks      | elapsed:   17.5s\n",
      "[Parallel(n_jobs=-1)]: Done 784 tasks      | elapsed:   27.6s\n",
      "[Parallel(n_jobs=-1)]: Done 1136 tasks      | elapsed:   40.1s\n",
      "[Parallel(n_jobs=-1)]: Done 1320 out of 1320 | elapsed:   46.9s finished\n",
      "[Parallel(n_jobs=-1)]: Using backend LokyBackend with 8 concurrent workers.\n"
     ]
    },
    {
     "name": "stdout",
     "output_type": "stream",
     "text": [
      "{'C': 10.0, 'gamma': 0.1}\n",
      "Fitting 5 folds for each of 264 candidates, totalling 1320 fits\n"
     ]
    },
    {
     "name": "stderr",
     "output_type": "stream",
     "text": [
      "[Parallel(n_jobs=-1)]: Done  16 tasks      | elapsed:    0.7s\n",
      "[Parallel(n_jobs=-1)]: Done 112 tasks      | elapsed:    4.3s\n",
      "[Parallel(n_jobs=-1)]: Done 272 tasks      | elapsed:   10.4s\n",
      "[Parallel(n_jobs=-1)]: Done 496 tasks      | elapsed:   18.8s\n",
      "[Parallel(n_jobs=-1)]: Done 784 tasks      | elapsed:   29.8s\n",
      "[Parallel(n_jobs=-1)]: Done 1136 tasks      | elapsed:   43.3s\n",
      "[Parallel(n_jobs=-1)]: Done 1320 out of 1320 | elapsed:   50.1s finished\n",
      "[Parallel(n_jobs=-1)]: Using backend LokyBackend with 8 concurrent workers.\n"
     ]
    },
    {
     "name": "stdout",
     "output_type": "stream",
     "text": [
      "{'C': 1.0, 'gamma': 0.1}\n",
      "Fitting 5 folds for each of 264 candidates, totalling 1320 fits\n"
     ]
    },
    {
     "name": "stderr",
     "output_type": "stream",
     "text": [
      "[Parallel(n_jobs=-1)]: Done  16 tasks      | elapsed:    0.8s\n",
      "[Parallel(n_jobs=-1)]: Done 112 tasks      | elapsed:    4.1s\n",
      "[Parallel(n_jobs=-1)]: Done 272 tasks      | elapsed:   10.8s\n",
      "[Parallel(n_jobs=-1)]: Done 496 tasks      | elapsed:   19.5s\n",
      "[Parallel(n_jobs=-1)]: Done 784 tasks      | elapsed:   29.7s\n",
      "[Parallel(n_jobs=-1)]: Done 1136 tasks      | elapsed:   42.1s\n"
     ]
    },
    {
     "name": "stdout",
     "output_type": "stream",
     "text": [
      "{'C': 10.0, 'gamma': 0.1}\n"
     ]
    },
    {
     "name": "stderr",
     "output_type": "stream",
     "text": [
      "[Parallel(n_jobs=-1)]: Done 1320 out of 1320 | elapsed:   48.6s finished\n"
     ]
    }
   ],
   "source": [
    "tune_acc_cough = []\n",
    "for i in range(0,len(fold_list),2):\n",
    "    tune_acc_cough.append(hyperparameter_tuning(fold_list[i],fold_list[i+1]))"
   ]
  },
  {
   "cell_type": "code",
   "execution_count": 141,
   "metadata": {},
   "outputs": [
    {
     "data": {
      "text/plain": [
       "0.6297472258513764"
      ]
     },
     "execution_count": 141,
     "metadata": {},
     "output_type": "execute_result"
    }
   ],
   "source": [
    "np.mean(cough_test)"
   ]
  },
  {
   "cell_type": "code",
   "execution_count": 137,
   "metadata": {},
   "outputs": [
    {
     "data": {
      "text/plain": [
       "[0.7448275862068966,\n",
       " 0.6029411764705882,\n",
       " 0.6627906976744186,\n",
       " 0.5849056603773585,\n",
       " 0.6606060606060606]"
      ]
     },
     "execution_count": 137,
     "metadata": {},
     "output_type": "execute_result"
    }
   ],
   "source": [
    "(tune_acc_cough)"
   ]
  },
  {
   "cell_type": "code",
   "execution_count": 138,
   "metadata": {},
   "outputs": [
    {
     "data": {
      "text/plain": [
       "0.6512142362670645"
      ]
     },
     "execution_count": 138,
     "metadata": {},
     "output_type": "execute_result"
    }
   ],
   "source": [
    "np.mean(tune_acc_cough)"
   ]
  },
  {
   "cell_type": "code",
   "execution_count": 144,
   "metadata": {},
   "outputs": [],
   "source": [
    "a = [1,2,3,4]"
   ]
  },
  {
   "cell_type": "code",
   "execution_count": 146,
   "metadata": {},
   "outputs": [
    {
     "data": {
      "text/plain": [
       "0.05605853306807637"
      ]
     },
     "execution_count": 146,
     "metadata": {},
     "output_type": "execute_result"
    }
   ],
   "source": [
    "np.std(tune_acc_cough)"
   ]
  },
  {
   "cell_type": "markdown",
   "metadata": {},
   "source": [
    "### Wheeze"
   ]
  },
  {
   "cell_type": "code",
   "execution_count": 76,
   "metadata": {},
   "outputs": [],
   "source": [
    "f1,t1,f2,t2,f3,t3,f4,t4,f5,t5 = fold(Wheeze_dataframe,sets_loc)\n",
    "fold_list = [f1,t1,f2,t2,f3,t3,f4,t4,f5,t5]\n",
    "wheeze_test, wheeze_train = SVM(fold_list)\n"
   ]
  },
  {
   "cell_type": "code",
   "execution_count": 77,
   "metadata": {},
   "outputs": [
    {
     "data": {
      "text/plain": [
       "([0.7217391304347827,\n",
       "  0.6423357664233577,\n",
       "  0.7301587301587301,\n",
       "  0.8223684210526315,\n",
       "  0.6062992125984252],\n",
       " [0.974169741697417,\n",
       "  0.9826923076923076,\n",
       "  0.9830508474576272,\n",
       "  0.9722772277227723,\n",
       "  0.9679245283018868])"
      ]
     },
     "execution_count": 77,
     "metadata": {},
     "output_type": "execute_result"
    }
   ],
   "source": [
    "wheeze_test, wheeze_train"
   ]
  },
  {
   "cell_type": "code",
   "execution_count": 91,
   "metadata": {},
   "outputs": [
    {
     "data": {
      "text/plain": [
       "0.7045802521335854"
      ]
     },
     "execution_count": 91,
     "metadata": {},
     "output_type": "execute_result"
    }
   ],
   "source": [
    "np.mean(wheeze_test)"
   ]
  },
  {
   "cell_type": "code",
   "execution_count": 166,
   "metadata": {},
   "outputs": [
    {
     "data": {
      "text/plain": [
       "0.07530773813278728"
      ]
     },
     "execution_count": 166,
     "metadata": {},
     "output_type": "execute_result"
    }
   ],
   "source": [
    "np.std(wheeze_test)"
   ]
  },
  {
   "cell_type": "code",
   "execution_count": 78,
   "metadata": {
    "collapsed": true
   },
   "outputs": [
    {
     "name": "stdout",
     "output_type": "stream",
     "text": [
      "Fitting 5 folds for each of 264 candidates, totalling 1320 fits\n"
     ]
    },
    {
     "name": "stderr",
     "output_type": "stream",
     "text": [
      "[Parallel(n_jobs=-1)]: Using backend LokyBackend with 8 concurrent workers.\n",
      "[Parallel(n_jobs=-1)]: Done  16 tasks      | elapsed:    0.4s\n",
      "[Parallel(n_jobs=-1)]: Done 208 tasks      | elapsed:    4.4s\n",
      "[Parallel(n_jobs=-1)]: Done 528 tasks      | elapsed:   11.8s\n",
      "[Parallel(n_jobs=-1)]: Done 976 tasks      | elapsed:   22.6s\n",
      "[Parallel(n_jobs=-1)]: Done 1320 out of 1320 | elapsed:   30.4s finished\n",
      "[Parallel(n_jobs=-1)]: Using backend LokyBackend with 8 concurrent workers.\n"
     ]
    },
    {
     "name": "stdout",
     "output_type": "stream",
     "text": [
      "{'C': 10.0, 'gamma': 0.1}\n",
      "Fitting 5 folds for each of 264 candidates, totalling 1320 fits\n"
     ]
    },
    {
     "name": "stderr",
     "output_type": "stream",
     "text": [
      "[Parallel(n_jobs=-1)]: Done  16 tasks      | elapsed:    0.5s\n",
      "[Parallel(n_jobs=-1)]: Done 208 tasks      | elapsed:    4.2s\n",
      "[Parallel(n_jobs=-1)]: Done 528 tasks      | elapsed:   10.3s\n",
      "[Parallel(n_jobs=-1)]: Done 976 tasks      | elapsed:   19.3s\n",
      "[Parallel(n_jobs=-1)]: Done 1320 out of 1320 | elapsed:   25.9s finished\n",
      "[Parallel(n_jobs=-1)]: Using backend LokyBackend with 8 concurrent workers.\n"
     ]
    },
    {
     "name": "stdout",
     "output_type": "stream",
     "text": [
      "{'C': 10.0, 'gamma': 0.1}\n",
      "Fitting 5 folds for each of 264 candidates, totalling 1320 fits\n"
     ]
    },
    {
     "name": "stderr",
     "output_type": "stream",
     "text": [
      "[Parallel(n_jobs=-1)]: Done  16 tasks      | elapsed:    0.4s\n",
      "[Parallel(n_jobs=-1)]: Done 208 tasks      | elapsed:    4.4s\n",
      "[Parallel(n_jobs=-1)]: Done 528 tasks      | elapsed:   10.7s\n",
      "[Parallel(n_jobs=-1)]: Done 976 tasks      | elapsed:   19.7s\n",
      "[Parallel(n_jobs=-1)]: Done 1320 out of 1320 | elapsed:   26.4s finished\n",
      "[Parallel(n_jobs=-1)]: Using backend LokyBackend with 8 concurrent workers.\n"
     ]
    },
    {
     "name": "stdout",
     "output_type": "stream",
     "text": [
      "{'C': 10.0, 'gamma': 0.1}\n",
      "Fitting 5 folds for each of 264 candidates, totalling 1320 fits\n"
     ]
    },
    {
     "name": "stderr",
     "output_type": "stream",
     "text": [
      "[Parallel(n_jobs=-1)]: Done  16 tasks      | elapsed:    0.3s\n",
      "[Parallel(n_jobs=-1)]: Done 208 tasks      | elapsed:    3.8s\n",
      "[Parallel(n_jobs=-1)]: Done 528 tasks      | elapsed:    9.6s\n",
      "[Parallel(n_jobs=-1)]: Done 976 tasks      | elapsed:   17.7s\n",
      "[Parallel(n_jobs=-1)]: Done 1320 out of 1320 | elapsed:   24.0s finished\n",
      "[Parallel(n_jobs=-1)]: Using backend LokyBackend with 8 concurrent workers.\n"
     ]
    },
    {
     "name": "stdout",
     "output_type": "stream",
     "text": [
      "{'C': 10.0, 'gamma': 0.1}\n",
      "Fitting 5 folds for each of 264 candidates, totalling 1320 fits\n"
     ]
    },
    {
     "name": "stderr",
     "output_type": "stream",
     "text": [
      "[Parallel(n_jobs=-1)]: Done  16 tasks      | elapsed:    0.4s\n",
      "[Parallel(n_jobs=-1)]: Done 208 tasks      | elapsed:    4.2s\n",
      "[Parallel(n_jobs=-1)]: Done 528 tasks      | elapsed:   10.6s\n",
      "[Parallel(n_jobs=-1)]: Done 976 tasks      | elapsed:   19.5s\n"
     ]
    },
    {
     "name": "stdout",
     "output_type": "stream",
     "text": [
      "{'C': 10.0, 'gamma': 0.1}\n"
     ]
    },
    {
     "name": "stderr",
     "output_type": "stream",
     "text": [
      "[Parallel(n_jobs=-1)]: Done 1320 out of 1320 | elapsed:   26.2s finished\n"
     ]
    }
   ],
   "source": [
    "tune_acc_wheeze = []\n",
    "for i in range(0,len(fold_list),2):\n",
    "    tune_acc_wheeze.append(hyperparameter_tuning(fold_list[i],fold_list[i+1]))"
   ]
  },
  {
   "cell_type": "code",
   "execution_count": 79,
   "metadata": {},
   "outputs": [
    {
     "data": {
      "text/plain": [
       "[0.6608695652173913,\n",
       " 0.7299270072992701,\n",
       " 0.6825396825396826,\n",
       " 0.7171052631578947,\n",
       " 0.7007874015748031]"
      ]
     },
     "execution_count": 79,
     "metadata": {},
     "output_type": "execute_result"
    }
   ],
   "source": [
    "tune_acc_wheeze"
   ]
  },
  {
   "cell_type": "code",
   "execution_count": 80,
   "metadata": {},
   "outputs": [
    {
     "data": {
      "text/plain": [
       "0.6982457839578083"
      ]
     },
     "execution_count": 80,
     "metadata": {},
     "output_type": "execute_result"
    }
   ],
   "source": [
    "np.mean(tune_acc_wheeze)"
   ]
  },
  {
   "cell_type": "code",
   "execution_count": 81,
   "metadata": {},
   "outputs": [
    {
     "data": {
      "text/plain": [
       "0.02453366274044316"
      ]
     },
     "execution_count": 81,
     "metadata": {},
     "output_type": "execute_result"
    }
   ],
   "source": [
    "np.std(tune_acc_wheeze)"
   ]
  },
  {
   "cell_type": "markdown",
   "metadata": {},
   "source": [
    "### Aaa "
   ]
  },
  {
   "cell_type": "code",
   "execution_count": 84,
   "metadata": {},
   "outputs": [],
   "source": [
    "f1,t1,f2,t2,f3,t3,f4,t4,f5,t5 = fold(Aaa_dataframe,sets_loc)\n",
    "fold_list = [f1,t1,f2,t2,f3,t3,f4,t4,f5,t5]\n",
    "Aaa_test, Aaa_train = SVM(fold_list)\n"
   ]
  },
  {
   "cell_type": "code",
   "execution_count": 90,
   "metadata": {},
   "outputs": [
    {
     "data": {
      "text/plain": [
       "(0.530039687599836,\n",
       " [0.953551912568306,\n",
       "  0.9545454545454546,\n",
       "  0.9486486486486486,\n",
       "  0.9700272479564033,\n",
       "  0.9439775910364145])"
      ]
     },
     "execution_count": 90,
     "metadata": {},
     "output_type": "execute_result"
    }
   ],
   "source": [
    "np.mean(Aaa_test), Aaa_train"
   ]
  },
  {
   "cell_type": "code",
   "execution_count": 86,
   "metadata": {
    "collapsed": true
   },
   "outputs": [
    {
     "name": "stdout",
     "output_type": "stream",
     "text": [
      "Fitting 5 folds for each of 264 candidates, totalling 1320 fits\n"
     ]
    },
    {
     "name": "stderr",
     "output_type": "stream",
     "text": [
      "[Parallel(n_jobs=-1)]: Using backend LokyBackend with 8 concurrent workers.\n",
      "[Parallel(n_jobs=-1)]: Done  16 tasks      | elapsed:    1.7s\n",
      "[Parallel(n_jobs=-1)]: Done 175 tasks      | elapsed:    3.3s\n",
      "[Parallel(n_jobs=-1)]: Done 495 tasks      | elapsed:    6.5s\n",
      "[Parallel(n_jobs=-1)]: Done 943 tasks      | elapsed:   11.1s\n",
      "[Parallel(n_jobs=-1)]: Done 1305 out of 1320 | elapsed:   14.8s remaining:    0.2s\n",
      "[Parallel(n_jobs=-1)]: Done 1320 out of 1320 | elapsed:   14.9s finished\n",
      "[Parallel(n_jobs=-1)]: Using backend LokyBackend with 8 concurrent workers.\n"
     ]
    },
    {
     "name": "stdout",
     "output_type": "stream",
     "text": [
      "{'C': 10.0, 'gamma': 0.1}\n",
      "Fitting 5 folds for each of 264 candidates, totalling 1320 fits\n"
     ]
    },
    {
     "name": "stderr",
     "output_type": "stream",
     "text": [
      "[Parallel(n_jobs=-1)]: Done  16 tasks      | elapsed:    0.2s\n",
      "[Parallel(n_jobs=-1)]: Done 400 tasks      | elapsed:    3.8s\n",
      "[Parallel(n_jobs=-1)]: Done 1040 tasks      | elapsed:    9.6s\n",
      "[Parallel(n_jobs=-1)]: Done 1320 out of 1320 | elapsed:   12.1s finished\n",
      "[Parallel(n_jobs=-1)]: Using backend LokyBackend with 8 concurrent workers.\n"
     ]
    },
    {
     "name": "stdout",
     "output_type": "stream",
     "text": [
      "{'C': 10.0, 'gamma': 0.1}\n",
      "Fitting 5 folds for each of 264 candidates, totalling 1320 fits\n"
     ]
    },
    {
     "name": "stderr",
     "output_type": "stream",
     "text": [
      "[Parallel(n_jobs=-1)]: Done  16 tasks      | elapsed:    0.2s\n",
      "[Parallel(n_jobs=-1)]: Done 400 tasks      | elapsed:    4.4s\n",
      "[Parallel(n_jobs=-1)]: Done 1040 tasks      | elapsed:   10.8s\n",
      "[Parallel(n_jobs=-1)]: Done 1320 out of 1320 | elapsed:   13.9s finished\n",
      "[Parallel(n_jobs=-1)]: Using backend LokyBackend with 8 concurrent workers.\n"
     ]
    },
    {
     "name": "stdout",
     "output_type": "stream",
     "text": [
      "{'C': 10.0, 'gamma': 0.1}\n",
      "Fitting 5 folds for each of 264 candidates, totalling 1320 fits\n"
     ]
    },
    {
     "name": "stderr",
     "output_type": "stream",
     "text": [
      "[Parallel(n_jobs=-1)]: Done  16 tasks      | elapsed:    0.2s\n",
      "[Parallel(n_jobs=-1)]: Done 400 tasks      | elapsed:    4.1s\n",
      "[Parallel(n_jobs=-1)]: Done 1040 tasks      | elapsed:   10.3s\n",
      "[Parallel(n_jobs=-1)]: Done 1320 out of 1320 | elapsed:   12.9s finished\n",
      "[Parallel(n_jobs=-1)]: Using backend LokyBackend with 8 concurrent workers.\n"
     ]
    },
    {
     "name": "stdout",
     "output_type": "stream",
     "text": [
      "{'C': 10.0, 'gamma': 0.1}\n",
      "Fitting 5 folds for each of 264 candidates, totalling 1320 fits\n"
     ]
    },
    {
     "name": "stderr",
     "output_type": "stream",
     "text": [
      "[Parallel(n_jobs=-1)]: Done  16 tasks      | elapsed:    0.2s\n",
      "[Parallel(n_jobs=-1)]: Done 400 tasks      | elapsed:    3.8s\n",
      "[Parallel(n_jobs=-1)]: Done 1040 tasks      | elapsed:   10.1s\n"
     ]
    },
    {
     "name": "stdout",
     "output_type": "stream",
     "text": [
      "{'C': 10.0, 'gamma': 0.1}\n"
     ]
    },
    {
     "name": "stderr",
     "output_type": "stream",
     "text": [
      "[Parallel(n_jobs=-1)]: Done 1320 out of 1320 | elapsed:   12.7s finished\n"
     ]
    }
   ],
   "source": [
    "tune_acc_Aaa = []\n",
    "for i in range(0,len(fold_list),2):\n",
    "    tune_acc_Aaa.append(hyperparameter_tuning(fold_list[i],fold_list[i+1]))"
   ]
  },
  {
   "cell_type": "code",
   "execution_count": 147,
   "metadata": {},
   "outputs": [
    {
     "data": {
      "text/plain": [
       "0.585253578467337"
      ]
     },
     "execution_count": 147,
     "metadata": {},
     "output_type": "execute_result"
    }
   ],
   "source": [
    "np.mean(tune_acc_Aaa)"
   ]
  },
  {
   "cell_type": "code",
   "execution_count": 148,
   "metadata": {},
   "outputs": [
    {
     "data": {
      "text/plain": [
       "[0.4942528735632184, 0.57, 0.6588235294117647, 0.65, 0.5531914893617021]"
      ]
     },
     "execution_count": 148,
     "metadata": {},
     "output_type": "execute_result"
    }
   ],
   "source": [
    "tune_acc_Aaa"
   ]
  },
  {
   "cell_type": "code",
   "execution_count": 149,
   "metadata": {},
   "outputs": [
    {
     "data": {
      "text/plain": [
       "0.0618811995523263"
      ]
     },
     "execution_count": 149,
     "metadata": {},
     "output_type": "execute_result"
    }
   ],
   "source": [
    "np.std(tune_acc_Aaa)"
   ]
  },
  {
   "cell_type": "markdown",
   "metadata": {},
   "source": [
    "### Eee"
   ]
  },
  {
   "cell_type": "code",
   "execution_count": 87,
   "metadata": {},
   "outputs": [],
   "source": [
    "f1,t1,f2,t2,f3,t3,f4,t4,f5,t5 = fold(Eee_dataframe,sets_loc)\n",
    "fold_list = [f1,t1,f2,t2,f3,t3,f4,t4,f5,t5]\n",
    "Eee_test, Eee_train = SVM(fold_list)\n"
   ]
  },
  {
   "cell_type": "code",
   "execution_count": 93,
   "metadata": {},
   "outputs": [
    {
     "data": {
      "text/plain": [
       "([0.632183908045977, 0.61, 0.6823529411764706, 0.6875, 0.5851063829787234],\n",
       " [0.9888579387186629,\n",
       "  0.9826589595375722,\n",
       "  0.9833795013850416,\n",
       "  0.9808743169398907,\n",
       "  0.9886363636363636])"
      ]
     },
     "execution_count": 93,
     "metadata": {},
     "output_type": "execute_result"
    }
   ],
   "source": [
    "Eee_test, Eee_train"
   ]
  },
  {
   "cell_type": "code",
   "execution_count": 94,
   "metadata": {},
   "outputs": [
    {
     "data": {
      "text/plain": [
       "0.6394286464402342"
      ]
     },
     "execution_count": 94,
     "metadata": {},
     "output_type": "execute_result"
    }
   ],
   "source": [
    "np.mean(Eee_test)"
   ]
  },
  {
   "cell_type": "code",
   "execution_count": 99,
   "metadata": {
    "collapsed": true
   },
   "outputs": [
    {
     "name": "stdout",
     "output_type": "stream",
     "text": [
      "Fitting 5 folds for each of 264 candidates, totalling 1320 fits\n"
     ]
    },
    {
     "name": "stderr",
     "output_type": "stream",
     "text": [
      "[Parallel(n_jobs=-1)]: Using backend LokyBackend with 8 concurrent workers.\n",
      "[Parallel(n_jobs=-1)]: Done  16 tasks      | elapsed:    1.7s\n",
      "[Parallel(n_jobs=-1)]: Done 177 tasks      | elapsed:    3.2s\n",
      "[Parallel(n_jobs=-1)]: Done 497 tasks      | elapsed:    6.2s\n",
      "[Parallel(n_jobs=-1)]: Done 945 tasks      | elapsed:   10.5s\n",
      "[Parallel(n_jobs=-1)]: Done 1305 out of 1320 | elapsed:   13.9s remaining:    0.2s\n",
      "[Parallel(n_jobs=-1)]: Done 1320 out of 1320 | elapsed:   14.0s finished\n",
      "[Parallel(n_jobs=-1)]: Using backend LokyBackend with 8 concurrent workers.\n"
     ]
    },
    {
     "name": "stdout",
     "output_type": "stream",
     "text": [
      "{'C': 1.0, 'gamma': 0.1}\n",
      "Fitting 5 folds for each of 264 candidates, totalling 1320 fits\n"
     ]
    },
    {
     "name": "stderr",
     "output_type": "stream",
     "text": [
      "[Parallel(n_jobs=-1)]: Done  16 tasks      | elapsed:    0.2s\n",
      "[Parallel(n_jobs=-1)]: Done 592 tasks      | elapsed:    5.1s\n",
      "[Parallel(n_jobs=-1)]: Done 1320 out of 1320 | elapsed:   11.4s finished\n",
      "[Parallel(n_jobs=-1)]: Using backend LokyBackend with 8 concurrent workers.\n"
     ]
    },
    {
     "name": "stdout",
     "output_type": "stream",
     "text": [
      "{'C': 1.0, 'gamma': 0.1}\n",
      "Fitting 5 folds for each of 264 candidates, totalling 1320 fits\n"
     ]
    },
    {
     "name": "stderr",
     "output_type": "stream",
     "text": [
      "[Parallel(n_jobs=-1)]: Done  16 tasks      | elapsed:    0.2s\n",
      "[Parallel(n_jobs=-1)]: Done 400 tasks      | elapsed:    4.1s\n",
      "[Parallel(n_jobs=-1)]: Done 1040 tasks      | elapsed:   10.6s\n",
      "[Parallel(n_jobs=-1)]: Done 1320 out of 1320 | elapsed:   13.4s finished\n",
      "[Parallel(n_jobs=-1)]: Using backend LokyBackend with 8 concurrent workers.\n"
     ]
    },
    {
     "name": "stdout",
     "output_type": "stream",
     "text": [
      "{'C': 10.0, 'gamma': 0.1}\n",
      "Fitting 5 folds for each of 264 candidates, totalling 1320 fits\n"
     ]
    },
    {
     "name": "stderr",
     "output_type": "stream",
     "text": [
      "[Parallel(n_jobs=-1)]: Done  16 tasks      | elapsed:    0.2s\n",
      "[Parallel(n_jobs=-1)]: Done 400 tasks      | elapsed:    4.0s\n",
      "[Parallel(n_jobs=-1)]: Done 1040 tasks      | elapsed:   10.5s\n",
      "[Parallel(n_jobs=-1)]: Done 1320 out of 1320 | elapsed:   13.3s finished\n",
      "[Parallel(n_jobs=-1)]: Using backend LokyBackend with 8 concurrent workers.\n"
     ]
    },
    {
     "name": "stdout",
     "output_type": "stream",
     "text": [
      "{'C': 10.0, 'gamma': 0.1}\n",
      "Fitting 5 folds for each of 264 candidates, totalling 1320 fits\n"
     ]
    },
    {
     "name": "stderr",
     "output_type": "stream",
     "text": [
      "[Parallel(n_jobs=-1)]: Done  16 tasks      | elapsed:    0.2s\n",
      "[Parallel(n_jobs=-1)]: Done 400 tasks      | elapsed:    3.9s\n",
      "[Parallel(n_jobs=-1)]: Done 1040 tasks      | elapsed:    9.8s\n"
     ]
    },
    {
     "name": "stdout",
     "output_type": "stream",
     "text": [
      "{'C': 10.0, 'gamma': 0.1}\n"
     ]
    },
    {
     "name": "stderr",
     "output_type": "stream",
     "text": [
      "[Parallel(n_jobs=-1)]: Done 1320 out of 1320 | elapsed:   12.6s finished\n"
     ]
    }
   ],
   "source": [
    "tune_acc_Eee = []\n",
    "for i in range(0,len(fold_list),2):\n",
    "    tune_acc_Eee.append(hyperparameter_tuning(fold_list[i],fold_list[i+1]))"
   ]
  },
  {
   "cell_type": "code",
   "execution_count": 150,
   "metadata": {},
   "outputs": [
    {
     "data": {
      "text/plain": [
       "[0.4827586206896552, 0.61, 0.6588235294117647, 0.65, 0.5531914893617021]"
      ]
     },
     "execution_count": 150,
     "metadata": {},
     "output_type": "execute_result"
    }
   ],
   "source": [
    "tune_acc_Eee"
   ]
  },
  {
   "cell_type": "code",
   "execution_count": 102,
   "metadata": {},
   "outputs": [
    {
     "data": {
      "text/plain": [
       "0.5909547278926244"
      ]
     },
     "execution_count": 102,
     "metadata": {},
     "output_type": "execute_result"
    }
   ],
   "source": [
    "np.mean(tune_acc_Eee)"
   ]
  },
  {
   "cell_type": "code",
   "execution_count": 153,
   "metadata": {},
   "outputs": [
    {
     "data": {
      "text/plain": [
       "0.04005693419361653"
      ]
     },
     "execution_count": 153,
     "metadata": {},
     "output_type": "execute_result"
    }
   ],
   "source": [
    "np.std(Eee_test)"
   ]
  },
  {
   "cell_type": "markdown",
   "metadata": {},
   "source": [
    "### Yee"
   ]
  },
  {
   "cell_type": "code",
   "execution_count": 104,
   "metadata": {},
   "outputs": [],
   "source": [
    "f1,t1,f2,t2,f3,t3,f4,t4,f5,t5 = fold(Yee_dataframe,sets_loc)\n",
    "fold_list = [f1,t1,f2,t2,f3,t3,f4,t4,f5,t5]\n",
    "Yee_test, Yee_train = SVM(fold_list)"
   ]
  },
  {
   "cell_type": "code",
   "execution_count": 105,
   "metadata": {},
   "outputs": [
    {
     "data": {
      "text/plain": [
       "([0.6627906976744186,\n",
       "  0.648936170212766,\n",
       "  0.6091954022988506,\n",
       "  0.5921052631578947,\n",
       "  0.4883720930232558],\n",
       " [0.9825072886297376,\n",
       "  0.991044776119403,\n",
       "  0.9883040935672515,\n",
       "  0.9801699716713881,\n",
       "  0.9854227405247813])"
      ]
     },
     "execution_count": 105,
     "metadata": {},
     "output_type": "execute_result"
    }
   ],
   "source": [
    "Yee_test, Yee_train"
   ]
  },
  {
   "cell_type": "code",
   "execution_count": 106,
   "metadata": {},
   "outputs": [
    {
     "data": {
      "text/plain": [
       "0.6002799252734372"
      ]
     },
     "execution_count": 106,
     "metadata": {},
     "output_type": "execute_result"
    }
   ],
   "source": [
    "np.mean(Yee_test)"
   ]
  },
  {
   "cell_type": "code",
   "execution_count": 107,
   "metadata": {
    "collapsed": true
   },
   "outputs": [
    {
     "name": "stdout",
     "output_type": "stream",
     "text": [
      "Fitting 5 folds for each of 264 candidates, totalling 1320 fits\n"
     ]
    },
    {
     "name": "stderr",
     "output_type": "stream",
     "text": [
      "[Parallel(n_jobs=-1)]: Using backend LokyBackend with 8 concurrent workers.\n",
      "[Parallel(n_jobs=-1)]: Done  16 tasks      | elapsed:    1.6s\n",
      "[Parallel(n_jobs=-1)]: Done 281 tasks      | elapsed:    4.0s\n",
      "[Parallel(n_jobs=-1)]: Done 921 tasks      | elapsed:    9.3s\n",
      "[Parallel(n_jobs=-1)]: Done 1305 out of 1320 | elapsed:   12.7s remaining:    0.1s\n",
      "[Parallel(n_jobs=-1)]: Done 1320 out of 1320 | elapsed:   12.8s finished\n",
      "[Parallel(n_jobs=-1)]: Using backend LokyBackend with 8 concurrent workers.\n"
     ]
    },
    {
     "name": "stdout",
     "output_type": "stream",
     "text": [
      "{'C': 10.0, 'gamma': 0.1}\n",
      "Fitting 5 folds for each of 264 candidates, totalling 1320 fits\n"
     ]
    },
    {
     "name": "stderr",
     "output_type": "stream",
     "text": [
      "[Parallel(n_jobs=-1)]: Done  16 tasks      | elapsed:    0.2s\n",
      "[Parallel(n_jobs=-1)]: Done 592 tasks      | elapsed:    5.2s\n",
      "[Parallel(n_jobs=-1)]: Done 1320 out of 1320 | elapsed:   11.2s finished\n",
      "[Parallel(n_jobs=-1)]: Using backend LokyBackend with 8 concurrent workers.\n",
      "[Parallel(n_jobs=-1)]: Done  16 tasks      | elapsed:    0.2s\n"
     ]
    },
    {
     "name": "stdout",
     "output_type": "stream",
     "text": [
      "{'C': 1.0, 'gamma': 0.1}\n",
      "Fitting 5 folds for each of 264 candidates, totalling 1320 fits\n"
     ]
    },
    {
     "name": "stderr",
     "output_type": "stream",
     "text": [
      "[Parallel(n_jobs=-1)]: Done 592 tasks      | elapsed:    5.2s\n",
      "[Parallel(n_jobs=-1)]: Done 1320 out of 1320 | elapsed:   11.2s finished\n",
      "[Parallel(n_jobs=-1)]: Using backend LokyBackend with 8 concurrent workers.\n"
     ]
    },
    {
     "name": "stdout",
     "output_type": "stream",
     "text": [
      "{'C': 1.0, 'gamma': 0.1}\n",
      "Fitting 5 folds for each of 264 candidates, totalling 1320 fits\n"
     ]
    },
    {
     "name": "stderr",
     "output_type": "stream",
     "text": [
      "[Parallel(n_jobs=-1)]: Done  16 tasks      | elapsed:    0.2s\n",
      "[Parallel(n_jobs=-1)]: Done 592 tasks      | elapsed:    5.4s\n",
      "[Parallel(n_jobs=-1)]: Done 1320 out of 1320 | elapsed:   11.8s finished\n",
      "[Parallel(n_jobs=-1)]: Using backend LokyBackend with 8 concurrent workers.\n"
     ]
    },
    {
     "name": "stdout",
     "output_type": "stream",
     "text": [
      "{'C': 10.0, 'gamma': 0.1}\n",
      "Fitting 5 folds for each of 264 candidates, totalling 1320 fits\n"
     ]
    },
    {
     "name": "stderr",
     "output_type": "stream",
     "text": [
      "[Parallel(n_jobs=-1)]: Done  16 tasks      | elapsed:    0.2s\n",
      "[Parallel(n_jobs=-1)]: Done 592 tasks      | elapsed:    5.2s\n"
     ]
    },
    {
     "name": "stdout",
     "output_type": "stream",
     "text": [
      "{'C': 1.0, 'gamma': 0.1}\n"
     ]
    },
    {
     "name": "stderr",
     "output_type": "stream",
     "text": [
      "[Parallel(n_jobs=-1)]: Done 1320 out of 1320 | elapsed:   11.3s finished\n"
     ]
    }
   ],
   "source": [
    "tune_acc_Yee = []\n",
    "for i in range(0,len(fold_list),2):\n",
    "    tune_acc_Yee.append(hyperparameter_tuning(fold_list[i],fold_list[i+1]))"
   ]
  },
  {
   "cell_type": "code",
   "execution_count": 154,
   "metadata": {},
   "outputs": [
    {
     "data": {
      "text/plain": [
       "[0.5116279069767442,\n",
       " 0.5319148936170213,\n",
       " 0.5632183908045977,\n",
       " 0.5921052631578947,\n",
       " 0.5]"
      ]
     },
     "execution_count": 154,
     "metadata": {},
     "output_type": "execute_result"
    }
   ],
   "source": [
    "tune_acc_Yee"
   ]
  },
  {
   "cell_type": "code",
   "execution_count": 155,
   "metadata": {},
   "outputs": [
    {
     "data": {
      "text/plain": [
       "0.5397732909112516"
      ]
     },
     "execution_count": 155,
     "metadata": {},
     "output_type": "execute_result"
    }
   ],
   "source": [
    "np.mean(tune_acc_Yee)"
   ]
  },
  {
   "cell_type": "code",
   "execution_count": 157,
   "metadata": {},
   "outputs": [
    {
     "data": {
      "text/plain": [
       "0.6002799252734372"
      ]
     },
     "execution_count": 157,
     "metadata": {},
     "output_type": "execute_result"
    }
   ],
   "source": [
    "np.mean(Yee_test)\n"
   ]
  },
  {
   "cell_type": "code",
   "execution_count": 158,
   "metadata": {},
   "outputs": [
    {
     "data": {
      "text/plain": [
       "0.06155436716918134"
      ]
     },
     "execution_count": 158,
     "metadata": {},
     "output_type": "execute_result"
    }
   ],
   "source": [
    "np.std(Yee_test)"
   ]
  },
  {
   "cell_type": "markdown",
   "metadata": {},
   "source": [
    "### Inhale"
   ]
  },
  {
   "cell_type": "code",
   "execution_count": 108,
   "metadata": {
    "collapsed": true
   },
   "outputs": [
    {
     "name": "stdout",
     "output_type": "stream",
     "text": [
      "Fitting 5 folds for each of 264 candidates, totalling 1320 fits\n"
     ]
    },
    {
     "name": "stderr",
     "output_type": "stream",
     "text": [
      "[Parallel(n_jobs=-1)]: Using backend LokyBackend with 8 concurrent workers.\n",
      "[Parallel(n_jobs=-1)]: Done  16 tasks      | elapsed:    0.5s\n",
      "[Parallel(n_jobs=-1)]: Done 208 tasks      | elapsed:    5.8s\n",
      "[Parallel(n_jobs=-1)]: Done 528 tasks      | elapsed:   14.3s\n",
      "[Parallel(n_jobs=-1)]: Done 976 tasks      | elapsed:   26.2s\n",
      "[Parallel(n_jobs=-1)]: Done 1320 out of 1320 | elapsed:   36.1s finished\n",
      "[Parallel(n_jobs=-1)]: Using backend LokyBackend with 8 concurrent workers.\n"
     ]
    },
    {
     "name": "stdout",
     "output_type": "stream",
     "text": [
      "{'C': 10.0, 'gamma': 0.1}\n",
      "Fitting 5 folds for each of 264 candidates, totalling 1320 fits\n"
     ]
    },
    {
     "name": "stderr",
     "output_type": "stream",
     "text": [
      "[Parallel(n_jobs=-1)]: Done  16 tasks      | elapsed:    0.4s\n",
      "[Parallel(n_jobs=-1)]: Done 208 tasks      | elapsed:    5.2s\n",
      "[Parallel(n_jobs=-1)]: Done 528 tasks      | elapsed:   13.1s\n",
      "[Parallel(n_jobs=-1)]: Done 976 tasks      | elapsed:   24.2s\n",
      "[Parallel(n_jobs=-1)]: Done 1320 out of 1320 | elapsed:   32.5s finished\n",
      "[Parallel(n_jobs=-1)]: Using backend LokyBackend with 8 concurrent workers.\n"
     ]
    },
    {
     "name": "stdout",
     "output_type": "stream",
     "text": [
      "{'C': 10.0, 'gamma': 0.1}\n",
      "Fitting 5 folds for each of 264 candidates, totalling 1320 fits\n"
     ]
    },
    {
     "name": "stderr",
     "output_type": "stream",
     "text": [
      "[Parallel(n_jobs=-1)]: Done  16 tasks      | elapsed:    0.5s\n",
      "[Parallel(n_jobs=-1)]: Done 208 tasks      | elapsed:    5.8s\n",
      "[Parallel(n_jobs=-1)]: Done 528 tasks      | elapsed:   14.6s\n",
      "[Parallel(n_jobs=-1)]: Done 976 tasks      | elapsed:   26.9s\n",
      "[Parallel(n_jobs=-1)]: Done 1320 out of 1320 | elapsed:   36.3s finished\n",
      "[Parallel(n_jobs=-1)]: Using backend LokyBackend with 8 concurrent workers.\n"
     ]
    },
    {
     "name": "stdout",
     "output_type": "stream",
     "text": [
      "{'C': 10.0, 'gamma': 0.1}\n",
      "Fitting 5 folds for each of 264 candidates, totalling 1320 fits\n"
     ]
    },
    {
     "name": "stderr",
     "output_type": "stream",
     "text": [
      "[Parallel(n_jobs=-1)]: Done  16 tasks      | elapsed:    0.4s\n",
      "[Parallel(n_jobs=-1)]: Done 208 tasks      | elapsed:    5.3s\n",
      "[Parallel(n_jobs=-1)]: Done 528 tasks      | elapsed:   13.4s\n",
      "[Parallel(n_jobs=-1)]: Done 976 tasks      | elapsed:   24.9s\n",
      "[Parallel(n_jobs=-1)]: Done 1320 out of 1320 | elapsed:   33.5s finished\n",
      "[Parallel(n_jobs=-1)]: Using backend LokyBackend with 8 concurrent workers.\n"
     ]
    },
    {
     "name": "stdout",
     "output_type": "stream",
     "text": [
      "{'C': 10.0, 'gamma': 0.1}\n",
      "Fitting 5 folds for each of 264 candidates, totalling 1320 fits\n"
     ]
    },
    {
     "name": "stderr",
     "output_type": "stream",
     "text": [
      "[Parallel(n_jobs=-1)]: Done  16 tasks      | elapsed:    0.5s\n",
      "[Parallel(n_jobs=-1)]: Done 208 tasks      | elapsed:    5.8s\n",
      "[Parallel(n_jobs=-1)]: Done 528 tasks      | elapsed:   14.9s\n",
      "[Parallel(n_jobs=-1)]: Done 976 tasks      | elapsed:   26.9s\n"
     ]
    },
    {
     "name": "stdout",
     "output_type": "stream",
     "text": [
      "{'C': 10.0, 'gamma': 0.1}\n"
     ]
    },
    {
     "name": "stderr",
     "output_type": "stream",
     "text": [
      "[Parallel(n_jobs=-1)]: Done 1320 out of 1320 | elapsed:   36.0s finished\n"
     ]
    }
   ],
   "source": [
    "f1,t1,f2,t2,f3,t3,f4,t4,f5,t5 = fold(Inhale_dataframe,sets_loc)\n",
    "fold_list = [f1,t1,f2,t2,f3,t3,f4,t4,f5,t5]\n",
    "Inhale_test, Inhale_train = SVM(fold_list)\n",
    "tune_acc_Inhale = []\n",
    "for i in range(0,len(fold_list),2):\n",
    "    tune_acc_Inhale.append(hyperparameter_tuning(fold_list[i],fold_list[i+1]))"
   ]
  },
  {
   "cell_type": "code",
   "execution_count": 159,
   "metadata": {},
   "outputs": [
    {
     "data": {
      "text/plain": [
       "0.7095341084910862"
      ]
     },
     "execution_count": 159,
     "metadata": {},
     "output_type": "execute_result"
    }
   ],
   "source": [
    "np.mean(tune_acc_Inhale)"
   ]
  },
  {
   "cell_type": "code",
   "execution_count": 160,
   "metadata": {},
   "outputs": [
    {
     "data": {
      "text/plain": [
       "0.6476936378203118"
      ]
     },
     "execution_count": 160,
     "metadata": {},
     "output_type": "execute_result"
    }
   ],
   "source": [
    "np.mean(Inhale_test)"
   ]
  },
  {
   "cell_type": "code",
   "execution_count": 163,
   "metadata": {},
   "outputs": [
    {
     "data": {
      "text/plain": [
       "[0.8137931034482758,\n",
       " 0.6134969325153374,\n",
       " 0.7007299270072993,\n",
       " 0.7317073170731707,\n",
       " 0.6879432624113475]"
      ]
     },
     "execution_count": 163,
     "metadata": {},
     "output_type": "execute_result"
    }
   ],
   "source": [
    "tune_acc_Inhale"
   ]
  },
  {
   "cell_type": "code",
   "execution_count": 164,
   "metadata": {},
   "outputs": [
    {
     "data": {
      "text/plain": [
       "0.0650052407483324"
      ]
     },
     "execution_count": 164,
     "metadata": {},
     "output_type": "execute_result"
    }
   ],
   "source": [
    "np.std(tune_acc_Inhale)"
   ]
  },
  {
   "cell_type": "markdown",
   "metadata": {},
   "source": [
    "### Exhale"
   ]
  },
  {
   "cell_type": "code",
   "execution_count": 109,
   "metadata": {
    "collapsed": true
   },
   "outputs": [
    {
     "name": "stdout",
     "output_type": "stream",
     "text": [
      "Fitting 5 folds for each of 264 candidates, totalling 1320 fits\n"
     ]
    },
    {
     "name": "stderr",
     "output_type": "stream",
     "text": [
      "[Parallel(n_jobs=-1)]: Using backend LokyBackend with 8 concurrent workers.\n",
      "[Parallel(n_jobs=-1)]: Done  16 tasks      | elapsed:    0.5s\n",
      "[Parallel(n_jobs=-1)]: Done 208 tasks      | elapsed:    5.5s\n",
      "[Parallel(n_jobs=-1)]: Done 528 tasks      | elapsed:   13.9s\n",
      "[Parallel(n_jobs=-1)]: Done 976 tasks      | elapsed:   25.8s\n",
      "[Parallel(n_jobs=-1)]: Done 1320 out of 1320 | elapsed:   34.8s finished\n",
      "[Parallel(n_jobs=-1)]: Using backend LokyBackend with 8 concurrent workers.\n"
     ]
    },
    {
     "name": "stdout",
     "output_type": "stream",
     "text": [
      "{'C': 10.0, 'gamma': 0.1}\n",
      "Fitting 5 folds for each of 264 candidates, totalling 1320 fits\n"
     ]
    },
    {
     "name": "stderr",
     "output_type": "stream",
     "text": [
      "[Parallel(n_jobs=-1)]: Done  16 tasks      | elapsed:    0.4s\n",
      "[Parallel(n_jobs=-1)]: Done 208 tasks      | elapsed:    5.2s\n",
      "[Parallel(n_jobs=-1)]: Done 528 tasks      | elapsed:   13.1s\n",
      "[Parallel(n_jobs=-1)]: Done 976 tasks      | elapsed:   24.1s\n",
      "[Parallel(n_jobs=-1)]: Done 1320 out of 1320 | elapsed:   32.4s finished\n",
      "[Parallel(n_jobs=-1)]: Using backend LokyBackend with 8 concurrent workers.\n"
     ]
    },
    {
     "name": "stdout",
     "output_type": "stream",
     "text": [
      "{'C': 10.0, 'gamma': 0.1}\n",
      "Fitting 5 folds for each of 264 candidates, totalling 1320 fits\n"
     ]
    },
    {
     "name": "stderr",
     "output_type": "stream",
     "text": [
      "[Parallel(n_jobs=-1)]: Done  16 tasks      | elapsed:    0.5s\n",
      "[Parallel(n_jobs=-1)]: Done 208 tasks      | elapsed:    5.5s\n",
      "[Parallel(n_jobs=-1)]: Done 528 tasks      | elapsed:   14.0s\n",
      "[Parallel(n_jobs=-1)]: Done 976 tasks      | elapsed:   26.0s\n",
      "[Parallel(n_jobs=-1)]: Done 1320 out of 1320 | elapsed:   35.0s finished\n",
      "[Parallel(n_jobs=-1)]: Using backend LokyBackend with 8 concurrent workers.\n"
     ]
    },
    {
     "name": "stdout",
     "output_type": "stream",
     "text": [
      "{'C': 10.0, 'gamma': 0.1}\n",
      "Fitting 5 folds for each of 264 candidates, totalling 1320 fits\n"
     ]
    },
    {
     "name": "stderr",
     "output_type": "stream",
     "text": [
      "[Parallel(n_jobs=-1)]: Done  16 tasks      | elapsed:    0.4s\n",
      "[Parallel(n_jobs=-1)]: Done 208 tasks      | elapsed:    5.1s\n",
      "[Parallel(n_jobs=-1)]: Done 528 tasks      | elapsed:   12.8s\n",
      "[Parallel(n_jobs=-1)]: Done 976 tasks      | elapsed:   23.7s\n",
      "[Parallel(n_jobs=-1)]: Done 1320 out of 1320 | elapsed:   31.9s finished\n",
      "[Parallel(n_jobs=-1)]: Using backend LokyBackend with 8 concurrent workers.\n"
     ]
    },
    {
     "name": "stdout",
     "output_type": "stream",
     "text": [
      "{'C': 10.0, 'gamma': 0.1}\n",
      "Fitting 5 folds for each of 264 candidates, totalling 1320 fits\n"
     ]
    },
    {
     "name": "stderr",
     "output_type": "stream",
     "text": [
      "[Parallel(n_jobs=-1)]: Done  16 tasks      | elapsed:    0.4s\n",
      "[Parallel(n_jobs=-1)]: Done 208 tasks      | elapsed:    5.5s\n",
      "[Parallel(n_jobs=-1)]: Done 528 tasks      | elapsed:   13.8s\n",
      "[Parallel(n_jobs=-1)]: Done 976 tasks      | elapsed:   25.5s\n"
     ]
    },
    {
     "name": "stdout",
     "output_type": "stream",
     "text": [
      "{'C': 1.0, 'gamma': 0.1}\n"
     ]
    },
    {
     "name": "stderr",
     "output_type": "stream",
     "text": [
      "[Parallel(n_jobs=-1)]: Done 1320 out of 1320 | elapsed:   34.3s finished\n"
     ]
    }
   ],
   "source": [
    "f1,t1,f2,t2,f3,t3,f4,t4,f5,t5 = fold(Exhale_dataframe,sets_loc)\n",
    "fold_list = [f1,t1,f2,t2,f3,t3,f4,t4,f5,t5]\n",
    "Exhale_test, Exhale_train = SVM(fold_list)\n",
    "tune_acc_Exhale = []\n",
    "for i in range(0,len(fold_list),2):\n",
    "    tune_acc_Exhale.append(hyperparameter_tuning(fold_list[i],fold_list[i+1]))"
   ]
  },
  {
   "cell_type": "code",
   "execution_count": 121,
   "metadata": {},
   "outputs": [
    {
     "data": {
      "text/plain": [
       "0.7010783899637794"
      ]
     },
     "execution_count": 121,
     "metadata": {},
     "output_type": "execute_result"
    }
   ],
   "source": [
    "np.mean(Exhale_test)"
   ]
  },
  {
   "cell_type": "code",
   "execution_count": 118,
   "metadata": {},
   "outputs": [
    {
     "data": {
      "text/plain": [
       "[0.7638888888888888,\n",
       " 0.7361963190184049,\n",
       " 0.8088235294117647,\n",
       " 0.7987804878048781,\n",
       " 0.6099290780141844]"
      ]
     },
     "execution_count": 118,
     "metadata": {},
     "output_type": "execute_result"
    }
   ],
   "source": [
    "tune_acc_Exhale"
   ]
  },
  {
   "cell_type": "code",
   "execution_count": 119,
   "metadata": {},
   "outputs": [
    {
     "data": {
      "text/plain": [
       "0.7435236606276241"
      ]
     },
     "execution_count": 119,
     "metadata": {},
     "output_type": "execute_result"
    }
   ],
   "source": [
    "np.mean(tune_acc_Exhale)"
   ]
  },
  {
   "cell_type": "code",
   "execution_count": 165,
   "metadata": {},
   "outputs": [
    {
     "data": {
      "text/plain": [
       "0.07160074688684982"
      ]
     },
     "execution_count": 165,
     "metadata": {},
     "output_type": "execute_result"
    }
   ],
   "source": [
    "np.std(tune_acc_Exhale)"
   ]
  },
  {
   "cell_type": "markdown",
   "metadata": {},
   "source": [
    "### Ooo"
   ]
  },
  {
   "cell_type": "code",
   "execution_count": 110,
   "metadata": {
    "collapsed": true
   },
   "outputs": [
    {
     "name": "stdout",
     "output_type": "stream",
     "text": [
      "Fitting 5 folds for each of 264 candidates, totalling 1320 fits\n"
     ]
    },
    {
     "name": "stderr",
     "output_type": "stream",
     "text": [
      "[Parallel(n_jobs=-1)]: Using backend LokyBackend with 8 concurrent workers.\n",
      "[Parallel(n_jobs=-1)]: Done  16 tasks      | elapsed:    0.2s\n",
      "[Parallel(n_jobs=-1)]: Done 592 tasks      | elapsed:    5.3s\n",
      "[Parallel(n_jobs=-1)]: Done 1320 out of 1320 | elapsed:   11.9s finished\n",
      "[Parallel(n_jobs=-1)]: Using backend LokyBackend with 8 concurrent workers.\n"
     ]
    },
    {
     "name": "stdout",
     "output_type": "stream",
     "text": [
      "{'C': 10.0, 'gamma': 0.1}\n",
      "Fitting 5 folds for each of 264 candidates, totalling 1320 fits\n"
     ]
    },
    {
     "name": "stderr",
     "output_type": "stream",
     "text": [
      "[Parallel(n_jobs=-1)]: Done  16 tasks      | elapsed:    0.2s\n",
      "[Parallel(n_jobs=-1)]: Done 592 tasks      | elapsed:    5.3s\n",
      "[Parallel(n_jobs=-1)]: Done 1320 out of 1320 | elapsed:   11.9s finished\n",
      "[Parallel(n_jobs=-1)]: Using backend LokyBackend with 8 concurrent workers.\n"
     ]
    },
    {
     "name": "stdout",
     "output_type": "stream",
     "text": [
      "{'C': 10.0, 'gamma': 0.1}\n",
      "Fitting 5 folds for each of 264 candidates, totalling 1320 fits\n"
     ]
    },
    {
     "name": "stderr",
     "output_type": "stream",
     "text": [
      "[Parallel(n_jobs=-1)]: Done  16 tasks      | elapsed:    0.2s\n",
      "[Parallel(n_jobs=-1)]: Done 592 tasks      | elapsed:    5.7s\n",
      "[Parallel(n_jobs=-1)]: Done 1320 out of 1320 | elapsed:   12.7s finished\n",
      "[Parallel(n_jobs=-1)]: Using backend LokyBackend with 8 concurrent workers.\n"
     ]
    },
    {
     "name": "stdout",
     "output_type": "stream",
     "text": [
      "{'C': 10.0, 'gamma': 0.1}\n",
      "Fitting 5 folds for each of 264 candidates, totalling 1320 fits\n"
     ]
    },
    {
     "name": "stderr",
     "output_type": "stream",
     "text": [
      "[Parallel(n_jobs=-1)]: Done  16 tasks      | elapsed:    0.2s\n",
      "[Parallel(n_jobs=-1)]: Done 400 tasks      | elapsed:    4.0s\n",
      "[Parallel(n_jobs=-1)]: Done 1040 tasks      | elapsed:   10.5s\n",
      "[Parallel(n_jobs=-1)]: Done 1320 out of 1320 | elapsed:   13.2s finished\n",
      "[Parallel(n_jobs=-1)]: Using backend LokyBackend with 8 concurrent workers.\n"
     ]
    },
    {
     "name": "stdout",
     "output_type": "stream",
     "text": [
      "{'C': 10.0, 'gamma': 0.1}\n",
      "Fitting 5 folds for each of 264 candidates, totalling 1320 fits\n"
     ]
    },
    {
     "name": "stderr",
     "output_type": "stream",
     "text": [
      "[Parallel(n_jobs=-1)]: Done  16 tasks      | elapsed:    0.2s\n",
      "[Parallel(n_jobs=-1)]: Done 592 tasks      | elapsed:    5.4s\n"
     ]
    },
    {
     "name": "stdout",
     "output_type": "stream",
     "text": [
      "{'C': 1.0, 'gamma': 0.1}\n"
     ]
    },
    {
     "name": "stderr",
     "output_type": "stream",
     "text": [
      "[Parallel(n_jobs=-1)]: Done 1320 out of 1320 | elapsed:   12.1s finished\n"
     ]
    }
   ],
   "source": [
    "f1,t1,f2,t2,f3,t3,f4,t4,f5,t5 = fold(Ooo_dataframe,sets_loc)\n",
    "fold_list = [f1,t1,f2,t2,f3,t3,f4,t4,f5,t5]\n",
    "Ooo_test, Ooo_train = SVM(fold_list)\n",
    "tune_acc_Ooo = []\n",
    "for i in range(0,len(fold_list),2):\n",
    "    tune_acc_Ooo.append(hyperparameter_tuning(fold_list[i],fold_list[i+1]))"
   ]
  },
  {
   "cell_type": "code",
   "execution_count": 125,
   "metadata": {},
   "outputs": [
    {
     "data": {
      "text/plain": [
       "0.5852947741925505"
      ]
     },
     "execution_count": 125,
     "metadata": {},
     "output_type": "execute_result"
    }
   ],
   "source": [
    "np.mean(Ooo_test)"
   ]
  },
  {
   "cell_type": "code",
   "execution_count": 169,
   "metadata": {},
   "outputs": [
    {
     "data": {
      "text/plain": [
       "[0.6224489795918368,\n",
       " 0.6161616161616161,\n",
       " 0.5238095238095238,\n",
       " 0.5789473684210527,\n",
       " 0.5851063829787234]"
      ]
     },
     "execution_count": 169,
     "metadata": {},
     "output_type": "execute_result"
    }
   ],
   "source": [
    "Ooo_test"
   ]
  },
  {
   "cell_type": "code",
   "execution_count": 170,
   "metadata": {},
   "outputs": [
    {
     "data": {
      "text/plain": [
       "0.03508263951853279"
      ]
     },
     "execution_count": 170,
     "metadata": {},
     "output_type": "execute_result"
    }
   ],
   "source": [
    "np.std(Ooo_test)"
   ]
  },
  {
   "cell_type": "code",
   "execution_count": 124,
   "metadata": {},
   "outputs": [
    {
     "data": {
      "text/plain": [
       "0.5034366103155097"
      ]
     },
     "execution_count": 124,
     "metadata": {},
     "output_type": "execute_result"
    }
   ],
   "source": [
    "np.mean(tune_acc_Ooo)"
   ]
  },
  {
   "cell_type": "markdown",
   "metadata": {},
   "source": [
    "### Sss"
   ]
  },
  {
   "cell_type": "code",
   "execution_count": 112,
   "metadata": {
    "collapsed": true
   },
   "outputs": [
    {
     "name": "stdout",
     "output_type": "stream",
     "text": [
      "Fitting 5 folds for each of 264 candidates, totalling 1320 fits\n"
     ]
    },
    {
     "name": "stderr",
     "output_type": "stream",
     "text": [
      "[Parallel(n_jobs=-1)]: Using backend LokyBackend with 8 concurrent workers.\n",
      "[Parallel(n_jobs=-1)]: Done  16 tasks      | elapsed:    0.1s\n",
      "[Parallel(n_jobs=-1)]: Done 592 tasks      | elapsed:    4.4s\n",
      "[Parallel(n_jobs=-1)]: Done 1320 out of 1320 | elapsed:    9.9s finished\n",
      "[Parallel(n_jobs=-1)]: Using backend LokyBackend with 8 concurrent workers.\n",
      "[Parallel(n_jobs=-1)]: Done  16 tasks      | elapsed:    0.1s\n"
     ]
    },
    {
     "name": "stdout",
     "output_type": "stream",
     "text": [
      "{'C': 10.0, 'gamma': 0.1}\n",
      "Fitting 5 folds for each of 264 candidates, totalling 1320 fits\n"
     ]
    },
    {
     "name": "stderr",
     "output_type": "stream",
     "text": [
      "[Parallel(n_jobs=-1)]: Done 784 tasks      | elapsed:    5.2s\n",
      "[Parallel(n_jobs=-1)]: Done 1320 out of 1320 | elapsed:    8.9s finished\n",
      "[Parallel(n_jobs=-1)]: Using backend LokyBackend with 8 concurrent workers.\n",
      "[Parallel(n_jobs=-1)]: Done  16 tasks      | elapsed:    0.1s\n"
     ]
    },
    {
     "name": "stdout",
     "output_type": "stream",
     "text": [
      "{'C': 10.0, 'gamma': 0.1}\n",
      "Fitting 5 folds for each of 264 candidates, totalling 1320 fits\n"
     ]
    },
    {
     "name": "stderr",
     "output_type": "stream",
     "text": [
      "[Parallel(n_jobs=-1)]: Done 592 tasks      | elapsed:    4.4s\n",
      "[Parallel(n_jobs=-1)]: Done 1320 out of 1320 | elapsed:    9.8s finished\n",
      "[Parallel(n_jobs=-1)]: Using backend LokyBackend with 8 concurrent workers.\n",
      "[Parallel(n_jobs=-1)]: Done  16 tasks      | elapsed:    0.1s\n"
     ]
    },
    {
     "name": "stdout",
     "output_type": "stream",
     "text": [
      "{'C': 10.0, 'gamma': 0.1}\n",
      "Fitting 5 folds for each of 264 candidates, totalling 1320 fits\n"
     ]
    },
    {
     "name": "stderr",
     "output_type": "stream",
     "text": [
      "[Parallel(n_jobs=-1)]: Done 592 tasks      | elapsed:    4.4s\n",
      "[Parallel(n_jobs=-1)]: Done 1320 out of 1320 | elapsed:    9.8s finished\n",
      "[Parallel(n_jobs=-1)]: Using backend LokyBackend with 8 concurrent workers.\n",
      "[Parallel(n_jobs=-1)]: Done  16 tasks      | elapsed:    0.2s\n"
     ]
    },
    {
     "name": "stdout",
     "output_type": "stream",
     "text": [
      "{'C': 10.0, 'gamma': 0.1}\n",
      "Fitting 5 folds for each of 264 candidates, totalling 1320 fits\n"
     ]
    },
    {
     "name": "stderr",
     "output_type": "stream",
     "text": [
      "[Parallel(n_jobs=-1)]: Done 592 tasks      | elapsed:    4.5s\n"
     ]
    },
    {
     "name": "stdout",
     "output_type": "stream",
     "text": [
      "{'C': 1.0, 'gamma': 0.1}\n"
     ]
    },
    {
     "name": "stderr",
     "output_type": "stream",
     "text": [
      "[Parallel(n_jobs=-1)]: Done 1320 out of 1320 | elapsed:   10.0s finished\n"
     ]
    }
   ],
   "source": [
    "f1,t1,f2,t2,f3,t3,f4,t4,f5,t5 = fold(Sss_dataframe,sets_loc)\n",
    "fold_list = [f1,t1,f2,t2,f3,t3,f4,t4,f5,t5]\n",
    "Sss_test, Sss_train = SVM(fold_list)\n",
    "tune_acc_Sss = []\n",
    "for i in range(0,len(fold_list),2):\n",
    "    tune_acc_Sss.append(hyperparameter_tuning(fold_list[i],fold_list[i+1]))"
   ]
  },
  {
   "cell_type": "code",
   "execution_count": 129,
   "metadata": {},
   "outputs": [
    {
     "data": {
      "text/plain": [
       "0.6177101852522553"
      ]
     },
     "execution_count": 129,
     "metadata": {},
     "output_type": "execute_result"
    }
   ],
   "source": [
    "np.mean(Sss_test)"
   ]
  },
  {
   "cell_type": "code",
   "execution_count": 173,
   "metadata": {},
   "outputs": [
    {
     "data": {
      "text/plain": [
       "[0.5,\n",
       " 0.6170212765957447,\n",
       " 0.5584415584415584,\n",
       " 0.7027027027027027,\n",
       " 0.684931506849315]"
      ]
     },
     "execution_count": 173,
     "metadata": {},
     "output_type": "execute_result"
    }
   ],
   "source": [
    "tune_acc_Sss"
   ]
  },
  {
   "cell_type": "code",
   "execution_count": 128,
   "metadata": {},
   "outputs": [
    {
     "data": {
      "text/plain": [
       "0.6126194089178643"
      ]
     },
     "execution_count": 128,
     "metadata": {},
     "output_type": "execute_result"
    }
   ],
   "source": [
    "np.mean(tune_acc_Sss)"
   ]
  },
  {
   "cell_type": "code",
   "execution_count": 174,
   "metadata": {},
   "outputs": [
    {
     "data": {
      "text/plain": [
       "0.07613381182190852"
      ]
     },
     "execution_count": 174,
     "metadata": {},
     "output_type": "execute_result"
    }
   ],
   "source": [
    "np.std(tune_acc_Sss)"
   ]
  },
  {
   "cell_type": "markdown",
   "metadata": {},
   "source": [
    "### Uuu"
   ]
  },
  {
   "cell_type": "code",
   "execution_count": 111,
   "metadata": {
    "collapsed": true
   },
   "outputs": [
    {
     "name": "stdout",
     "output_type": "stream",
     "text": [
      "Fitting 5 folds for each of 264 candidates, totalling 1320 fits\n"
     ]
    },
    {
     "name": "stderr",
     "output_type": "stream",
     "text": [
      "[Parallel(n_jobs=-1)]: Using backend LokyBackend with 8 concurrent workers.\n",
      "[Parallel(n_jobs=-1)]: Done  16 tasks      | elapsed:    0.2s\n",
      "[Parallel(n_jobs=-1)]: Done 592 tasks      | elapsed:    5.3s\n",
      "[Parallel(n_jobs=-1)]: Done 1320 out of 1320 | elapsed:   11.7s finished\n",
      "[Parallel(n_jobs=-1)]: Using backend LokyBackend with 8 concurrent workers.\n",
      "[Parallel(n_jobs=-1)]: Done  16 tasks      | elapsed:    0.2s\n"
     ]
    },
    {
     "name": "stdout",
     "output_type": "stream",
     "text": [
      "{'C': 10.0, 'gamma': 0.1}\n",
      "Fitting 5 folds for each of 264 candidates, totalling 1320 fits\n"
     ]
    },
    {
     "name": "stderr",
     "output_type": "stream",
     "text": [
      "[Parallel(n_jobs=-1)]: Done 592 tasks      | elapsed:    5.0s\n",
      "[Parallel(n_jobs=-1)]: Done 1320 out of 1320 | elapsed:   11.2s finished\n",
      "[Parallel(n_jobs=-1)]: Using backend LokyBackend with 8 concurrent workers.\n",
      "[Parallel(n_jobs=-1)]: Done  16 tasks      | elapsed:    0.2s\n"
     ]
    },
    {
     "name": "stdout",
     "output_type": "stream",
     "text": [
      "{'C': 1.0, 'gamma': 0.1}\n",
      "Fitting 5 folds for each of 264 candidates, totalling 1320 fits\n"
     ]
    },
    {
     "name": "stderr",
     "output_type": "stream",
     "text": [
      "[Parallel(n_jobs=-1)]: Done 592 tasks      | elapsed:    5.1s\n",
      "[Parallel(n_jobs=-1)]: Done 1320 out of 1320 | elapsed:   11.4s finished\n",
      "[Parallel(n_jobs=-1)]: Using backend LokyBackend with 8 concurrent workers.\n"
     ]
    },
    {
     "name": "stdout",
     "output_type": "stream",
     "text": [
      "{'C': 1.0, 'gamma': 0.1}\n",
      "Fitting 5 folds for each of 264 candidates, totalling 1320 fits\n"
     ]
    },
    {
     "name": "stderr",
     "output_type": "stream",
     "text": [
      "[Parallel(n_jobs=-1)]: Done  16 tasks      | elapsed:    0.2s\n",
      "[Parallel(n_jobs=-1)]: Done 592 tasks      | elapsed:    5.3s\n",
      "[Parallel(n_jobs=-1)]: Done 1320 out of 1320 | elapsed:   11.7s finished\n",
      "[Parallel(n_jobs=-1)]: Using backend LokyBackend with 8 concurrent workers.\n",
      "[Parallel(n_jobs=-1)]: Done  16 tasks      | elapsed:    0.2s\n"
     ]
    },
    {
     "name": "stdout",
     "output_type": "stream",
     "text": [
      "{'C': 10.0, 'gamma': 0.1}\n",
      "Fitting 5 folds for each of 264 candidates, totalling 1320 fits\n"
     ]
    },
    {
     "name": "stderr",
     "output_type": "stream",
     "text": [
      "[Parallel(n_jobs=-1)]: Done 592 tasks      | elapsed:    5.3s\n"
     ]
    },
    {
     "name": "stdout",
     "output_type": "stream",
     "text": [
      "{'C': 1.0, 'gamma': 0.1}\n"
     ]
    },
    {
     "name": "stderr",
     "output_type": "stream",
     "text": [
      "[Parallel(n_jobs=-1)]: Done 1320 out of 1320 | elapsed:   11.3s finished\n"
     ]
    }
   ],
   "source": [
    "f1,t1,f2,t2,f3,t3,f4,t4,f5,t5 = fold(Uuu_dataframe,sets_loc)\n",
    "fold_list = [f1,t1,f2,t2,f3,t3,f4,t4,f5,t5]\n",
    "Uuu_test, Uuu_train = SVM(fold_list)\n",
    "tune_acc_Uuu = []\n",
    "for i in range(0,len(fold_list),2):\n",
    "    tune_acc_Uuu.append(hyperparameter_tuning(fold_list[i],fold_list[i+1]))"
   ]
  },
  {
   "cell_type": "code",
   "execution_count": 167,
   "metadata": {},
   "outputs": [
    {
     "data": {
      "text/plain": [
       "[0.6329113924050633,\n",
       " 0.5227272727272727,\n",
       " 0.5058823529411764,\n",
       " 0.6,\n",
       " 0.7653061224489796]"
      ]
     },
     "execution_count": 167,
     "metadata": {},
     "output_type": "execute_result"
    }
   ],
   "source": [
    "Uuu_test"
   ]
  },
  {
   "cell_type": "code",
   "execution_count": null,
   "metadata": {},
   "outputs": [],
   "source": []
  },
  {
   "cell_type": "code",
   "execution_count": 132,
   "metadata": {},
   "outputs": [
    {
     "data": {
      "text/plain": [
       "0.6053654281044984"
      ]
     },
     "execution_count": 132,
     "metadata": {},
     "output_type": "execute_result"
    }
   ],
   "source": [
    "np.mean(Uuu_test)"
   ]
  },
  {
   "cell_type": "code",
   "execution_count": 168,
   "metadata": {},
   "outputs": [
    {
     "data": {
      "text/plain": [
       "0.09283807477914321"
      ]
     },
     "execution_count": 168,
     "metadata": {},
     "output_type": "execute_result"
    }
   ],
   "source": [
    "np.std(Uuu_test)"
   ]
  },
  {
   "cell_type": "code",
   "execution_count": 131,
   "metadata": {},
   "outputs": [
    {
     "data": {
      "text/plain": [
       "0.5506456587237888"
      ]
     },
     "execution_count": 131,
     "metadata": {},
     "output_type": "execute_result"
    }
   ],
   "source": [
    "np.mean(tune_acc_Uuu)"
   ]
  },
  {
   "cell_type": "markdown",
   "metadata": {},
   "source": [
    "### Zzz"
   ]
  },
  {
   "cell_type": "code",
   "execution_count": 113,
   "metadata": {
    "collapsed": true
   },
   "outputs": [
    {
     "name": "stdout",
     "output_type": "stream",
     "text": [
      "Fitting 5 folds for each of 264 candidates, totalling 1320 fits\n"
     ]
    },
    {
     "name": "stderr",
     "output_type": "stream",
     "text": [
      "[Parallel(n_jobs=-1)]: Using backend LokyBackend with 8 concurrent workers.\n",
      "[Parallel(n_jobs=-1)]: Done  16 tasks      | elapsed:    0.1s\n",
      "[Parallel(n_jobs=-1)]: Done 784 tasks      | elapsed:    4.7s\n",
      "[Parallel(n_jobs=-1)]: Done 1320 out of 1320 | elapsed:    7.9s finished\n",
      "[Parallel(n_jobs=-1)]: Using backend LokyBackend with 8 concurrent workers.\n",
      "[Parallel(n_jobs=-1)]: Done  16 tasks      | elapsed:    0.1s\n"
     ]
    },
    {
     "name": "stdout",
     "output_type": "stream",
     "text": [
      "{'C': 10.0, 'gamma': 0.1}\n",
      "Fitting 5 folds for each of 264 candidates, totalling 1320 fits\n"
     ]
    },
    {
     "name": "stderr",
     "output_type": "stream",
     "text": [
      "[Parallel(n_jobs=-1)]: Done 784 tasks      | elapsed:    4.3s\n",
      "[Parallel(n_jobs=-1)]: Done 1320 out of 1320 | elapsed:    7.3s finished\n",
      "[Parallel(n_jobs=-1)]: Using backend LokyBackend with 8 concurrent workers.\n",
      "[Parallel(n_jobs=-1)]: Done  16 tasks      | elapsed:    0.1s\n"
     ]
    },
    {
     "name": "stdout",
     "output_type": "stream",
     "text": [
      "{'C': 10.0, 'gamma': 0.1}\n",
      "Fitting 5 folds for each of 264 candidates, totalling 1320 fits\n"
     ]
    },
    {
     "name": "stderr",
     "output_type": "stream",
     "text": [
      "[Parallel(n_jobs=-1)]: Done 784 tasks      | elapsed:    5.1s\n",
      "[Parallel(n_jobs=-1)]: Done 1320 out of 1320 | elapsed:    8.5s finished\n",
      "[Parallel(n_jobs=-1)]: Using backend LokyBackend with 8 concurrent workers.\n",
      "[Parallel(n_jobs=-1)]: Done  16 tasks      | elapsed:    0.1s\n"
     ]
    },
    {
     "name": "stdout",
     "output_type": "stream",
     "text": [
      "{'C': 10.0, 'gamma': 0.1}\n",
      "Fitting 5 folds for each of 264 candidates, totalling 1320 fits\n"
     ]
    },
    {
     "name": "stderr",
     "output_type": "stream",
     "text": [
      "[Parallel(n_jobs=-1)]: Done 784 tasks      | elapsed:    4.6s\n",
      "[Parallel(n_jobs=-1)]: Done 1320 out of 1320 | elapsed:    7.8s finished\n",
      "[Parallel(n_jobs=-1)]: Using backend LokyBackend with 8 concurrent workers.\n",
      "[Parallel(n_jobs=-1)]: Done  16 tasks      | elapsed:    0.1s\n"
     ]
    },
    {
     "name": "stdout",
     "output_type": "stream",
     "text": [
      "{'C': 10.0, 'gamma': 0.1}\n",
      "Fitting 5 folds for each of 264 candidates, totalling 1320 fits\n"
     ]
    },
    {
     "name": "stderr",
     "output_type": "stream",
     "text": [
      "[Parallel(n_jobs=-1)]: Done 784 tasks      | elapsed:    5.0s\n"
     ]
    },
    {
     "name": "stdout",
     "output_type": "stream",
     "text": [
      "{'C': 10.0, 'gamma': 0.1}\n"
     ]
    },
    {
     "name": "stderr",
     "output_type": "stream",
     "text": [
      "[Parallel(n_jobs=-1)]: Done 1320 out of 1320 | elapsed:    8.4s finished\n"
     ]
    }
   ],
   "source": [
    "f1,t1,f2,t2,f3,t3,f4,t4,f5,t5 = fold(Zzz_dataframe,sets_loc)\n",
    "fold_list = [f1,t1,f2,t2,f3,t3,f4,t4,f5,t5]\n",
    "Zzz_test, Zzz_train = SVM(fold_list)\n",
    "tune_acc_Zzz = []\n",
    "for i in range(0,len(fold_list),2):\n",
    "    tune_acc_Zzz.append(hyperparameter_tuning(fold_list[i],fold_list[i+1]))"
   ]
  },
  {
   "cell_type": "code",
   "execution_count": 136,
   "metadata": {},
   "outputs": [
    {
     "data": {
      "text/plain": [
       "0.452967354514685"
      ]
     },
     "execution_count": 136,
     "metadata": {},
     "output_type": "execute_result"
    }
   ],
   "source": [
    "np.mean(Zzz_test)"
   ]
  },
  {
   "cell_type": "code",
   "execution_count": 171,
   "metadata": {},
   "outputs": [
    {
     "data": {
      "text/plain": [
       "[0.4647887323943662, 0.43023255813953487, 0.5833333333333334, 0.48, 0.45]"
      ]
     },
     "execution_count": 171,
     "metadata": {},
     "output_type": "execute_result"
    }
   ],
   "source": [
    "tune_acc_Zzz"
   ]
  },
  {
   "cell_type": "code",
   "execution_count": 135,
   "metadata": {},
   "outputs": [
    {
     "data": {
      "text/plain": [
       "0.48167092477344686"
      ]
     },
     "execution_count": 135,
     "metadata": {},
     "output_type": "execute_result"
    }
   ],
   "source": [
    "np.mean(tune_acc_Zzz)"
   ]
  },
  {
   "cell_type": "code",
   "execution_count": 172,
   "metadata": {},
   "outputs": [
    {
     "data": {
      "text/plain": [
       "0.0534265828240777"
      ]
     },
     "execution_count": 172,
     "metadata": {},
     "output_type": "execute_result"
    }
   ],
   "source": [
    "np.std(tune_acc_Zzz)"
   ]
  },
  {
   "cell_type": "code",
   "execution_count": null,
   "metadata": {},
   "outputs": [],
   "source": []
  }
 ],
 "metadata": {
  "kernelspec": {
   "display_name": "Python 3",
   "language": "python",
   "name": "python3"
  },
  "language_info": {
   "codemirror_mode": {
    "name": "ipython",
    "version": 3
   },
   "file_extension": ".py",
   "mimetype": "text/x-python",
   "name": "python",
   "nbconvert_exporter": "python",
   "pygments_lexer": "ipython3",
   "version": "3.7.3"
  }
 },
 "nbformat": 4,
 "nbformat_minor": 2
}
